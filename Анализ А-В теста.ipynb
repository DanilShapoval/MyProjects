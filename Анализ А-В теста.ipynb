{
 "cells": [
  {
   "cell_type": "markdown",
   "metadata": {
    "toc": true
   },
   "source": [
    "<h1>Содержание<span class=\"tocSkip\"></span></h1>\n",
    "<div class=\"toc\"><ul class=\"toc-item\"><li><span><a href=\"#Приоритизация-гипотез\" data-toc-modified-id=\"Приоритизация-гипотез-1\"><span class=\"toc-item-num\">1&nbsp;&nbsp;</span>Приоритизация гипотез</a></span></li><li><span><a href=\"#A/B-тест\" data-toc-modified-id=\"A/B-тест-2\"><span class=\"toc-item-num\">2&nbsp;&nbsp;</span>A/B-тест</a></span><ul class=\"toc-item\"><li><span><a href=\"#Предобработка-данных\" data-toc-modified-id=\"Предобработка-данных-2.1\"><span class=\"toc-item-num\">2.1&nbsp;&nbsp;</span>Предобработка данных</a></span></li><li><span><a href=\"#Анализи-A/B-теста\" data-toc-modified-id=\"Анализи-A/B-теста-2.2\"><span class=\"toc-item-num\">2.2&nbsp;&nbsp;</span>Анализи A/B-теста</a></span><ul class=\"toc-item\"><li><span><a href=\"#График-кумулятивной-выручки-по-группам\" data-toc-modified-id=\"График-кумулятивной-выручки-по-группам-2.2.1\"><span class=\"toc-item-num\">2.2.1&nbsp;&nbsp;</span>График кумулятивной выручки по группам</a></span></li><li><span><a href=\"#График-кумулятивного-среднего-чека-по-группам\" data-toc-modified-id=\"График-кумулятивного-среднего-чека-по-группам-2.2.2\"><span class=\"toc-item-num\">2.2.2&nbsp;&nbsp;</span>График кумулятивного среднего чека по группам</a></span></li><li><span><a href=\"#График-относительного-изменения-кумулятивного-среднего-чека-группы-B-к-группе-A\" data-toc-modified-id=\"График-относительного-изменения-кумулятивного-среднего-чека-группы-B-к-группе-A-2.2.3\"><span class=\"toc-item-num\">2.2.3&nbsp;&nbsp;</span>График относительного изменения кумулятивного среднего чека группы B к группе A</a></span></li><li><span><a href=\"#График-кумулятивной-конверсии-по-группам\" data-toc-modified-id=\"График-кумулятивной-конверсии-по-группам-2.2.4\"><span class=\"toc-item-num\">2.2.4&nbsp;&nbsp;</span>График кумулятивной конверсии по группам</a></span></li><li><span><a href=\"#График-относительного-изменения-кумулятивной-конверсии-группы-B-к-группе-A\" data-toc-modified-id=\"График-относительного-изменения-кумулятивной-конверсии-группы-B-к-группе-A-2.2.5\"><span class=\"toc-item-num\">2.2.5&nbsp;&nbsp;</span>График относительного изменения кумулятивной конверсии группы B к группе A</a></span></li><li><span><a href=\"#График-количества-заказов-по-пользователям\" data-toc-modified-id=\"График-количества-заказов-по-пользователям-2.2.6\"><span class=\"toc-item-num\">2.2.6&nbsp;&nbsp;</span>График количества заказов по пользователям</a></span></li><li><span><a href=\"#Определение-аномальных-пользователей\" data-toc-modified-id=\"Определение-аномальных-пользователей-2.2.7\"><span class=\"toc-item-num\">2.2.7&nbsp;&nbsp;</span>Определение аномальных пользователей</a></span></li><li><span><a href=\"#График-стоимостей-заказов\" data-toc-modified-id=\"График-стоимостей-заказов-2.2.8\"><span class=\"toc-item-num\">2.2.8&nbsp;&nbsp;</span>График стоимостей заказов</a></span></li><li><span><a href=\"#Определение-аномальных-заказов\" data-toc-modified-id=\"Определение-аномальных-заказов-2.2.9\"><span class=\"toc-item-num\">2.2.9&nbsp;&nbsp;</span>Определение аномальных заказов</a></span></li><li><span><a href=\"#Статистическая-значимость-различий-в-конверсии-между-группами-по-«сырым»-данным\" data-toc-modified-id=\"Статистическая-значимость-различий-в-конверсии-между-группами-по-«сырым»-данным-2.2.10\"><span class=\"toc-item-num\">2.2.10&nbsp;&nbsp;</span>Статистическая значимость различий в конверсии между группами по «сырым» данным</a></span></li><li><span><a href=\"#Статистическая-значимость-различий-в-среднем-чеке-заказа-между-группами-по-«сырым»-данным\" data-toc-modified-id=\"Статистическая-значимость-различий-в-среднем-чеке-заказа-между-группами-по-«сырым»-данным-2.2.11\"><span class=\"toc-item-num\">2.2.11&nbsp;&nbsp;</span>Статистическая значимость различий в среднем чеке заказа между группами по «сырым» данным</a></span></li><li><span><a href=\"#Статистическая-значимость-различий-в-конверсии-между-группами-по-«очищенным»-данным\" data-toc-modified-id=\"Статистическая-значимость-различий-в-конверсии-между-группами-по-«очищенным»-данным-2.2.12\"><span class=\"toc-item-num\">2.2.12&nbsp;&nbsp;</span>Статистическая значимость различий в конверсии между группами по «очищенным» данным</a></span></li><li><span><a href=\"#Статистическая-значимость-различий-в-среднем-чеке-заказа-между-группами-по-«очищенным»-данным\" data-toc-modified-id=\"Статистическая-значимость-различий-в-среднем-чеке-заказа-между-группами-по-«очищенным»-данным-2.2.13\"><span class=\"toc-item-num\">2.2.13&nbsp;&nbsp;</span>Статистическая значимость различий в среднем чеке заказа между группами по «очищенным» данным</a></span></li></ul></li><li><span><a href=\"#Общий-вывод\" data-toc-modified-id=\"Общий-вывод-2.3\"><span class=\"toc-item-num\">2.3&nbsp;&nbsp;</span>Общий вывод</a></span></li></ul></li></ul></div>"
   ]
  },
  {
   "cell_type": "markdown",
   "metadata": {},
   "source": [
    "**Описание проекта**\n",
    "\n",
    "Вы — аналитик крупного интернет-магазина. Вместе с отделом маркетинга вы подготовили список гипотез для увеличения выручки.\n",
    "Приоритизируйте гипотезы, запустите A/B-тест и проанализируйте результаты."
   ]
  },
  {
   "cell_type": "markdown",
   "metadata": {},
   "source": [
    "Описание данных\n",
    "\n",
    "Данные для первой части\n",
    "\n",
    "Файл /datasets/hypothesis.csv. \n",
    "- Hypothesis — краткое описание гипотезы;\n",
    "- Reach — охват пользователей по 10-балльной шкале;\n",
    "- Impact — влияние на пользователей по 10-балльной шкале;\n",
    "- Confidence — уверенность в гипотезе по 10-балльной шкале;\n",
    "- Efforts — затраты ресурсов на проверку гипотезы по 10-балльной шкале. Чем больше значение Efforts, тем дороже проверка гипотезы.\n",
    "\n",
    "Данные для второй части\n",
    "\n",
    "Файл /datasets/orders.csv. \n",
    "- transactionId — идентификатор заказа;\n",
    "- visitorId — идентификатор пользователя, совершившего заказ;\n",
    "- date — дата, когда был совершён заказ;\n",
    "- revenue — выручка заказа;\n",
    "- group — группа A/B-теста, в которую попал заказ.\n",
    "\n",
    "Файл /datasets/visitors.csv. \n",
    "- date — дата;\n",
    "- group — группа A/B-теста;\n",
    "- visitors — количество пользователей в указанную дату в указанной группе A/B-теста"
   ]
  },
  {
   "cell_type": "markdown",
   "metadata": {},
   "source": [
    "**Цель исследования** \n",
    "1. Приоритизировать гипотезы.\n",
    "2. Проанализировать результаты А/В теста.\n",
    "3. Принять решение по результатам теста"
   ]
  },
  {
   "cell_type": "markdown",
   "metadata": {},
   "source": [
    "## Приоритизация гипотез"
   ]
  },
  {
   "cell_type": "markdown",
   "metadata": {},
   "source": [
    "В файле /datasets/hypothesis.csv 9 гипотез по увеличению выручки интернет-магазина с указанными параметрами Reach, Impact, Confidence, Effort.\n",
    "\n",
    "Задача\n",
    "\n",
    "- Примените фреймворк ICE для приоритизации гипотез. Отсортируйте их по убыванию приоритета.\n",
    "- Примените фреймворк RICE для приоритизации гипотез. Отсортируйте их по убыванию приоритета.\n",
    "- Укажите, как изменилась приоритизация гипотез при применении RICE вместо ICE. Объясните, почему так произошло."
   ]
  },
  {
   "cell_type": "code",
   "execution_count": 1,
   "metadata": {},
   "outputs": [],
   "source": [
    "import pandas as pd\n",
    "import matplotlib.pyplot as plt\n",
    "import numpy as np\n",
    "import datetime as dt\n",
    "import scipy.stats as stats"
   ]
  },
  {
   "cell_type": "code",
   "execution_count": 2,
   "metadata": {},
   "outputs": [
    {
     "data": {
      "text/html": [
       "<div>\n",
       "<style scoped>\n",
       "    .dataframe tbody tr th:only-of-type {\n",
       "        vertical-align: middle;\n",
       "    }\n",
       "\n",
       "    .dataframe tbody tr th {\n",
       "        vertical-align: top;\n",
       "    }\n",
       "\n",
       "    .dataframe thead th {\n",
       "        text-align: right;\n",
       "    }\n",
       "</style>\n",
       "<table border=\"1\" class=\"dataframe\">\n",
       "  <thead>\n",
       "    <tr style=\"text-align: right;\">\n",
       "      <th></th>\n",
       "      <th>Hypothesis</th>\n",
       "      <th>Reach</th>\n",
       "      <th>Impact</th>\n",
       "      <th>Confidence</th>\n",
       "      <th>Efforts</th>\n",
       "    </tr>\n",
       "  </thead>\n",
       "  <tbody>\n",
       "    <tr>\n",
       "      <th>0</th>\n",
       "      <td>Добавить два новых канала привлечения трафика, что позволит привлекать на 30% больше пользователей</td>\n",
       "      <td>3</td>\n",
       "      <td>10</td>\n",
       "      <td>8</td>\n",
       "      <td>6</td>\n",
       "    </tr>\n",
       "    <tr>\n",
       "      <th>1</th>\n",
       "      <td>Запустить собственную службу доставки, что сократит срок доставки заказов</td>\n",
       "      <td>2</td>\n",
       "      <td>5</td>\n",
       "      <td>4</td>\n",
       "      <td>10</td>\n",
       "    </tr>\n",
       "    <tr>\n",
       "      <th>2</th>\n",
       "      <td>Добавить блоки рекомендаций товаров на сайт интернет магазина, чтобы повысить конверсию и средний чек заказа</td>\n",
       "      <td>8</td>\n",
       "      <td>3</td>\n",
       "      <td>7</td>\n",
       "      <td>3</td>\n",
       "    </tr>\n",
       "    <tr>\n",
       "      <th>3</th>\n",
       "      <td>Изменить структура категорий, что увеличит конверсию, т.к. пользователи быстрее найдут нужный товар</td>\n",
       "      <td>8</td>\n",
       "      <td>3</td>\n",
       "      <td>3</td>\n",
       "      <td>8</td>\n",
       "    </tr>\n",
       "    <tr>\n",
       "      <th>4</th>\n",
       "      <td>Изменить цвет фона главной страницы, чтобы увеличить вовлеченность пользователей</td>\n",
       "      <td>3</td>\n",
       "      <td>1</td>\n",
       "      <td>1</td>\n",
       "      <td>1</td>\n",
       "    </tr>\n",
       "    <tr>\n",
       "      <th>5</th>\n",
       "      <td>Добавить страницу отзывов клиентов о магазине, что позволит увеличить количество заказов</td>\n",
       "      <td>3</td>\n",
       "      <td>2</td>\n",
       "      <td>2</td>\n",
       "      <td>3</td>\n",
       "    </tr>\n",
       "    <tr>\n",
       "      <th>6</th>\n",
       "      <td>Показать на главной странице баннеры с актуальными акциями и распродажами, чтобы увеличить конверсию</td>\n",
       "      <td>5</td>\n",
       "      <td>3</td>\n",
       "      <td>8</td>\n",
       "      <td>3</td>\n",
       "    </tr>\n",
       "    <tr>\n",
       "      <th>7</th>\n",
       "      <td>Добавить форму подписки на все основные страницы, чтобы собрать базу клиентов для email-рассылок</td>\n",
       "      <td>10</td>\n",
       "      <td>7</td>\n",
       "      <td>8</td>\n",
       "      <td>5</td>\n",
       "    </tr>\n",
       "    <tr>\n",
       "      <th>8</th>\n",
       "      <td>Запустить акцию, дающую скидку на товар в день рождения</td>\n",
       "      <td>1</td>\n",
       "      <td>9</td>\n",
       "      <td>9</td>\n",
       "      <td>5</td>\n",
       "    </tr>\n",
       "  </tbody>\n",
       "</table>\n",
       "</div>"
      ],
      "text/plain": [
       "                                                                                                     Hypothesis  \\\n",
       "0            Добавить два новых канала привлечения трафика, что позволит привлекать на 30% больше пользователей   \n",
       "1                                     Запустить собственную службу доставки, что сократит срок доставки заказов   \n",
       "2  Добавить блоки рекомендаций товаров на сайт интернет магазина, чтобы повысить конверсию и средний чек заказа   \n",
       "3           Изменить структура категорий, что увеличит конверсию, т.к. пользователи быстрее найдут нужный товар   \n",
       "4                              Изменить цвет фона главной страницы, чтобы увеличить вовлеченность пользователей   \n",
       "5                      Добавить страницу отзывов клиентов о магазине, что позволит увеличить количество заказов   \n",
       "6          Показать на главной странице баннеры с актуальными акциями и распродажами, чтобы увеличить конверсию   \n",
       "7              Добавить форму подписки на все основные страницы, чтобы собрать базу клиентов для email-рассылок   \n",
       "8                                                       Запустить акцию, дающую скидку на товар в день рождения   \n",
       "\n",
       "   Reach  Impact  Confidence  Efforts  \n",
       "0      3      10           8        6  \n",
       "1      2       5           4       10  \n",
       "2      8       3           7        3  \n",
       "3      8       3           3        8  \n",
       "4      3       1           1        1  \n",
       "5      3       2           2        3  \n",
       "6      5       3           8        3  \n",
       "7     10       7           8        5  \n",
       "8      1       9           9        5  "
      ]
     },
     "execution_count": 2,
     "metadata": {},
     "output_type": "execute_result"
    }
   ],
   "source": [
    "hypothesis = pd.read_csv ('hypothesis.csv')\n",
    "pd.options.display.max_colwidth = 150\n",
    "hypothesis"
   ]
  },
  {
   "cell_type": "code",
   "execution_count": 3,
   "metadata": {},
   "outputs": [
    {
     "data": {
      "text/html": [
       "<div>\n",
       "<style scoped>\n",
       "    .dataframe tbody tr th:only-of-type {\n",
       "        vertical-align: middle;\n",
       "    }\n",
       "\n",
       "    .dataframe tbody tr th {\n",
       "        vertical-align: top;\n",
       "    }\n",
       "\n",
       "    .dataframe thead th {\n",
       "        text-align: right;\n",
       "    }\n",
       "</style>\n",
       "<table border=\"1\" class=\"dataframe\">\n",
       "  <thead>\n",
       "    <tr style=\"text-align: right;\">\n",
       "      <th></th>\n",
       "      <th>Hypothesis</th>\n",
       "      <th>ICE</th>\n",
       "    </tr>\n",
       "  </thead>\n",
       "  <tbody>\n",
       "    <tr>\n",
       "      <th>8</th>\n",
       "      <td>Запустить акцию, дающую скидку на товар в день рождения</td>\n",
       "      <td>16.20</td>\n",
       "    </tr>\n",
       "    <tr>\n",
       "      <th>0</th>\n",
       "      <td>Добавить два новых канала привлечения трафика, что позволит привлекать на 30% больше пользователей</td>\n",
       "      <td>13.33</td>\n",
       "    </tr>\n",
       "    <tr>\n",
       "      <th>7</th>\n",
       "      <td>Добавить форму подписки на все основные страницы, чтобы собрать базу клиентов для email-рассылок</td>\n",
       "      <td>11.20</td>\n",
       "    </tr>\n",
       "    <tr>\n",
       "      <th>6</th>\n",
       "      <td>Показать на главной странице баннеры с актуальными акциями и распродажами, чтобы увеличить конверсию</td>\n",
       "      <td>8.00</td>\n",
       "    </tr>\n",
       "    <tr>\n",
       "      <th>2</th>\n",
       "      <td>Добавить блоки рекомендаций товаров на сайт интернет магазина, чтобы повысить конверсию и средний чек заказа</td>\n",
       "      <td>7.00</td>\n",
       "    </tr>\n",
       "    <tr>\n",
       "      <th>1</th>\n",
       "      <td>Запустить собственную службу доставки, что сократит срок доставки заказов</td>\n",
       "      <td>2.00</td>\n",
       "    </tr>\n",
       "    <tr>\n",
       "      <th>5</th>\n",
       "      <td>Добавить страницу отзывов клиентов о магазине, что позволит увеличить количество заказов</td>\n",
       "      <td>1.33</td>\n",
       "    </tr>\n",
       "    <tr>\n",
       "      <th>3</th>\n",
       "      <td>Изменить структура категорий, что увеличит конверсию, т.к. пользователи быстрее найдут нужный товар</td>\n",
       "      <td>1.12</td>\n",
       "    </tr>\n",
       "    <tr>\n",
       "      <th>4</th>\n",
       "      <td>Изменить цвет фона главной страницы, чтобы увеличить вовлеченность пользователей</td>\n",
       "      <td>1.00</td>\n",
       "    </tr>\n",
       "  </tbody>\n",
       "</table>\n",
       "</div>"
      ],
      "text/plain": [
       "                                                                                                     Hypothesis  \\\n",
       "8                                                       Запустить акцию, дающую скидку на товар в день рождения   \n",
       "0            Добавить два новых канала привлечения трафика, что позволит привлекать на 30% больше пользователей   \n",
       "7              Добавить форму подписки на все основные страницы, чтобы собрать базу клиентов для email-рассылок   \n",
       "6          Показать на главной странице баннеры с актуальными акциями и распродажами, чтобы увеличить конверсию   \n",
       "2  Добавить блоки рекомендаций товаров на сайт интернет магазина, чтобы повысить конверсию и средний чек заказа   \n",
       "1                                     Запустить собственную службу доставки, что сократит срок доставки заказов   \n",
       "5                      Добавить страницу отзывов клиентов о магазине, что позволит увеличить количество заказов   \n",
       "3           Изменить структура категорий, что увеличит конверсию, т.к. пользователи быстрее найдут нужный товар   \n",
       "4                              Изменить цвет фона главной страницы, чтобы увеличить вовлеченность пользователей   \n",
       "\n",
       "     ICE  \n",
       "8  16.20  \n",
       "0  13.33  \n",
       "7  11.20  \n",
       "6   8.00  \n",
       "2   7.00  \n",
       "1   2.00  \n",
       "5   1.33  \n",
       "3   1.12  \n",
       "4   1.00  "
      ]
     },
     "metadata": {},
     "output_type": "display_data"
    }
   ],
   "source": [
    "hypothesis['ICE']= round((hypothesis['Impact']*hypothesis['Confidence'])/hypothesis['Efforts'],2)\n",
    "display(hypothesis[['Hypothesis','ICE']].sort_values(by = 'ICE', ascending = False))"
   ]
  },
  {
   "cell_type": "code",
   "execution_count": 4,
   "metadata": {},
   "outputs": [
    {
     "data": {
      "text/html": [
       "<div>\n",
       "<style scoped>\n",
       "    .dataframe tbody tr th:only-of-type {\n",
       "        vertical-align: middle;\n",
       "    }\n",
       "\n",
       "    .dataframe tbody tr th {\n",
       "        vertical-align: top;\n",
       "    }\n",
       "\n",
       "    .dataframe thead th {\n",
       "        text-align: right;\n",
       "    }\n",
       "</style>\n",
       "<table border=\"1\" class=\"dataframe\">\n",
       "  <thead>\n",
       "    <tr style=\"text-align: right;\">\n",
       "      <th></th>\n",
       "      <th>Hypothesis</th>\n",
       "      <th>RICE</th>\n",
       "    </tr>\n",
       "  </thead>\n",
       "  <tbody>\n",
       "    <tr>\n",
       "      <th>7</th>\n",
       "      <td>Добавить форму подписки на все основные страницы, чтобы собрать базу клиентов для email-рассылок</td>\n",
       "      <td>112.0</td>\n",
       "    </tr>\n",
       "    <tr>\n",
       "      <th>2</th>\n",
       "      <td>Добавить блоки рекомендаций товаров на сайт интернет магазина, чтобы повысить конверсию и средний чек заказа</td>\n",
       "      <td>56.0</td>\n",
       "    </tr>\n",
       "    <tr>\n",
       "      <th>0</th>\n",
       "      <td>Добавить два новых канала привлечения трафика, что позволит привлекать на 30% больше пользователей</td>\n",
       "      <td>40.0</td>\n",
       "    </tr>\n",
       "    <tr>\n",
       "      <th>6</th>\n",
       "      <td>Показать на главной странице баннеры с актуальными акциями и распродажами, чтобы увеличить конверсию</td>\n",
       "      <td>40.0</td>\n",
       "    </tr>\n",
       "    <tr>\n",
       "      <th>8</th>\n",
       "      <td>Запустить акцию, дающую скидку на товар в день рождения</td>\n",
       "      <td>16.2</td>\n",
       "    </tr>\n",
       "    <tr>\n",
       "      <th>3</th>\n",
       "      <td>Изменить структура категорий, что увеличит конверсию, т.к. пользователи быстрее найдут нужный товар</td>\n",
       "      <td>9.0</td>\n",
       "    </tr>\n",
       "    <tr>\n",
       "      <th>1</th>\n",
       "      <td>Запустить собственную службу доставки, что сократит срок доставки заказов</td>\n",
       "      <td>4.0</td>\n",
       "    </tr>\n",
       "    <tr>\n",
       "      <th>5</th>\n",
       "      <td>Добавить страницу отзывов клиентов о магазине, что позволит увеличить количество заказов</td>\n",
       "      <td>4.0</td>\n",
       "    </tr>\n",
       "    <tr>\n",
       "      <th>4</th>\n",
       "      <td>Изменить цвет фона главной страницы, чтобы увеличить вовлеченность пользователей</td>\n",
       "      <td>3.0</td>\n",
       "    </tr>\n",
       "  </tbody>\n",
       "</table>\n",
       "</div>"
      ],
      "text/plain": [
       "                                                                                                     Hypothesis  \\\n",
       "7              Добавить форму подписки на все основные страницы, чтобы собрать базу клиентов для email-рассылок   \n",
       "2  Добавить блоки рекомендаций товаров на сайт интернет магазина, чтобы повысить конверсию и средний чек заказа   \n",
       "0            Добавить два новых канала привлечения трафика, что позволит привлекать на 30% больше пользователей   \n",
       "6          Показать на главной странице баннеры с актуальными акциями и распродажами, чтобы увеличить конверсию   \n",
       "8                                                       Запустить акцию, дающую скидку на товар в день рождения   \n",
       "3           Изменить структура категорий, что увеличит конверсию, т.к. пользователи быстрее найдут нужный товар   \n",
       "1                                     Запустить собственную службу доставки, что сократит срок доставки заказов   \n",
       "5                      Добавить страницу отзывов клиентов о магазине, что позволит увеличить количество заказов   \n",
       "4                              Изменить цвет фона главной страницы, чтобы увеличить вовлеченность пользователей   \n",
       "\n",
       "    RICE  \n",
       "7  112.0  \n",
       "2   56.0  \n",
       "0   40.0  \n",
       "6   40.0  \n",
       "8   16.2  \n",
       "3    9.0  \n",
       "1    4.0  \n",
       "5    4.0  \n",
       "4    3.0  "
      ]
     },
     "metadata": {},
     "output_type": "display_data"
    }
   ],
   "source": [
    "hypothesis['RICE']= (hypothesis['Reach']*hypothesis['Impact']*hypothesis['Confidence'])/hypothesis['Efforts']\n",
    "display(hypothesis[['Hypothesis','RICE']].sort_values(by='RICE', ascending=False))"
   ]
  },
  {
   "cell_type": "markdown",
   "metadata": {},
   "source": [
    "По результатам расчета параметра `ICE` наиболее перспективными являются гипотезы `8,0,7,6,2`. \n",
    "\n",
    "После расчета параметра `RICE` в пятерке приоритетных гипотез произошли перестановки. На первое место вышла гипотеза `7`, дело в том что ее охват `Reach` среди прочих гипотез наибольший. "
   ]
  },
  {
   "cell_type": "markdown",
   "metadata": {},
   "source": [
    "По результатам приоритезации, гипотеза №7 выглядит ниболее перспективной для ее проверки в первую очередь."
   ]
  },
  {
   "cell_type": "markdown",
   "metadata": {},
   "source": [
    "## A/B-тест"
   ]
  },
  {
   "cell_type": "markdown",
   "metadata": {},
   "source": [
    "Вы провели A/B-тест и получили результаты, которые описаны в файлах /datasets/orders.csv и /datasets/visitors.csv."
   ]
  },
  {
   "cell_type": "markdown",
   "metadata": {},
   "source": [
    "### Предобработка данных"
   ]
  },
  {
   "cell_type": "code",
   "execution_count": 5,
   "metadata": {},
   "outputs": [
    {
     "data": {
      "text/html": [
       "<div>\n",
       "<style scoped>\n",
       "    .dataframe tbody tr th:only-of-type {\n",
       "        vertical-align: middle;\n",
       "    }\n",
       "\n",
       "    .dataframe tbody tr th {\n",
       "        vertical-align: top;\n",
       "    }\n",
       "\n",
       "    .dataframe thead th {\n",
       "        text-align: right;\n",
       "    }\n",
       "</style>\n",
       "<table border=\"1\" class=\"dataframe\">\n",
       "  <thead>\n",
       "    <tr style=\"text-align: right;\">\n",
       "      <th></th>\n",
       "      <th>transactionId</th>\n",
       "      <th>visitorId</th>\n",
       "      <th>date</th>\n",
       "      <th>revenue</th>\n",
       "      <th>group</th>\n",
       "    </tr>\n",
       "  </thead>\n",
       "  <tbody>\n",
       "    <tr>\n",
       "      <th>0</th>\n",
       "      <td>3667963787</td>\n",
       "      <td>3312258926</td>\n",
       "      <td>2019-08-15</td>\n",
       "      <td>1650</td>\n",
       "      <td>B</td>\n",
       "    </tr>\n",
       "    <tr>\n",
       "      <th>1</th>\n",
       "      <td>2804400009</td>\n",
       "      <td>3642806036</td>\n",
       "      <td>2019-08-15</td>\n",
       "      <td>730</td>\n",
       "      <td>B</td>\n",
       "    </tr>\n",
       "    <tr>\n",
       "      <th>2</th>\n",
       "      <td>2961555356</td>\n",
       "      <td>4069496402</td>\n",
       "      <td>2019-08-15</td>\n",
       "      <td>400</td>\n",
       "      <td>A</td>\n",
       "    </tr>\n",
       "    <tr>\n",
       "      <th>3</th>\n",
       "      <td>3797467345</td>\n",
       "      <td>1196621759</td>\n",
       "      <td>2019-08-15</td>\n",
       "      <td>9759</td>\n",
       "      <td>B</td>\n",
       "    </tr>\n",
       "    <tr>\n",
       "      <th>4</th>\n",
       "      <td>2282983706</td>\n",
       "      <td>2322279887</td>\n",
       "      <td>2019-08-15</td>\n",
       "      <td>2308</td>\n",
       "      <td>B</td>\n",
       "    </tr>\n",
       "    <tr>\n",
       "      <th>5</th>\n",
       "      <td>182168103</td>\n",
       "      <td>935554773</td>\n",
       "      <td>2019-08-15</td>\n",
       "      <td>2210</td>\n",
       "      <td>B</td>\n",
       "    </tr>\n",
       "    <tr>\n",
       "      <th>6</th>\n",
       "      <td>398296753</td>\n",
       "      <td>2900797465</td>\n",
       "      <td>2019-08-15</td>\n",
       "      <td>1860</td>\n",
       "      <td>B</td>\n",
       "    </tr>\n",
       "    <tr>\n",
       "      <th>7</th>\n",
       "      <td>2626614568</td>\n",
       "      <td>78758296</td>\n",
       "      <td>2019-08-15</td>\n",
       "      <td>1044</td>\n",
       "      <td>A</td>\n",
       "    </tr>\n",
       "    <tr>\n",
       "      <th>8</th>\n",
       "      <td>1576988021</td>\n",
       "      <td>295230930</td>\n",
       "      <td>2019-08-15</td>\n",
       "      <td>13710</td>\n",
       "      <td>A</td>\n",
       "    </tr>\n",
       "    <tr>\n",
       "      <th>9</th>\n",
       "      <td>1506739906</td>\n",
       "      <td>1882260405</td>\n",
       "      <td>2019-08-15</td>\n",
       "      <td>1855</td>\n",
       "      <td>B</td>\n",
       "    </tr>\n",
       "  </tbody>\n",
       "</table>\n",
       "</div>"
      ],
      "text/plain": [
       "   transactionId   visitorId        date  revenue group\n",
       "0     3667963787  3312258926  2019-08-15     1650     B\n",
       "1     2804400009  3642806036  2019-08-15      730     B\n",
       "2     2961555356  4069496402  2019-08-15      400     A\n",
       "3     3797467345  1196621759  2019-08-15     9759     B\n",
       "4     2282983706  2322279887  2019-08-15     2308     B\n",
       "5      182168103   935554773  2019-08-15     2210     B\n",
       "6      398296753  2900797465  2019-08-15     1860     B\n",
       "7     2626614568    78758296  2019-08-15     1044     A\n",
       "8     1576988021   295230930  2019-08-15    13710     A\n",
       "9     1506739906  1882260405  2019-08-15     1855     B"
      ]
     },
     "execution_count": 5,
     "metadata": {},
     "output_type": "execute_result"
    }
   ],
   "source": [
    "orders = pd.read_csv ('orders.csv')\n",
    "orders.head(10)"
   ]
  },
  {
   "cell_type": "code",
   "execution_count": 6,
   "metadata": {},
   "outputs": [
    {
     "data": {
      "text/plain": [
       "0"
      ]
     },
     "execution_count": 6,
     "metadata": {},
     "output_type": "execute_result"
    }
   ],
   "source": [
    "orders.duplicated().sum()"
   ]
  },
  {
   "cell_type": "code",
   "execution_count": 7,
   "metadata": {},
   "outputs": [
    {
     "data": {
      "text/html": [
       "<div>\n",
       "<style scoped>\n",
       "    .dataframe tbody tr th:only-of-type {\n",
       "        vertical-align: middle;\n",
       "    }\n",
       "\n",
       "    .dataframe tbody tr th {\n",
       "        vertical-align: top;\n",
       "    }\n",
       "\n",
       "    .dataframe thead th {\n",
       "        text-align: right;\n",
       "    }\n",
       "</style>\n",
       "<table border=\"1\" class=\"dataframe\">\n",
       "  <thead>\n",
       "    <tr style=\"text-align: right;\">\n",
       "      <th></th>\n",
       "      <th>transaction_id</th>\n",
       "      <th>visitor_id</th>\n",
       "      <th>date</th>\n",
       "      <th>revenue</th>\n",
       "      <th>group</th>\n",
       "    </tr>\n",
       "  </thead>\n",
       "  <tbody>\n",
       "    <tr>\n",
       "      <th>0</th>\n",
       "      <td>3667963787</td>\n",
       "      <td>3312258926</td>\n",
       "      <td>2019-08-15</td>\n",
       "      <td>1650</td>\n",
       "      <td>B</td>\n",
       "    </tr>\n",
       "    <tr>\n",
       "      <th>1</th>\n",
       "      <td>2804400009</td>\n",
       "      <td>3642806036</td>\n",
       "      <td>2019-08-15</td>\n",
       "      <td>730</td>\n",
       "      <td>B</td>\n",
       "    </tr>\n",
       "    <tr>\n",
       "      <th>2</th>\n",
       "      <td>2961555356</td>\n",
       "      <td>4069496402</td>\n",
       "      <td>2019-08-15</td>\n",
       "      <td>400</td>\n",
       "      <td>A</td>\n",
       "    </tr>\n",
       "    <tr>\n",
       "      <th>3</th>\n",
       "      <td>3797467345</td>\n",
       "      <td>1196621759</td>\n",
       "      <td>2019-08-15</td>\n",
       "      <td>9759</td>\n",
       "      <td>B</td>\n",
       "    </tr>\n",
       "    <tr>\n",
       "      <th>4</th>\n",
       "      <td>2282983706</td>\n",
       "      <td>2322279887</td>\n",
       "      <td>2019-08-15</td>\n",
       "      <td>2308</td>\n",
       "      <td>B</td>\n",
       "    </tr>\n",
       "    <tr>\n",
       "      <th>5</th>\n",
       "      <td>182168103</td>\n",
       "      <td>935554773</td>\n",
       "      <td>2019-08-15</td>\n",
       "      <td>2210</td>\n",
       "      <td>B</td>\n",
       "    </tr>\n",
       "    <tr>\n",
       "      <th>6</th>\n",
       "      <td>398296753</td>\n",
       "      <td>2900797465</td>\n",
       "      <td>2019-08-15</td>\n",
       "      <td>1860</td>\n",
       "      <td>B</td>\n",
       "    </tr>\n",
       "    <tr>\n",
       "      <th>7</th>\n",
       "      <td>2626614568</td>\n",
       "      <td>78758296</td>\n",
       "      <td>2019-08-15</td>\n",
       "      <td>1044</td>\n",
       "      <td>A</td>\n",
       "    </tr>\n",
       "    <tr>\n",
       "      <th>8</th>\n",
       "      <td>1576988021</td>\n",
       "      <td>295230930</td>\n",
       "      <td>2019-08-15</td>\n",
       "      <td>13710</td>\n",
       "      <td>A</td>\n",
       "    </tr>\n",
       "    <tr>\n",
       "      <th>9</th>\n",
       "      <td>1506739906</td>\n",
       "      <td>1882260405</td>\n",
       "      <td>2019-08-15</td>\n",
       "      <td>1855</td>\n",
       "      <td>B</td>\n",
       "    </tr>\n",
       "  </tbody>\n",
       "</table>\n",
       "</div>"
      ],
      "text/plain": [
       "   transaction_id  visitor_id       date  revenue group\n",
       "0      3667963787  3312258926 2019-08-15     1650     B\n",
       "1      2804400009  3642806036 2019-08-15      730     B\n",
       "2      2961555356  4069496402 2019-08-15      400     A\n",
       "3      3797467345  1196621759 2019-08-15     9759     B\n",
       "4      2282983706  2322279887 2019-08-15     2308     B\n",
       "5       182168103   935554773 2019-08-15     2210     B\n",
       "6       398296753  2900797465 2019-08-15     1860     B\n",
       "7      2626614568    78758296 2019-08-15     1044     A\n",
       "8      1576988021   295230930 2019-08-15    13710     A\n",
       "9      1506739906  1882260405 2019-08-15     1855     B"
      ]
     },
     "execution_count": 7,
     "metadata": {},
     "output_type": "execute_result"
    }
   ],
   "source": [
    "orders.rename(columns = {'transactionId':'transaction_id', 'visitorId':'visitor_id'}, inplace = True)\n",
    "orders['date'] = pd.to_datetime(orders['date'])\n",
    "orders.head(10)"
   ]
  },
  {
   "cell_type": "code",
   "execution_count": 8,
   "metadata": {},
   "outputs": [
    {
     "name": "stdout",
     "output_type": "stream",
     "text": [
      "<class 'pandas.core.frame.DataFrame'>\n",
      "RangeIndex: 1197 entries, 0 to 1196\n",
      "Data columns (total 5 columns):\n",
      " #   Column          Non-Null Count  Dtype         \n",
      "---  ------          --------------  -----         \n",
      " 0   transaction_id  1197 non-null   int64         \n",
      " 1   visitor_id      1197 non-null   int64         \n",
      " 2   date            1197 non-null   datetime64[ns]\n",
      " 3   revenue         1197 non-null   int64         \n",
      " 4   group           1197 non-null   object        \n",
      "dtypes: datetime64[ns](1), int64(3), object(1)\n",
      "memory usage: 46.9+ KB\n"
     ]
    }
   ],
   "source": [
    "orders.info()"
   ]
  },
  {
   "cell_type": "code",
   "execution_count": 9,
   "metadata": {},
   "outputs": [
    {
     "data": {
      "text/html": [
       "<div>\n",
       "<style scoped>\n",
       "    .dataframe tbody tr th:only-of-type {\n",
       "        vertical-align: middle;\n",
       "    }\n",
       "\n",
       "    .dataframe tbody tr th {\n",
       "        vertical-align: top;\n",
       "    }\n",
       "\n",
       "    .dataframe thead th {\n",
       "        text-align: right;\n",
       "    }\n",
       "</style>\n",
       "<table border=\"1\" class=\"dataframe\">\n",
       "  <thead>\n",
       "    <tr style=\"text-align: right;\">\n",
       "      <th></th>\n",
       "      <th>date</th>\n",
       "      <th>group</th>\n",
       "      <th>visitors</th>\n",
       "    </tr>\n",
       "  </thead>\n",
       "  <tbody>\n",
       "    <tr>\n",
       "      <th>0</th>\n",
       "      <td>2019-08-01</td>\n",
       "      <td>A</td>\n",
       "      <td>719</td>\n",
       "    </tr>\n",
       "    <tr>\n",
       "      <th>1</th>\n",
       "      <td>2019-08-02</td>\n",
       "      <td>A</td>\n",
       "      <td>619</td>\n",
       "    </tr>\n",
       "    <tr>\n",
       "      <th>2</th>\n",
       "      <td>2019-08-03</td>\n",
       "      <td>A</td>\n",
       "      <td>507</td>\n",
       "    </tr>\n",
       "    <tr>\n",
       "      <th>3</th>\n",
       "      <td>2019-08-04</td>\n",
       "      <td>A</td>\n",
       "      <td>717</td>\n",
       "    </tr>\n",
       "    <tr>\n",
       "      <th>4</th>\n",
       "      <td>2019-08-05</td>\n",
       "      <td>A</td>\n",
       "      <td>756</td>\n",
       "    </tr>\n",
       "    <tr>\n",
       "      <th>5</th>\n",
       "      <td>2019-08-06</td>\n",
       "      <td>A</td>\n",
       "      <td>667</td>\n",
       "    </tr>\n",
       "    <tr>\n",
       "      <th>6</th>\n",
       "      <td>2019-08-07</td>\n",
       "      <td>A</td>\n",
       "      <td>644</td>\n",
       "    </tr>\n",
       "    <tr>\n",
       "      <th>7</th>\n",
       "      <td>2019-08-08</td>\n",
       "      <td>A</td>\n",
       "      <td>610</td>\n",
       "    </tr>\n",
       "    <tr>\n",
       "      <th>8</th>\n",
       "      <td>2019-08-09</td>\n",
       "      <td>A</td>\n",
       "      <td>617</td>\n",
       "    </tr>\n",
       "    <tr>\n",
       "      <th>9</th>\n",
       "      <td>2019-08-10</td>\n",
       "      <td>A</td>\n",
       "      <td>406</td>\n",
       "    </tr>\n",
       "  </tbody>\n",
       "</table>\n",
       "</div>"
      ],
      "text/plain": [
       "         date group  visitors\n",
       "0  2019-08-01     A       719\n",
       "1  2019-08-02     A       619\n",
       "2  2019-08-03     A       507\n",
       "3  2019-08-04     A       717\n",
       "4  2019-08-05     A       756\n",
       "5  2019-08-06     A       667\n",
       "6  2019-08-07     A       644\n",
       "7  2019-08-08     A       610\n",
       "8  2019-08-09     A       617\n",
       "9  2019-08-10     A       406"
      ]
     },
     "execution_count": 9,
     "metadata": {},
     "output_type": "execute_result"
    }
   ],
   "source": [
    "visitors = pd.read_csv ('visitors.csv')\n",
    "visitors.head(10)"
   ]
  },
  {
   "cell_type": "code",
   "execution_count": 10,
   "metadata": {},
   "outputs": [
    {
     "name": "stdout",
     "output_type": "stream",
     "text": [
      "<class 'pandas.core.frame.DataFrame'>\n",
      "RangeIndex: 62 entries, 0 to 61\n",
      "Data columns (total 3 columns):\n",
      " #   Column    Non-Null Count  Dtype \n",
      "---  ------    --------------  ----- \n",
      " 0   date      62 non-null     object\n",
      " 1   group     62 non-null     object\n",
      " 2   visitors  62 non-null     int64 \n",
      "dtypes: int64(1), object(2)\n",
      "memory usage: 1.6+ KB\n"
     ]
    }
   ],
   "source": [
    "visitors.info()"
   ]
  },
  {
   "cell_type": "code",
   "execution_count": 11,
   "metadata": {},
   "outputs": [
    {
     "data": {
      "text/plain": [
       "0"
      ]
     },
     "execution_count": 11,
     "metadata": {},
     "output_type": "execute_result"
    }
   ],
   "source": [
    "visitors.duplicated().sum()"
   ]
  },
  {
   "cell_type": "code",
   "execution_count": 12,
   "metadata": {},
   "outputs": [
    {
     "name": "stdout",
     "output_type": "stream",
     "text": [
      "<class 'pandas.core.frame.DataFrame'>\n",
      "RangeIndex: 62 entries, 0 to 61\n",
      "Data columns (total 3 columns):\n",
      " #   Column    Non-Null Count  Dtype         \n",
      "---  ------    --------------  -----         \n",
      " 0   date      62 non-null     datetime64[ns]\n",
      " 1   group     62 non-null     object        \n",
      " 2   visitors  62 non-null     int64         \n",
      "dtypes: datetime64[ns](1), int64(1), object(1)\n",
      "memory usage: 1.6+ KB\n"
     ]
    }
   ],
   "source": [
    "visitors['date'] = pd.to_datetime(visitors['date'])\n",
    "visitors.info()"
   ]
  },
  {
   "cell_type": "markdown",
   "metadata": {},
   "source": [
    "При предобработке данных датесеты `orders` и `visitors` поверили на наличие дубликатов: их не оказалось. Также данные в столбцах `date` перевели в формат даты и перевели все названия столбцов в змеиный регистр. "
   ]
  },
  {
   "cell_type": "markdown",
   "metadata": {},
   "source": [
    "**Удостоверимся, что в датафреймах присутствуют данные только по двум группам**"
   ]
  },
  {
   "cell_type": "code",
   "execution_count": 13,
   "metadata": {},
   "outputs": [
    {
     "data": {
      "text/plain": [
       "2"
      ]
     },
     "execution_count": 13,
     "metadata": {},
     "output_type": "execute_result"
    }
   ],
   "source": [
    "orders['group'].nunique()\n"
   ]
  },
  {
   "cell_type": "code",
   "execution_count": 14,
   "metadata": {
    "scrolled": false
   },
   "outputs": [
    {
     "data": {
      "text/plain": [
       "2"
      ]
     },
     "execution_count": 14,
     "metadata": {},
     "output_type": "execute_result"
    }
   ],
   "source": [
    "visitors['group'].nunique()"
   ]
  },
  {
   "cell_type": "markdown",
   "metadata": {},
   "source": [
    "У нас данные только по двум группам"
   ]
  },
  {
   "cell_type": "markdown",
   "metadata": {},
   "source": [
    "**Изучим временной интервал, узнав даты начала и окончания теста;**"
   ]
  },
  {
   "cell_type": "code",
   "execution_count": 15,
   "metadata": {},
   "outputs": [
    {
     "name": "stdout",
     "output_type": "stream",
     "text": [
      "Минимальная дата в датафрейме orders - 2019-08-01 00:00:00\n",
      "Максимальная дата в датафрейме orders - 2019-08-31 00:00:00\n"
     ]
    }
   ],
   "source": [
    "print('Минимальная дата в датафрейме orders -', orders['date'].min())\n",
    "print('Максимальная дата в датафрейме orders -',orders['date'].max())"
   ]
  },
  {
   "cell_type": "code",
   "execution_count": 16,
   "metadata": {
    "scrolled": true
   },
   "outputs": [
    {
     "name": "stdout",
     "output_type": "stream",
     "text": [
      "Минимальная дата в датафрейме visitors - 2019-08-01 00:00:00\n",
      "Максимальная дата в датафрейме visitors - 2019-08-31 00:00:00\n"
     ]
    }
   ],
   "source": [
    "print('Минимальная дата в датафрейме visitors -', visitors['date'].min())\n",
    "print('Максимальная дата в датафрейме visitors -',visitors['date'].max())"
   ]
  },
  {
   "cell_type": "code",
   "execution_count": 17,
   "metadata": {},
   "outputs": [],
   "source": [
    "min_date=visitors['date'].min()\n",
    "max_date=visitors['date'].max()"
   ]
  },
  {
   "cell_type": "markdown",
   "metadata": {},
   "source": [
    "Даты начала и конца тестирования совпадают"
   ]
  },
  {
   "cell_type": "markdown",
   "metadata": {},
   "source": [
    "**Рассмотрим количество пользователей в каждой группе - по таблице с заказами;**"
   ]
  },
  {
   "cell_type": "code",
   "execution_count": 18,
   "metadata": {},
   "outputs": [
    {
     "name": "stdout",
     "output_type": "stream",
     "text": [
      "Количество пользователей в группе А - 503\n",
      "Количество пользователей в группе В - 586\n"
     ]
    }
   ],
   "source": [
    "group_A_visitors_number = orders.query('group == \"A\"')['visitor_id'].nunique()\n",
    "group_B_visitors_number = orders.query('group == \"B\"')['visitor_id'].nunique()\n",
    "print('Количество пользователей в группе А -', group_A_visitors_number)\n",
    "print('Количество пользователей в группе В -', group_B_visitors_number)"
   ]
  },
  {
   "cell_type": "markdown",
   "metadata": {},
   "source": [
    "**Посмотрим, не попадают ли какие-то пользователи в обе группы - по таблице с заказами.**"
   ]
  },
  {
   "cell_type": "code",
   "execution_count": 19,
   "metadata": {},
   "outputs": [],
   "source": [
    "group_A_visitors = orders.query('group == \"A\"')['visitor_id'].unique()\n",
    "group_B_visitors = orders.query('group == \"B\"')['visitor_id'].unique()"
   ]
  },
  {
   "cell_type": "code",
   "execution_count": 20,
   "metadata": {},
   "outputs": [
    {
     "data": {
      "text/plain": [
       "[4069496402,\n",
       " 199603092,\n",
       " 3803269165,\n",
       " 2378935119,\n",
       " 237748145,\n",
       " 4256040402,\n",
       " 2038680547,\n",
       " 1738359350,\n",
       " 2458001652,\n",
       " 3891541246,\n",
       " 2716752286,\n",
       " 3656415546,\n",
       " 2686716486,\n",
       " 2954449915,\n",
       " 2927087541,\n",
       " 3234906277,\n",
       " 457167155,\n",
       " 2579882178,\n",
       " 3957174400,\n",
       " 1648269707,\n",
       " 2780786433,\n",
       " 818047933,\n",
       " 2044997962,\n",
       " 1959144690,\n",
       " 3202540741,\n",
       " 1333886533,\n",
       " 351125977,\n",
       " 3951559397,\n",
       " 393266494,\n",
       " 3984495233,\n",
       " 4120364173,\n",
       " 4266935830,\n",
       " 1230306981,\n",
       " 1294878855,\n",
       " 1614305549,\n",
       " 8300375,\n",
       " 477780734,\n",
       " 1668030113,\n",
       " 3717692402,\n",
       " 3766097110,\n",
       " 3941795274,\n",
       " 471551937,\n",
       " 1316129916,\n",
       " 1801183820,\n",
       " 1602967004,\n",
       " 2587333274,\n",
       " 2600415354,\n",
       " 232979603,\n",
       " 3972127743,\n",
       " 1404934699,\n",
       " 276558944,\n",
       " 3062433592,\n",
       " 2654030115,\n",
       " 3963646447,\n",
       " 4186807279,\n",
       " 2712142231,\n",
       " 2949041841,\n",
       " 963407295]"
      ]
     },
     "execution_count": 20,
     "metadata": {},
     "output_type": "execute_result"
    }
   ],
   "source": [
    "counter = []\n",
    "for a in group_A_visitors:\n",
    "    if a in group_B_visitors:\n",
    "        counter.append(a)\n",
    "counter"
   ]
  },
  {
   "cell_type": "markdown",
   "metadata": {},
   "source": [
    "Пользователи не скачут между группами"
   ]
  },
  {
   "cell_type": "markdown",
   "metadata": {},
   "source": [
    "**Посмотрим динамику посетителей по дням по группам (visitos).**"
   ]
  },
  {
   "cell_type": "code",
   "execution_count": 21,
   "metadata": {},
   "outputs": [
    {
     "data": {
      "image/png": "[encoded data removed]",
      "text/plain": [
       "<Figure size 432x288 with 1 Axes>"
      ]
     },
     "metadata": {
      "needs_background": "light"
     },
     "output_type": "display_data"
    }
   ],
   "source": [
    "group_A_visitors_daily = visitors.query('group == \"A\"')\n",
    "group_B_visitors_daily = visitors.query('group == \"B\"')\n",
    "\n",
    "plt.plot(group_A_visitors_daily['date'], group_A_visitors_daily['visitors'], label='A')\n",
    "plt.plot(group_B_visitors_daily['date'], group_B_visitors_daily['visitors'], label='B')\n",
    "plt.xticks(rotation = 45)\n",
    "plt.ylabel('Количество посетителей')\n",
    "plt.title('Динамика посетителей по дням по группам')\n",
    "plt.legend();"
   ]
  },
  {
   "cell_type": "markdown",
   "metadata": {},
   "source": [
    "Графики довольно симетричны, посетителей в группах было примерно одинаковое количество в каждый день."
   ]
  },
  {
   "cell_type": "markdown",
   "metadata": {},
   "source": [
    "### Анализи A/B-теста"
   ]
  },
  {
   "cell_type": "markdown",
   "metadata": {},
   "source": [
    "#### График кумулятивной выручки по группам"
   ]
  },
  {
   "cell_type": "markdown",
   "metadata": {},
   "source": [
    "Чтобы построить графики, нужно собрать кумулятивные данные. Объявим датафрейм `cumulative_data` со столбцами:\n",
    "- date — дата;\n",
    "- group — группа A/B-теста (A или B);\n",
    "- orders — кумулятивное количество заказов на указанную дату в указанной группе;\n",
    "- buyers — кумулятивное количество пользователей, совершивших хотя бы один заказ, на указанную дату в указанной группе;\n",
    "- revenue — кумулятивная выручка на указанную дату в указанной группе (средний чек);\n",
    "- visitors — кумулятивное количество посетителей интернет-магазина на указанную дату в определённой группе."
   ]
  },
  {
   "cell_type": "markdown",
   "metadata": {},
   "source": [
    "Создадим массив уникальных пар значений дат и групп теста методом drop_duplicates()"
   ]
  },
  {
   "cell_type": "code",
   "execution_count": 22,
   "metadata": {},
   "outputs": [],
   "source": [
    "dates_groups = orders[['date', 'group']].drop_duplicates()"
   ]
  },
  {
   "cell_type": "markdown",
   "metadata": {},
   "source": [
    "Соберём агрегированные кумулятивные данные о заказах по дням"
   ]
  },
  {
   "cell_type": "code",
   "execution_count": 23,
   "metadata": {},
   "outputs": [
    {
     "data": {
      "text/html": [
       "<div>\n",
       "<style scoped>\n",
       "    .dataframe tbody tr th:only-of-type {\n",
       "        vertical-align: middle;\n",
       "    }\n",
       "\n",
       "    .dataframe tbody tr th {\n",
       "        vertical-align: top;\n",
       "    }\n",
       "\n",
       "    .dataframe thead th {\n",
       "        text-align: right;\n",
       "    }\n",
       "</style>\n",
       "<table border=\"1\" class=\"dataframe\">\n",
       "  <thead>\n",
       "    <tr style=\"text-align: right;\">\n",
       "      <th></th>\n",
       "      <th>date</th>\n",
       "      <th>group</th>\n",
       "      <th>transaction_id</th>\n",
       "      <th>visitor_id</th>\n",
       "      <th>revenue</th>\n",
       "    </tr>\n",
       "  </thead>\n",
       "  <tbody>\n",
       "    <tr>\n",
       "      <th>55</th>\n",
       "      <td>2019-08-01</td>\n",
       "      <td>A</td>\n",
       "      <td>24</td>\n",
       "      <td>20</td>\n",
       "      <td>148579</td>\n",
       "    </tr>\n",
       "    <tr>\n",
       "      <th>66</th>\n",
       "      <td>2019-08-01</td>\n",
       "      <td>B</td>\n",
       "      <td>21</td>\n",
       "      <td>20</td>\n",
       "      <td>101217</td>\n",
       "    </tr>\n",
       "    <tr>\n",
       "      <th>175</th>\n",
       "      <td>2019-08-02</td>\n",
       "      <td>A</td>\n",
       "      <td>44</td>\n",
       "      <td>38</td>\n",
       "      <td>242401</td>\n",
       "    </tr>\n",
       "    <tr>\n",
       "      <th>173</th>\n",
       "      <td>2019-08-02</td>\n",
       "      <td>B</td>\n",
       "      <td>45</td>\n",
       "      <td>43</td>\n",
       "      <td>266748</td>\n",
       "    </tr>\n",
       "    <tr>\n",
       "      <th>291</th>\n",
       "      <td>2019-08-03</td>\n",
       "      <td>A</td>\n",
       "      <td>68</td>\n",
       "      <td>62</td>\n",
       "      <td>354874</td>\n",
       "    </tr>\n",
       "    <tr>\n",
       "      <th>310</th>\n",
       "      <td>2019-08-03</td>\n",
       "      <td>B</td>\n",
       "      <td>61</td>\n",
       "      <td>59</td>\n",
       "      <td>380996</td>\n",
       "    </tr>\n",
       "    <tr>\n",
       "      <th>499</th>\n",
       "      <td>2019-08-04</td>\n",
       "      <td>A</td>\n",
       "      <td>84</td>\n",
       "      <td>77</td>\n",
       "      <td>425699</td>\n",
       "    </tr>\n",
       "    <tr>\n",
       "      <th>498</th>\n",
       "      <td>2019-08-04</td>\n",
       "      <td>B</td>\n",
       "      <td>78</td>\n",
       "      <td>75</td>\n",
       "      <td>489567</td>\n",
       "    </tr>\n",
       "    <tr>\n",
       "      <th>698</th>\n",
       "      <td>2019-08-05</td>\n",
       "      <td>A</td>\n",
       "      <td>109</td>\n",
       "      <td>100</td>\n",
       "      <td>549917</td>\n",
       "    </tr>\n",
       "    <tr>\n",
       "      <th>699</th>\n",
       "      <td>2019-08-05</td>\n",
       "      <td>B</td>\n",
       "      <td>101</td>\n",
       "      <td>98</td>\n",
       "      <td>581995</td>\n",
       "    </tr>\n",
       "  </tbody>\n",
       "</table>\n",
       "</div>"
      ],
      "text/plain": [
       "          date group  transaction_id  visitor_id  revenue\n",
       "55  2019-08-01     A              24          20   148579\n",
       "66  2019-08-01     B              21          20   101217\n",
       "175 2019-08-02     A              44          38   242401\n",
       "173 2019-08-02     B              45          43   266748\n",
       "291 2019-08-03     A              68          62   354874\n",
       "310 2019-08-03     B              61          59   380996\n",
       "499 2019-08-04     A              84          77   425699\n",
       "498 2019-08-04     B              78          75   489567\n",
       "698 2019-08-05     A             109         100   549917\n",
       "699 2019-08-05     B             101          98   581995"
      ]
     },
     "execution_count": 23,
     "metadata": {},
     "output_type": "execute_result"
    }
   ],
   "source": [
    "orders_aggregated = (dates_groups.apply(lambda x: orders[np.logical_and(orders['date'] <= x['date'],\n",
    "                                                                        orders['group'] == x['group'])]\n",
    "                                        .agg({'date' : 'max', 'group' : 'max', 'transaction_id' : 'nunique', \n",
    "                                              'visitor_id' : 'nunique', 'revenue' : 'sum'}), axis=1)\n",
    "                     .sort_values(by=['date','group']))\n",
    "orders_aggregated.head(10)"
   ]
  },
  {
   "cell_type": "markdown",
   "metadata": {},
   "source": [
    "Соберём агрегированные кумулятивные данные о посетителях по дням"
   ]
  },
  {
   "cell_type": "code",
   "execution_count": 24,
   "metadata": {},
   "outputs": [
    {
     "data": {
      "text/html": [
       "<div>\n",
       "<style scoped>\n",
       "    .dataframe tbody tr th:only-of-type {\n",
       "        vertical-align: middle;\n",
       "    }\n",
       "\n",
       "    .dataframe tbody tr th {\n",
       "        vertical-align: top;\n",
       "    }\n",
       "\n",
       "    .dataframe thead th {\n",
       "        text-align: right;\n",
       "    }\n",
       "</style>\n",
       "<table border=\"1\" class=\"dataframe\">\n",
       "  <thead>\n",
       "    <tr style=\"text-align: right;\">\n",
       "      <th></th>\n",
       "      <th>date</th>\n",
       "      <th>group</th>\n",
       "      <th>visitors</th>\n",
       "    </tr>\n",
       "  </thead>\n",
       "  <tbody>\n",
       "    <tr>\n",
       "      <th>55</th>\n",
       "      <td>2019-08-01</td>\n",
       "      <td>A</td>\n",
       "      <td>719</td>\n",
       "    </tr>\n",
       "    <tr>\n",
       "      <th>66</th>\n",
       "      <td>2019-08-01</td>\n",
       "      <td>B</td>\n",
       "      <td>713</td>\n",
       "    </tr>\n",
       "    <tr>\n",
       "      <th>175</th>\n",
       "      <td>2019-08-02</td>\n",
       "      <td>A</td>\n",
       "      <td>1338</td>\n",
       "    </tr>\n",
       "    <tr>\n",
       "      <th>173</th>\n",
       "      <td>2019-08-02</td>\n",
       "      <td>B</td>\n",
       "      <td>1294</td>\n",
       "    </tr>\n",
       "    <tr>\n",
       "      <th>291</th>\n",
       "      <td>2019-08-03</td>\n",
       "      <td>A</td>\n",
       "      <td>1845</td>\n",
       "    </tr>\n",
       "    <tr>\n",
       "      <th>310</th>\n",
       "      <td>2019-08-03</td>\n",
       "      <td>B</td>\n",
       "      <td>1803</td>\n",
       "    </tr>\n",
       "    <tr>\n",
       "      <th>499</th>\n",
       "      <td>2019-08-04</td>\n",
       "      <td>A</td>\n",
       "      <td>2562</td>\n",
       "    </tr>\n",
       "    <tr>\n",
       "      <th>498</th>\n",
       "      <td>2019-08-04</td>\n",
       "      <td>B</td>\n",
       "      <td>2573</td>\n",
       "    </tr>\n",
       "    <tr>\n",
       "      <th>698</th>\n",
       "      <td>2019-08-05</td>\n",
       "      <td>A</td>\n",
       "      <td>3318</td>\n",
       "    </tr>\n",
       "    <tr>\n",
       "      <th>699</th>\n",
       "      <td>2019-08-05</td>\n",
       "      <td>B</td>\n",
       "      <td>3280</td>\n",
       "    </tr>\n",
       "  </tbody>\n",
       "</table>\n",
       "</div>"
      ],
      "text/plain": [
       "          date group  visitors\n",
       "55  2019-08-01     A       719\n",
       "66  2019-08-01     B       713\n",
       "175 2019-08-02     A      1338\n",
       "173 2019-08-02     B      1294\n",
       "291 2019-08-03     A      1845\n",
       "310 2019-08-03     B      1803\n",
       "499 2019-08-04     A      2562\n",
       "498 2019-08-04     B      2573\n",
       "698 2019-08-05     A      3318\n",
       "699 2019-08-05     B      3280"
      ]
     },
     "execution_count": 24,
     "metadata": {},
     "output_type": "execute_result"
    }
   ],
   "source": [
    "visitors_aggregated = (dates_groups.apply(lambda x: visitors[np.logical_and(visitors['date'] <= x['date'], \n",
    "                                                                            visitors['group'] == x['group'])]\n",
    "                                          .agg({'date' : 'max', 'group' : 'max', 'visitors' : 'sum'}), axis=1)\n",
    "                       .sort_values(by=['date','group']))\n",
    "visitors_aggregated.head(10)"
   ]
  },
  {
   "cell_type": "markdown",
   "metadata": {},
   "source": [
    "Объединим обе таблицы в одну"
   ]
  },
  {
   "cell_type": "code",
   "execution_count": 25,
   "metadata": {
    "scrolled": true
   },
   "outputs": [
    {
     "data": {
      "text/html": [
       "<div>\n",
       "<style scoped>\n",
       "    .dataframe tbody tr th:only-of-type {\n",
       "        vertical-align: middle;\n",
       "    }\n",
       "\n",
       "    .dataframe tbody tr th {\n",
       "        vertical-align: top;\n",
       "    }\n",
       "\n",
       "    .dataframe thead th {\n",
       "        text-align: right;\n",
       "    }\n",
       "</style>\n",
       "<table border=\"1\" class=\"dataframe\">\n",
       "  <thead>\n",
       "    <tr style=\"text-align: right;\">\n",
       "      <th></th>\n",
       "      <th>date</th>\n",
       "      <th>group</th>\n",
       "      <th>orders</th>\n",
       "      <th>buyers</th>\n",
       "      <th>revenue</th>\n",
       "      <th>visitors</th>\n",
       "    </tr>\n",
       "  </thead>\n",
       "  <tbody>\n",
       "    <tr>\n",
       "      <th>0</th>\n",
       "      <td>2019-08-01</td>\n",
       "      <td>A</td>\n",
       "      <td>24</td>\n",
       "      <td>20</td>\n",
       "      <td>148579</td>\n",
       "      <td>719</td>\n",
       "    </tr>\n",
       "    <tr>\n",
       "      <th>1</th>\n",
       "      <td>2019-08-01</td>\n",
       "      <td>B</td>\n",
       "      <td>21</td>\n",
       "      <td>20</td>\n",
       "      <td>101217</td>\n",
       "      <td>713</td>\n",
       "    </tr>\n",
       "    <tr>\n",
       "      <th>2</th>\n",
       "      <td>2019-08-02</td>\n",
       "      <td>A</td>\n",
       "      <td>44</td>\n",
       "      <td>38</td>\n",
       "      <td>242401</td>\n",
       "      <td>1338</td>\n",
       "    </tr>\n",
       "    <tr>\n",
       "      <th>3</th>\n",
       "      <td>2019-08-02</td>\n",
       "      <td>B</td>\n",
       "      <td>45</td>\n",
       "      <td>43</td>\n",
       "      <td>266748</td>\n",
       "      <td>1294</td>\n",
       "    </tr>\n",
       "    <tr>\n",
       "      <th>4</th>\n",
       "      <td>2019-08-03</td>\n",
       "      <td>A</td>\n",
       "      <td>68</td>\n",
       "      <td>62</td>\n",
       "      <td>354874</td>\n",
       "      <td>1845</td>\n",
       "    </tr>\n",
       "    <tr>\n",
       "      <th>5</th>\n",
       "      <td>2019-08-03</td>\n",
       "      <td>B</td>\n",
       "      <td>61</td>\n",
       "      <td>59</td>\n",
       "      <td>380996</td>\n",
       "      <td>1803</td>\n",
       "    </tr>\n",
       "    <tr>\n",
       "      <th>6</th>\n",
       "      <td>2019-08-04</td>\n",
       "      <td>A</td>\n",
       "      <td>84</td>\n",
       "      <td>77</td>\n",
       "      <td>425699</td>\n",
       "      <td>2562</td>\n",
       "    </tr>\n",
       "    <tr>\n",
       "      <th>7</th>\n",
       "      <td>2019-08-04</td>\n",
       "      <td>B</td>\n",
       "      <td>78</td>\n",
       "      <td>75</td>\n",
       "      <td>489567</td>\n",
       "      <td>2573</td>\n",
       "    </tr>\n",
       "    <tr>\n",
       "      <th>8</th>\n",
       "      <td>2019-08-05</td>\n",
       "      <td>A</td>\n",
       "      <td>109</td>\n",
       "      <td>100</td>\n",
       "      <td>549917</td>\n",
       "      <td>3318</td>\n",
       "    </tr>\n",
       "    <tr>\n",
       "      <th>9</th>\n",
       "      <td>2019-08-05</td>\n",
       "      <td>B</td>\n",
       "      <td>101</td>\n",
       "      <td>98</td>\n",
       "      <td>581995</td>\n",
       "      <td>3280</td>\n",
       "    </tr>\n",
       "  </tbody>\n",
       "</table>\n",
       "</div>"
      ],
      "text/plain": [
       "        date group  orders  buyers  revenue  visitors\n",
       "0 2019-08-01     A      24      20   148579       719\n",
       "1 2019-08-01     B      21      20   101217       713\n",
       "2 2019-08-02     A      44      38   242401      1338\n",
       "3 2019-08-02     B      45      43   266748      1294\n",
       "4 2019-08-03     A      68      62   354874      1845\n",
       "5 2019-08-03     B      61      59   380996      1803\n",
       "6 2019-08-04     A      84      77   425699      2562\n",
       "7 2019-08-04     B      78      75   489567      2573\n",
       "8 2019-08-05     A     109     100   549917      3318\n",
       "9 2019-08-05     B     101      98   581995      3280"
      ]
     },
     "execution_count": 25,
     "metadata": {},
     "output_type": "execute_result"
    }
   ],
   "source": [
    "cumulative_data = orders_aggregated.merge(visitors_aggregated, left_on=['date', 'group'], right_on=['date', 'group'])\n",
    "cumulative_data.columns = ['date', 'group', 'orders', 'buyers', 'revenue', 'visitors']\n",
    "cumulative_data.head(10)"
   ]
  },
  {
   "cell_type": "markdown",
   "metadata": {},
   "source": [
    "<b>Проверим, совпадают ли минимальная и максимальная даты в этом датафрейме с минимальной и максимальной датой в исходных данных. </b>"
   ]
  },
  {
   "cell_type": "code",
   "execution_count": 26,
   "metadata": {},
   "outputs": [
    {
     "data": {
      "text/plain": [
       "True"
      ]
     },
     "execution_count": 26,
     "metadata": {},
     "output_type": "execute_result"
    }
   ],
   "source": [
    "(min_date==cumulative_data['date'].min()) and (max_date==cumulative_data['date'].max())"
   ]
  },
  {
   "cell_type": "markdown",
   "metadata": {},
   "source": [
    "Минимальная и максимальная даты в новом датафрейме совпадают с минимальной и максимальной датой в исходных данных"
   ]
  },
  {
   "cell_type": "markdown",
   "metadata": {},
   "source": [
    "Построим графики кумулятивной выручки по дням и группам A/B-тестирования"
   ]
  },
  {
   "cell_type": "code",
   "execution_count": 27,
   "metadata": {},
   "outputs": [],
   "source": [
    "cumulative_revenue_A = cumulative_data[cumulative_data['group']=='A'][['date','revenue', 'orders']]\n",
    "cumulative_revenue_B = cumulative_data[cumulative_data['group']=='B'][['date','revenue', 'orders']]"
   ]
  },
  {
   "cell_type": "code",
   "execution_count": 28,
   "metadata": {},
   "outputs": [
    {
     "data": {
      "image/png": "[encoded data removed]",
      "text/plain": [
       "<Figure size 432x288 with 1 Axes>"
      ]
     },
     "metadata": {
      "needs_background": "light"
     },
     "output_type": "display_data"
    }
   ],
   "source": [
    "plt.plot(cumulative_revenue_A['date'], cumulative_revenue_A['revenue'], label='A')\n",
    "plt.plot(cumulative_revenue_B['date'], cumulative_revenue_B['revenue'], label='B')\n",
    "plt.xticks(rotation = 45)\n",
    "plt.ylabel('Кумулятивная выручка, млн.руб')\n",
    "plt.title('Кумулятивная выручка по дням')\n",
    "plt.legend();\n"
   ]
  },
  {
   "cell_type": "markdown",
   "metadata": {},
   "source": [
    "Графики кумулятивной выручки групп А и В растут в течение всего наблюдаемого периода. \n",
    "\n",
    "Кумулятивная выручка группы В растет быстрее кумулятивной выручки группы А. Однако, в отличии от графика группы А, растущего относительно равномерно, на графике группы В заметен резкий скачок. Что может говорить о том, что либо был резкий скачок числа покупок, либо очень большой единовременный платеж, сильно смазавший картину. При дальнейшем анализе постараемся разобраться."
   ]
  },
  {
   "cell_type": "markdown",
   "metadata": {},
   "source": [
    "#### График кумулятивного среднего чека по группам"
   ]
  },
  {
   "cell_type": "markdown",
   "metadata": {},
   "source": [
    "Разделим кумулятивную выручку на кумулятивное число заказов и построим график кумулятивного среднего чека по группам"
   ]
  },
  {
   "cell_type": "code",
   "execution_count": 29,
   "metadata": {},
   "outputs": [
    {
     "data": {
      "image/png": "[encoded data removed]",
      "text/plain": [
       "<Figure size 432x288 with 1 Axes>"
      ]
     },
     "metadata": {
      "needs_background": "light"
     },
     "output_type": "display_data"
    }
   ],
   "source": [
    "plt.plot(cumulative_revenue_A['date'], cumulative_revenue_A['revenue']/cumulative_revenue_A['orders'], label='A')\n",
    "plt.plot(cumulative_revenue_B['date'], cumulative_revenue_B['revenue']/cumulative_revenue_B['orders'], label='B')\n",
    "plt.xticks(rotation = 45)\n",
    "plt.ylabel('Кумулятивный средний чек, руб')\n",
    "plt.title('Кумулятивный средний чек по группам')\n",
    "plt.legend();"
   ]
  },
  {
   "cell_type": "markdown",
   "metadata": {},
   "source": [
    "Кумулятивный средний чек группы А в начале наблюдаемого периода показал резкое снижение в первые 6 дней, далее график растет и на 13 день наблюдения достигает пика, после чего фиксируется примерно на одном уровне.\n",
    "\n",
    "Кумулятивный средний чек группы В в первой половине наблюдаемого периода неравномерно растет со скачками и падениями (график имеет несколько пиков). На 18 день значение кумултивного среднего чека резко скакнуло вверх, что может нам говорить о отом, что в группе В был один или несколько крупных платежей. Далее кривая кумултивного среднего чека падает. Явной фиксации не наблюдается."
   ]
  },
  {
   "cell_type": "markdown",
   "metadata": {},
   "source": [
    "#### График относительного изменения кумулятивного среднего чека группы B к группе A"
   ]
  },
  {
   "cell_type": "code",
   "execution_count": 30,
   "metadata": {},
   "outputs": [
    {
     "data": {
      "text/html": [
       "<div>\n",
       "<style scoped>\n",
       "    .dataframe tbody tr th:only-of-type {\n",
       "        vertical-align: middle;\n",
       "    }\n",
       "\n",
       "    .dataframe tbody tr th {\n",
       "        vertical-align: top;\n",
       "    }\n",
       "\n",
       "    .dataframe thead th {\n",
       "        text-align: right;\n",
       "    }\n",
       "</style>\n",
       "<table border=\"1\" class=\"dataframe\">\n",
       "  <thead>\n",
       "    <tr style=\"text-align: right;\">\n",
       "      <th></th>\n",
       "      <th>date</th>\n",
       "      <th>revenue_A</th>\n",
       "      <th>orders_A</th>\n",
       "      <th>revenue_B</th>\n",
       "      <th>orders_B</th>\n",
       "    </tr>\n",
       "  </thead>\n",
       "  <tbody>\n",
       "    <tr>\n",
       "      <th>0</th>\n",
       "      <td>2019-08-01</td>\n",
       "      <td>148579</td>\n",
       "      <td>24</td>\n",
       "      <td>101217</td>\n",
       "      <td>21</td>\n",
       "    </tr>\n",
       "    <tr>\n",
       "      <th>1</th>\n",
       "      <td>2019-08-02</td>\n",
       "      <td>242401</td>\n",
       "      <td>44</td>\n",
       "      <td>266748</td>\n",
       "      <td>45</td>\n",
       "    </tr>\n",
       "    <tr>\n",
       "      <th>2</th>\n",
       "      <td>2019-08-03</td>\n",
       "      <td>354874</td>\n",
       "      <td>68</td>\n",
       "      <td>380996</td>\n",
       "      <td>61</td>\n",
       "    </tr>\n",
       "    <tr>\n",
       "      <th>3</th>\n",
       "      <td>2019-08-04</td>\n",
       "      <td>425699</td>\n",
       "      <td>84</td>\n",
       "      <td>489567</td>\n",
       "      <td>78</td>\n",
       "    </tr>\n",
       "    <tr>\n",
       "      <th>4</th>\n",
       "      <td>2019-08-05</td>\n",
       "      <td>549917</td>\n",
       "      <td>109</td>\n",
       "      <td>581995</td>\n",
       "      <td>101</td>\n",
       "    </tr>\n",
       "    <tr>\n",
       "      <th>5</th>\n",
       "      <td>2019-08-06</td>\n",
       "      <td>598401</td>\n",
       "      <td>127</td>\n",
       "      <td>824337</td>\n",
       "      <td>129</td>\n",
       "    </tr>\n",
       "    <tr>\n",
       "      <th>6</th>\n",
       "      <td>2019-08-07</td>\n",
       "      <td>740818</td>\n",
       "      <td>145</td>\n",
       "      <td>1049671</td>\n",
       "      <td>153</td>\n",
       "    </tr>\n",
       "    <tr>\n",
       "      <th>7</th>\n",
       "      <td>2019-08-08</td>\n",
       "      <td>837097</td>\n",
       "      <td>161</td>\n",
       "      <td>1270589</td>\n",
       "      <td>180</td>\n",
       "    </tr>\n",
       "    <tr>\n",
       "      <th>8</th>\n",
       "      <td>2019-08-09</td>\n",
       "      <td>1025603</td>\n",
       "      <td>177</td>\n",
       "      <td>1431401</td>\n",
       "      <td>205</td>\n",
       "    </tr>\n",
       "    <tr>\n",
       "      <th>9</th>\n",
       "      <td>2019-08-10</td>\n",
       "      <td>1236098</td>\n",
       "      <td>193</td>\n",
       "      <td>1539203</td>\n",
       "      <td>228</td>\n",
       "    </tr>\n",
       "  </tbody>\n",
       "</table>\n",
       "</div>"
      ],
      "text/plain": [
       "        date  revenue_A  orders_A  revenue_B  orders_B\n",
       "0 2019-08-01     148579        24     101217        21\n",
       "1 2019-08-02     242401        44     266748        45\n",
       "2 2019-08-03     354874        68     380996        61\n",
       "3 2019-08-04     425699        84     489567        78\n",
       "4 2019-08-05     549917       109     581995       101\n",
       "5 2019-08-06     598401       127     824337       129\n",
       "6 2019-08-07     740818       145    1049671       153\n",
       "7 2019-08-08     837097       161    1270589       180\n",
       "8 2019-08-09    1025603       177    1431401       205\n",
       "9 2019-08-10    1236098       193    1539203       228"
      ]
     },
     "execution_count": 30,
     "metadata": {},
     "output_type": "execute_result"
    }
   ],
   "source": [
    "merged_cumulative_revenue = (cumulative_revenue_A.merge\n",
    "                             (cumulative_revenue_B, left_on='date', right_on='date', how='left', suffixes=['_A', '_B']))\n",
    "merged_cumulative_revenue.head(10)"
   ]
  },
  {
   "cell_type": "code",
   "execution_count": 31,
   "metadata": {},
   "outputs": [
    {
     "data": {
      "image/png": "[encoded data removed]",
      "text/plain": [
       "<Figure size 432x288 with 1 Axes>"
      ]
     },
     "metadata": {
      "needs_background": "light"
     },
     "output_type": "display_data"
    }
   ],
   "source": [
    "(plt.plot(merged_cumulative_revenue['date'], \n",
    "          (merged_cumulative_revenue['revenue_B']/merged_cumulative_revenue['orders_B'])\n",
    "          /(merged_cumulative_revenue['revenue_A']/merged_cumulative_revenue['orders_A'])-1))\n",
    "plt.xticks(rotation = 45)\n",
    "plt.axhline(y=0, color='black', linestyle='--') \n",
    "plt.title('Относительное изменение кумулятивного среднего чека группы B к группе A');"
   ]
  },
  {
   "cell_type": "markdown",
   "metadata": {},
   "source": [
    "Результаты теста значительно менялись в несколько наблюдаемых дат, возможно именно в них были сделаны крупные платежи."
   ]
  },
  {
   "cell_type": "markdown",
   "metadata": {},
   "source": [
    "#### График кумулятивной конверсии по группам"
   ]
  },
  {
   "cell_type": "code",
   "execution_count": 32,
   "metadata": {},
   "outputs": [
    {
     "data": {
      "image/png": "[encoded data removed]",
      "text/plain": [
       "<Figure size 432x288 with 1 Axes>"
      ]
     },
     "metadata": {
      "needs_background": "light"
     },
     "output_type": "display_data"
    }
   ],
   "source": [
    "cumulative_data['conversion'] = cumulative_data['orders']/cumulative_data['visitors']\n",
    "cumulative_data_A = cumulative_data[cumulative_data['group']=='A']\n",
    "cumulative_data_B = cumulative_data[cumulative_data['group']=='B']\n",
    "plt.plot(cumulative_data_A['date'], cumulative_data_A['conversion'], label='A')\n",
    "plt.plot(cumulative_data_B['date'], cumulative_data_B['conversion'], label='B')\n",
    "plt.xticks(rotation = 45)\n",
    "plt.ylabel('Кумулятивный конверсия')\n",
    "plt.title('Кумулятивная конверсия по группам')\n",
    "plt.axis([dt.datetime(2019, 8, 1), dt.datetime(2019, 9, 1), 0, 0.05]) \n",
    "plt.legend();\n"
   ]
  },
  {
   "cell_type": "markdown",
   "metadata": {},
   "source": [
    "В начале наблюдаемого периода кумулятивная конверсия была относительно симметрична, конверсия группы А была выше. Затем, ориентировочно на 6 день наблюдений конверсия группы А упала и зафиксировалась. Конверсия группы В на 6 день наблюдений выроста и тоже зафиксировалась. И после кумулятивная конверсия группы В была стабильно выше кумулятивной конверсии группы А.\n",
    "\n",
    "Можно предположить, что в группе В посетители лучше конвертируются в покупателей."
   ]
  },
  {
   "cell_type": "markdown",
   "metadata": {},
   "source": [
    "#### График относительного изменения кумулятивной конверсии группы B к группе A"
   ]
  },
  {
   "cell_type": "code",
   "execution_count": 33,
   "metadata": {},
   "outputs": [
    {
     "data": {
      "text/html": [
       "<div>\n",
       "<style scoped>\n",
       "    .dataframe tbody tr th:only-of-type {\n",
       "        vertical-align: middle;\n",
       "    }\n",
       "\n",
       "    .dataframe tbody tr th {\n",
       "        vertical-align: top;\n",
       "    }\n",
       "\n",
       "    .dataframe thead th {\n",
       "        text-align: right;\n",
       "    }\n",
       "</style>\n",
       "<table border=\"1\" class=\"dataframe\">\n",
       "  <thead>\n",
       "    <tr style=\"text-align: right;\">\n",
       "      <th></th>\n",
       "      <th>date</th>\n",
       "      <th>conversion_A</th>\n",
       "      <th>conversion_B</th>\n",
       "    </tr>\n",
       "  </thead>\n",
       "  <tbody>\n",
       "    <tr>\n",
       "      <th>0</th>\n",
       "      <td>2019-08-01</td>\n",
       "      <td>0.033380</td>\n",
       "      <td>0.029453</td>\n",
       "    </tr>\n",
       "    <tr>\n",
       "      <th>1</th>\n",
       "      <td>2019-08-02</td>\n",
       "      <td>0.032885</td>\n",
       "      <td>0.034776</td>\n",
       "    </tr>\n",
       "    <tr>\n",
       "      <th>2</th>\n",
       "      <td>2019-08-03</td>\n",
       "      <td>0.036856</td>\n",
       "      <td>0.033833</td>\n",
       "    </tr>\n",
       "    <tr>\n",
       "      <th>3</th>\n",
       "      <td>2019-08-04</td>\n",
       "      <td>0.032787</td>\n",
       "      <td>0.030315</td>\n",
       "    </tr>\n",
       "    <tr>\n",
       "      <th>4</th>\n",
       "      <td>2019-08-05</td>\n",
       "      <td>0.032851</td>\n",
       "      <td>0.030793</td>\n",
       "    </tr>\n",
       "    <tr>\n",
       "      <th>5</th>\n",
       "      <td>2019-08-06</td>\n",
       "      <td>0.031870</td>\n",
       "      <td>0.032783</td>\n",
       "    </tr>\n",
       "    <tr>\n",
       "      <th>6</th>\n",
       "      <td>2019-08-07</td>\n",
       "      <td>0.031324</td>\n",
       "      <td>0.032946</td>\n",
       "    </tr>\n",
       "    <tr>\n",
       "      <th>7</th>\n",
       "      <td>2019-08-08</td>\n",
       "      <td>0.030731</td>\n",
       "      <td>0.033975</td>\n",
       "    </tr>\n",
       "    <tr>\n",
       "      <th>8</th>\n",
       "      <td>2019-08-09</td>\n",
       "      <td>0.030225</td>\n",
       "      <td>0.034699</td>\n",
       "    </tr>\n",
       "    <tr>\n",
       "      <th>9</th>\n",
       "      <td>2019-08-10</td>\n",
       "      <td>0.030821</td>\n",
       "      <td>0.036323</td>\n",
       "    </tr>\n",
       "  </tbody>\n",
       "</table>\n",
       "</div>"
      ],
      "text/plain": [
       "        date  conversion_A  conversion_B\n",
       "0 2019-08-01      0.033380      0.029453\n",
       "1 2019-08-02      0.032885      0.034776\n",
       "2 2019-08-03      0.036856      0.033833\n",
       "3 2019-08-04      0.032787      0.030315\n",
       "4 2019-08-05      0.032851      0.030793\n",
       "5 2019-08-06      0.031870      0.032783\n",
       "6 2019-08-07      0.031324      0.032946\n",
       "7 2019-08-08      0.030731      0.033975\n",
       "8 2019-08-09      0.030225      0.034699\n",
       "9 2019-08-10      0.030821      0.036323"
      ]
     },
     "execution_count": 33,
     "metadata": {},
     "output_type": "execute_result"
    }
   ],
   "source": [
    "merged_cumulative_conversions = (cumulative_data_A[['date','conversion']]\n",
    "                                 .merge(cumulative_data_B[['date','conversion']], left_on='date', right_on='date', how='left',\n",
    "                                        suffixes=['_A', '_B']))\n",
    "merged_cumulative_conversions.head(10)"
   ]
  },
  {
   "cell_type": "code",
   "execution_count": 34,
   "metadata": {},
   "outputs": [
    {
     "data": {
      "image/png": "[encoded data removed]",
      "text/plain": [
       "<Figure size 432x288 with 1 Axes>"
      ]
     },
     "metadata": {
      "needs_background": "light"
     },
     "output_type": "display_data"
    }
   ],
   "source": [
    "(plt.plot(merged_cumulative_conversions['date'], \n",
    "          merged_cumulative_conversions['conversion_B']/merged_cumulative_conversions['conversion_A']-1))\n",
    "plt.xticks(rotation = 45)\n",
    "plt.title('Относительный прирост конверсии группы B относительно группы A')\n",
    "plt.axis([dt.datetime(2019, 8, 1), dt.datetime(2019, 9, 1), -0.5, 0.5]) \n",
    "plt.axhline(y=0, color='black', linestyle='--')\n",
    "plt.axhline(y=0.1, color='grey', linestyle='--');"
   ]
  },
  {
   "cell_type": "markdown",
   "metadata": {},
   "source": [
    "По графику видно, что почти с самого начала наблюдаемого периода, конверсия группы В выше конверсии группы А. К концу наблюдения относитеьный прирост группы В фиксируется в районе 10%."
   ]
  },
  {
   "cell_type": "markdown",
   "metadata": {},
   "source": [
    "#### График количества заказов по пользователям"
   ]
  },
  {
   "cell_type": "code",
   "execution_count": 35,
   "metadata": {},
   "outputs": [
    {
     "data": {
      "text/html": [
       "<div>\n",
       "<style scoped>\n",
       "    .dataframe tbody tr th:only-of-type {\n",
       "        vertical-align: middle;\n",
       "    }\n",
       "\n",
       "    .dataframe tbody tr th {\n",
       "        vertical-align: top;\n",
       "    }\n",
       "\n",
       "    .dataframe thead th {\n",
       "        text-align: right;\n",
       "    }\n",
       "</style>\n",
       "<table border=\"1\" class=\"dataframe\">\n",
       "  <thead>\n",
       "    <tr style=\"text-align: right;\">\n",
       "      <th></th>\n",
       "      <th>visitor_id</th>\n",
       "      <th>transactions</th>\n",
       "    </tr>\n",
       "  </thead>\n",
       "  <tbody>\n",
       "    <tr>\n",
       "      <th>1023</th>\n",
       "      <td>4256040402</td>\n",
       "      <td>11</td>\n",
       "    </tr>\n",
       "    <tr>\n",
       "      <th>591</th>\n",
       "      <td>2458001652</td>\n",
       "      <td>11</td>\n",
       "    </tr>\n",
       "    <tr>\n",
       "      <th>569</th>\n",
       "      <td>2378935119</td>\n",
       "      <td>9</td>\n",
       "    </tr>\n",
       "    <tr>\n",
       "      <th>487</th>\n",
       "      <td>2038680547</td>\n",
       "      <td>8</td>\n",
       "    </tr>\n",
       "    <tr>\n",
       "      <th>44</th>\n",
       "      <td>199603092</td>\n",
       "      <td>5</td>\n",
       "    </tr>\n",
       "    <tr>\n",
       "      <th>744</th>\n",
       "      <td>3062433592</td>\n",
       "      <td>5</td>\n",
       "    </tr>\n",
       "    <tr>\n",
       "      <th>55</th>\n",
       "      <td>237748145</td>\n",
       "      <td>5</td>\n",
       "    </tr>\n",
       "    <tr>\n",
       "      <th>917</th>\n",
       "      <td>3803269165</td>\n",
       "      <td>5</td>\n",
       "    </tr>\n",
       "    <tr>\n",
       "      <th>299</th>\n",
       "      <td>1230306981</td>\n",
       "      <td>5</td>\n",
       "    </tr>\n",
       "    <tr>\n",
       "      <th>897</th>\n",
       "      <td>3717692402</td>\n",
       "      <td>5</td>\n",
       "    </tr>\n",
       "  </tbody>\n",
       "</table>\n",
       "</div>"
      ],
      "text/plain": [
       "      visitor_id  transactions\n",
       "1023  4256040402            11\n",
       "591   2458001652            11\n",
       "569   2378935119             9\n",
       "487   2038680547             8\n",
       "44     199603092             5\n",
       "744   3062433592             5\n",
       "55     237748145             5\n",
       "917   3803269165             5\n",
       "299   1230306981             5\n",
       "897   3717692402             5"
      ]
     },
     "metadata": {},
     "output_type": "display_data"
    },
    {
     "data": {
      "image/png": "[encoded data removed]",
      "text/plain": [
       "<Figure size 432x288 with 1 Axes>"
      ]
     },
     "metadata": {
      "needs_background": "light"
     },
     "output_type": "display_data"
    }
   ],
   "source": [
    "orders_by_visitors = orders.groupby('visitor_id', as_index=False).agg({'transaction_id': 'nunique'})\n",
    "orders_by_visitors.columns = ['visitor_id', 'transactions']\n",
    "\n",
    "display(orders_by_visitors.sort_values(by='transactions', ascending=False).head(10))\n",
    "x_values = pd.Series(range(0, len(orders_by_visitors)))\n",
    "plt.scatter(x_values, orders_by_visitors['transactions'])\n",
    "plt.ylabel('Количество заказов')\n",
    "plt.title('Kоличествo заказов по пользователям');"
   ]
  },
  {
   "cell_type": "markdown",
   "metadata": {},
   "source": [
    "Большинство пользователей совершают 1-3 покупки. Пользователей, совершивших больше 3 покупок значительно меньше, непонятно считать ли их аномалиями или нет. Для этого необходимо посчитать перцентили."
   ]
  },
  {
   "cell_type": "markdown",
   "metadata": {},
   "source": [
    "#### Определение аномальных пользователей"
   ]
  },
  {
   "cell_type": "markdown",
   "metadata": {},
   "source": [
    "Посчитаем 95-й и 99-й перцентили количества заказов на пользователя. Выберем границу для определения аномальных пользователей."
   ]
  },
  {
   "cell_type": "code",
   "execution_count": 36,
   "metadata": {},
   "outputs": [
    {
     "name": "stdout",
     "output_type": "stream",
     "text": [
      "[2. 4.]\n"
     ]
    }
   ],
   "source": [
    "percentile_transactions = np.percentile(orders_by_visitors['transactions'], [95, 99])\n",
    "print(percentile_transactions)"
   ]
  },
  {
   "cell_type": "markdown",
   "metadata": {},
   "source": [
    "Не более 5% пользователей оформляли более двух заказов. И 1% пользователей заказывали более четырех раз.\n",
    "Выберем 4 заказа на одного пользователя за верхнюю границу числа заказов, и отсеем аномальных пользователей по ней."
   ]
  },
  {
   "cell_type": "markdown",
   "metadata": {},
   "source": [
    "#### График стоимостей заказов"
   ]
  },
  {
   "cell_type": "code",
   "execution_count": 37,
   "metadata": {},
   "outputs": [
    {
     "data": {
      "image/png": "[encoded data removed]",
      "text/plain": [
       "<Figure size 432x288 with 1 Axes>"
      ]
     },
     "metadata": {
      "needs_background": "light"
     },
     "output_type": "display_data"
    }
   ],
   "source": [
    "x_values = pd.Series(range(0, len(orders['revenue'])))\n",
    "plt.scatter(x_values, orders['revenue'])\n",
    "plt.ylabel('Количество заказов')\n",
    "plt.title('Стоимость заказов по пользователям');"
   ]
  },
  {
   "cell_type": "code",
   "execution_count": 38,
   "metadata": {},
   "outputs": [
    {
     "data": {
      "image/png": "[encoded data removed]",
      "text/plain": [
       "<Figure size 432x288 with 1 Axes>"
      ]
     },
     "metadata": {
      "needs_background": "light"
     },
     "output_type": "display_data"
    }
   ],
   "source": [
    "plt.scatter(x_values, orders['revenue'])\n",
    "plt.ylabel('Количество заказов')\n",
    "plt.ylim((0,100000))\n",
    "plt.title('Стоимость заказов по пользователям');"
   ]
  },
  {
   "cell_type": "markdown",
   "metadata": {},
   "source": [
    "Стоимость большинства заказов не превышает 100 000 неизвестных денежных единиц (предположим, что это рубли). Есть аномальные выбросы в районе 200 000 рублей и более 1,2 млн.рублей. "
   ]
  },
  {
   "cell_type": "markdown",
   "metadata": {},
   "source": [
    "#### Определение аномальных заказов"
   ]
  },
  {
   "cell_type": "markdown",
   "metadata": {},
   "source": [
    "Посчитаем 95-й и 99-й перцентили стоимости заказов. Выберем границу для определения аномальных заказов."
   ]
  },
  {
   "cell_type": "code",
   "execution_count": 39,
   "metadata": {},
   "outputs": [
    {
     "name": "stdout",
     "output_type": "stream",
     "text": [
      "[28000.  58233.2]\n"
     ]
    }
   ],
   "source": [
    "percentile_revenue = np.percentile(orders['revenue'], [95, 99])\n",
    "print(percentile_revenue)"
   ]
  },
  {
   "cell_type": "markdown",
   "metadata": {},
   "source": [
    "Не более 5% пользователей совершали заказ на сумму более 28 000 рублей. И 1% пользователей заказывалина сумму более 58 233 рублей.\n",
    "За верхнюю границу стоимости заказов примем заказы в 58 233 рублей."
   ]
  },
  {
   "cell_type": "markdown",
   "metadata": {},
   "source": [
    "#### Статистическая значимость различий в конверсии между группами по «сырым» данным"
   ]
  },
  {
   "cell_type": "code",
   "execution_count": 40,
   "metadata": {},
   "outputs": [],
   "source": [
    "visitors_A_daily = visitors[visitors['group'] == 'A'][['date', 'visitors']]\n",
    "visitors_A_daily.columns = ['date', 'visitors_per_date_A']\n",
    "\n",
    "visitors_B_daily = visitors[visitors['group'] == 'B'][['date', 'visitors']]\n",
    "visitors_B_daily.columns = ['date', 'visitors_per_date_B']\n",
    "\n",
    "orders_A_daily = (orders[orders['group'] == 'A'][['date', 'transaction_id',  'revenue']]\n",
    "                  .groupby('date', as_index=False).agg({'transaction_id': 'nunique', 'revenue': 'sum'}))\n",
    "orders_A_daily.columns = ['date', 'transactions_per_date_A', 'revenue_per_date_A']\n",
    "\n",
    "orders_B_daily = (orders[orders['group'] == 'B'][['date', 'transaction_id',  'revenue']]\n",
    "                  .groupby('date', as_index=False).agg({'transaction_id': 'nunique', 'revenue': 'sum'}))\n",
    "orders_B_daily.columns = ['date', 'transactions_per_date_B', 'revenue_per_date_B']"
   ]
  },
  {
   "cell_type": "code",
   "execution_count": 41,
   "metadata": {
    "scrolled": false
   },
   "outputs": [
    {
     "data": {
      "text/html": [
       "<div>\n",
       "<style scoped>\n",
       "    .dataframe tbody tr th:only-of-type {\n",
       "        vertical-align: middle;\n",
       "    }\n",
       "\n",
       "    .dataframe tbody tr th {\n",
       "        vertical-align: top;\n",
       "    }\n",
       "\n",
       "    .dataframe thead th {\n",
       "        text-align: right;\n",
       "    }\n",
       "</style>\n",
       "<table border=\"1\" class=\"dataframe\">\n",
       "  <thead>\n",
       "    <tr style=\"text-align: right;\">\n",
       "      <th></th>\n",
       "      <th>date</th>\n",
       "      <th>transactions_per_date_A</th>\n",
       "      <th>revenue_per_date_A</th>\n",
       "      <th>transactions_per_date_B</th>\n",
       "      <th>revenue_per_date_B</th>\n",
       "      <th>visitors_per_date_A</th>\n",
       "      <th>visitors_per_date_B</th>\n",
       "      <th>conversion_A</th>\n",
       "      <th>conversion_B</th>\n",
       "    </tr>\n",
       "  </thead>\n",
       "  <tbody>\n",
       "    <tr>\n",
       "      <th>0</th>\n",
       "      <td>2019-08-01</td>\n",
       "      <td>24</td>\n",
       "      <td>148579</td>\n",
       "      <td>21</td>\n",
       "      <td>101217</td>\n",
       "      <td>719</td>\n",
       "      <td>713</td>\n",
       "      <td>0.033380</td>\n",
       "      <td>0.029453</td>\n",
       "    </tr>\n",
       "    <tr>\n",
       "      <th>1</th>\n",
       "      <td>2019-08-02</td>\n",
       "      <td>20</td>\n",
       "      <td>93822</td>\n",
       "      <td>24</td>\n",
       "      <td>165531</td>\n",
       "      <td>619</td>\n",
       "      <td>581</td>\n",
       "      <td>0.032310</td>\n",
       "      <td>0.041308</td>\n",
       "    </tr>\n",
       "    <tr>\n",
       "      <th>2</th>\n",
       "      <td>2019-08-03</td>\n",
       "      <td>24</td>\n",
       "      <td>112473</td>\n",
       "      <td>16</td>\n",
       "      <td>114248</td>\n",
       "      <td>507</td>\n",
       "      <td>509</td>\n",
       "      <td>0.047337</td>\n",
       "      <td>0.031434</td>\n",
       "    </tr>\n",
       "    <tr>\n",
       "      <th>3</th>\n",
       "      <td>2019-08-04</td>\n",
       "      <td>16</td>\n",
       "      <td>70825</td>\n",
       "      <td>17</td>\n",
       "      <td>108571</td>\n",
       "      <td>717</td>\n",
       "      <td>770</td>\n",
       "      <td>0.022315</td>\n",
       "      <td>0.022078</td>\n",
       "    </tr>\n",
       "    <tr>\n",
       "      <th>4</th>\n",
       "      <td>2019-08-05</td>\n",
       "      <td>25</td>\n",
       "      <td>124218</td>\n",
       "      <td>23</td>\n",
       "      <td>92428</td>\n",
       "      <td>756</td>\n",
       "      <td>707</td>\n",
       "      <td>0.033069</td>\n",
       "      <td>0.032532</td>\n",
       "    </tr>\n",
       "    <tr>\n",
       "      <th>5</th>\n",
       "      <td>2019-08-06</td>\n",
       "      <td>18</td>\n",
       "      <td>48484</td>\n",
       "      <td>28</td>\n",
       "      <td>242342</td>\n",
       "      <td>667</td>\n",
       "      <td>655</td>\n",
       "      <td>0.026987</td>\n",
       "      <td>0.042748</td>\n",
       "    </tr>\n",
       "    <tr>\n",
       "      <th>6</th>\n",
       "      <td>2019-08-07</td>\n",
       "      <td>18</td>\n",
       "      <td>142417</td>\n",
       "      <td>24</td>\n",
       "      <td>225334</td>\n",
       "      <td>644</td>\n",
       "      <td>709</td>\n",
       "      <td>0.027950</td>\n",
       "      <td>0.033850</td>\n",
       "    </tr>\n",
       "    <tr>\n",
       "      <th>7</th>\n",
       "      <td>2019-08-08</td>\n",
       "      <td>16</td>\n",
       "      <td>96279</td>\n",
       "      <td>27</td>\n",
       "      <td>220918</td>\n",
       "      <td>610</td>\n",
       "      <td>654</td>\n",
       "      <td>0.026230</td>\n",
       "      <td>0.041284</td>\n",
       "    </tr>\n",
       "    <tr>\n",
       "      <th>8</th>\n",
       "      <td>2019-08-09</td>\n",
       "      <td>16</td>\n",
       "      <td>188506</td>\n",
       "      <td>25</td>\n",
       "      <td>160812</td>\n",
       "      <td>617</td>\n",
       "      <td>610</td>\n",
       "      <td>0.025932</td>\n",
       "      <td>0.040984</td>\n",
       "    </tr>\n",
       "    <tr>\n",
       "      <th>9</th>\n",
       "      <td>2019-08-10</td>\n",
       "      <td>16</td>\n",
       "      <td>210495</td>\n",
       "      <td>23</td>\n",
       "      <td>107802</td>\n",
       "      <td>406</td>\n",
       "      <td>369</td>\n",
       "      <td>0.039409</td>\n",
       "      <td>0.062331</td>\n",
       "    </tr>\n",
       "  </tbody>\n",
       "</table>\n",
       "</div>"
      ],
      "text/plain": [
       "        date  transactions_per_date_A  revenue_per_date_A  \\\n",
       "0 2019-08-01                       24              148579   \n",
       "1 2019-08-02                       20               93822   \n",
       "2 2019-08-03                       24              112473   \n",
       "3 2019-08-04                       16               70825   \n",
       "4 2019-08-05                       25              124218   \n",
       "5 2019-08-06                       18               48484   \n",
       "6 2019-08-07                       18              142417   \n",
       "7 2019-08-08                       16               96279   \n",
       "8 2019-08-09                       16              188506   \n",
       "9 2019-08-10                       16              210495   \n",
       "\n",
       "   transactions_per_date_B  revenue_per_date_B  visitors_per_date_A  \\\n",
       "0                       21              101217                  719   \n",
       "1                       24              165531                  619   \n",
       "2                       16              114248                  507   \n",
       "3                       17              108571                  717   \n",
       "4                       23               92428                  756   \n",
       "5                       28              242342                  667   \n",
       "6                       24              225334                  644   \n",
       "7                       27              220918                  610   \n",
       "8                       25              160812                  617   \n",
       "9                       23              107802                  406   \n",
       "\n",
       "   visitors_per_date_B  conversion_A  conversion_B  \n",
       "0                  713      0.033380      0.029453  \n",
       "1                  581      0.032310      0.041308  \n",
       "2                  509      0.047337      0.031434  \n",
       "3                  770      0.022315      0.022078  \n",
       "4                  707      0.033069      0.032532  \n",
       "5                  655      0.026987      0.042748  \n",
       "6                  709      0.027950      0.033850  \n",
       "7                  654      0.026230      0.041284  \n",
       "8                  610      0.025932      0.040984  \n",
       "9                  369      0.039409      0.062331  "
      ]
     },
     "execution_count": 41,
     "metadata": {},
     "output_type": "execute_result"
    }
   ],
   "source": [
    "data = (orders_A_daily.merge(orders_B_daily, left_on='date', right_on='date', how='left')\n",
    "        .merge(visitors_A_daily, left_on='date', right_on='date', how='left')\n",
    "        .merge(visitors_B_daily, left_on='date', right_on='date', how='left'))\n",
    "\n",
    "data['conversion_A'] = data['transactions_per_date_A']/data['visitors_per_date_A']\n",
    "data['conversion_B'] = data['transactions_per_date_B']/data['visitors_per_date_B']\n",
    "\n",
    "data.head(10)"
   ]
  },
  {
   "cell_type": "markdown",
   "metadata": {},
   "source": [
    "Сформулируем нулевую и альтернативную гипотезы.\n",
    "\n",
    "Нулевая: различий в конверсии между группами нет. Альтернативная: различия в конверсии между группами есть."
   ]
  },
  {
   "cell_type": "code",
   "execution_count": 42,
   "metadata": {},
   "outputs": [
    {
     "name": "stdout",
     "output_type": "stream",
     "text": [
      "0.086\n",
      "0.150\n"
     ]
    }
   ],
   "source": [
    "print(\"{0:.3f}\".format(stats.mannwhitneyu(data['conversion_A'], data['conversion_B'])[1]))\n",
    "print(\"{0:.3f}\".format(data['conversion_B'].mean() / data['conversion_A'].mean() - 1))"
   ]
  },
  {
   "cell_type": "markdown",
   "metadata": {},
   "source": [
    "Первое число — p-value = 0.086 больше 0.05. Значит, нулевую гипотезу о том, что статистически значимых различий в конверсии между группами нет, не отвергаем. Однако относительный проигрыш в конверсии группы А равен 15%. Посмотрим как изменятся выводы после фильтрации данных."
   ]
  },
  {
   "cell_type": "markdown",
   "metadata": {},
   "source": [
    "<b>Посчитаем статистическую значимость различия в среднем количестве заказов между группами.</b>"
   ]
  },
  {
   "cell_type": "markdown",
   "metadata": {},
   "source": [
    "Сформулируем нулевую и альтернативную гипотезы.\n",
    "\n",
    "Нулевая: различий в среднем количестве заказов между группами нет.\n",
    "\n",
    "Альтернативная: различия в среднем количестве заказов между группами есть."
   ]
  },
  {
   "cell_type": "code",
   "execution_count": 43,
   "metadata": {},
   "outputs": [],
   "source": [
    "orders_by_users_A = (orders[orders['group'] == 'A'].groupby('visitor_id', as_index=False)\n",
    "                     .agg({'transaction_id': pd.Series.nunique}))\n",
    "orders_by_users_A.columns = ['visitor_id', 'transactions']\n",
    "\n",
    "orders_by_users_B = (orders[orders['group'] == 'B'].groupby('visitor_id', as_index=False)\n",
    "                     .agg({'transaction_id': pd.Series.nunique}))\n",
    "orders_by_users_B.columns = ['visitor_id', 'transactions']"
   ]
  },
  {
   "cell_type": "code",
   "execution_count": 44,
   "metadata": {},
   "outputs": [],
   "source": [
    "sample_A = (pd.concat([orders_by_users_A['transactions'],\n",
    "                       pd.Series(0, index=np.arange(data['visitors_per_date_A'].sum() - len(orders_by_users_A['transactions'])),\n",
    "                                 name='transactions')],axis=0))\n",
    "\n",
    "sample_B = (pd.concat([orders_by_users_B['transactions'],\n",
    "                       pd.Series(0, index=np.arange(data['visitors_per_date_B'].sum() - len(orders_by_users_B['transactions'])),\n",
    "                                 name='transactions')],axis=0))"
   ]
  },
  {
   "cell_type": "code",
   "execution_count": 45,
   "metadata": {},
   "outputs": [
    {
     "name": "stdout",
     "output_type": "stream",
     "text": [
      "Уровень статистической значимости различий в среднем количестве заказов между группами - 0.017\n",
      "Относительное отличие группы В по отношению к группе А - 0.138\n"
     ]
    }
   ],
   "source": [
    "(print(\"Уровень статистической значимости различий в среднем количестве заказов между группами - {0:.3f}\"\n",
    "       .format(stats.mannwhitneyu(sample_A, sample_B)[1])))\n",
    "\n",
    "print(\"Относительное отличие группы В по отношению к группе А - {0:.3f}\".format(sample_B.mean() / sample_A.mean() - 1))"
   ]
  },
  {
   "cell_type": "markdown",
   "metadata": {},
   "source": [
    "Уровень статистической значимости различий в среднем количестве заказов между группами менее 5%, по сырым данным можем предположить, что различия в среднем количестве заказов между группами есть, и нулевую гипотезу можно отвергнуть.\n",
    "\n",
    "Относительное отличие в среднем количестве заказов группы В по отношению к группе А 13,8% в пользу группы В."
   ]
  },
  {
   "cell_type": "markdown",
   "metadata": {},
   "source": [
    "#### Статистическая значимость различий в среднем чеке заказа между группами по «сырым» данным"
   ]
  },
  {
   "cell_type": "markdown",
   "metadata": {},
   "source": [
    "Сформулируем нулевую и альтернативную гипотезы.\n",
    "\n",
    "Нулевая: различий в среднем чеке заказа между группами нет. Альтернативная: различия в среднем чеке заказа между группами есть."
   ]
  },
  {
   "cell_type": "code",
   "execution_count": 46,
   "metadata": {},
   "outputs": [
    {
     "name": "stdout",
     "output_type": "stream",
     "text": [
      "Уровень статистической значимости различий в среднем чеке заказа между группами -0.729\n",
      "Относительное отличие группы В по отношению к группе А - 0.259\n"
     ]
    }
   ],
   "source": [
    "(print('Уровень статистической значимости различий в среднем чеке заказа между группами -{0:.3f}'\n",
    "       .format(stats.mannwhitneyu(orders[orders['group']=='A']['revenue'], orders[orders['group']=='B']['revenue'])[1])))\n",
    "print('Относительное отличие группы В по отношению к группе А - {0:.3f}'.format(orders[orders['group']=='B']['revenue'].mean()/orders[orders['group']=='A']['revenue'].mean()-1)) "
   ]
  },
  {
   "cell_type": "markdown",
   "metadata": {},
   "source": [
    "P-value значительно больше 0.05. Значит, причин отвергать нулевую гипотезу и считать, что в среднем чеке есть различия, нет. Однако, средний чек группы А значительно ниже среднего чека группы В. Посмотрим как изменятся выводы после фильтрации данных."
   ]
  },
  {
   "cell_type": "markdown",
   "metadata": {},
   "source": [
    "#### Статистическая значимость различий в конверсии между группами по «очищенным» данным"
   ]
  },
  {
   "cell_type": "markdown",
   "metadata": {},
   "source": [
    "Примем за аномальных пользователей тех, кто совершил от 4 заказов или совершил заказ дороже 58 233 рублей. Так мы уберём 1% пользователей с наибольшим числом заказов и  1% пользователей с дорогими заказами. "
   ]
  },
  {
   "cell_type": "markdown",
   "metadata": {},
   "source": [
    "Вычислим посетителей с аномальными значениями числа заказов и стоимости заказа."
   ]
  },
  {
   "cell_type": "code",
   "execution_count": 47,
   "metadata": {},
   "outputs": [],
   "source": [
    "orders_by_visitors_A = orders[orders['group'] == 'A'].groupby('visitor_id', as_index=False).agg({'transaction_id': 'nunique'})\n",
    "orders_by_visitors_A.columns = ['visitor_id', 'transactions']\n",
    "\n",
    "orders_by_visitors_B = orders[orders['group'] == 'B'].groupby('visitor_id', as_index=False).agg({'transaction_id': 'nunique'})\n",
    "orders_by_visitors_B.columns = ['visitor_id', 'transactions']"
   ]
  },
  {
   "cell_type": "code",
   "execution_count": 48,
   "metadata": {},
   "outputs": [
    {
     "data": {
      "text/plain": [
       "20"
      ]
     },
     "execution_count": 48,
     "metadata": {},
     "output_type": "execute_result"
    }
   ],
   "source": [
    "users_with_many_orders = pd.concat([orders_by_visitors_A[orders_by_visitors_A['transactions'] >= percentile_transactions[1]]['visitor_id'],\n",
    "                                 orders_by_visitors_B[orders_by_visitors_B['transactions'] >= percentile_transactions[1]]['visitor_id']],axis=0)\n",
    "\n",
    "users_with_expensive_orders = orders[orders['revenue'] > percentile_revenue[1]]['visitor_id']\n",
    "abnormal_users = pd.concat([users_with_many_orders, users_with_expensive_orders], axis=0).drop_duplicates().sort_values()\n",
    "abnormal_users.shape[0]"
   ]
  },
  {
   "cell_type": "markdown",
   "metadata": {},
   "source": [
    "Получили 20 аномальных пользователей."
   ]
  },
  {
   "cell_type": "code",
   "execution_count": 49,
   "metadata": {},
   "outputs": [
    {
     "data": {
      "text/html": [
       "<div>\n",
       "<style scoped>\n",
       "    .dataframe tbody tr th:only-of-type {\n",
       "        vertical-align: middle;\n",
       "    }\n",
       "\n",
       "    .dataframe tbody tr th {\n",
       "        vertical-align: top;\n",
       "    }\n",
       "\n",
       "    .dataframe thead th {\n",
       "        text-align: right;\n",
       "    }\n",
       "</style>\n",
       "<table border=\"1\" class=\"dataframe\">\n",
       "  <thead>\n",
       "    <tr style=\"text-align: right;\">\n",
       "      <th></th>\n",
       "      <th>date</th>\n",
       "      <th>group</th>\n",
       "      <th>visitor_number</th>\n",
       "    </tr>\n",
       "  </thead>\n",
       "  <tbody>\n",
       "    <tr>\n",
       "      <th>0</th>\n",
       "      <td>2019-08-01</td>\n",
       "      <td>A</td>\n",
       "      <td>1</td>\n",
       "    </tr>\n",
       "    <tr>\n",
       "      <th>1</th>\n",
       "      <td>2019-08-01</td>\n",
       "      <td>B</td>\n",
       "      <td>2</td>\n",
       "    </tr>\n",
       "    <tr>\n",
       "      <th>2</th>\n",
       "      <td>2019-08-02</td>\n",
       "      <td>B</td>\n",
       "      <td>1</td>\n",
       "    </tr>\n",
       "    <tr>\n",
       "      <th>3</th>\n",
       "      <td>2019-08-04</td>\n",
       "      <td>A</td>\n",
       "      <td>3</td>\n",
       "    </tr>\n",
       "    <tr>\n",
       "      <th>4</th>\n",
       "      <td>2019-08-04</td>\n",
       "      <td>B</td>\n",
       "      <td>1</td>\n",
       "    </tr>\n",
       "    <tr>\n",
       "      <th>5</th>\n",
       "      <td>2019-08-05</td>\n",
       "      <td>B</td>\n",
       "      <td>1</td>\n",
       "    </tr>\n",
       "    <tr>\n",
       "      <th>6</th>\n",
       "      <td>2019-08-06</td>\n",
       "      <td>A</td>\n",
       "      <td>1</td>\n",
       "    </tr>\n",
       "    <tr>\n",
       "      <th>7</th>\n",
       "      <td>2019-08-06</td>\n",
       "      <td>B</td>\n",
       "      <td>2</td>\n",
       "    </tr>\n",
       "    <tr>\n",
       "      <th>8</th>\n",
       "      <td>2019-08-07</td>\n",
       "      <td>A</td>\n",
       "      <td>1</td>\n",
       "    </tr>\n",
       "    <tr>\n",
       "      <th>9</th>\n",
       "      <td>2019-08-08</td>\n",
       "      <td>B</td>\n",
       "      <td>4</td>\n",
       "    </tr>\n",
       "    <tr>\n",
       "      <th>10</th>\n",
       "      <td>2019-08-09</td>\n",
       "      <td>A</td>\n",
       "      <td>1</td>\n",
       "    </tr>\n",
       "    <tr>\n",
       "      <th>11</th>\n",
       "      <td>2019-08-09</td>\n",
       "      <td>B</td>\n",
       "      <td>3</td>\n",
       "    </tr>\n",
       "    <tr>\n",
       "      <th>12</th>\n",
       "      <td>2019-08-10</td>\n",
       "      <td>A</td>\n",
       "      <td>1</td>\n",
       "    </tr>\n",
       "    <tr>\n",
       "      <th>13</th>\n",
       "      <td>2019-08-10</td>\n",
       "      <td>B</td>\n",
       "      <td>1</td>\n",
       "    </tr>\n",
       "    <tr>\n",
       "      <th>14</th>\n",
       "      <td>2019-08-11</td>\n",
       "      <td>A</td>\n",
       "      <td>1</td>\n",
       "    </tr>\n",
       "    <tr>\n",
       "      <th>15</th>\n",
       "      <td>2019-08-12</td>\n",
       "      <td>A</td>\n",
       "      <td>6</td>\n",
       "    </tr>\n",
       "    <tr>\n",
       "      <th>16</th>\n",
       "      <td>2019-08-12</td>\n",
       "      <td>B</td>\n",
       "      <td>2</td>\n",
       "    </tr>\n",
       "    <tr>\n",
       "      <th>17</th>\n",
       "      <td>2019-08-13</td>\n",
       "      <td>A</td>\n",
       "      <td>1</td>\n",
       "    </tr>\n",
       "    <tr>\n",
       "      <th>18</th>\n",
       "      <td>2019-08-14</td>\n",
       "      <td>B</td>\n",
       "      <td>3</td>\n",
       "    </tr>\n",
       "    <tr>\n",
       "      <th>19</th>\n",
       "      <td>2019-08-15</td>\n",
       "      <td>A</td>\n",
       "      <td>4</td>\n",
       "    </tr>\n",
       "    <tr>\n",
       "      <th>20</th>\n",
       "      <td>2019-08-15</td>\n",
       "      <td>B</td>\n",
       "      <td>3</td>\n",
       "    </tr>\n",
       "    <tr>\n",
       "      <th>21</th>\n",
       "      <td>2019-08-16</td>\n",
       "      <td>B</td>\n",
       "      <td>1</td>\n",
       "    </tr>\n",
       "    <tr>\n",
       "      <th>22</th>\n",
       "      <td>2019-08-17</td>\n",
       "      <td>A</td>\n",
       "      <td>3</td>\n",
       "    </tr>\n",
       "    <tr>\n",
       "      <th>23</th>\n",
       "      <td>2019-08-18</td>\n",
       "      <td>B</td>\n",
       "      <td>1</td>\n",
       "    </tr>\n",
       "    <tr>\n",
       "      <th>24</th>\n",
       "      <td>2019-08-19</td>\n",
       "      <td>B</td>\n",
       "      <td>1</td>\n",
       "    </tr>\n",
       "    <tr>\n",
       "      <th>25</th>\n",
       "      <td>2019-08-20</td>\n",
       "      <td>A</td>\n",
       "      <td>2</td>\n",
       "    </tr>\n",
       "    <tr>\n",
       "      <th>26</th>\n",
       "      <td>2019-08-21</td>\n",
       "      <td>A</td>\n",
       "      <td>2</td>\n",
       "    </tr>\n",
       "    <tr>\n",
       "      <th>27</th>\n",
       "      <td>2019-08-21</td>\n",
       "      <td>B</td>\n",
       "      <td>1</td>\n",
       "    </tr>\n",
       "    <tr>\n",
       "      <th>28</th>\n",
       "      <td>2019-08-22</td>\n",
       "      <td>A</td>\n",
       "      <td>4</td>\n",
       "    </tr>\n",
       "    <tr>\n",
       "      <th>29</th>\n",
       "      <td>2019-08-23</td>\n",
       "      <td>A</td>\n",
       "      <td>1</td>\n",
       "    </tr>\n",
       "    <tr>\n",
       "      <th>30</th>\n",
       "      <td>2019-08-23</td>\n",
       "      <td>B</td>\n",
       "      <td>1</td>\n",
       "    </tr>\n",
       "    <tr>\n",
       "      <th>31</th>\n",
       "      <td>2019-08-25</td>\n",
       "      <td>A</td>\n",
       "      <td>1</td>\n",
       "    </tr>\n",
       "    <tr>\n",
       "      <th>32</th>\n",
       "      <td>2019-08-25</td>\n",
       "      <td>B</td>\n",
       "      <td>2</td>\n",
       "    </tr>\n",
       "    <tr>\n",
       "      <th>33</th>\n",
       "      <td>2019-08-27</td>\n",
       "      <td>A</td>\n",
       "      <td>4</td>\n",
       "    </tr>\n",
       "    <tr>\n",
       "      <th>34</th>\n",
       "      <td>2019-08-27</td>\n",
       "      <td>B</td>\n",
       "      <td>2</td>\n",
       "    </tr>\n",
       "    <tr>\n",
       "      <th>35</th>\n",
       "      <td>2019-08-28</td>\n",
       "      <td>B</td>\n",
       "      <td>3</td>\n",
       "    </tr>\n",
       "    <tr>\n",
       "      <th>36</th>\n",
       "      <td>2019-08-29</td>\n",
       "      <td>A</td>\n",
       "      <td>1</td>\n",
       "    </tr>\n",
       "    <tr>\n",
       "      <th>37</th>\n",
       "      <td>2019-08-29</td>\n",
       "      <td>B</td>\n",
       "      <td>2</td>\n",
       "    </tr>\n",
       "    <tr>\n",
       "      <th>38</th>\n",
       "      <td>2019-08-31</td>\n",
       "      <td>A</td>\n",
       "      <td>1</td>\n",
       "    </tr>\n",
       "    <tr>\n",
       "      <th>39</th>\n",
       "      <td>2019-08-31</td>\n",
       "      <td>B</td>\n",
       "      <td>1</td>\n",
       "    </tr>\n",
       "  </tbody>\n",
       "</table>\n",
       "</div>"
      ],
      "text/plain": [
       "         date group  visitor_number\n",
       "0  2019-08-01     A               1\n",
       "1  2019-08-01     B               2\n",
       "2  2019-08-02     B               1\n",
       "3  2019-08-04     A               3\n",
       "4  2019-08-04     B               1\n",
       "5  2019-08-05     B               1\n",
       "6  2019-08-06     A               1\n",
       "7  2019-08-06     B               2\n",
       "8  2019-08-07     A               1\n",
       "9  2019-08-08     B               4\n",
       "10 2019-08-09     A               1\n",
       "11 2019-08-09     B               3\n",
       "12 2019-08-10     A               1\n",
       "13 2019-08-10     B               1\n",
       "14 2019-08-11     A               1\n",
       "15 2019-08-12     A               6\n",
       "16 2019-08-12     B               2\n",
       "17 2019-08-13     A               1\n",
       "18 2019-08-14     B               3\n",
       "19 2019-08-15     A               4\n",
       "20 2019-08-15     B               3\n",
       "21 2019-08-16     B               1\n",
       "22 2019-08-17     A               3\n",
       "23 2019-08-18     B               1\n",
       "24 2019-08-19     B               1\n",
       "25 2019-08-20     A               2\n",
       "26 2019-08-21     A               2\n",
       "27 2019-08-21     B               1\n",
       "28 2019-08-22     A               4\n",
       "29 2019-08-23     A               1\n",
       "30 2019-08-23     B               1\n",
       "31 2019-08-25     A               1\n",
       "32 2019-08-25     B               2\n",
       "33 2019-08-27     A               4\n",
       "34 2019-08-27     B               2\n",
       "35 2019-08-28     B               3\n",
       "36 2019-08-29     A               1\n",
       "37 2019-08-29     B               2\n",
       "38 2019-08-31     A               1\n",
       "39 2019-08-31     B               1"
      ]
     },
     "execution_count": 49,
     "metadata": {},
     "output_type": "execute_result"
    }
   ],
   "source": [
    "abnormal_users_list = np.array(abnormal_users)\n",
    "abnormal_visitors = orders.query('visitor_id in @abnormal_users_list')[['date', 'visitor_id', 'group']]\n",
    "abnormal_visitors_number = abnormal_visitors.groupby(['date', 'group'], as_index=False).agg({'visitor_id': 'count'})\n",
    "abnormal_visitors_number.columns = ['date', 'group', 'visitor_number']\n",
    "abnormal_visitors_number"
   ]
  },
  {
   "cell_type": "code",
   "execution_count": 50,
   "metadata": {},
   "outputs": [
    {
     "data": {
      "text/html": [
       "<div>\n",
       "<style scoped>\n",
       "    .dataframe tbody tr th:only-of-type {\n",
       "        vertical-align: middle;\n",
       "    }\n",
       "\n",
       "    .dataframe tbody tr th {\n",
       "        vertical-align: top;\n",
       "    }\n",
       "\n",
       "    .dataframe thead th {\n",
       "        text-align: right;\n",
       "    }\n",
       "</style>\n",
       "<table border=\"1\" class=\"dataframe\">\n",
       "  <thead>\n",
       "    <tr style=\"text-align: right;\">\n",
       "      <th></th>\n",
       "      <th>date</th>\n",
       "      <th>group</th>\n",
       "      <th>visitors</th>\n",
       "      <th>visitor_number</th>\n",
       "      <th>visitors_filtred</th>\n",
       "    </tr>\n",
       "  </thead>\n",
       "  <tbody>\n",
       "    <tr>\n",
       "      <th>0</th>\n",
       "      <td>2019-08-01</td>\n",
       "      <td>A</td>\n",
       "      <td>719</td>\n",
       "      <td>1.0</td>\n",
       "      <td>718.0</td>\n",
       "    </tr>\n",
       "    <tr>\n",
       "      <th>1</th>\n",
       "      <td>2019-08-02</td>\n",
       "      <td>A</td>\n",
       "      <td>619</td>\n",
       "      <td>0.0</td>\n",
       "      <td>619.0</td>\n",
       "    </tr>\n",
       "    <tr>\n",
       "      <th>2</th>\n",
       "      <td>2019-08-03</td>\n",
       "      <td>A</td>\n",
       "      <td>507</td>\n",
       "      <td>0.0</td>\n",
       "      <td>507.0</td>\n",
       "    </tr>\n",
       "    <tr>\n",
       "      <th>3</th>\n",
       "      <td>2019-08-04</td>\n",
       "      <td>A</td>\n",
       "      <td>717</td>\n",
       "      <td>3.0</td>\n",
       "      <td>714.0</td>\n",
       "    </tr>\n",
       "    <tr>\n",
       "      <th>4</th>\n",
       "      <td>2019-08-05</td>\n",
       "      <td>A</td>\n",
       "      <td>756</td>\n",
       "      <td>0.0</td>\n",
       "      <td>756.0</td>\n",
       "    </tr>\n",
       "    <tr>\n",
       "      <th>5</th>\n",
       "      <td>2019-08-06</td>\n",
       "      <td>A</td>\n",
       "      <td>667</td>\n",
       "      <td>1.0</td>\n",
       "      <td>666.0</td>\n",
       "    </tr>\n",
       "    <tr>\n",
       "      <th>6</th>\n",
       "      <td>2019-08-07</td>\n",
       "      <td>A</td>\n",
       "      <td>644</td>\n",
       "      <td>1.0</td>\n",
       "      <td>643.0</td>\n",
       "    </tr>\n",
       "    <tr>\n",
       "      <th>7</th>\n",
       "      <td>2019-08-08</td>\n",
       "      <td>A</td>\n",
       "      <td>610</td>\n",
       "      <td>0.0</td>\n",
       "      <td>610.0</td>\n",
       "    </tr>\n",
       "    <tr>\n",
       "      <th>8</th>\n",
       "      <td>2019-08-09</td>\n",
       "      <td>A</td>\n",
       "      <td>617</td>\n",
       "      <td>1.0</td>\n",
       "      <td>616.0</td>\n",
       "    </tr>\n",
       "    <tr>\n",
       "      <th>9</th>\n",
       "      <td>2019-08-10</td>\n",
       "      <td>A</td>\n",
       "      <td>406</td>\n",
       "      <td>1.0</td>\n",
       "      <td>405.0</td>\n",
       "    </tr>\n",
       "  </tbody>\n",
       "</table>\n",
       "</div>"
      ],
      "text/plain": [
       "        date group  visitors  visitor_number  visitors_filtred\n",
       "0 2019-08-01     A       719             1.0             718.0\n",
       "1 2019-08-02     A       619             0.0             619.0\n",
       "2 2019-08-03     A       507             0.0             507.0\n",
       "3 2019-08-04     A       717             3.0             714.0\n",
       "4 2019-08-05     A       756             0.0             756.0\n",
       "5 2019-08-06     A       667             1.0             666.0\n",
       "6 2019-08-07     A       644             1.0             643.0\n",
       "7 2019-08-08     A       610             0.0             610.0\n",
       "8 2019-08-09     A       617             1.0             616.0\n",
       "9 2019-08-10     A       406             1.0             405.0"
      ]
     },
     "execution_count": 50,
     "metadata": {},
     "output_type": "execute_result"
    }
   ],
   "source": [
    "visitors_filtred = visitors.merge(abnormal_visitors_number, left_on=['date', 'group'], right_on=['date', 'group'], how='left')\n",
    "visitors_filtred=visitors_filtred.fillna(0)\n",
    "visitors_filtred['visitors_filtred'] = visitors_filtred['visitors'] - visitors_filtred['visitor_number']\n",
    "visitors_filtred.head(10)"
   ]
  },
  {
   "cell_type": "code",
   "execution_count": 51,
   "metadata": {},
   "outputs": [],
   "source": [
    "visitors_A_filtred = visitors_filtred[visitors_filtred['group'] == 'A'][['date', 'visitors_filtred']]\n",
    "visitors_A_filtred.columns = ['date', 'visitors_filtred_per_date_A']\n",
    "\n",
    "visitors_B_filtred = visitors_filtred[visitors_filtred['group'] == 'B'][['date', 'visitors_filtred']]\n",
    "visitors_B_filtred.columns = ['date', 'visitors_filtred_per_date_B']\n",
    "\n",
    "orders_A_filtred = (orders[np.logical_and(orders['group'] == 'A', np.logical_not(orders['visitor_id'].isin(abnormal_users)))]\n",
    "                    [['date', 'transaction_id']].groupby('date', as_index=False).agg({'transaction_id': 'nunique'}))\n",
    "orders_A_filtred.columns = ['date', 'transactions_filtred_per_date_A']\n",
    "\n",
    "orders_B_filtred = (orders[np.logical_and(orders['group'] == 'B', np.logical_not(orders['visitor_id'].isin(abnormal_users)))]\n",
    "                    [['date', 'transaction_id']].groupby('date', as_index=False).agg({'transaction_id': 'nunique'}))\n",
    "orders_B_filtred.columns = ['date', 'transactions_filtred_per_date_B']"
   ]
  },
  {
   "cell_type": "code",
   "execution_count": 52,
   "metadata": {},
   "outputs": [
    {
     "data": {
      "text/html": [
       "<div>\n",
       "<style scoped>\n",
       "    .dataframe tbody tr th:only-of-type {\n",
       "        vertical-align: middle;\n",
       "    }\n",
       "\n",
       "    .dataframe tbody tr th {\n",
       "        vertical-align: top;\n",
       "    }\n",
       "\n",
       "    .dataframe thead th {\n",
       "        text-align: right;\n",
       "    }\n",
       "</style>\n",
       "<table border=\"1\" class=\"dataframe\">\n",
       "  <thead>\n",
       "    <tr style=\"text-align: right;\">\n",
       "      <th></th>\n",
       "      <th>date</th>\n",
       "      <th>transactions_filtred_per_date_A</th>\n",
       "      <th>transactions_filtred_per_date_B</th>\n",
       "      <th>visitors_filtred_per_date_A</th>\n",
       "      <th>visitors_filtred_per_date_B</th>\n",
       "      <th>conversion_A</th>\n",
       "      <th>conversion_B</th>\n",
       "    </tr>\n",
       "  </thead>\n",
       "  <tbody>\n",
       "    <tr>\n",
       "      <th>0</th>\n",
       "      <td>2019-08-01</td>\n",
       "      <td>23</td>\n",
       "      <td>19</td>\n",
       "      <td>718.0</td>\n",
       "      <td>711.0</td>\n",
       "      <td>0.032033</td>\n",
       "      <td>0.026723</td>\n",
       "    </tr>\n",
       "    <tr>\n",
       "      <th>1</th>\n",
       "      <td>2019-08-02</td>\n",
       "      <td>20</td>\n",
       "      <td>23</td>\n",
       "      <td>619.0</td>\n",
       "      <td>580.0</td>\n",
       "      <td>0.032310</td>\n",
       "      <td>0.039655</td>\n",
       "    </tr>\n",
       "    <tr>\n",
       "      <th>2</th>\n",
       "      <td>2019-08-03</td>\n",
       "      <td>24</td>\n",
       "      <td>16</td>\n",
       "      <td>507.0</td>\n",
       "      <td>509.0</td>\n",
       "      <td>0.047337</td>\n",
       "      <td>0.031434</td>\n",
       "    </tr>\n",
       "    <tr>\n",
       "      <th>3</th>\n",
       "      <td>2019-08-04</td>\n",
       "      <td>13</td>\n",
       "      <td>16</td>\n",
       "      <td>714.0</td>\n",
       "      <td>769.0</td>\n",
       "      <td>0.018207</td>\n",
       "      <td>0.020806</td>\n",
       "    </tr>\n",
       "    <tr>\n",
       "      <th>4</th>\n",
       "      <td>2019-08-05</td>\n",
       "      <td>25</td>\n",
       "      <td>22</td>\n",
       "      <td>756.0</td>\n",
       "      <td>706.0</td>\n",
       "      <td>0.033069</td>\n",
       "      <td>0.031161</td>\n",
       "    </tr>\n",
       "    <tr>\n",
       "      <th>5</th>\n",
       "      <td>2019-08-06</td>\n",
       "      <td>17</td>\n",
       "      <td>26</td>\n",
       "      <td>666.0</td>\n",
       "      <td>653.0</td>\n",
       "      <td>0.025526</td>\n",
       "      <td>0.039816</td>\n",
       "    </tr>\n",
       "    <tr>\n",
       "      <th>6</th>\n",
       "      <td>2019-08-07</td>\n",
       "      <td>17</td>\n",
       "      <td>24</td>\n",
       "      <td>643.0</td>\n",
       "      <td>709.0</td>\n",
       "      <td>0.026439</td>\n",
       "      <td>0.033850</td>\n",
       "    </tr>\n",
       "    <tr>\n",
       "      <th>7</th>\n",
       "      <td>2019-08-08</td>\n",
       "      <td>16</td>\n",
       "      <td>23</td>\n",
       "      <td>610.0</td>\n",
       "      <td>650.0</td>\n",
       "      <td>0.026230</td>\n",
       "      <td>0.035385</td>\n",
       "    </tr>\n",
       "    <tr>\n",
       "      <th>8</th>\n",
       "      <td>2019-08-09</td>\n",
       "      <td>15</td>\n",
       "      <td>22</td>\n",
       "      <td>616.0</td>\n",
       "      <td>607.0</td>\n",
       "      <td>0.024351</td>\n",
       "      <td>0.036244</td>\n",
       "    </tr>\n",
       "    <tr>\n",
       "      <th>9</th>\n",
       "      <td>2019-08-10</td>\n",
       "      <td>15</td>\n",
       "      <td>22</td>\n",
       "      <td>405.0</td>\n",
       "      <td>368.0</td>\n",
       "      <td>0.037037</td>\n",
       "      <td>0.059783</td>\n",
       "    </tr>\n",
       "  </tbody>\n",
       "</table>\n",
       "</div>"
      ],
      "text/plain": [
       "        date  transactions_filtred_per_date_A  \\\n",
       "0 2019-08-01                               23   \n",
       "1 2019-08-02                               20   \n",
       "2 2019-08-03                               24   \n",
       "3 2019-08-04                               13   \n",
       "4 2019-08-05                               25   \n",
       "5 2019-08-06                               17   \n",
       "6 2019-08-07                               17   \n",
       "7 2019-08-08                               16   \n",
       "8 2019-08-09                               15   \n",
       "9 2019-08-10                               15   \n",
       "\n",
       "   transactions_filtred_per_date_B  visitors_filtred_per_date_A  \\\n",
       "0                               19                        718.0   \n",
       "1                               23                        619.0   \n",
       "2                               16                        507.0   \n",
       "3                               16                        714.0   \n",
       "4                               22                        756.0   \n",
       "5                               26                        666.0   \n",
       "6                               24                        643.0   \n",
       "7                               23                        610.0   \n",
       "8                               22                        616.0   \n",
       "9                               22                        405.0   \n",
       "\n",
       "   visitors_filtred_per_date_B  conversion_A  conversion_B  \n",
       "0                        711.0      0.032033      0.026723  \n",
       "1                        580.0      0.032310      0.039655  \n",
       "2                        509.0      0.047337      0.031434  \n",
       "3                        769.0      0.018207      0.020806  \n",
       "4                        706.0      0.033069      0.031161  \n",
       "5                        653.0      0.025526      0.039816  \n",
       "6                        709.0      0.026439      0.033850  \n",
       "7                        650.0      0.026230      0.035385  \n",
       "8                        607.0      0.024351      0.036244  \n",
       "9                        368.0      0.037037      0.059783  "
      ]
     },
     "execution_count": 52,
     "metadata": {},
     "output_type": "execute_result"
    }
   ],
   "source": [
    "data_filtred = (orders_A_filtred.merge(orders_B_filtred, left_on='date', right_on='date', how='left')\n",
    "        .merge(visitors_A_filtred, left_on='date', right_on='date', how='left')\n",
    "        .merge(visitors_B_filtred, left_on='date', right_on='date', how='left'))\n",
    "\n",
    "data_filtred['conversion_A'] = data_filtred['transactions_filtred_per_date_A']/data_filtred['visitors_filtred_per_date_A']\n",
    "data_filtred['conversion_B'] = data_filtred['transactions_filtred_per_date_B']/data_filtred['visitors_filtred_per_date_B']\n",
    "\n",
    "data_filtred.head(10)"
   ]
  },
  {
   "cell_type": "markdown",
   "metadata": {},
   "source": [
    "Сформулируем нулевую и альтернативную гипотезы.\n",
    "\n",
    "Нулевая: различий в конверсии между группами по очищенным данным нет. Альтернативная: различия в конверсии между группами по очищенным данным есть."
   ]
  },
  {
   "cell_type": "code",
   "execution_count": 53,
   "metadata": {
    "scrolled": true
   },
   "outputs": [
    {
     "name": "stdout",
     "output_type": "stream",
     "text": [
      "0.037\n",
      "0.165\n"
     ]
    }
   ],
   "source": [
    "print(\"{0:.3f}\".format(stats.mannwhitneyu(data_filtred['conversion_A'], data_filtred['conversion_B'])[1]))\n",
    "print(\"{0:.3f}\".format(data_filtred['conversion_B'].mean() / data_filtred['conversion_A'].mean() - 1))"
   ]
  },
  {
   "cell_type": "markdown",
   "metadata": {},
   "source": [
    "После очистки данных уровень статистической значимости 0.037 - меньше 0.05. Значит, нулевую гипотезу о том, что статистически значимых различий в конверсии между группами нет, можно отвергнуть. Это может озночать, что существуют различия в конверсии между группами по очищенным данным.\n",
    "\n",
    "Относительный проигрыш в конверсии группы А увеличился, на 1,5% и составил 16,5%. \n",
    "\n",
    "Похоже, что пользователи из группы В лучше конвертировались в покупателей."
   ]
  },
  {
   "cell_type": "markdown",
   "metadata": {},
   "source": [
    "<b>Посчитаем статистическую значимость различия в среднем количестве заказов между группами по очищенным данным. </b> "
   ]
  },
  {
   "cell_type": "markdown",
   "metadata": {},
   "source": [
    "Сформулируем нулевую и альтернативную гипотезы.\n",
    "\n",
    "Нулевая: различий в среднем количестве заказов между группами по очищенным данным нет.\n",
    "\n",
    "Альтернативная: различия в среднем количестве заказов между группами по очищенным данным есть."
   ]
  },
  {
   "cell_type": "code",
   "execution_count": 54,
   "metadata": {},
   "outputs": [],
   "source": [
    "sample_A_filtered = (pd.concat([orders_by_users_A[np.logical_not(orders_by_users_A['visitor_id']\n",
    "                                                                 .isin(abnormal_users))]['transactions'],\n",
    "                                pd.Series(0,index=np.arange(data['visitors_per_date_A'].sum() \n",
    "                                                            - len(orders_by_users_A['transactions'])),\n",
    "                                          name='transactions')],axis=0))\n",
    "\n",
    "sample_B_filtered = (pd.concat([orders_by_users_B[np.logical_not(orders_by_users_B['visitor_id']\n",
    "                                                                 .isin(abnormal_users))]['transactions'],\n",
    "                                pd.Series(0,index=np.arange(data['visitors_per_date_B'].sum() \n",
    "                                                            - len(orders_by_users_B['transactions'])),\n",
    "                                          name='transactions')],axis=0))"
   ]
  },
  {
   "cell_type": "code",
   "execution_count": 55,
   "metadata": {},
   "outputs": [
    {
     "name": "stdout",
     "output_type": "stream",
     "text": [
      "Уровень статистической значимости различий в среднем количестве заказов между группами по очищенным данным - 0.014\n",
      "Относительное отличие группы В по отношению к группе А по очищенным данным- 0.151\n"
     ]
    }
   ],
   "source": [
    "(print('Уровень статистической значимости различий в среднем количестве заказов между группами по очищенным данным - {0:.3f}'\n",
    "      .format(stats.mannwhitneyu(sample_A_filtered, sample_B_filtered)[1])))\n",
    "(print('Относительное отличие группы В по отношению к группе А по очищенным данным- {0:.3f}'\n",
    "      .format(sample_B_filtered.mean()/sample_A_filtered.mean()-1))) "
   ]
  },
  {
   "cell_type": "markdown",
   "metadata": {},
   "source": [
    "После очистки данных уровень статистической значимости различий в среднем количестве заказов между группами стал еще ниже. Значит, нулевую гипотезу о том, что статистически значимых различий в среднем количестве заказов между группами нет, можно отвергнуть. Это может означать, что существуют различия в среднем количестве заказов между группами как по сырым, так и по очищенным данным.\n",
    "\n",
    "Относительный проигрыш в среднем количестве заказов группы А увеличился и составил 15,1%. \n",
    "\n",
    "Похоже, что среднее количество заказов у пользователей из группы В выше среднего количества заказов у пользователей из группы А."
   ]
  },
  {
   "cell_type": "markdown",
   "metadata": {},
   "source": [
    "#### Статистическая значимость различий в среднем чеке заказа между группами по «очищенным» данным"
   ]
  },
  {
   "cell_type": "code",
   "execution_count": 56,
   "metadata": {},
   "outputs": [],
   "source": [
    "revenue_A_filtred = (orders[np.logical_and(orders['group'] == 'A', \n",
    "                                           np.logical_not(orders['visitor_id'].isin(abnormal_users)))]['revenue'])\n",
    "\n",
    "revenue_B_filtred = (orders[np.logical_and(orders['group'] == 'B', \n",
    "                                           np.logical_not(orders['visitor_id'].isin(abnormal_users)))]['revenue'])"
   ]
  },
  {
   "cell_type": "code",
   "execution_count": 57,
   "metadata": {},
   "outputs": [
    {
     "name": "stdout",
     "output_type": "stream",
     "text": [
      "Уровень статистической значимости различий в среднем чеке между группами по очищенным данным - 0.959\n",
      "Относительное отличие группы В по отношению к группе А - -0.014\n"
     ]
    }
   ],
   "source": [
    "print('Уровень статистической значимости различий в среднем чеке между группами по очищенным данным - {0:.3f}'.format(stats.mannwhitneyu(revenue_A_filtred, revenue_B_filtred)[1]))\n",
    "print('Относительное отличие группы В по отношению к группе А - {0:.3f}'.format(revenue_B_filtred.mean()/revenue_A_filtred.mean()-1))"
   ]
  },
  {
   "cell_type": "markdown",
   "metadata": {},
   "source": [
    "Исходя из уровня статистической значимости различий в среднем среднем чеке между группами по очищенным данным, различий в среднем чеке между группами нет. Относительное отличие группы В по отношению к группе А -0.014. После очистки данных от выбросов, средний чек группы А стал немного выше, чем чек группы В. Похоже, что если проверяемая тестом гипотеза и принесла результаты, то они не отразились на среднем чеке между группами."
   ]
  },
  {
   "cell_type": "code",
   "execution_count": 58,
   "metadata": {},
   "outputs": [
    {
     "data": {
      "text/html": [
       "<div>\n",
       "<style scoped>\n",
       "    .dataframe tbody tr th:only-of-type {\n",
       "        vertical-align: middle;\n",
       "    }\n",
       "\n",
       "    .dataframe tbody tr th {\n",
       "        vertical-align: top;\n",
       "    }\n",
       "\n",
       "    .dataframe thead th {\n",
       "        text-align: right;\n",
       "    }\n",
       "</style>\n",
       "<table border=\"1\" class=\"dataframe\">\n",
       "  <thead>\n",
       "    <tr style=\"text-align: right;\">\n",
       "      <th></th>\n",
       "      <th>transaction_id</th>\n",
       "      <th>visitor_id</th>\n",
       "      <th>date</th>\n",
       "      <th>revenue</th>\n",
       "      <th>group</th>\n",
       "    </tr>\n",
       "  </thead>\n",
       "  <tbody>\n",
       "    <tr>\n",
       "      <th>0</th>\n",
       "      <td>3667963787</td>\n",
       "      <td>3312258926</td>\n",
       "      <td>2019-08-15</td>\n",
       "      <td>1650</td>\n",
       "      <td>B</td>\n",
       "    </tr>\n",
       "    <tr>\n",
       "      <th>1</th>\n",
       "      <td>2804400009</td>\n",
       "      <td>3642806036</td>\n",
       "      <td>2019-08-15</td>\n",
       "      <td>730</td>\n",
       "      <td>B</td>\n",
       "    </tr>\n",
       "    <tr>\n",
       "      <th>2</th>\n",
       "      <td>2961555356</td>\n",
       "      <td>4069496402</td>\n",
       "      <td>2019-08-15</td>\n",
       "      <td>400</td>\n",
       "      <td>A</td>\n",
       "    </tr>\n",
       "    <tr>\n",
       "      <th>3</th>\n",
       "      <td>3797467345</td>\n",
       "      <td>1196621759</td>\n",
       "      <td>2019-08-15</td>\n",
       "      <td>9759</td>\n",
       "      <td>B</td>\n",
       "    </tr>\n",
       "    <tr>\n",
       "      <th>4</th>\n",
       "      <td>2282983706</td>\n",
       "      <td>2322279887</td>\n",
       "      <td>2019-08-15</td>\n",
       "      <td>2308</td>\n",
       "      <td>B</td>\n",
       "    </tr>\n",
       "    <tr>\n",
       "      <th>...</th>\n",
       "      <td>...</td>\n",
       "      <td>...</td>\n",
       "      <td>...</td>\n",
       "      <td>...</td>\n",
       "      <td>...</td>\n",
       "    </tr>\n",
       "    <tr>\n",
       "      <th>1191</th>\n",
       "      <td>3592955527</td>\n",
       "      <td>608641596</td>\n",
       "      <td>2019-08-14</td>\n",
       "      <td>16490</td>\n",
       "      <td>B</td>\n",
       "    </tr>\n",
       "    <tr>\n",
       "      <th>1192</th>\n",
       "      <td>2662137336</td>\n",
       "      <td>3733762160</td>\n",
       "      <td>2019-08-14</td>\n",
       "      <td>6490</td>\n",
       "      <td>B</td>\n",
       "    </tr>\n",
       "    <tr>\n",
       "      <th>1193</th>\n",
       "      <td>2203539145</td>\n",
       "      <td>370388673</td>\n",
       "      <td>2019-08-14</td>\n",
       "      <td>3190</td>\n",
       "      <td>A</td>\n",
       "    </tr>\n",
       "    <tr>\n",
       "      <th>1194</th>\n",
       "      <td>1807773912</td>\n",
       "      <td>573423106</td>\n",
       "      <td>2019-08-14</td>\n",
       "      <td>10550</td>\n",
       "      <td>A</td>\n",
       "    </tr>\n",
       "    <tr>\n",
       "      <th>1195</th>\n",
       "      <td>1947021204</td>\n",
       "      <td>1614305549</td>\n",
       "      <td>2019-08-14</td>\n",
       "      <td>100</td>\n",
       "      <td>A</td>\n",
       "    </tr>\n",
       "  </tbody>\n",
       "</table>\n",
       "<p>1120 rows × 5 columns</p>\n",
       "</div>"
      ],
      "text/plain": [
       "      transaction_id  visitor_id       date  revenue group\n",
       "0         3667963787  3312258926 2019-08-15     1650     B\n",
       "1         2804400009  3642806036 2019-08-15      730     B\n",
       "2         2961555356  4069496402 2019-08-15      400     A\n",
       "3         3797467345  1196621759 2019-08-15     9759     B\n",
       "4         2282983706  2322279887 2019-08-15     2308     B\n",
       "...              ...         ...        ...      ...   ...\n",
       "1191      3592955527   608641596 2019-08-14    16490     B\n",
       "1192      2662137336  3733762160 2019-08-14     6490     B\n",
       "1193      2203539145   370388673 2019-08-14     3190     A\n",
       "1194      1807773912   573423106 2019-08-14    10550     A\n",
       "1195      1947021204  1614305549 2019-08-14      100     A\n",
       "\n",
       "[1120 rows x 5 columns]"
      ]
     },
     "execution_count": 58,
     "metadata": {},
     "output_type": "execute_result"
    }
   ],
   "source": [
    "orders_filtred = orders.query('visitor_id not in @abnormal_users_list')\n",
    "orders_filtred"
   ]
  },
  {
   "cell_type": "code",
   "execution_count": 59,
   "metadata": {},
   "outputs": [
    {
     "data": {
      "text/html": [
       "<div>\n",
       "<style scoped>\n",
       "    .dataframe tbody tr th:only-of-type {\n",
       "        vertical-align: middle;\n",
       "    }\n",
       "\n",
       "    .dataframe tbody tr th {\n",
       "        vertical-align: top;\n",
       "    }\n",
       "\n",
       "    .dataframe thead th {\n",
       "        text-align: right;\n",
       "    }\n",
       "</style>\n",
       "<table border=\"1\" class=\"dataframe\">\n",
       "  <thead>\n",
       "    <tr style=\"text-align: right;\">\n",
       "      <th></th>\n",
       "      <th>date</th>\n",
       "      <th>group</th>\n",
       "      <th>orders</th>\n",
       "      <th>buyers</th>\n",
       "      <th>revenue</th>\n",
       "    </tr>\n",
       "  </thead>\n",
       "  <tbody>\n",
       "    <tr>\n",
       "      <th>55</th>\n",
       "      <td>2019-08-01</td>\n",
       "      <td>A</td>\n",
       "      <td>23</td>\n",
       "      <td>19</td>\n",
       "      <td>142779</td>\n",
       "    </tr>\n",
       "    <tr>\n",
       "      <th>66</th>\n",
       "      <td>2019-08-01</td>\n",
       "      <td>B</td>\n",
       "      <td>19</td>\n",
       "      <td>19</td>\n",
       "      <td>78258</td>\n",
       "    </tr>\n",
       "    <tr>\n",
       "      <th>175</th>\n",
       "      <td>2019-08-02</td>\n",
       "      <td>A</td>\n",
       "      <td>43</td>\n",
       "      <td>37</td>\n",
       "      <td>236601</td>\n",
       "    </tr>\n",
       "    <tr>\n",
       "      <th>173</th>\n",
       "      <td>2019-08-02</td>\n",
       "      <td>B</td>\n",
       "      <td>42</td>\n",
       "      <td>41</td>\n",
       "      <td>240301</td>\n",
       "    </tr>\n",
       "    <tr>\n",
       "      <th>291</th>\n",
       "      <td>2019-08-03</td>\n",
       "      <td>A</td>\n",
       "      <td>67</td>\n",
       "      <td>61</td>\n",
       "      <td>349074</td>\n",
       "    </tr>\n",
       "    <tr>\n",
       "      <th>310</th>\n",
       "      <td>2019-08-03</td>\n",
       "      <td>B</td>\n",
       "      <td>58</td>\n",
       "      <td>57</td>\n",
       "      <td>354549</td>\n",
       "    </tr>\n",
       "    <tr>\n",
       "      <th>499</th>\n",
       "      <td>2019-08-04</td>\n",
       "      <td>A</td>\n",
       "      <td>80</td>\n",
       "      <td>74</td>\n",
       "      <td>415489</td>\n",
       "    </tr>\n",
       "    <tr>\n",
       "      <th>498</th>\n",
       "      <td>2019-08-04</td>\n",
       "      <td>B</td>\n",
       "      <td>74</td>\n",
       "      <td>72</td>\n",
       "      <td>460320</td>\n",
       "    </tr>\n",
       "    <tr>\n",
       "      <th>698</th>\n",
       "      <td>2019-08-05</td>\n",
       "      <td>A</td>\n",
       "      <td>105</td>\n",
       "      <td>97</td>\n",
       "      <td>539707</td>\n",
       "    </tr>\n",
       "    <tr>\n",
       "      <th>699</th>\n",
       "      <td>2019-08-05</td>\n",
       "      <td>B</td>\n",
       "      <td>96</td>\n",
       "      <td>94</td>\n",
       "      <td>550328</td>\n",
       "    </tr>\n",
       "  </tbody>\n",
       "</table>\n",
       "</div>"
      ],
      "text/plain": [
       "          date group  orders  buyers  revenue\n",
       "55  2019-08-01     A      23      19   142779\n",
       "66  2019-08-01     B      19      19    78258\n",
       "175 2019-08-02     A      43      37   236601\n",
       "173 2019-08-02     B      42      41   240301\n",
       "291 2019-08-03     A      67      61   349074\n",
       "310 2019-08-03     B      58      57   354549\n",
       "499 2019-08-04     A      80      74   415489\n",
       "498 2019-08-04     B      74      72   460320\n",
       "698 2019-08-05     A     105      97   539707\n",
       "699 2019-08-05     B      96      94   550328"
      ]
     },
     "execution_count": 59,
     "metadata": {},
     "output_type": "execute_result"
    }
   ],
   "source": [
    "orders_aggregated_filtred = (dates_groups.apply(lambda x: orders_filtred[np.logical_and(orders_filtred['date'] <= x['date'], \n",
    "                                                                                orders_filtred['group'] == x['group'])]\n",
    "                                                .agg({'date' : 'max', 'group' : 'max', 'transaction_id' : 'nunique', \n",
    "                                                      'visitor_id' : 'nunique', 'revenue' : 'sum'}), axis=1)\n",
    "                             .sort_values(by=['date','group']))\n",
    "orders_aggregated_filtred.columns = ['date', 'group', 'orders', 'buyers', 'revenue']\n",
    "orders_aggregated_filtred.head(10)"
   ]
  },
  {
   "cell_type": "code",
   "execution_count": 60,
   "metadata": {},
   "outputs": [],
   "source": [
    "cumulative_filtred_revenue_A = orders_aggregated_filtred[orders_aggregated_filtred['group']=='A'][['date','revenue', 'orders']]\n",
    "cumulative_filtred_revenue_B = orders_aggregated_filtred[orders_aggregated_filtred['group']=='B'][['date','revenue', 'orders']]"
   ]
  },
  {
   "cell_type": "code",
   "execution_count": 61,
   "metadata": {
    "scrolled": true
   },
   "outputs": [
    {
     "data": {
      "image/png": "[encoded data removed]",
      "text/plain": [
       "<Figure size 432x288 with 1 Axes>"
      ]
     },
     "metadata": {
      "needs_background": "light"
     },
     "output_type": "display_data"
    }
   ],
   "source": [
    "plt.plot(cumulative_filtred_revenue_A['date'], cumulative_filtred_revenue_A['revenue'], label='A')\n",
    "plt.plot(cumulative_filtred_revenue_B['date'], cumulative_filtred_revenue_B['revenue'], label='B')\n",
    "plt.xticks(rotation = 45)\n",
    "plt.ylabel('Кумулятивный выручка по очищенным данным')\n",
    "plt.title('Кумулятивная выручка по очищенным данным по дням')\n",
    "plt.legend();"
   ]
  },
  {
   "cell_type": "markdown",
   "metadata": {},
   "source": [
    "### Общий вывод"
   ]
  },
  {
   "cell_type": "markdown",
   "metadata": {},
   "source": [
    "1. Нет статистически значимых различий в конверсии между группами нет по сырым данным. Однако, после филтрации аномальных пользователей, совершивших более 4 покупок или свыше 58 233 рублей, различия в конверсии между группами появилась: группа В по конверсии вырвалась вперед.\n",
    "\n",
    "2. Нет статистически значимых различий в среднем чеке заказа между группами  ни по сырым, ни по данным после фильтрации аномалий. Однако, после фильтрации средний чек группы В стал немного ниже среднего чека группы А."
   ]
  },
  {
   "cell_type": "markdown",
   "metadata": {},
   "source": [
    "Исходя из обнаруженных фактов, тест следует остановить. Можно предположить, что тестируемая гипотеза в А/В тесте (хотелось бы знать, как она звучит) привела к повышению конверсии  группе В, что в свою очередь привело к росту куммулятивной выручки. Исходя из полученнных данных, можно сказать, что  B на самом деле лучше сегмента A, а значительное повышение конверсии в сегменте В положительно сказывается на выручке."
   ]
  },
  {
   "cell_type": "markdown",
   "metadata": {},
   "source": [
    "По результатам приоритезации гипотез и  расчета параметра `ICE` наиболее перспективными являются гипотезы \n",
    "- 8 - 'Запустить акцию, дающую скидку на товар в день рождения',\n",
    "- 0 - 'Добавить два новых канала привлечения трафика, что позволит привлекать на 30% больше пользователей',\n",
    "- 7 - 'Добавить форму подписки на все основные страницы, чтобы собрать базу клиентов для email-рассылок',\n",
    "- 6 - 'Показать на главной странице баннеры с актуальными акциями и распродажами, чтобы увеличить конверсию', \n",
    "- 2 - 'Добавить блоки рекомендаций товаров на сайт интернет магазина, чтобы повысить конверсию и средний чек заказа'. \n",
    "\n",
    "После расчета параметра `RICE` в пятерке приоритетных гипотез произошли перестановки. На первое место вышла гипотеза `7 - 'Добавить форму подписки на все основные страницы, чтобы собрать базу клиентов для email-рассылок'`, дело в том что ее охват `Reach` среди прочих гипотез наибольший. "
   ]
  }
 ],
 "metadata": {
  "ExecuteTimeLog": [
   {
    "duration": 404,
    "start_time": "2022-08-15T18:33:10.563Z"
   },
   {
    "duration": 73,
    "start_time": "2022-08-15T18:33:53.557Z"
   },
   {
    "duration": 66,
    "start_time": "2022-08-15T18:37:03.678Z"
   },
   {
    "duration": 11,
    "start_time": "2022-08-15T18:37:13.276Z"
   },
   {
    "duration": 9,
    "start_time": "2022-08-15T18:38:55.145Z"
   },
   {
    "duration": 11,
    "start_time": "2022-08-15T18:40:14.044Z"
   },
   {
    "duration": 80,
    "start_time": "2022-08-15T18:59:43.316Z"
   },
   {
    "duration": 102,
    "start_time": "2022-08-15T19:00:37.097Z"
   },
   {
    "duration": 54,
    "start_time": "2022-08-15T19:00:52.733Z"
   },
   {
    "duration": 7,
    "start_time": "2022-08-15T19:02:05.021Z"
   },
   {
    "duration": 7,
    "start_time": "2022-08-15T19:03:31.619Z"
   },
   {
    "duration": 7,
    "start_time": "2022-08-15T19:03:50.733Z"
   },
   {
    "duration": 106,
    "start_time": "2022-08-15T19:04:51.570Z"
   },
   {
    "duration": 50,
    "start_time": "2022-08-15T19:05:04.052Z"
   },
   {
    "duration": 11,
    "start_time": "2022-08-15T19:05:09.461Z"
   },
   {
    "duration": 63,
    "start_time": "2022-08-15T19:07:16.441Z"
   },
   {
    "duration": 343,
    "start_time": "2022-08-15T19:07:34.441Z"
   },
   {
    "duration": 258,
    "start_time": "2022-08-15T19:08:01.960Z"
   },
   {
    "duration": 67,
    "start_time": "2022-08-15T19:08:18.394Z"
   },
   {
    "duration": 454,
    "start_time": "2022-08-15T19:08:47.256Z"
   },
   {
    "duration": 9,
    "start_time": "2022-08-15T19:09:40.333Z"
   },
   {
    "duration": 71,
    "start_time": "2022-08-15T19:10:49.385Z"
   },
   {
    "duration": 11,
    "start_time": "2022-08-15T19:11:02.981Z"
   },
   {
    "duration": 10,
    "start_time": "2022-08-15T19:13:12.806Z"
   },
   {
    "duration": 11,
    "start_time": "2022-08-15T19:13:19.240Z"
   },
   {
    "duration": 10,
    "start_time": "2022-08-15T19:13:34.745Z"
   },
   {
    "duration": 13,
    "start_time": "2022-08-15T19:15:42.568Z"
   },
   {
    "duration": 11,
    "start_time": "2022-08-15T19:16:01.265Z"
   },
   {
    "duration": 9,
    "start_time": "2022-08-15T19:16:02.690Z"
   },
   {
    "duration": 5,
    "start_time": "2022-08-15T19:16:42.601Z"
   },
   {
    "duration": 11,
    "start_time": "2022-08-15T19:16:53.770Z"
   },
   {
    "duration": 31,
    "start_time": "2022-08-15T19:17:29.151Z"
   },
   {
    "duration": 5,
    "start_time": "2022-08-15T19:17:30.445Z"
   },
   {
    "duration": 332,
    "start_time": "2022-08-15T19:17:56.954Z"
   },
   {
    "duration": 3,
    "start_time": "2022-08-15T19:18:20.609Z"
   },
   {
    "duration": 214,
    "start_time": "2022-08-15T19:18:24.683Z"
   },
   {
    "duration": 37,
    "start_time": "2022-08-15T19:18:32.296Z"
   },
   {
    "duration": 366,
    "start_time": "2022-08-15T19:18:36.065Z"
   },
   {
    "duration": 208,
    "start_time": "2022-08-15T19:18:52.841Z"
   },
   {
    "duration": 31,
    "start_time": "2022-08-15T19:19:10.480Z"
   },
   {
    "duration": 9,
    "start_time": "2022-08-15T19:19:25.307Z"
   },
   {
    "duration": 212,
    "start_time": "2022-08-15T19:19:36.146Z"
   },
   {
    "duration": 119,
    "start_time": "2022-08-15T19:20:38.247Z"
   },
   {
    "duration": 274,
    "start_time": "2022-08-15T19:20:48.593Z"
   },
   {
    "duration": 62,
    "start_time": "2022-08-15T19:21:24.257Z"
   },
   {
    "duration": 35,
    "start_time": "2022-08-15T19:21:30.185Z"
   },
   {
    "duration": 33,
    "start_time": "2022-08-15T19:21:43.979Z"
   },
   {
    "duration": 12,
    "start_time": "2022-08-15T19:21:59.451Z"
   },
   {
    "duration": 10,
    "start_time": "2022-08-15T19:22:36.045Z"
   },
   {
    "duration": 31,
    "start_time": "2022-08-15T19:23:13.437Z"
   },
   {
    "duration": 10,
    "start_time": "2022-08-15T19:23:14.246Z"
   },
   {
    "duration": 5,
    "start_time": "2022-08-15T19:23:15.297Z"
   },
   {
    "duration": 10,
    "start_time": "2022-08-15T19:23:16.003Z"
   },
   {
    "duration": 9,
    "start_time": "2022-08-15T19:23:18.245Z"
   },
   {
    "duration": 5,
    "start_time": "2022-08-15T19:43:35.345Z"
   },
   {
    "duration": 22,
    "start_time": "2022-08-15T19:50:55.709Z"
   },
   {
    "duration": 165,
    "start_time": "2022-08-15T19:51:53.545Z"
   },
   {
    "duration": 157,
    "start_time": "2022-08-15T19:53:29.749Z"
   },
   {
    "duration": 150,
    "start_time": "2022-08-15T19:53:44.416Z"
   },
   {
    "duration": 112,
    "start_time": "2022-08-15T19:55:01.497Z"
   },
   {
    "duration": 12,
    "start_time": "2022-08-15T19:56:50.884Z"
   },
   {
    "duration": 6,
    "start_time": "2022-08-15T19:59:17.641Z"
   },
   {
    "duration": 245,
    "start_time": "2022-08-15T20:02:51.549Z"
   },
   {
    "duration": 171,
    "start_time": "2022-08-15T20:03:42.915Z"
   },
   {
    "duration": 195,
    "start_time": "2022-08-15T20:04:36.554Z"
   },
   {
    "duration": 154,
    "start_time": "2022-08-15T20:04:47.750Z"
   },
   {
    "duration": 158,
    "start_time": "2022-08-15T20:05:27.916Z"
   },
   {
    "duration": 168,
    "start_time": "2022-08-15T20:05:34.538Z"
   },
   {
    "duration": 179,
    "start_time": "2022-08-15T20:06:30.993Z"
   },
   {
    "duration": 174,
    "start_time": "2022-08-15T20:06:53.985Z"
   },
   {
    "duration": 167,
    "start_time": "2022-08-15T20:07:34.472Z"
   },
   {
    "duration": 175,
    "start_time": "2022-08-15T20:09:21.483Z"
   },
   {
    "duration": 197,
    "start_time": "2022-08-15T20:10:45.865Z"
   },
   {
    "duration": 172,
    "start_time": "2022-08-15T20:12:51.146Z"
   },
   {
    "duration": 161,
    "start_time": "2022-08-15T20:12:57.592Z"
   },
   {
    "duration": 242,
    "start_time": "2022-08-15T20:13:01.814Z"
   },
   {
    "duration": 177,
    "start_time": "2022-08-15T20:13:11.646Z"
   },
   {
    "duration": 239,
    "start_time": "2022-08-15T20:17:32.366Z"
   },
   {
    "duration": 162,
    "start_time": "2022-08-15T20:20:59.939Z"
   },
   {
    "duration": 160,
    "start_time": "2022-08-15T20:31:31.547Z"
   },
   {
    "duration": 162,
    "start_time": "2022-08-15T20:31:43.335Z"
   },
   {
    "duration": 13,
    "start_time": "2022-08-15T20:43:34.177Z"
   },
   {
    "duration": 15,
    "start_time": "2022-08-15T20:43:59.836Z"
   },
   {
    "duration": 134,
    "start_time": "2022-08-15T20:45:32.548Z"
   },
   {
    "duration": 155,
    "start_time": "2022-08-15T20:46:17.005Z"
   },
   {
    "duration": 146,
    "start_time": "2022-08-15T20:46:27.874Z"
   },
   {
    "duration": 264,
    "start_time": "2022-08-15T20:46:58.166Z"
   },
   {
    "duration": 175,
    "start_time": "2022-08-15T20:56:00.638Z"
   },
   {
    "duration": 250,
    "start_time": "2022-08-15T20:56:42.265Z"
   },
   {
    "duration": 166,
    "start_time": "2022-08-15T20:59:37.530Z"
   },
   {
    "duration": 14,
    "start_time": "2022-08-15T21:18:21.136Z"
   },
   {
    "duration": 270,
    "start_time": "2022-08-15T21:21:00.639Z"
   },
   {
    "duration": 267,
    "start_time": "2022-08-15T21:21:19.934Z"
   },
   {
    "duration": 154,
    "start_time": "2022-08-15T21:22:50.959Z"
   },
   {
    "duration": 5,
    "start_time": "2022-08-15T21:23:09.688Z"
   },
   {
    "duration": 221,
    "start_time": "2022-08-15T21:23:16.184Z"
   },
   {
    "duration": 233,
    "start_time": "2022-08-15T21:24:37.671Z"
   },
   {
    "duration": 273,
    "start_time": "2022-08-15T21:24:55.897Z"
   },
   {
    "duration": 14,
    "start_time": "2022-08-15T21:32:19.972Z"
   },
   {
    "duration": 1357,
    "start_time": "2022-08-15T21:32:43.872Z"
   },
   {
    "duration": 15,
    "start_time": "2022-08-15T21:32:56.999Z"
   },
   {
    "duration": 107,
    "start_time": "2022-08-15T21:33:53.265Z"
   },
   {
    "duration": 221,
    "start_time": "2022-08-15T21:34:19.072Z"
   },
   {
    "duration": 106,
    "start_time": "2022-08-15T21:35:04.144Z"
   },
   {
    "duration": 5,
    "start_time": "2022-08-16T20:08:33.865Z"
   },
   {
    "duration": 186,
    "start_time": "2022-08-16T20:14:57.935Z"
   },
   {
    "duration": 130,
    "start_time": "2022-08-16T20:15:34.327Z"
   },
   {
    "duration": 4,
    "start_time": "2022-08-16T20:21:42.672Z"
   },
   {
    "duration": 12,
    "start_time": "2022-08-16T20:40:53.760Z"
   },
   {
    "duration": 7,
    "start_time": "2022-08-16T20:41:28.583Z"
   },
   {
    "duration": 11,
    "start_time": "2022-08-16T20:41:54.886Z"
   },
   {
    "duration": 10,
    "start_time": "2022-08-16T20:48:21.042Z"
   },
   {
    "duration": 15,
    "start_time": "2022-08-16T20:57:02.723Z"
   },
   {
    "duration": 21,
    "start_time": "2022-08-16T20:57:22.442Z"
   },
   {
    "duration": 18,
    "start_time": "2022-08-16T20:57:27.372Z"
   },
   {
    "duration": 26,
    "start_time": "2022-08-16T21:01:33.423Z"
   },
   {
    "duration": 16,
    "start_time": "2022-08-16T21:02:05.212Z"
   },
   {
    "duration": 30,
    "start_time": "2022-08-16T21:03:30.424Z"
   },
   {
    "duration": 8,
    "start_time": "2022-08-16T21:06:46.650Z"
   },
   {
    "duration": 399,
    "start_time": "2022-08-16T21:07:05.513Z"
   },
   {
    "duration": 5,
    "start_time": "2022-08-16T21:07:11.477Z"
   },
   {
    "duration": 6,
    "start_time": "2022-08-16T21:10:48.525Z"
   },
   {
    "duration": 43,
    "start_time": "2022-08-16T21:12:31.741Z"
   },
   {
    "duration": 13,
    "start_time": "2022-08-16T21:12:39.714Z"
   },
   {
    "duration": 7,
    "start_time": "2022-08-16T21:14:00.081Z"
   },
   {
    "duration": 12,
    "start_time": "2022-08-16T21:24:29.971Z"
   },
   {
    "duration": 11,
    "start_time": "2022-08-16T21:35:05.009Z"
   },
   {
    "duration": 8,
    "start_time": "2022-08-16T21:39:45.095Z"
   },
   {
    "duration": 22,
    "start_time": "2022-08-16T21:39:56.755Z"
   },
   {
    "duration": 7,
    "start_time": "2022-08-16T21:42:05.029Z"
   },
   {
    "duration": 9,
    "start_time": "2022-08-16T21:43:18.556Z"
   },
   {
    "duration": 9,
    "start_time": "2022-08-16T21:43:59.308Z"
   },
   {
    "duration": 164,
    "start_time": "2022-08-16T21:54:54.121Z"
   },
   {
    "duration": 17,
    "start_time": "2022-08-16T21:55:21.382Z"
   },
   {
    "duration": 64,
    "start_time": "2022-08-16T21:55:58.402Z"
   },
   {
    "duration": 12,
    "start_time": "2022-08-16T21:57:14.857Z"
   },
   {
    "duration": 861,
    "start_time": "2022-08-16T21:57:28.243Z"
   },
   {
    "duration": 14,
    "start_time": "2022-08-16T21:57:42.457Z"
   },
   {
    "duration": 5,
    "start_time": "2022-08-17T20:03:21.780Z"
   },
   {
    "duration": 8,
    "start_time": "2022-08-17T20:03:52.331Z"
   },
   {
    "duration": 9,
    "start_time": "2022-08-17T20:03:55.247Z"
   },
   {
    "duration": 11,
    "start_time": "2022-08-17T20:05:09.126Z"
   },
   {
    "duration": 4,
    "start_time": "2022-08-17T20:05:16.943Z"
   },
   {
    "duration": 14,
    "start_time": "2022-08-17T20:07:56.335Z"
   },
   {
    "duration": 13,
    "start_time": "2022-08-17T20:09:14.214Z"
   },
   {
    "duration": 7,
    "start_time": "2022-08-17T20:09:23.369Z"
   },
   {
    "duration": 8,
    "start_time": "2022-08-17T20:10:12.899Z"
   },
   {
    "duration": 9,
    "start_time": "2022-08-17T20:10:34.726Z"
   },
   {
    "duration": 20,
    "start_time": "2022-08-17T20:11:08.830Z"
   },
   {
    "duration": 18,
    "start_time": "2022-08-17T20:14:45.816Z"
   },
   {
    "duration": 17,
    "start_time": "2022-08-17T20:16:18.561Z"
   },
   {
    "duration": 8,
    "start_time": "2022-08-17T20:20:50.032Z"
   },
   {
    "duration": 15,
    "start_time": "2022-08-17T20:20:57.125Z"
   },
   {
    "duration": 12,
    "start_time": "2022-08-17T20:21:52.794Z"
   },
   {
    "duration": 14,
    "start_time": "2022-08-17T20:21:58.603Z"
   },
   {
    "duration": 16,
    "start_time": "2022-08-17T20:22:54.660Z"
   },
   {
    "duration": 14,
    "start_time": "2022-08-17T20:28:21.363Z"
   },
   {
    "duration": 8,
    "start_time": "2022-08-17T20:28:45.186Z"
   },
   {
    "duration": 18,
    "start_time": "2022-08-17T20:29:50.464Z"
   },
   {
    "duration": 22,
    "start_time": "2022-08-17T20:31:40.293Z"
   },
   {
    "duration": 8,
    "start_time": "2022-08-17T20:33:49.961Z"
   },
   {
    "duration": 7,
    "start_time": "2022-08-17T20:47:27.744Z"
   },
   {
    "duration": 8,
    "start_time": "2022-08-17T20:48:26.366Z"
   },
   {
    "duration": 5,
    "start_time": "2022-08-17T20:49:59.975Z"
   },
   {
    "duration": 6,
    "start_time": "2022-08-17T20:52:01.381Z"
   },
   {
    "duration": 5,
    "start_time": "2022-08-17T20:58:42.200Z"
   },
   {
    "duration": 5,
    "start_time": "2022-08-17T20:58:45.742Z"
   },
   {
    "duration": 5,
    "start_time": "2022-08-17T20:58:55.179Z"
   },
   {
    "duration": 1014,
    "start_time": "2022-08-17T21:27:17.986Z"
   },
   {
    "duration": 39,
    "start_time": "2022-08-17T21:27:19.002Z"
   },
   {
    "duration": 12,
    "start_time": "2022-08-17T21:27:19.043Z"
   },
   {
    "duration": 11,
    "start_time": "2022-08-17T21:27:19.056Z"
   },
   {
    "duration": 47,
    "start_time": "2022-08-17T21:27:19.068Z"
   },
   {
    "duration": 6,
    "start_time": "2022-08-17T21:27:19.117Z"
   },
   {
    "duration": 13,
    "start_time": "2022-08-17T21:27:19.124Z"
   },
   {
    "duration": 11,
    "start_time": "2022-08-17T21:27:19.139Z"
   },
   {
    "duration": 24,
    "start_time": "2022-08-17T21:27:19.151Z"
   },
   {
    "duration": 9,
    "start_time": "2022-08-17T21:27:19.177Z"
   },
   {
    "duration": 9,
    "start_time": "2022-08-17T21:27:19.188Z"
   },
   {
    "duration": 16,
    "start_time": "2022-08-17T21:27:19.198Z"
   },
   {
    "duration": 6,
    "start_time": "2022-08-17T21:27:19.216Z"
   },
   {
    "duration": 184,
    "start_time": "2022-08-17T21:27:19.239Z"
   },
   {
    "duration": 133,
    "start_time": "2022-08-17T21:27:19.424Z"
   },
   {
    "duration": 11,
    "start_time": "2022-08-17T21:27:19.559Z"
   },
   {
    "duration": 8,
    "start_time": "2022-08-17T21:27:19.571Z"
   },
   {
    "duration": 257,
    "start_time": "2022-08-17T21:27:19.581Z"
   },
   {
    "duration": 171,
    "start_time": "2022-08-17T21:27:19.839Z"
   },
   {
    "duration": 12,
    "start_time": "2022-08-17T21:27:20.011Z"
   },
   {
    "duration": 282,
    "start_time": "2022-08-17T21:27:20.024Z"
   },
   {
    "duration": 175,
    "start_time": "2022-08-17T21:27:20.308Z"
   },
   {
    "duration": 19,
    "start_time": "2022-08-17T21:27:20.485Z"
   },
   {
    "duration": 309,
    "start_time": "2022-08-17T21:27:20.506Z"
   },
   {
    "duration": 123,
    "start_time": "2022-08-17T21:27:20.817Z"
   },
   {
    "duration": 4,
    "start_time": "2022-08-17T21:27:20.942Z"
   },
   {
    "duration": 126,
    "start_time": "2022-08-17T21:27:20.948Z"
   },
   {
    "duration": 4,
    "start_time": "2022-08-17T21:27:21.075Z"
   },
   {
    "duration": 27,
    "start_time": "2022-08-17T21:27:21.081Z"
   },
   {
    "duration": 28,
    "start_time": "2022-08-17T21:27:21.110Z"
   },
   {
    "duration": 9,
    "start_time": "2022-08-17T21:27:21.140Z"
   },
   {
    "duration": 11,
    "start_time": "2022-08-17T21:27:21.151Z"
   },
   {
    "duration": 10,
    "start_time": "2022-08-17T21:27:21.164Z"
   },
   {
    "duration": 12,
    "start_time": "2022-08-17T21:27:21.175Z"
   },
   {
    "duration": 19,
    "start_time": "2022-08-17T21:27:21.189Z"
   },
   {
    "duration": 40,
    "start_time": "2022-08-17T21:27:21.210Z"
   },
   {
    "duration": 19,
    "start_time": "2022-08-17T21:27:21.252Z"
   },
   {
    "duration": 19,
    "start_time": "2022-08-17T21:27:21.273Z"
   },
   {
    "duration": 6,
    "start_time": "2022-08-17T21:27:21.294Z"
   },
   {
    "duration": 14,
    "start_time": "2022-08-17T21:27:21.301Z"
   },
   {
    "duration": 26,
    "start_time": "2022-08-17T21:27:21.318Z"
   },
   {
    "duration": 45,
    "start_time": "2022-08-17T21:30:23.243Z"
   },
   {
    "duration": 1095,
    "start_time": "2022-08-17T21:30:38.417Z"
   },
   {
    "duration": 34,
    "start_time": "2022-08-17T21:30:39.514Z"
   },
   {
    "duration": 11,
    "start_time": "2022-08-17T21:30:39.550Z"
   },
   {
    "duration": 13,
    "start_time": "2022-08-17T21:30:39.563Z"
   },
   {
    "duration": 45,
    "start_time": "2022-08-17T21:30:39.578Z"
   },
   {
    "duration": 6,
    "start_time": "2022-08-17T21:30:39.625Z"
   },
   {
    "duration": 12,
    "start_time": "2022-08-17T21:30:39.632Z"
   },
   {
    "duration": 12,
    "start_time": "2022-08-17T21:30:39.646Z"
   },
   {
    "duration": 24,
    "start_time": "2022-08-17T21:30:39.660Z"
   },
   {
    "duration": 11,
    "start_time": "2022-08-17T21:30:39.687Z"
   },
   {
    "duration": 19,
    "start_time": "2022-08-17T21:30:39.700Z"
   },
   {
    "duration": 15,
    "start_time": "2022-08-17T21:30:39.721Z"
   },
   {
    "duration": 8,
    "start_time": "2022-08-17T21:30:39.737Z"
   },
   {
    "duration": 160,
    "start_time": "2022-08-17T21:30:39.746Z"
   },
   {
    "duration": 135,
    "start_time": "2022-08-17T21:30:39.907Z"
   },
   {
    "duration": 20,
    "start_time": "2022-08-17T21:30:40.043Z"
   },
   {
    "duration": 24,
    "start_time": "2022-08-17T21:30:40.065Z"
   },
   {
    "duration": 258,
    "start_time": "2022-08-17T21:30:40.091Z"
   },
   {
    "duration": 180,
    "start_time": "2022-08-17T21:30:40.351Z"
   },
   {
    "duration": 15,
    "start_time": "2022-08-17T21:30:40.532Z"
   },
   {
    "duration": 266,
    "start_time": "2022-08-17T21:30:40.548Z"
   },
   {
    "duration": 171,
    "start_time": "2022-08-17T21:30:40.816Z"
   },
   {
    "duration": 14,
    "start_time": "2022-08-17T21:30:40.988Z"
   },
   {
    "duration": 283,
    "start_time": "2022-08-17T21:30:41.004Z"
   },
   {
    "duration": 120,
    "start_time": "2022-08-17T21:30:41.290Z"
   },
   {
    "duration": 5,
    "start_time": "2022-08-17T21:30:41.411Z"
   },
   {
    "duration": 129,
    "start_time": "2022-08-17T21:30:41.417Z"
   },
   {
    "duration": 4,
    "start_time": "2022-08-17T21:30:41.549Z"
   },
   {
    "duration": 21,
    "start_time": "2022-08-17T21:30:41.555Z"
   },
   {
    "duration": 19,
    "start_time": "2022-08-17T21:30:41.578Z"
   },
   {
    "duration": 9,
    "start_time": "2022-08-17T21:30:41.599Z"
   },
   {
    "duration": 33,
    "start_time": "2022-08-17T21:30:41.609Z"
   },
   {
    "duration": 13,
    "start_time": "2022-08-17T21:30:41.644Z"
   },
   {
    "duration": 23,
    "start_time": "2022-08-17T21:30:41.659Z"
   },
   {
    "duration": 20,
    "start_time": "2022-08-17T21:30:41.684Z"
   },
   {
    "duration": 20,
    "start_time": "2022-08-17T21:30:41.705Z"
   },
   {
    "duration": 17,
    "start_time": "2022-08-17T21:30:41.739Z"
   },
   {
    "duration": 20,
    "start_time": "2022-08-17T21:30:41.757Z"
   },
   {
    "duration": 5,
    "start_time": "2022-08-17T21:30:41.779Z"
   },
   {
    "duration": 8,
    "start_time": "2022-08-17T21:30:41.785Z"
   },
   {
    "duration": 8,
    "start_time": "2022-08-17T21:30:41.794Z"
   },
   {
    "duration": 1065,
    "start_time": "2022-08-17T21:31:35.443Z"
   },
   {
    "duration": 38,
    "start_time": "2022-08-17T21:31:36.511Z"
   },
   {
    "duration": 11,
    "start_time": "2022-08-17T21:31:36.550Z"
   },
   {
    "duration": 10,
    "start_time": "2022-08-17T21:31:36.563Z"
   },
   {
    "duration": 47,
    "start_time": "2022-08-17T21:31:36.574Z"
   },
   {
    "duration": 5,
    "start_time": "2022-08-17T21:31:36.623Z"
   },
   {
    "duration": 12,
    "start_time": "2022-08-17T21:31:36.630Z"
   },
   {
    "duration": 26,
    "start_time": "2022-08-17T21:31:36.644Z"
   },
   {
    "duration": 23,
    "start_time": "2022-08-17T21:31:36.672Z"
   },
   {
    "duration": 11,
    "start_time": "2022-08-17T21:31:36.697Z"
   },
   {
    "duration": 11,
    "start_time": "2022-08-17T21:31:36.709Z"
   },
   {
    "duration": 15,
    "start_time": "2022-08-17T21:31:36.722Z"
   },
   {
    "duration": 17,
    "start_time": "2022-08-17T21:31:36.739Z"
   },
   {
    "duration": 166,
    "start_time": "2022-08-17T21:31:36.758Z"
   },
   {
    "duration": 118,
    "start_time": "2022-08-17T21:31:36.926Z"
   },
   {
    "duration": 11,
    "start_time": "2022-08-17T21:31:37.046Z"
   },
   {
    "duration": 15,
    "start_time": "2022-08-17T21:31:37.059Z"
   },
   {
    "duration": 252,
    "start_time": "2022-08-17T21:31:37.075Z"
   },
   {
    "duration": 176,
    "start_time": "2022-08-17T21:31:37.328Z"
   },
   {
    "duration": 11,
    "start_time": "2022-08-17T21:31:37.505Z"
   },
   {
    "duration": 311,
    "start_time": "2022-08-17T21:31:37.517Z"
   },
   {
    "duration": 176,
    "start_time": "2022-08-17T21:31:37.829Z"
   },
   {
    "duration": 13,
    "start_time": "2022-08-17T21:31:38.006Z"
   },
   {
    "duration": 273,
    "start_time": "2022-08-17T21:31:38.021Z"
   },
   {
    "duration": 129,
    "start_time": "2022-08-17T21:31:38.296Z"
   },
   {
    "duration": 4,
    "start_time": "2022-08-17T21:31:38.426Z"
   },
   {
    "duration": 131,
    "start_time": "2022-08-17T21:31:38.438Z"
   },
   {
    "duration": 5,
    "start_time": "2022-08-17T21:31:38.572Z"
   },
   {
    "duration": 18,
    "start_time": "2022-08-17T21:31:38.578Z"
   },
   {
    "duration": 43,
    "start_time": "2022-08-17T21:31:38.598Z"
   },
   {
    "duration": 6,
    "start_time": "2022-08-17T21:31:38.643Z"
   },
   {
    "duration": 10,
    "start_time": "2022-08-17T21:31:38.651Z"
   },
   {
    "duration": 11,
    "start_time": "2022-08-17T21:31:38.662Z"
   },
   {
    "duration": 12,
    "start_time": "2022-08-17T21:31:38.675Z"
   },
   {
    "duration": 56,
    "start_time": "2022-08-17T21:31:38.689Z"
   },
   {
    "duration": 19,
    "start_time": "2022-08-17T21:31:38.747Z"
   },
   {
    "duration": 15,
    "start_time": "2022-08-17T21:31:38.767Z"
   },
   {
    "duration": 19,
    "start_time": "2022-08-17T21:31:38.784Z"
   },
   {
    "duration": 5,
    "start_time": "2022-08-17T21:31:38.804Z"
   },
   {
    "duration": 33,
    "start_time": "2022-08-17T21:31:38.811Z"
   },
   {
    "duration": 12,
    "start_time": "2022-08-17T21:31:38.846Z"
   },
   {
    "duration": 15,
    "start_time": "2022-08-17T21:31:41.989Z"
   },
   {
    "duration": 151,
    "start_time": "2022-08-17T21:32:39.836Z"
   },
   {
    "duration": 163,
    "start_time": "2022-08-17T21:36:04.941Z"
   },
   {
    "duration": 7,
    "start_time": "2022-08-17T21:36:09.417Z"
   },
   {
    "duration": 7,
    "start_time": "2022-08-17T21:36:32.174Z"
   },
   {
    "duration": 181,
    "start_time": "2022-08-17T21:37:22.428Z"
   },
   {
    "duration": 236,
    "start_time": "2022-08-17T21:38:37.764Z"
   },
   {
    "duration": 16,
    "start_time": "2022-08-17T22:05:40.767Z"
   },
   {
    "duration": 1358,
    "start_time": "2022-08-18T09:15:00.931Z"
   },
   {
    "duration": 95,
    "start_time": "2022-08-18T09:15:02.292Z"
   },
   {
    "duration": 10,
    "start_time": "2022-08-18T09:15:02.388Z"
   },
   {
    "duration": 12,
    "start_time": "2022-08-18T09:15:02.400Z"
   },
   {
    "duration": 246,
    "start_time": "2022-08-18T09:15:02.414Z"
   },
   {
    "duration": 8,
    "start_time": "2022-08-18T09:15:02.662Z"
   },
   {
    "duration": 15,
    "start_time": "2022-08-18T09:15:02.671Z"
   },
   {
    "duration": 21,
    "start_time": "2022-08-18T09:15:02.687Z"
   },
   {
    "duration": 90,
    "start_time": "2022-08-18T09:15:02.709Z"
   },
   {
    "duration": 10,
    "start_time": "2022-08-18T09:15:02.801Z"
   },
   {
    "duration": 9,
    "start_time": "2022-08-18T09:15:02.813Z"
   },
   {
    "duration": 16,
    "start_time": "2022-08-18T09:15:02.824Z"
   },
   {
    "duration": 12,
    "start_time": "2022-08-18T09:15:02.841Z"
   },
   {
    "duration": 182,
    "start_time": "2022-08-18T09:15:02.854Z"
   },
   {
    "duration": 130,
    "start_time": "2022-08-18T09:15:03.038Z"
   },
   {
    "duration": 19,
    "start_time": "2022-08-18T09:15:03.169Z"
   },
   {
    "duration": 17,
    "start_time": "2022-08-18T09:15:03.190Z"
   },
   {
    "duration": 290,
    "start_time": "2022-08-18T09:15:03.209Z"
   },
   {
    "duration": 192,
    "start_time": "2022-08-18T09:15:03.501Z"
   },
   {
    "duration": 15,
    "start_time": "2022-08-18T09:15:03.694Z"
   },
   {
    "duration": 362,
    "start_time": "2022-08-18T09:15:03.710Z"
   },
   {
    "duration": 180,
    "start_time": "2022-08-18T09:15:04.073Z"
   },
   {
    "duration": 12,
    "start_time": "2022-08-18T09:15:04.255Z"
   },
   {
    "duration": 302,
    "start_time": "2022-08-18T09:15:04.269Z"
   },
   {
    "duration": 132,
    "start_time": "2022-08-18T09:15:04.573Z"
   },
   {
    "duration": 4,
    "start_time": "2022-08-18T09:15:04.706Z"
   },
   {
    "duration": 149,
    "start_time": "2022-08-18T09:15:04.712Z"
   },
   {
    "duration": 5,
    "start_time": "2022-08-18T09:15:04.864Z"
   },
   {
    "duration": 51,
    "start_time": "2022-08-18T09:15:04.870Z"
   },
   {
    "duration": 46,
    "start_time": "2022-08-18T09:15:04.922Z"
   },
   {
    "duration": 19,
    "start_time": "2022-08-18T09:15:04.970Z"
   },
   {
    "duration": 53,
    "start_time": "2022-08-18T09:15:04.991Z"
   },
   {
    "duration": 25,
    "start_time": "2022-08-18T09:15:05.046Z"
   },
   {
    "duration": 15,
    "start_time": "2022-08-18T09:15:05.073Z"
   },
   {
    "duration": 51,
    "start_time": "2022-08-18T09:15:05.090Z"
   },
   {
    "duration": 50,
    "start_time": "2022-08-18T09:15:05.144Z"
   },
   {
    "duration": 28,
    "start_time": "2022-08-18T09:15:05.196Z"
   },
   {
    "duration": 40,
    "start_time": "2022-08-18T09:15:05.226Z"
   },
   {
    "duration": 21,
    "start_time": "2022-08-18T09:15:05.267Z"
   },
   {
    "duration": 31,
    "start_time": "2022-08-18T09:15:05.290Z"
   },
   {
    "duration": 19,
    "start_time": "2022-08-18T09:15:05.322Z"
   },
   {
    "duration": 18,
    "start_time": "2022-08-18T09:15:05.342Z"
   },
   {
    "duration": 171,
    "start_time": "2022-08-18T09:15:05.362Z"
   },
   {
    "duration": 5,
    "start_time": "2022-08-18T09:15:05.535Z"
   },
   {
    "duration": 209,
    "start_time": "2022-08-18T09:15:05.541Z"
   },
   {
    "duration": 49,
    "start_time": "2022-08-19T20:26:32.283Z"
   },
   {
    "duration": 6,
    "start_time": "2022-08-19T20:26:44.651Z"
   },
   {
    "duration": 1259,
    "start_time": "2022-08-19T20:26:48.283Z"
   },
   {
    "duration": 140,
    "start_time": "2022-08-19T20:26:50.727Z"
   },
   {
    "duration": 48,
    "start_time": "2022-08-19T20:26:55.167Z"
   },
   {
    "duration": 29,
    "start_time": "2022-08-19T20:27:28.757Z"
   },
   {
    "duration": 36,
    "start_time": "2022-08-19T20:27:34.088Z"
   },
   {
    "duration": 13,
    "start_time": "2022-08-19T20:29:06.326Z"
   },
   {
    "duration": 17,
    "start_time": "2022-08-19T20:32:23.236Z"
   },
   {
    "duration": 4,
    "start_time": "2022-08-19T20:50:07.427Z"
   },
   {
    "duration": 37,
    "start_time": "2022-08-19T20:50:07.434Z"
   },
   {
    "duration": 12,
    "start_time": "2022-08-19T20:50:07.473Z"
   },
   {
    "duration": 13,
    "start_time": "2022-08-19T20:50:07.487Z"
   },
   {
    "duration": 98,
    "start_time": "2022-08-19T20:50:07.504Z"
   },
   {
    "duration": 12,
    "start_time": "2022-08-19T20:50:07.605Z"
   },
   {
    "duration": 26,
    "start_time": "2022-08-19T20:50:07.620Z"
   },
   {
    "duration": 15,
    "start_time": "2022-08-19T20:50:07.648Z"
   },
   {
    "duration": 77,
    "start_time": "2022-08-19T20:50:07.665Z"
   },
   {
    "duration": 12,
    "start_time": "2022-08-19T20:50:07.743Z"
   },
   {
    "duration": 8,
    "start_time": "2022-08-19T20:50:07.756Z"
   },
   {
    "duration": 20,
    "start_time": "2022-08-19T20:50:07.767Z"
   },
   {
    "duration": 6,
    "start_time": "2022-08-19T20:50:07.789Z"
   },
   {
    "duration": 179,
    "start_time": "2022-08-19T20:50:07.798Z"
   },
   {
    "duration": 162,
    "start_time": "2022-08-19T20:50:07.980Z"
   },
   {
    "duration": 19,
    "start_time": "2022-08-19T20:50:08.143Z"
   },
   {
    "duration": 10,
    "start_time": "2022-08-19T20:50:08.164Z"
   },
   {
    "duration": 297,
    "start_time": "2022-08-19T20:50:08.176Z"
   },
   {
    "duration": 209,
    "start_time": "2022-08-19T20:50:08.475Z"
   },
   {
    "duration": 13,
    "start_time": "2022-08-19T20:50:08.686Z"
   },
   {
    "duration": 336,
    "start_time": "2022-08-19T20:50:08.705Z"
   },
   {
    "duration": 183,
    "start_time": "2022-08-19T20:50:09.043Z"
   },
   {
    "duration": 13,
    "start_time": "2022-08-19T20:50:09.228Z"
   },
   {
    "duration": 250,
    "start_time": "2022-08-19T20:50:09.243Z"
   },
   {
    "duration": 159,
    "start_time": "2022-08-19T20:50:09.495Z"
   },
   {
    "duration": 5,
    "start_time": "2022-08-19T20:50:09.656Z"
   },
   {
    "duration": 164,
    "start_time": "2022-08-19T20:50:09.662Z"
   },
   {
    "duration": 4,
    "start_time": "2022-08-19T20:50:09.828Z"
   },
   {
    "duration": 20,
    "start_time": "2022-08-19T20:50:09.834Z"
   },
   {
    "duration": 24,
    "start_time": "2022-08-19T20:50:09.856Z"
   },
   {
    "duration": 32,
    "start_time": "2022-08-19T20:50:09.882Z"
   },
   {
    "duration": 130,
    "start_time": "2022-08-19T20:53:21.020Z"
   },
   {
    "duration": 11,
    "start_time": "2022-08-19T20:57:16.385Z"
   },
   {
    "duration": 7,
    "start_time": "2022-08-19T20:57:47.683Z"
   },
   {
    "duration": 29,
    "start_time": "2022-08-19T20:58:30.523Z"
   },
   {
    "duration": 19,
    "start_time": "2022-08-19T21:02:31.043Z"
   },
   {
    "duration": 19,
    "start_time": "2022-08-19T21:02:44.628Z"
   },
   {
    "duration": 19,
    "start_time": "2022-08-19T21:02:48.811Z"
   },
   {
    "duration": 21,
    "start_time": "2022-08-19T21:02:54.091Z"
   },
   {
    "duration": 20,
    "start_time": "2022-08-19T21:04:05.594Z"
   },
   {
    "duration": 20,
    "start_time": "2022-08-19T21:04:15.387Z"
   },
   {
    "duration": 19,
    "start_time": "2022-08-19T21:05:22.769Z"
   },
   {
    "duration": 13,
    "start_time": "2022-08-19T21:21:07.809Z"
   },
   {
    "duration": 2,
    "start_time": "2022-08-19T21:21:21.106Z"
   },
   {
    "duration": 36,
    "start_time": "2022-08-19T21:21:21.110Z"
   },
   {
    "duration": 9,
    "start_time": "2022-08-19T21:21:21.148Z"
   },
   {
    "duration": 13,
    "start_time": "2022-08-19T21:21:21.159Z"
   },
   {
    "duration": 44,
    "start_time": "2022-08-19T21:21:21.173Z"
   },
   {
    "duration": 8,
    "start_time": "2022-08-19T21:21:21.220Z"
   },
   {
    "duration": 16,
    "start_time": "2022-08-19T21:21:21.230Z"
   },
   {
    "duration": 18,
    "start_time": "2022-08-19T21:21:21.248Z"
   },
   {
    "duration": 19,
    "start_time": "2022-08-19T21:21:21.270Z"
   },
   {
    "duration": 18,
    "start_time": "2022-08-19T21:21:21.291Z"
   },
   {
    "duration": 7,
    "start_time": "2022-08-19T21:21:21.310Z"
   },
   {
    "duration": 11,
    "start_time": "2022-08-19T21:21:21.318Z"
   },
   {
    "duration": 8,
    "start_time": "2022-08-19T21:21:21.331Z"
   },
   {
    "duration": 169,
    "start_time": "2022-08-19T21:21:21.340Z"
   },
   {
    "duration": 119,
    "start_time": "2022-08-19T21:21:21.510Z"
   },
   {
    "duration": 13,
    "start_time": "2022-08-19T21:21:21.631Z"
   },
   {
    "duration": 7,
    "start_time": "2022-08-19T21:21:21.646Z"
   },
   {
    "duration": 180,
    "start_time": "2022-08-19T21:21:21.655Z"
   },
   {
    "duration": 249,
    "start_time": "2022-08-19T21:21:21.837Z"
   },
   {
    "duration": 19,
    "start_time": "2022-08-19T21:21:22.088Z"
   },
   {
    "duration": 285,
    "start_time": "2022-08-19T21:21:22.108Z"
   },
   {
    "duration": 167,
    "start_time": "2022-08-19T21:21:22.395Z"
   },
   {
    "duration": 13,
    "start_time": "2022-08-19T21:21:22.564Z"
   },
   {
    "duration": 285,
    "start_time": "2022-08-19T21:21:22.582Z"
   },
   {
    "duration": 152,
    "start_time": "2022-08-19T21:21:22.869Z"
   },
   {
    "duration": 3,
    "start_time": "2022-08-19T21:21:23.023Z"
   },
   {
    "duration": 129,
    "start_time": "2022-08-19T21:21:23.028Z"
   },
   {
    "duration": 4,
    "start_time": "2022-08-19T21:21:23.158Z"
   },
   {
    "duration": 17,
    "start_time": "2022-08-19T21:21:23.164Z"
   },
   {
    "duration": 41,
    "start_time": "2022-08-19T21:21:23.183Z"
   },
   {
    "duration": 9,
    "start_time": "2022-08-19T21:21:23.226Z"
   },
   {
    "duration": 139,
    "start_time": "2022-08-19T21:21:23.236Z"
   },
   {
    "duration": 6,
    "start_time": "2022-08-19T21:21:23.376Z"
   },
   {
    "duration": 28,
    "start_time": "2022-08-19T21:21:23.384Z"
   },
   {
    "duration": 10,
    "start_time": "2022-08-19T21:21:23.414Z"
   },
   {
    "duration": 11,
    "start_time": "2022-08-19T21:21:23.425Z"
   },
   {
    "duration": 9,
    "start_time": "2022-08-19T21:21:23.438Z"
   },
   {
    "duration": 18,
    "start_time": "2022-08-19T21:21:23.448Z"
   },
   {
    "duration": 46,
    "start_time": "2022-08-19T21:21:23.468Z"
   },
   {
    "duration": 17,
    "start_time": "2022-08-19T21:21:23.516Z"
   },
   {
    "duration": 21,
    "start_time": "2022-08-19T21:21:23.535Z"
   },
   {
    "duration": 5,
    "start_time": "2022-08-19T21:21:23.557Z"
   },
   {
    "duration": 1234,
    "start_time": "2022-08-19T21:21:28.270Z"
   },
   {
    "duration": 10,
    "start_time": "2022-08-19T21:21:58.967Z"
   },
   {
    "duration": 11,
    "start_time": "2022-08-19T21:24:09.121Z"
   },
   {
    "duration": 8,
    "start_time": "2022-08-19T21:26:38.611Z"
   },
   {
    "duration": 10,
    "start_time": "2022-08-19T21:27:23.961Z"
   },
   {
    "duration": 9,
    "start_time": "2022-08-19T21:27:32.005Z"
   },
   {
    "duration": 36,
    "start_time": "2022-08-19T21:27:33.059Z"
   },
   {
    "duration": 179,
    "start_time": "2022-08-19T21:43:27.735Z"
   },
   {
    "duration": 181,
    "start_time": "2022-08-19T21:45:39.610Z"
   },
   {
    "duration": 222,
    "start_time": "2022-08-19T21:47:25.011Z"
   },
   {
    "duration": 245,
    "start_time": "2022-08-19T21:47:32.438Z"
   },
   {
    "duration": 207,
    "start_time": "2022-08-19T22:02:46.949Z"
   },
   {
    "duration": 205,
    "start_time": "2022-08-19T22:06:33.593Z"
   },
   {
    "duration": 115,
    "start_time": "2022-08-19T22:08:24.685Z"
   },
   {
    "duration": 135,
    "start_time": "2022-08-19T22:08:40.548Z"
   },
   {
    "duration": 125,
    "start_time": "2022-08-19T22:08:53.804Z"
   },
   {
    "duration": 127,
    "start_time": "2022-08-19T22:08:59.238Z"
   },
   {
    "duration": 11,
    "start_time": "2022-08-19T22:13:15.756Z"
   },
   {
    "duration": 4,
    "start_time": "2022-08-19T22:15:09.341Z"
   },
   {
    "duration": 5,
    "start_time": "2022-08-19T22:15:35.580Z"
   },
   {
    "duration": 12,
    "start_time": "2022-08-19T22:16:11.633Z"
   },
   {
    "duration": 9,
    "start_time": "2022-08-19T22:16:38.129Z"
   },
   {
    "duration": 10,
    "start_time": "2022-08-19T22:19:19.390Z"
   },
   {
    "duration": 2,
    "start_time": "2022-08-19T22:19:28.633Z"
   },
   {
    "duration": 36,
    "start_time": "2022-08-19T22:19:28.637Z"
   },
   {
    "duration": 10,
    "start_time": "2022-08-19T22:19:28.674Z"
   },
   {
    "duration": 15,
    "start_time": "2022-08-19T22:19:28.685Z"
   },
   {
    "duration": 81,
    "start_time": "2022-08-19T22:19:28.702Z"
   },
   {
    "duration": 6,
    "start_time": "2022-08-19T22:19:28.785Z"
   },
   {
    "duration": 11,
    "start_time": "2022-08-19T22:19:28.793Z"
   },
   {
    "duration": 24,
    "start_time": "2022-08-19T22:19:28.806Z"
   },
   {
    "duration": 23,
    "start_time": "2022-08-19T22:19:28.832Z"
   },
   {
    "duration": 10,
    "start_time": "2022-08-19T22:19:28.856Z"
   },
   {
    "duration": 7,
    "start_time": "2022-08-19T22:19:28.867Z"
   },
   {
    "duration": 12,
    "start_time": "2022-08-19T22:19:28.876Z"
   },
   {
    "duration": 7,
    "start_time": "2022-08-19T22:19:28.890Z"
   },
   {
    "duration": 161,
    "start_time": "2022-08-19T22:19:28.898Z"
   },
   {
    "duration": 134,
    "start_time": "2022-08-19T22:19:29.060Z"
   },
   {
    "duration": 28,
    "start_time": "2022-08-19T22:19:29.195Z"
   },
   {
    "duration": 6,
    "start_time": "2022-08-19T22:19:29.225Z"
   },
   {
    "duration": 186,
    "start_time": "2022-08-19T22:19:29.233Z"
   },
   {
    "duration": 167,
    "start_time": "2022-08-19T22:19:29.421Z"
   },
   {
    "duration": 26,
    "start_time": "2022-08-19T22:19:29.590Z"
   },
   {
    "duration": 282,
    "start_time": "2022-08-19T22:19:29.618Z"
   },
   {
    "duration": 211,
    "start_time": "2022-08-19T22:19:29.912Z"
   },
   {
    "duration": 14,
    "start_time": "2022-08-19T22:19:30.124Z"
   },
   {
    "duration": 252,
    "start_time": "2022-08-19T22:19:30.140Z"
   },
   {
    "duration": 135,
    "start_time": "2022-08-19T22:19:30.393Z"
   },
   {
    "duration": 3,
    "start_time": "2022-08-19T22:19:30.530Z"
   },
   {
    "duration": 237,
    "start_time": "2022-08-19T22:19:30.534Z"
   },
   {
    "duration": 147,
    "start_time": "2022-08-19T22:19:30.773Z"
   },
   {
    "duration": 4,
    "start_time": "2022-08-19T22:19:30.923Z"
   },
   {
    "duration": 38,
    "start_time": "2022-08-19T22:19:30.928Z"
   },
   {
    "duration": 23,
    "start_time": "2022-08-19T22:19:30.968Z"
   },
   {
    "duration": 12,
    "start_time": "2022-08-19T22:19:30.993Z"
   },
   {
    "duration": 140,
    "start_time": "2022-08-19T22:19:31.006Z"
   },
   {
    "duration": 8,
    "start_time": "2022-08-19T22:19:31.149Z"
   },
   {
    "duration": 28,
    "start_time": "2022-08-19T22:19:31.160Z"
   },
   {
    "duration": 29,
    "start_time": "2022-08-19T22:19:31.190Z"
   },
   {
    "duration": 21,
    "start_time": "2022-08-19T22:19:31.227Z"
   },
   {
    "duration": 16,
    "start_time": "2022-08-19T22:19:31.251Z"
   },
   {
    "duration": 48,
    "start_time": "2022-08-19T22:19:31.269Z"
   },
   {
    "duration": 38,
    "start_time": "2022-08-19T22:19:31.319Z"
   },
   {
    "duration": 40,
    "start_time": "2022-08-19T22:19:31.359Z"
   },
   {
    "duration": 36,
    "start_time": "2022-08-19T22:19:31.401Z"
   },
   {
    "duration": 16,
    "start_time": "2022-08-19T22:19:31.438Z"
   },
   {
    "duration": 29,
    "start_time": "2022-08-19T22:19:31.456Z"
   },
   {
    "duration": 60,
    "start_time": "2022-08-19T22:19:31.487Z"
   },
   {
    "duration": 14,
    "start_time": "2022-08-19T22:19:31.549Z"
   },
   {
    "duration": 6,
    "start_time": "2022-08-19T22:19:33.487Z"
   },
   {
    "duration": 9,
    "start_time": "2022-08-19T22:20:09.193Z"
   },
   {
    "duration": 3,
    "start_time": "2022-08-19T22:20:17.234Z"
   },
   {
    "duration": 39,
    "start_time": "2022-08-19T22:20:17.239Z"
   },
   {
    "duration": 11,
    "start_time": "2022-08-19T22:20:17.280Z"
   },
   {
    "duration": 22,
    "start_time": "2022-08-19T22:20:17.293Z"
   },
   {
    "duration": 45,
    "start_time": "2022-08-19T22:20:17.317Z"
   },
   {
    "duration": 5,
    "start_time": "2022-08-19T22:20:17.364Z"
   },
   {
    "duration": 13,
    "start_time": "2022-08-19T22:20:17.371Z"
   },
   {
    "duration": 11,
    "start_time": "2022-08-19T22:20:17.385Z"
   },
   {
    "duration": 32,
    "start_time": "2022-08-19T22:20:17.398Z"
   },
   {
    "duration": 11,
    "start_time": "2022-08-19T22:20:17.432Z"
   },
   {
    "duration": 8,
    "start_time": "2022-08-19T22:20:17.444Z"
   },
   {
    "duration": 14,
    "start_time": "2022-08-19T22:20:17.453Z"
   },
   {
    "duration": 10,
    "start_time": "2022-08-19T22:20:17.470Z"
   },
   {
    "duration": 226,
    "start_time": "2022-08-19T22:20:17.484Z"
   },
   {
    "duration": 141,
    "start_time": "2022-08-19T22:20:17.718Z"
   },
   {
    "duration": 12,
    "start_time": "2022-08-19T22:20:17.861Z"
   },
   {
    "duration": 7,
    "start_time": "2022-08-19T22:20:17.875Z"
   },
   {
    "duration": 210,
    "start_time": "2022-08-19T22:20:17.884Z"
   },
   {
    "duration": 183,
    "start_time": "2022-08-19T22:20:18.095Z"
   },
   {
    "duration": 11,
    "start_time": "2022-08-19T22:20:18.279Z"
   },
   {
    "duration": 296,
    "start_time": "2022-08-19T22:20:18.291Z"
   },
   {
    "duration": 191,
    "start_time": "2022-08-19T22:20:18.588Z"
   },
   {
    "duration": 13,
    "start_time": "2022-08-19T22:20:18.781Z"
   },
   {
    "duration": 290,
    "start_time": "2022-08-19T22:20:18.795Z"
   },
   {
    "duration": 149,
    "start_time": "2022-08-19T22:20:19.087Z"
   },
   {
    "duration": 5,
    "start_time": "2022-08-19T22:20:19.237Z"
   },
   {
    "duration": 152,
    "start_time": "2022-08-19T22:20:19.243Z"
   },
   {
    "duration": 139,
    "start_time": "2022-08-19T22:20:19.397Z"
   },
   {
    "duration": 6,
    "start_time": "2022-08-19T22:20:19.537Z"
   },
   {
    "duration": 19,
    "start_time": "2022-08-19T22:20:19.545Z"
   },
   {
    "duration": 52,
    "start_time": "2022-08-19T22:20:19.565Z"
   },
   {
    "duration": 8,
    "start_time": "2022-08-19T22:20:19.620Z"
   },
   {
    "duration": 148,
    "start_time": "2022-08-19T22:20:19.631Z"
   },
   {
    "duration": 6,
    "start_time": "2022-08-19T22:20:19.781Z"
   },
   {
    "duration": 37,
    "start_time": "2022-08-19T22:20:19.789Z"
   },
   {
    "duration": 9,
    "start_time": "2022-08-19T22:20:19.828Z"
   },
   {
    "duration": 10,
    "start_time": "2022-08-19T22:20:19.839Z"
   },
   {
    "duration": 9,
    "start_time": "2022-08-19T22:20:19.851Z"
   },
   {
    "duration": 57,
    "start_time": "2022-08-19T22:20:19.862Z"
   },
   {
    "duration": 16,
    "start_time": "2022-08-19T22:20:19.922Z"
   },
   {
    "duration": 16,
    "start_time": "2022-08-19T22:20:19.941Z"
   },
   {
    "duration": 20,
    "start_time": "2022-08-19T22:20:19.958Z"
   },
   {
    "duration": 5,
    "start_time": "2022-08-19T22:20:19.980Z"
   },
   {
    "duration": 37,
    "start_time": "2022-08-19T22:20:19.986Z"
   },
   {
    "duration": 28,
    "start_time": "2022-08-19T22:20:20.024Z"
   },
   {
    "duration": 6,
    "start_time": "2022-08-19T22:20:20.055Z"
   },
   {
    "duration": 7,
    "start_time": "2022-08-19T22:20:20.063Z"
   },
   {
    "duration": 19,
    "start_time": "2022-08-19T22:20:20.072Z"
   },
   {
    "duration": 164,
    "start_time": "2022-08-19T22:20:20.092Z"
   },
   {
    "duration": 5,
    "start_time": "2022-08-19T22:20:20.258Z"
   },
   {
    "duration": 189,
    "start_time": "2022-08-19T22:20:21.898Z"
   },
   {
    "duration": 5,
    "start_time": "2022-08-19T22:22:08.052Z"
   },
   {
    "duration": 8,
    "start_time": "2022-08-19T22:22:20.205Z"
   },
   {
    "duration": 5,
    "start_time": "2022-08-19T22:22:20.957Z"
   },
   {
    "duration": 5,
    "start_time": "2022-08-19T22:23:48.445Z"
   },
   {
    "duration": 5,
    "start_time": "2022-08-19T22:23:48.838Z"
   },
   {
    "duration": 233,
    "start_time": "2022-08-19T22:24:32.198Z"
   },
   {
    "duration": 88,
    "start_time": "2022-08-19T22:26:11.167Z"
   },
   {
    "duration": 6,
    "start_time": "2022-08-19T22:27:14.844Z"
   },
   {
    "duration": 6,
    "start_time": "2022-08-19T22:27:33.177Z"
   },
   {
    "duration": 6,
    "start_time": "2022-08-19T22:27:50.445Z"
   },
   {
    "duration": 8,
    "start_time": "2022-08-19T22:28:06.592Z"
   },
   {
    "duration": 5,
    "start_time": "2022-08-19T22:28:37.085Z"
   },
   {
    "duration": 6,
    "start_time": "2022-08-19T22:29:49.439Z"
   },
   {
    "duration": 5,
    "start_time": "2022-08-19T22:30:09.032Z"
   },
   {
    "duration": 5,
    "start_time": "2022-08-19T22:30:29.678Z"
   },
   {
    "duration": 6,
    "start_time": "2022-08-19T22:31:52.624Z"
   },
   {
    "duration": 5,
    "start_time": "2022-08-19T22:31:53.061Z"
   },
   {
    "duration": 4,
    "start_time": "2022-08-19T22:31:55.542Z"
   },
   {
    "duration": 5,
    "start_time": "2022-08-19T22:31:56.658Z"
   },
   {
    "duration": 28,
    "start_time": "2022-08-19T22:34:10.368Z"
   },
   {
    "duration": 51,
    "start_time": "2022-08-19T22:34:14.404Z"
   },
   {
    "duration": 100,
    "start_time": "2022-08-19T22:34:24.356Z"
   },
   {
    "duration": 6,
    "start_time": "2022-08-19T22:34:32.165Z"
   },
   {
    "duration": 6,
    "start_time": "2022-08-19T22:34:35.357Z"
   },
   {
    "duration": 7,
    "start_time": "2022-08-19T22:35:08.045Z"
   },
   {
    "duration": 8,
    "start_time": "2022-08-19T22:35:18.642Z"
   },
   {
    "duration": 7,
    "start_time": "2022-08-19T22:35:31.174Z"
   },
   {
    "duration": 4,
    "start_time": "2022-08-19T22:36:27.432Z"
   },
   {
    "duration": 4,
    "start_time": "2022-08-19T22:36:42.338Z"
   },
   {
    "duration": 10,
    "start_time": "2022-08-19T22:37:13.734Z"
   },
   {
    "duration": 100,
    "start_time": "2022-08-19T22:39:07.254Z"
   },
   {
    "duration": 9,
    "start_time": "2022-08-19T22:39:45.879Z"
   },
   {
    "duration": 7,
    "start_time": "2022-08-19T22:40:12.936Z"
   },
   {
    "duration": 81,
    "start_time": "2022-08-19T22:44:10.862Z"
   },
   {
    "duration": 126,
    "start_time": "2022-08-19T22:44:33.750Z"
   },
   {
    "duration": 16,
    "start_time": "2022-08-19T22:44:51.703Z"
   },
   {
    "duration": 89,
    "start_time": "2022-08-19T22:46:15.534Z"
   },
   {
    "duration": 274,
    "start_time": "2022-08-19T22:50:25.525Z"
   },
   {
    "duration": 3,
    "start_time": "2022-08-19T22:54:19.550Z"
   },
   {
    "duration": 6,
    "start_time": "2022-08-19T22:55:10.534Z"
   },
   {
    "duration": 6,
    "start_time": "2022-08-19T22:55:37.933Z"
   },
   {
    "duration": 5,
    "start_time": "2022-08-19T22:56:07.080Z"
   },
   {
    "duration": 87,
    "start_time": "2022-08-19T22:56:55.143Z"
   },
   {
    "duration": 6,
    "start_time": "2022-08-19T23:00:35.697Z"
   },
   {
    "duration": 101,
    "start_time": "2022-08-19T23:03:26.457Z"
   },
   {
    "duration": 11,
    "start_time": "2022-08-19T23:06:55.772Z"
   },
   {
    "duration": 64,
    "start_time": "2022-08-19T23:07:16.183Z"
   },
   {
    "duration": 1080,
    "start_time": "2022-08-20T05:52:29.941Z"
   },
   {
    "duration": 73,
    "start_time": "2022-08-20T05:52:31.022Z"
   },
   {
    "duration": 13,
    "start_time": "2022-08-20T05:52:31.097Z"
   },
   {
    "duration": 21,
    "start_time": "2022-08-20T05:52:31.112Z"
   },
   {
    "duration": 116,
    "start_time": "2022-08-20T05:52:31.134Z"
   },
   {
    "duration": 6,
    "start_time": "2022-08-20T05:52:31.251Z"
   },
   {
    "duration": 27,
    "start_time": "2022-08-20T05:52:31.259Z"
   },
   {
    "duration": 13,
    "start_time": "2022-08-20T05:52:31.287Z"
   },
   {
    "duration": 81,
    "start_time": "2022-08-20T05:52:31.302Z"
   },
   {
    "duration": 9,
    "start_time": "2022-08-20T05:52:31.385Z"
   },
   {
    "duration": 8,
    "start_time": "2022-08-20T05:52:31.396Z"
   },
   {
    "duration": 15,
    "start_time": "2022-08-20T05:52:31.406Z"
   },
   {
    "duration": 7,
    "start_time": "2022-08-20T05:52:31.422Z"
   },
   {
    "duration": 6,
    "start_time": "2022-08-20T05:52:31.431Z"
   },
   {
    "duration": 8,
    "start_time": "2022-08-20T05:52:31.438Z"
   },
   {
    "duration": 8,
    "start_time": "2022-08-20T05:52:31.447Z"
   },
   {
    "duration": 11,
    "start_time": "2022-08-20T05:52:31.456Z"
   },
   {
    "duration": 22,
    "start_time": "2022-08-20T05:52:31.469Z"
   },
   {
    "duration": 6,
    "start_time": "2022-08-20T05:52:31.492Z"
   },
   {
    "duration": 13,
    "start_time": "2022-08-20T05:52:31.499Z"
   },
   {
    "duration": 304,
    "start_time": "2022-08-20T05:52:31.514Z"
   },
   {
    "duration": 6,
    "start_time": "2022-08-20T05:52:31.819Z"
   },
   {
    "duration": 180,
    "start_time": "2022-08-20T05:52:31.826Z"
   },
   {
    "duration": 137,
    "start_time": "2022-08-20T05:52:32.007Z"
   },
   {
    "duration": 13,
    "start_time": "2022-08-20T05:52:32.145Z"
   },
   {
    "duration": 10,
    "start_time": "2022-08-20T05:52:32.159Z"
   },
   {
    "duration": 18,
    "start_time": "2022-08-20T05:52:32.170Z"
   },
   {
    "duration": 194,
    "start_time": "2022-08-20T05:52:32.191Z"
   },
   {
    "duration": 193,
    "start_time": "2022-08-20T05:52:32.386Z"
   },
   {
    "duration": 11,
    "start_time": "2022-08-20T05:52:32.581Z"
   },
   {
    "duration": 307,
    "start_time": "2022-08-20T05:52:32.593Z"
   },
   {
    "duration": 193,
    "start_time": "2022-08-20T05:52:32.902Z"
   },
   {
    "duration": 14,
    "start_time": "2022-08-20T05:52:33.097Z"
   },
   {
    "duration": 273,
    "start_time": "2022-08-20T05:52:33.112Z"
   },
   {
    "duration": 135,
    "start_time": "2022-08-20T05:52:33.386Z"
   },
   {
    "duration": 4,
    "start_time": "2022-08-20T05:52:33.523Z"
   },
   {
    "duration": 153,
    "start_time": "2022-08-20T05:52:33.529Z"
   },
   {
    "duration": 126,
    "start_time": "2022-08-20T05:52:33.684Z"
   },
   {
    "duration": 4,
    "start_time": "2022-08-20T05:52:33.812Z"
   },
   {
    "duration": 103,
    "start_time": "2022-08-20T05:52:33.817Z"
   },
   {
    "duration": 22,
    "start_time": "2022-08-20T05:52:33.921Z"
   },
   {
    "duration": 5,
    "start_time": "2022-08-20T05:52:33.945Z"
   },
   {
    "duration": 173,
    "start_time": "2022-08-20T05:52:33.952Z"
   },
   {
    "duration": 5,
    "start_time": "2022-08-20T05:52:34.127Z"
   },
   {
    "duration": 22,
    "start_time": "2022-08-20T05:52:34.133Z"
   },
   {
    "duration": 9,
    "start_time": "2022-08-20T05:52:34.156Z"
   },
   {
    "duration": 12,
    "start_time": "2022-08-20T05:52:34.185Z"
   },
   {
    "duration": 10,
    "start_time": "2022-08-20T05:52:34.198Z"
   },
   {
    "duration": 19,
    "start_time": "2022-08-20T05:52:34.210Z"
   },
   {
    "duration": 14,
    "start_time": "2022-08-20T05:52:34.230Z"
   },
   {
    "duration": 44,
    "start_time": "2022-08-20T05:52:34.246Z"
   },
   {
    "duration": 18,
    "start_time": "2022-08-20T05:52:34.291Z"
   },
   {
    "duration": 4,
    "start_time": "2022-08-20T05:52:34.311Z"
   },
   {
    "duration": 7,
    "start_time": "2022-08-20T05:52:34.317Z"
   },
   {
    "duration": 20,
    "start_time": "2022-08-20T05:52:34.326Z"
   },
   {
    "duration": 6,
    "start_time": "2022-08-20T05:52:34.347Z"
   },
   {
    "duration": 31,
    "start_time": "2022-08-20T05:52:34.354Z"
   },
   {
    "duration": 22,
    "start_time": "2022-08-20T05:52:34.387Z"
   },
   {
    "duration": 216,
    "start_time": "2022-08-20T05:52:34.411Z"
   },
   {
    "duration": 7,
    "start_time": "2022-08-20T05:52:34.629Z"
   },
   {
    "duration": 197,
    "start_time": "2022-08-20T05:52:34.637Z"
   },
   {
    "duration": 43,
    "start_time": "2022-08-20T12:50:34.493Z"
   },
   {
    "duration": 1218,
    "start_time": "2022-08-20T12:50:51.486Z"
   },
   {
    "duration": 70,
    "start_time": "2022-08-20T12:50:52.706Z"
   },
   {
    "duration": 11,
    "start_time": "2022-08-20T12:50:52.778Z"
   },
   {
    "duration": 10,
    "start_time": "2022-08-20T12:50:52.791Z"
   },
   {
    "duration": 89,
    "start_time": "2022-08-20T12:50:52.803Z"
   },
   {
    "duration": 6,
    "start_time": "2022-08-20T12:50:52.893Z"
   },
   {
    "duration": 12,
    "start_time": "2022-08-20T12:50:52.900Z"
   },
   {
    "duration": 13,
    "start_time": "2022-08-20T12:50:52.913Z"
   },
   {
    "duration": 63,
    "start_time": "2022-08-20T12:50:52.928Z"
   },
   {
    "duration": 9,
    "start_time": "2022-08-20T12:50:52.993Z"
   },
   {
    "duration": 10,
    "start_time": "2022-08-20T12:50:53.003Z"
   },
   {
    "duration": 13,
    "start_time": "2022-08-20T12:50:53.014Z"
   },
   {
    "duration": 5,
    "start_time": "2022-08-20T12:50:53.028Z"
   },
   {
    "duration": 12,
    "start_time": "2022-08-20T12:50:53.034Z"
   },
   {
    "duration": 5,
    "start_time": "2022-08-20T12:50:53.048Z"
   },
   {
    "duration": 5,
    "start_time": "2022-08-20T12:50:53.055Z"
   },
   {
    "duration": 7,
    "start_time": "2022-08-20T12:50:53.061Z"
   },
   {
    "duration": 14,
    "start_time": "2022-08-20T12:50:53.069Z"
   },
   {
    "duration": 17,
    "start_time": "2022-08-20T12:50:53.085Z"
   },
   {
    "duration": 8,
    "start_time": "2022-08-20T12:50:54.774Z"
   },
   {
    "duration": 8,
    "start_time": "2022-08-20T12:50:55.042Z"
   },
   {
    "duration": 8,
    "start_time": "2022-08-20T12:51:31.227Z"
   },
   {
    "duration": 7,
    "start_time": "2022-08-20T12:51:32.897Z"
   },
   {
    "duration": 8,
    "start_time": "2022-08-20T12:51:34.321Z"
   },
   {
    "duration": 7,
    "start_time": "2022-08-20T12:52:13.869Z"
   },
   {
    "duration": 7,
    "start_time": "2022-08-20T12:52:15.466Z"
   },
   {
    "duration": 9,
    "start_time": "2022-08-20T12:52:33.687Z"
   },
   {
    "duration": 7,
    "start_time": "2022-08-20T12:52:34.494Z"
   },
   {
    "duration": 9,
    "start_time": "2022-08-20T12:52:35.246Z"
   },
   {
    "duration": 3,
    "start_time": "2022-08-20T12:53:33.335Z"
   },
   {
    "duration": 53,
    "start_time": "2022-08-20T12:53:33.340Z"
   },
   {
    "duration": 10,
    "start_time": "2022-08-20T12:53:33.394Z"
   },
   {
    "duration": 55,
    "start_time": "2022-08-20T12:53:33.406Z"
   },
   {
    "duration": 82,
    "start_time": "2022-08-20T12:53:33.462Z"
   },
   {
    "duration": 7,
    "start_time": "2022-08-20T12:53:33.546Z"
   },
   {
    "duration": 40,
    "start_time": "2022-08-20T12:53:33.554Z"
   },
   {
    "duration": 34,
    "start_time": "2022-08-20T12:53:33.595Z"
   },
   {
    "duration": 39,
    "start_time": "2022-08-20T12:53:33.632Z"
   },
   {
    "duration": 10,
    "start_time": "2022-08-20T12:53:33.672Z"
   },
   {
    "duration": 33,
    "start_time": "2022-08-20T12:53:33.683Z"
   },
   {
    "duration": 19,
    "start_time": "2022-08-20T12:53:33.718Z"
   },
   {
    "duration": 28,
    "start_time": "2022-08-20T12:53:33.739Z"
   },
   {
    "duration": 25,
    "start_time": "2022-08-20T12:53:33.769Z"
   },
   {
    "duration": 23,
    "start_time": "2022-08-20T12:53:33.795Z"
   },
   {
    "duration": 25,
    "start_time": "2022-08-20T12:53:33.820Z"
   },
   {
    "duration": 41,
    "start_time": "2022-08-20T12:53:33.847Z"
   },
   {
    "duration": 21,
    "start_time": "2022-08-20T12:53:33.890Z"
   },
   {
    "duration": 28,
    "start_time": "2022-08-20T12:53:33.912Z"
   },
   {
    "duration": 7,
    "start_time": "2022-08-20T12:53:37.569Z"
   },
   {
    "duration": 10,
    "start_time": "2022-08-20T12:53:38.609Z"
   }
  ],
  "kernelspec": {
   "display_name": "Python 3 (ipykernel)",
   "language": "python",
   "name": "python3"
  },
  "language_info": {
   "codemirror_mode": {
    "name": "ipython",
    "version": 3
   },
   "file_extension": ".py",
   "mimetype": "text/x-python",
   "name": "python",
   "nbconvert_exporter": "python",
   "pygments_lexer": "ipython3",
   "version": "3.9.12"
  },
  "toc": {
   "base_numbering": 1,
   "nav_menu": {},
   "number_sections": true,
   "sideBar": true,
   "skip_h1_title": true,
   "title_cell": "Содержание",
   "title_sidebar": "Содержание",
   "toc_cell": true,
   "toc_position": {
    "height": "calc(100% - 180px)",
    "left": "10px",
    "top": "150px",
    "width": "302.628px"
   },
   "toc_section_display": true,
   "toc_window_display": true
  }
 },
 "nbformat": 4,
 "nbformat_minor": 2
}
