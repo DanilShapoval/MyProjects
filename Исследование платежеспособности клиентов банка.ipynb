{
 "cells": [
  {
   "cell_type": "markdown",
   "id": "18d13e5f",
   "metadata": {},
   "source": [
    "# Исследование надежности заемщиков."
   ]
  },
  {
   "cell_type": "markdown",
   "id": "4001ae5e",
   "metadata": {
    "toc": true
   },
   "source": [
    "<h1>Содержание<span class=\"tocSkip\"></span></h1>\n",
    "<div class=\"toc\"><ul class=\"toc-item\"><li><span><a href=\"#Шаг-1.-Обзор-данных\" data-toc-modified-id=\"Шаг-1.-Обзор-данных-1\"><span class=\"toc-item-num\">1&nbsp;&nbsp;</span>Шаг 1. Обзор данных</a></span></li><li><span><a href=\"#Шаг-2.1-Заполнение-пропусков\" data-toc-modified-id=\"Шаг-2.1-Заполнение-пропусков-2\"><span class=\"toc-item-num\">2&nbsp;&nbsp;</span>Шаг 2.1 Заполнение пропусков</a></span></li><li><span><a href=\"#Шаг-2.2-Проверка-данных-на-аномалии-и-исправления.\" data-toc-modified-id=\"Шаг-2.2-Проверка-данных-на-аномалии-и-исправления.-3\"><span class=\"toc-item-num\">3&nbsp;&nbsp;</span>Шаг 2.2 Проверка данных на аномалии и исправления.</a></span><ul class=\"toc-item\"><li><span><a href=\"#Отрицательные-значения-в-столбце-days_employed\" data-toc-modified-id=\"Отрицательные-значения-в-столбце-days_employed-3.1\"><span class=\"toc-item-num\">3.1&nbsp;&nbsp;</span>Отрицательные значения в столбце <code>days_employed</code></a></span></li><li><span><a href=\"#Положительные-значения-в-столбце-days_employed\" data-toc-modified-id=\"Положительные-значения-в-столбце-days_employed-3.2\"><span class=\"toc-item-num\">3.2&nbsp;&nbsp;</span>Положительные значения в столбце <code>days_employed</code></a></span></li><li><span><a href=\"#Сравнение-положительных-и-отрицательных-значений\" data-toc-modified-id=\"Сравнение-положительных-и-отрицательных-значений-3.3\"><span class=\"toc-item-num\">3.3&nbsp;&nbsp;</span>Сравнение положительных и отрицательных значений</a></span></li></ul></li><li><span><a href=\"#Шаг-2.3.-Изменение-типов-данных.\" data-toc-modified-id=\"Шаг-2.3.-Изменение-типов-данных.-4\"><span class=\"toc-item-num\">4&nbsp;&nbsp;</span>Шаг 2.3. Изменение типов данных.</a></span></li><li><span><a href=\"#Шаг-2.4.-Удаление-дубликатов.\" data-toc-modified-id=\"Шаг-2.4.-Удаление-дубликатов.-5\"><span class=\"toc-item-num\">5&nbsp;&nbsp;</span>Шаг 2.4. Удаление дубликатов.</a></span><ul class=\"toc-item\"><li><span><a href=\"#Явные-дубликаты\" data-toc-modified-id=\"Явные-дубликаты-5.1\"><span class=\"toc-item-num\">5.1&nbsp;&nbsp;</span>Явные дубликаты</a></span></li><li><span><a href=\"#Неявные-дубликаты\" data-toc-modified-id=\"Неявные-дубликаты-5.2\"><span class=\"toc-item-num\">5.2&nbsp;&nbsp;</span>Неявные дубликаты</a></span></li><li><span><a href=\"#Методы-обработки-дубликатов\" data-toc-modified-id=\"Методы-обработки-дубликатов-5.3\"><span class=\"toc-item-num\">5.3&nbsp;&nbsp;</span>Методы обработки дубликатов</a></span></li></ul></li><li><span><a href=\"#Шаг-2.5.-Формирование-дополнительных-датафреймов-словарей,-декомпозиция-исходного-датафрейма.\" data-toc-modified-id=\"Шаг-2.5.-Формирование-дополнительных-датафреймов-словарей,-декомпозиция-исходного-датафрейма.-6\"><span class=\"toc-item-num\">6&nbsp;&nbsp;</span>Шаг 2.5. Формирование дополнительных датафреймов словарей, декомпозиция исходного датафрейма.</a></span></li><li><span><a href=\"#Шаг-2.6.-Категоризация-дохода.\" data-toc-modified-id=\"Шаг-2.6.-Категоризация-дохода.-7\"><span class=\"toc-item-num\">7&nbsp;&nbsp;</span>Шаг 2.6. Категоризация дохода.</a></span></li><li><span><a href=\"#Шаг-2.7.-Категоризация-целей-кредита.\" data-toc-modified-id=\"Шаг-2.7.-Категоризация-целей-кредита.-8\"><span class=\"toc-item-num\">8&nbsp;&nbsp;</span>Шаг 2.7. Категоризация целей кредита.</a></span></li><li><span><a href=\"#Ответы-на-вопросы.\" data-toc-modified-id=\"Ответы-на-вопросы.-9\"><span class=\"toc-item-num\">9&nbsp;&nbsp;</span>Ответы на вопросы.</a></span><ul class=\"toc-item\"><li><span><a href=\"#Вопрос-1:\" data-toc-modified-id=\"Вопрос-1:-9.1\"><span class=\"toc-item-num\">9.1&nbsp;&nbsp;</span>Вопрос 1:</a></span><ul class=\"toc-item\"><li><span><a href=\"#Вывод-1:\" data-toc-modified-id=\"Вывод-1:-9.1.1\"><span class=\"toc-item-num\">9.1.1&nbsp;&nbsp;</span>Вывод 1:</a></span></li></ul></li><li><span><a href=\"#Вопрос-2:\" data-toc-modified-id=\"Вопрос-2:-9.2\"><span class=\"toc-item-num\">9.2&nbsp;&nbsp;</span>Вопрос 2:</a></span><ul class=\"toc-item\"><li><span><a href=\"#Вывод-2:\" data-toc-modified-id=\"Вывод-2:-9.2.1\"><span class=\"toc-item-num\">9.2.1&nbsp;&nbsp;</span>Вывод 2:</a></span></li></ul></li><li><span><a href=\"#Вопрос-3:\" data-toc-modified-id=\"Вопрос-3:-9.3\"><span class=\"toc-item-num\">9.3&nbsp;&nbsp;</span>Вопрос 3:</a></span><ul class=\"toc-item\"><li><span><a href=\"#Вывод-3:\" data-toc-modified-id=\"Вывод-3:-9.3.1\"><span class=\"toc-item-num\">9.3.1&nbsp;&nbsp;</span>Вывод 3:</a></span></li></ul></li><li><span><a href=\"#Вопрос-4:\" data-toc-modified-id=\"Вопрос-4:-9.4\"><span class=\"toc-item-num\">9.4&nbsp;&nbsp;</span>Вопрос 4:</a></span><ul class=\"toc-item\"><li><span><a href=\"#Вывод-4:\" data-toc-modified-id=\"Вывод-4:-9.4.1\"><span class=\"toc-item-num\">9.4.1&nbsp;&nbsp;</span>Вывод 4:</a></span></li></ul></li></ul></li><li><span><a href=\"#Общий-вывод:\" data-toc-modified-id=\"Общий-вывод:-10\"><span class=\"toc-item-num\">10&nbsp;&nbsp;</span>Общий вывод:</a></span></li></ul></div>"
   ]
  },
  {
   "cell_type": "markdown",
   "id": "dc0a9950",
   "metadata": {},
   "source": [
    "## Шаг 1. Обзор данных"
   ]
  },
  {
   "cell_type": "markdown",
   "id": "51feb4db",
   "metadata": {},
   "source": [
    "   Нами получены данные от заказчика - кредитного отдела банка. Данные предоставлены в виде `.csv` файла, содержащего статистическую информацию о платёжеспособности клиентах банка. Необходимо разобраться, влияет ли семейное положение и количество детей клиента на факт погашения кредита в срок."
   ]
  },
  {
   "cell_type": "markdown",
   "id": "4836817c",
   "metadata": {},
   "source": [
    "Рассмотрим полученные данные."
   ]
  },
  {
   "cell_type": "code",
   "execution_count": 1,
   "id": "cae4dece",
   "metadata": {},
   "outputs": [],
   "source": [
    "import pandas as pd\n",
    "import warnings"
   ]
  },
  {
   "cell_type": "code",
   "execution_count": 2,
   "id": "4e60119e",
   "metadata": {},
   "outputs": [
    {
     "data": {
      "text/html": [
       "<div>\n",
       "<style scoped>\n",
       "    .dataframe tbody tr th:only-of-type {\n",
       "        vertical-align: middle;\n",
       "    }\n",
       "\n",
       "    .dataframe tbody tr th {\n",
       "        vertical-align: top;\n",
       "    }\n",
       "\n",
       "    .dataframe thead th {\n",
       "        text-align: right;\n",
       "    }\n",
       "</style>\n",
       "<table border=\"1\" class=\"dataframe\">\n",
       "  <thead>\n",
       "    <tr style=\"text-align: right;\">\n",
       "      <th></th>\n",
       "      <th>children</th>\n",
       "      <th>days_employed</th>\n",
       "      <th>dob_years</th>\n",
       "      <th>education</th>\n",
       "      <th>education_id</th>\n",
       "      <th>family_status</th>\n",
       "      <th>family_status_id</th>\n",
       "      <th>gender</th>\n",
       "      <th>income_type</th>\n",
       "      <th>debt</th>\n",
       "      <th>total_income</th>\n",
       "      <th>purpose</th>\n",
       "    </tr>\n",
       "  </thead>\n",
       "  <tbody>\n",
       "    <tr>\n",
       "      <th>0</th>\n",
       "      <td>1</td>\n",
       "      <td>-8437.673028</td>\n",
       "      <td>42</td>\n",
       "      <td>высшее</td>\n",
       "      <td>0</td>\n",
       "      <td>женат / замужем</td>\n",
       "      <td>0</td>\n",
       "      <td>F</td>\n",
       "      <td>сотрудник</td>\n",
       "      <td>0</td>\n",
       "      <td>253875.639453</td>\n",
       "      <td>покупка жилья</td>\n",
       "    </tr>\n",
       "    <tr>\n",
       "      <th>1</th>\n",
       "      <td>1</td>\n",
       "      <td>-4024.803754</td>\n",
       "      <td>36</td>\n",
       "      <td>среднее</td>\n",
       "      <td>1</td>\n",
       "      <td>женат / замужем</td>\n",
       "      <td>0</td>\n",
       "      <td>F</td>\n",
       "      <td>сотрудник</td>\n",
       "      <td>0</td>\n",
       "      <td>112080.014102</td>\n",
       "      <td>приобретение автомобиля</td>\n",
       "    </tr>\n",
       "    <tr>\n",
       "      <th>2</th>\n",
       "      <td>0</td>\n",
       "      <td>-5623.422610</td>\n",
       "      <td>33</td>\n",
       "      <td>Среднее</td>\n",
       "      <td>1</td>\n",
       "      <td>женат / замужем</td>\n",
       "      <td>0</td>\n",
       "      <td>M</td>\n",
       "      <td>сотрудник</td>\n",
       "      <td>0</td>\n",
       "      <td>145885.952297</td>\n",
       "      <td>покупка жилья</td>\n",
       "    </tr>\n",
       "    <tr>\n",
       "      <th>3</th>\n",
       "      <td>3</td>\n",
       "      <td>-4124.747207</td>\n",
       "      <td>32</td>\n",
       "      <td>среднее</td>\n",
       "      <td>1</td>\n",
       "      <td>женат / замужем</td>\n",
       "      <td>0</td>\n",
       "      <td>M</td>\n",
       "      <td>сотрудник</td>\n",
       "      <td>0</td>\n",
       "      <td>267628.550329</td>\n",
       "      <td>дополнительное образование</td>\n",
       "    </tr>\n",
       "    <tr>\n",
       "      <th>4</th>\n",
       "      <td>0</td>\n",
       "      <td>340266.072047</td>\n",
       "      <td>53</td>\n",
       "      <td>среднее</td>\n",
       "      <td>1</td>\n",
       "      <td>гражданский брак</td>\n",
       "      <td>1</td>\n",
       "      <td>F</td>\n",
       "      <td>пенсионер</td>\n",
       "      <td>0</td>\n",
       "      <td>158616.077870</td>\n",
       "      <td>сыграть свадьбу</td>\n",
       "    </tr>\n",
       "  </tbody>\n",
       "</table>\n",
       "</div>"
      ],
      "text/plain": [
       "   children  days_employed  dob_years education  education_id  \\\n",
       "0         1   -8437.673028         42    высшее             0   \n",
       "1         1   -4024.803754         36   среднее             1   \n",
       "2         0   -5623.422610         33   Среднее             1   \n",
       "3         3   -4124.747207         32   среднее             1   \n",
       "4         0  340266.072047         53   среднее             1   \n",
       "\n",
       "      family_status  family_status_id gender income_type  debt   total_income  \\\n",
       "0   женат / замужем                 0      F   сотрудник     0  253875.639453   \n",
       "1   женат / замужем                 0      F   сотрудник     0  112080.014102   \n",
       "2   женат / замужем                 0      M   сотрудник     0  145885.952297   \n",
       "3   женат / замужем                 0      M   сотрудник     0  267628.550329   \n",
       "4  гражданский брак                 1      F   пенсионер     0  158616.077870   \n",
       "\n",
       "                      purpose  \n",
       "0               покупка жилья  \n",
       "1     приобретение автомобиля  \n",
       "2               покупка жилья  \n",
       "3  дополнительное образование  \n",
       "4             сыграть свадьбу  "
      ]
     },
     "metadata": {},
     "output_type": "display_data"
    }
   ],
   "source": [
    "data = pd.read_csv ('data.csv')\n",
    "display(data.head())"
   ]
  },
  {
   "cell_type": "code",
   "execution_count": 3,
   "id": "bc093fab",
   "metadata": {
    "scrolled": true
   },
   "outputs": [
    {
     "name": "stdout",
     "output_type": "stream",
     "text": [
      "<class 'pandas.core.frame.DataFrame'>\n",
      "RangeIndex: 21525 entries, 0 to 21524\n",
      "Data columns (total 12 columns):\n",
      " #   Column            Non-Null Count  Dtype  \n",
      "---  ------            --------------  -----  \n",
      " 0   children          21525 non-null  int64  \n",
      " 1   days_employed     19351 non-null  float64\n",
      " 2   dob_years         21525 non-null  int64  \n",
      " 3   education         21525 non-null  object \n",
      " 4   education_id      21525 non-null  int64  \n",
      " 5   family_status     21525 non-null  object \n",
      " 6   family_status_id  21525 non-null  int64  \n",
      " 7   gender            21525 non-null  object \n",
      " 8   income_type       21525 non-null  object \n",
      " 9   debt              21525 non-null  int64  \n",
      " 10  total_income      19351 non-null  float64\n",
      " 11  purpose           21525 non-null  object \n",
      "dtypes: float64(2), int64(5), object(5)\n",
      "memory usage: 2.0+ MB\n"
     ]
    },
    {
     "data": {
      "text/html": [
       "<div>\n",
       "<style scoped>\n",
       "    .dataframe tbody tr th:only-of-type {\n",
       "        vertical-align: middle;\n",
       "    }\n",
       "\n",
       "    .dataframe tbody tr th {\n",
       "        vertical-align: top;\n",
       "    }\n",
       "\n",
       "    .dataframe thead th {\n",
       "        text-align: right;\n",
       "    }\n",
       "</style>\n",
       "<table border=\"1\" class=\"dataframe\">\n",
       "  <thead>\n",
       "    <tr style=\"text-align: right;\">\n",
       "      <th></th>\n",
       "      <th>children</th>\n",
       "      <th>days_employed</th>\n",
       "      <th>dob_years</th>\n",
       "      <th>education_id</th>\n",
       "      <th>family_status_id</th>\n",
       "      <th>debt</th>\n",
       "      <th>total_income</th>\n",
       "    </tr>\n",
       "  </thead>\n",
       "  <tbody>\n",
       "    <tr>\n",
       "      <th>count</th>\n",
       "      <td>21525.000000</td>\n",
       "      <td>19351.000000</td>\n",
       "      <td>21525.000000</td>\n",
       "      <td>21525.000000</td>\n",
       "      <td>21525.000000</td>\n",
       "      <td>21525.000000</td>\n",
       "      <td>1.935100e+04</td>\n",
       "    </tr>\n",
       "    <tr>\n",
       "      <th>mean</th>\n",
       "      <td>0.538908</td>\n",
       "      <td>63046.497661</td>\n",
       "      <td>43.293380</td>\n",
       "      <td>0.817236</td>\n",
       "      <td>0.972544</td>\n",
       "      <td>0.080883</td>\n",
       "      <td>1.674223e+05</td>\n",
       "    </tr>\n",
       "    <tr>\n",
       "      <th>std</th>\n",
       "      <td>1.381587</td>\n",
       "      <td>140827.311974</td>\n",
       "      <td>12.574584</td>\n",
       "      <td>0.548138</td>\n",
       "      <td>1.420324</td>\n",
       "      <td>0.272661</td>\n",
       "      <td>1.029716e+05</td>\n",
       "    </tr>\n",
       "    <tr>\n",
       "      <th>min</th>\n",
       "      <td>-1.000000</td>\n",
       "      <td>-18388.949901</td>\n",
       "      <td>0.000000</td>\n",
       "      <td>0.000000</td>\n",
       "      <td>0.000000</td>\n",
       "      <td>0.000000</td>\n",
       "      <td>2.066726e+04</td>\n",
       "    </tr>\n",
       "    <tr>\n",
       "      <th>25%</th>\n",
       "      <td>0.000000</td>\n",
       "      <td>-2747.423625</td>\n",
       "      <td>33.000000</td>\n",
       "      <td>1.000000</td>\n",
       "      <td>0.000000</td>\n",
       "      <td>0.000000</td>\n",
       "      <td>1.030532e+05</td>\n",
       "    </tr>\n",
       "    <tr>\n",
       "      <th>50%</th>\n",
       "      <td>0.000000</td>\n",
       "      <td>-1203.369529</td>\n",
       "      <td>42.000000</td>\n",
       "      <td>1.000000</td>\n",
       "      <td>0.000000</td>\n",
       "      <td>0.000000</td>\n",
       "      <td>1.450179e+05</td>\n",
       "    </tr>\n",
       "    <tr>\n",
       "      <th>75%</th>\n",
       "      <td>1.000000</td>\n",
       "      <td>-291.095954</td>\n",
       "      <td>53.000000</td>\n",
       "      <td>1.000000</td>\n",
       "      <td>1.000000</td>\n",
       "      <td>0.000000</td>\n",
       "      <td>2.034351e+05</td>\n",
       "    </tr>\n",
       "    <tr>\n",
       "      <th>max</th>\n",
       "      <td>20.000000</td>\n",
       "      <td>401755.400475</td>\n",
       "      <td>75.000000</td>\n",
       "      <td>4.000000</td>\n",
       "      <td>4.000000</td>\n",
       "      <td>1.000000</td>\n",
       "      <td>2.265604e+06</td>\n",
       "    </tr>\n",
       "  </tbody>\n",
       "</table>\n",
       "</div>"
      ],
      "text/plain": [
       "           children  days_employed     dob_years  education_id  \\\n",
       "count  21525.000000   19351.000000  21525.000000  21525.000000   \n",
       "mean       0.538908   63046.497661     43.293380      0.817236   \n",
       "std        1.381587  140827.311974     12.574584      0.548138   \n",
       "min       -1.000000  -18388.949901      0.000000      0.000000   \n",
       "25%        0.000000   -2747.423625     33.000000      1.000000   \n",
       "50%        0.000000   -1203.369529     42.000000      1.000000   \n",
       "75%        1.000000    -291.095954     53.000000      1.000000   \n",
       "max       20.000000  401755.400475     75.000000      4.000000   \n",
       "\n",
       "       family_status_id          debt  total_income  \n",
       "count      21525.000000  21525.000000  1.935100e+04  \n",
       "mean           0.972544      0.080883  1.674223e+05  \n",
       "std            1.420324      0.272661  1.029716e+05  \n",
       "min            0.000000      0.000000  2.066726e+04  \n",
       "25%            0.000000      0.000000  1.030532e+05  \n",
       "50%            0.000000      0.000000  1.450179e+05  \n",
       "75%            1.000000      0.000000  2.034351e+05  \n",
       "max            4.000000      1.000000  2.265604e+06  "
      ]
     },
     "execution_count": 3,
     "metadata": {},
     "output_type": "execute_result"
    }
   ],
   "source": [
    "data.info()\n",
    "data.describe()"
   ]
  },
  {
   "cell_type": "markdown",
   "id": "8dd58875",
   "metadata": {},
   "source": [
    "В представленной информации о датасете заметны два столбца с явными пропусками значений:\n",
    "1. Столбец `days_employed` - столбец, отображающий количество дней трудового стажа.\n",
    "2. Столбец `total_income` - столбец, отображающий общий доход клиента.\n",
    "\n",
    "Кроме того, вызывают сомнения отрицательные значения в столбце `days_employed`."
   ]
  },
  {
   "cell_type": "markdown",
   "id": "d16472bd",
   "metadata": {},
   "source": [
    "**Приступим к предобработке данных**"
   ]
  },
  {
   "cell_type": "markdown",
   "id": "012baef5",
   "metadata": {},
   "source": [
    "## Шаг 2.1 Заполнение пропусков"
   ]
  },
  {
   "cell_type": "markdown",
   "id": "1e3a3ce1",
   "metadata": {},
   "source": [
    "В первую очередь займемся явными попусками значений в датасете. "
   ]
  },
  {
   "cell_type": "code",
   "execution_count": 4,
   "id": "a61f1bf3",
   "metadata": {
    "scrolled": false
   },
   "outputs": [
    {
     "name": "stdout",
     "output_type": "stream",
     "text": [
      "Количество пропущенных значений в столбце 'total_income'- 2174\n",
      "Количество пропущенных значений в столбце 'days_employed'- 2174\n",
      "\n",
      "Процент пропущенных значений в столбце 'total_income'- 10.10%\n",
      "Процент пропущенных значений в столбце 'days_employed'- 10.10%\n"
     ]
    }
   ],
   "source": [
    "print('Количество пропущенных значений в столбце \\'total_income\\'-', data['total_income'].isna().sum())\n",
    "print('Количество пропущенных значений в столбце \\'days_employed\\'-', data['days_employed'].isna().sum())\n",
    "print()\n",
    "total_income_share =  data['total_income'].isna().sum()/len(data)\n",
    "days_employed_share = data['days_employed'].isna().sum()/len(data)\n",
    "print(f'Процент пропущенных значений в столбце \\'total_income\\'- {total_income_share:.2%}')\n",
    "print(f'Процент пропущенных значений в столбце \\'days_employed\\'- {days_employed_share:.2%}')"
   ]
  },
  {
   "cell_type": "markdown",
   "id": "c1a85eb6",
   "metadata": {},
   "source": [
    "Количество пропущенных значений и их процент от общего объема данных в обоих столбцах совпадает. Можно предположить, что они находятся в одних и тех же строках. Убедимся в этом, выведя строки, где пропущены значения хотя бы в одном из столбцов."
   ]
  },
  {
   "cell_type": "code",
   "execution_count": 5,
   "id": "4d660668",
   "metadata": {
    "scrolled": false
   },
   "outputs": [
    {
     "data": {
      "text/html": [
       "<div>\n",
       "<style scoped>\n",
       "    .dataframe tbody tr th:only-of-type {\n",
       "        vertical-align: middle;\n",
       "    }\n",
       "\n",
       "    .dataframe tbody tr th {\n",
       "        vertical-align: top;\n",
       "    }\n",
       "\n",
       "    .dataframe thead th {\n",
       "        text-align: right;\n",
       "    }\n",
       "</style>\n",
       "<table border=\"1\" class=\"dataframe\">\n",
       "  <thead>\n",
       "    <tr style=\"text-align: right;\">\n",
       "      <th></th>\n",
       "      <th>children</th>\n",
       "      <th>days_employed</th>\n",
       "      <th>dob_years</th>\n",
       "      <th>education</th>\n",
       "      <th>education_id</th>\n",
       "      <th>family_status</th>\n",
       "      <th>family_status_id</th>\n",
       "      <th>gender</th>\n",
       "      <th>income_type</th>\n",
       "      <th>debt</th>\n",
       "      <th>total_income</th>\n",
       "      <th>purpose</th>\n",
       "    </tr>\n",
       "  </thead>\n",
       "  <tbody>\n",
       "    <tr>\n",
       "      <th>12</th>\n",
       "      <td>0</td>\n",
       "      <td>NaN</td>\n",
       "      <td>65</td>\n",
       "      <td>среднее</td>\n",
       "      <td>1</td>\n",
       "      <td>гражданский брак</td>\n",
       "      <td>1</td>\n",
       "      <td>M</td>\n",
       "      <td>пенсионер</td>\n",
       "      <td>0</td>\n",
       "      <td>NaN</td>\n",
       "      <td>сыграть свадьбу</td>\n",
       "    </tr>\n",
       "    <tr>\n",
       "      <th>26</th>\n",
       "      <td>0</td>\n",
       "      <td>NaN</td>\n",
       "      <td>41</td>\n",
       "      <td>среднее</td>\n",
       "      <td>1</td>\n",
       "      <td>женат / замужем</td>\n",
       "      <td>0</td>\n",
       "      <td>M</td>\n",
       "      <td>госслужащий</td>\n",
       "      <td>0</td>\n",
       "      <td>NaN</td>\n",
       "      <td>образование</td>\n",
       "    </tr>\n",
       "    <tr>\n",
       "      <th>29</th>\n",
       "      <td>0</td>\n",
       "      <td>NaN</td>\n",
       "      <td>63</td>\n",
       "      <td>среднее</td>\n",
       "      <td>1</td>\n",
       "      <td>Не женат / не замужем</td>\n",
       "      <td>4</td>\n",
       "      <td>F</td>\n",
       "      <td>пенсионер</td>\n",
       "      <td>0</td>\n",
       "      <td>NaN</td>\n",
       "      <td>строительство жилой недвижимости</td>\n",
       "    </tr>\n",
       "    <tr>\n",
       "      <th>41</th>\n",
       "      <td>0</td>\n",
       "      <td>NaN</td>\n",
       "      <td>50</td>\n",
       "      <td>среднее</td>\n",
       "      <td>1</td>\n",
       "      <td>женат / замужем</td>\n",
       "      <td>0</td>\n",
       "      <td>F</td>\n",
       "      <td>госслужащий</td>\n",
       "      <td>0</td>\n",
       "      <td>NaN</td>\n",
       "      <td>сделка с подержанным автомобилем</td>\n",
       "    </tr>\n",
       "    <tr>\n",
       "      <th>55</th>\n",
       "      <td>0</td>\n",
       "      <td>NaN</td>\n",
       "      <td>54</td>\n",
       "      <td>среднее</td>\n",
       "      <td>1</td>\n",
       "      <td>гражданский брак</td>\n",
       "      <td>1</td>\n",
       "      <td>F</td>\n",
       "      <td>пенсионер</td>\n",
       "      <td>1</td>\n",
       "      <td>NaN</td>\n",
       "      <td>сыграть свадьбу</td>\n",
       "    </tr>\n",
       "  </tbody>\n",
       "</table>\n",
       "</div>"
      ],
      "text/plain": [
       "    children  days_employed  dob_years education  education_id  \\\n",
       "12         0            NaN         65   среднее             1   \n",
       "26         0            NaN         41   среднее             1   \n",
       "29         0            NaN         63   среднее             1   \n",
       "41         0            NaN         50   среднее             1   \n",
       "55         0            NaN         54   среднее             1   \n",
       "\n",
       "            family_status  family_status_id gender  income_type  debt  \\\n",
       "12       гражданский брак                 1      M    пенсионер     0   \n",
       "26        женат / замужем                 0      M  госслужащий     0   \n",
       "29  Не женат / не замужем                 4      F    пенсионер     0   \n",
       "41        женат / замужем                 0      F  госслужащий     0   \n",
       "55       гражданский брак                 1      F    пенсионер     1   \n",
       "\n",
       "    total_income                           purpose  \n",
       "12           NaN                   сыграть свадьбу  \n",
       "26           NaN                       образование  \n",
       "29           NaN  строительство жилой недвижимости  \n",
       "41           NaN  сделка с подержанным автомобилем  \n",
       "55           NaN                   сыграть свадьбу  "
      ]
     },
     "execution_count": 5,
     "metadata": {},
     "output_type": "execute_result"
    }
   ],
   "source": [
    "data[(data['total_income'].isna()== True) | (data['days_employed'].isna() == True)].head()"
   ]
  },
  {
   "cell_type": "code",
   "execution_count": 6,
   "id": "81a09ea7",
   "metadata": {
    "scrolled": true
   },
   "outputs": [
    {
     "name": "stdout",
     "output_type": "stream",
     "text": [
      "<class 'pandas.core.frame.DataFrame'>\n",
      "Int64Index: 2174 entries, 12 to 21510\n",
      "Data columns (total 12 columns):\n",
      " #   Column            Non-Null Count  Dtype  \n",
      "---  ------            --------------  -----  \n",
      " 0   children          2174 non-null   int64  \n",
      " 1   days_employed     0 non-null      float64\n",
      " 2   dob_years         2174 non-null   int64  \n",
      " 3   education         2174 non-null   object \n",
      " 4   education_id      2174 non-null   int64  \n",
      " 5   family_status     2174 non-null   object \n",
      " 6   family_status_id  2174 non-null   int64  \n",
      " 7   gender            2174 non-null   object \n",
      " 8   income_type       2174 non-null   object \n",
      " 9   debt              2174 non-null   int64  \n",
      " 10  total_income      0 non-null      float64\n",
      " 11  purpose           2174 non-null   object \n",
      "dtypes: float64(2), int64(5), object(5)\n",
      "memory usage: 220.8+ KB\n"
     ]
    }
   ],
   "source": [
    "data[(data['total_income'].isna()== True) | (data['days_employed'].isna() == True)].info()"
   ]
  },
  {
   "cell_type": "markdown",
   "id": "04fbf382",
   "metadata": {},
   "source": [
    "Первоначальное предположение подтвердилось: значения в обоих столбцах пропущены в одних тех же строках.\n",
    "Исходя из полученых данных, можно выдвинуть гипотезу о возникновении пропусков:\n",
    "Возможно в программе формировавшей датасет эти два столбца были связаны между собой функцией, которая рассчитывала значения одного из столбцов, исходя из значений другого. Тогда наиболее вероятно, что значения в одном из столбцов не были заполнены сотрудником банка (*человеческий фактор*), в результате чего программа не смогла рассчитать значенеия для другого стлбца (*технологическая ошибка*)."
   ]
  },
  {
   "cell_type": "markdown",
   "id": "9f8e5e3b",
   "metadata": {},
   "source": [
    "**Заполним пропущенные значения в столбце `total_income` медианным значением.**"
   ]
  },
  {
   "cell_type": "markdown",
   "id": "8acc88a6",
   "metadata": {},
   "source": [
    "Так как значения в этом столбце являются количественными, то пропуски в них лучше заполнять характерными значениями, характеризующими состояние выборки. Чтобы примерно оценить типичные значения выборки, годятся среднее арифметическое или медиана. Среднее значение некорректно характеризует данные, когда некоторые значения сильно выделяются среди большинства. Для большой выборки предпочтительно использовать медиану."
   ]
  },
  {
   "cell_type": "code",
   "execution_count": 7,
   "id": "109b8c9d",
   "metadata": {
    "scrolled": true
   },
   "outputs": [
    {
     "name": "stdout",
     "output_type": "stream",
     "text": [
      "<class 'pandas.core.frame.DataFrame'>\n",
      "RangeIndex: 21525 entries, 0 to 21524\n",
      "Data columns (total 12 columns):\n",
      " #   Column            Non-Null Count  Dtype  \n",
      "---  ------            --------------  -----  \n",
      " 0   children          21525 non-null  int64  \n",
      " 1   days_employed     19351 non-null  float64\n",
      " 2   dob_years         21525 non-null  int64  \n",
      " 3   education         21525 non-null  object \n",
      " 4   education_id      21525 non-null  int64  \n",
      " 5   family_status     21525 non-null  object \n",
      " 6   family_status_id  21525 non-null  int64  \n",
      " 7   gender            21525 non-null  object \n",
      " 8   income_type       21525 non-null  object \n",
      " 9   debt              21525 non-null  int64  \n",
      " 10  total_income      21525 non-null  float64\n",
      " 11  purpose           21525 non-null  object \n",
      "dtypes: float64(2), int64(5), object(5)\n",
      "memory usage: 2.0+ MB\n"
     ]
    }
   ],
   "source": [
    "data['total_income']=data['total_income'].fillna(data['total_income'].median())\n",
    "data.info()"
   ]
  },
  {
   "cell_type": "markdown",
   "id": "dbc91504",
   "metadata": {},
   "source": [
    "Пропуски в столбце `total_income` устранены."
   ]
  },
  {
   "cell_type": "markdown",
   "id": "26c8d667",
   "metadata": {},
   "source": [
    "## Шаг 2.2 Проверка данных на аномалии и исправления."
   ]
  },
  {
   "cell_type": "markdown",
   "id": "c003588f",
   "metadata": {},
   "source": [
    "В столбце `days_employed`, характеризующем общий трудовой стаж в днях, как было замечено ранее, присутсвуют отрицательные значения. "
   ]
  },
  {
   "cell_type": "markdown",
   "id": "c5a2b6a0",
   "metadata": {},
   "source": [
    "Оценим расброс в значениях между отрицательными и положительными."
   ]
  },
  {
   "cell_type": "code",
   "execution_count": 8,
   "id": "532188f2",
   "metadata": {},
   "outputs": [
    {
     "name": "stdout",
     "output_type": "stream",
     "text": [
      "Минимальное значение количества дней трудового стажа - -18388.949900568383\n",
      "Максимальное значение количества дней трудового стажа - 401755.40047533\n"
     ]
    }
   ],
   "source": [
    "print('Минимальное значение количества дней трудового стажа -', data['days_employed'].min())\n",
    "print('Максимальное значение количества дней трудового стажа -', data['days_employed'].max())"
   ]
  },
  {
   "cell_type": "markdown",
   "id": "79c4a419",
   "metadata": {},
   "source": [
    "Так как количественный показатель дней трудового стажа не может быть меньше 0, рассмотрим показатели отдельно: \"отрицательные\" и \"положительные\". "
   ]
  },
  {
   "cell_type": "markdown",
   "id": "916078db",
   "metadata": {},
   "source": [
    "### Отрицательные значения в столбце `days_employed`"
   ]
  },
  {
   "cell_type": "code",
   "execution_count": 9,
   "id": "d6be6c8e",
   "metadata": {},
   "outputs": [
    {
     "name": "stdout",
     "output_type": "stream",
     "text": [
      "Медианное значение -  -1630.02\n",
      "Минимальное значение -  -18388.95\n",
      "Максимальное значение -  -24.14\n"
     ]
    }
   ],
   "source": [
    "negative_median = data[data['days_employed']<0]['days_employed'].median()\n",
    "negative_min = data[data['days_employed']<0]['days_employed'].min()\n",
    "negative_max = data[data['days_employed']<0]['days_employed'].max()\n",
    "print('Медианное значение - ', round(negative_median, 2))\n",
    "print('Минимальное значение - ', round(negative_min, 2))\n",
    "print('Максимальное значение - ', round(negative_max, 2))"
   ]
  },
  {
   "cell_type": "markdown",
   "id": "5439def9",
   "metadata": {},
   "source": [
    "Виден большой разброс значений между минимальным и максимальным значениями."
   ]
  },
  {
   "cell_type": "markdown",
   "id": "b1c9c0fe",
   "metadata": {},
   "source": [
    "Для удобства работы с данными будем использовать для расчетов абсолютные значения. \n",
    "Попоробуем рассчитать количество лет трудового стажа по полученным значениям дней."
   ]
  },
  {
   "cell_type": "code",
   "execution_count": 10,
   "id": "19504fe6",
   "metadata": {},
   "outputs": [
    {
     "name": "stdout",
     "output_type": "stream",
     "text": [
      "Медианное значение лет -  4.47\n",
      "Минимальное значение лет -  50.38\n",
      "Максимальное значение лет -  0.07\n"
     ]
    }
   ],
   "source": [
    "print('Медианное значение лет - ', round(abs(negative_median)/365, 2))\n",
    "print('Минимальное значение лет - ', round(abs(negative_min)/365, 2))\n",
    "print('Максимальное значение лет - ', round(abs(negative_max)/365, 2))"
   ]
  },
  {
   "cell_type": "markdown",
   "id": "98e07477",
   "metadata": {},
   "source": [
    "В данной выборке значений года трудого стажа похожи на реальные значения."
   ]
  },
  {
   "cell_type": "markdown",
   "id": "9ed21a17",
   "metadata": {},
   "source": [
    "### Положительные значения в столбце `days_employed`"
   ]
  },
  {
   "cell_type": "code",
   "execution_count": 11,
   "id": "9ce11bd6",
   "metadata": {},
   "outputs": [
    {
     "name": "stdout",
     "output_type": "stream",
     "text": [
      "Медианное значение -  365213.31\n",
      "Минимальное значение -  328728.72\n",
      "Максимальное значение -  401755.4\n"
     ]
    }
   ],
   "source": [
    "positive_median = data[data['days_employed']>=0]['days_employed'].median()\n",
    "positive_min = data[data['days_employed']>=0]['days_employed'].min()\n",
    "positive_max = data[data['days_employed']>=0]['days_employed'].max()\n",
    "print('Медианное значение - ', round(positive_median, 2))\n",
    "print('Минимальное значение - ', round(positive_min, 2))\n",
    "print('Максимальное значение - ',round(positive_max, 2))"
   ]
  },
  {
   "cell_type": "markdown",
   "id": "1e7af53c",
   "metadata": {},
   "source": [
    "Значения более однородны. Разница между минимальным и максимальным значением не столь очевидна, значение медианы приближено к среднему значению."
   ]
  },
  {
   "cell_type": "markdown",
   "id": "30d32157",
   "metadata": {},
   "source": [
    "Рассчитаем количество лет трудового стажа по полученным значениям дней."
   ]
  },
  {
   "cell_type": "code",
   "execution_count": 12,
   "id": "f98c6c88",
   "metadata": {
    "scrolled": true
   },
   "outputs": [
    {
     "name": "stdout",
     "output_type": "stream",
     "text": [
      "Медианное значение лет -  1000.58\n",
      "Минимальное значение лет -  900.63\n",
      "Максимальное значение лет -  1100.7\n"
     ]
    }
   ],
   "source": [
    "print('Медианное значение лет - ', round(abs(positive_median)/365, 2))\n",
    "print('Минимальное значение лет - ', round(abs(positive_min)/365, 2))\n",
    "print('Максимальное значение лет - ', round(abs(positive_max)/365, 2))"
   ]
  },
  {
   "cell_type": "markdown",
   "id": "7ef0b053",
   "metadata": {},
   "source": [
    "Значения в данной выборке при пересчете на количество лет трудового стажа выглядят неправдоподобно большими."
   ]
  },
  {
   "cell_type": "markdown",
   "id": "24dc5365",
   "metadata": {},
   "source": [
    "### Сравнение положительных и отрицательных значений"
   ]
  },
  {
   "cell_type": "markdown",
   "id": "8497b595",
   "metadata": {},
   "source": [
    "Рассмотрим обе категории в сравнении для выявления закономерностей."
   ]
  },
  {
   "cell_type": "markdown",
   "id": "669ef4c6",
   "metadata": {},
   "source": [
    "*Посчитаем количество и долю каждой категории значений от общего количества `non-null` значений в столбце.*"
   ]
  },
  {
   "cell_type": "code",
   "execution_count": 13,
   "id": "f3ef9f80",
   "metadata": {
    "scrolled": true
   },
   "outputs": [
    {
     "name": "stdout",
     "output_type": "stream",
     "text": [
      "Количество отрицательных значений - 15906\n",
      "Процент отрицательных значений - 82.20%\n",
      "\n",
      "Количество положительных значений - 3445\n",
      "Процент положительных значений - 17.80%\n"
     ]
    }
   ],
   "source": [
    "print('Количество отрицательных значений -', data[data['days_employed']<0]['days_employed'].count())\n",
    "negative_share = data[data['days_employed']<0]['days_employed'].count()/data['days_employed'].value_counts().count()\n",
    "print(f'Процент отрицательных значений - {negative_share:.2%}')\n",
    "print ()\n",
    "print('Количество положительных значений -', data[data['days_employed']>=0]['days_employed'].count())\n",
    "positive_share = data[data['days_employed']>=0]['days_employed'].count()/data['days_employed'].value_counts().count()\n",
    "print(f'Процент положительных значений - {positive_share:.2%}')"
   ]
  },
  {
   "cell_type": "markdown",
   "id": "50ccf31a",
   "metadata": {},
   "source": [
    "Положительных значений существенно меньше отрицательных."
   ]
  },
  {
   "cell_type": "markdown",
   "id": "f76586d8",
   "metadata": {},
   "source": [
    "*Рассмотрим количество уникальных значений по столбцу `income_type` для каждой категории*"
   ]
  },
  {
   "cell_type": "code",
   "execution_count": 14,
   "id": "7250172f",
   "metadata": {},
   "outputs": [
    {
     "data": {
      "text/plain": [
       "('Типы дохода для отрицательных значений -',\n",
       " сотрудник          10014\n",
       " компаньон           4577\n",
       " госслужащий         1312\n",
       " студент                1\n",
       " предприниматель        1\n",
       " в декрете              1\n",
       " Name: income_type, dtype: int64)"
      ]
     },
     "execution_count": 14,
     "metadata": {},
     "output_type": "execute_result"
    }
   ],
   "source": [
    "'Типы дохода для отрицательных значений -', data[data['days_employed']<0]['income_type'].value_counts()"
   ]
  },
  {
   "cell_type": "code",
   "execution_count": 15,
   "id": "f176c8a3",
   "metadata": {
    "scrolled": true
   },
   "outputs": [
    {
     "data": {
      "text/plain": [
       "('Типы дохода для положительных значений -',\n",
       " пенсионер      3443\n",
       " безработный       2\n",
       " Name: income_type, dtype: int64)"
      ]
     },
     "execution_count": 15,
     "metadata": {},
     "output_type": "execute_result"
    }
   ],
   "source": [
    "'Типы дохода для положительных значений -',data[data['days_employed']>=0]['income_type'].value_counts()"
   ]
  },
  {
   "cell_type": "markdown",
   "id": "626d3db1",
   "metadata": {},
   "source": [
    "Категория отрицательных значений стлобца `days_employed` представлена шестью типами дохода: `сотрудник`, `компаньон`, `госслужащий`, `студент`, `предприниматель`, `в декрете`.\n",
    "\n",
    "Категория положительных значений стлобца `days_employed` представлена двумя типами дохода: `пенсионер`, `безработный`. Из них 3443 пенсионера и 2 безработных.\n",
    "\n",
    "Исходя из проведенного выше анализа, можно сделать вывод о том, что отрицательные значения в стлобце `days_employed` отображают количество дней трудового стажа трудоустроенных клиентов похожих на реальные, но записанные в виде отрицательного значения.\n",
    "\n",
    "В тоже время, положительные значения в стлобце `days_employed`, которые значительно превышают продолжительность жизни человека, представлены всего двумя категориями нетрудоустроенных клиентов и представляют около **18%** от общего объема данных.\n",
    "\n",
    "Поскольку на данный момент нет возможности уточнить принцип заполнения стлобца `days_employed` и появление таких неправдоподобно больших значений, необходимо принять решение о возможности использования этих значений для дальнейшего анализа данных."
   ]
  },
  {
   "cell_type": "markdown",
   "id": "c6612c69",
   "metadata": {},
   "source": [
    "Учитывая, что дальнейший анализ не предусматривает обращение к значениям данного столбца, примем решение удалить вызывающие недоверие значения в столбце `days_employed` для дальнейшего заполнения их медианными значениями при заполнении пропущенных значений."
   ]
  },
  {
   "cell_type": "markdown",
   "id": "293ea222",
   "metadata": {},
   "source": [
    "Удалим положительные значения из столбца `days_employed` и заменим пропуски в столбце медианой по отрицательным значениям. Затем приведем столбец к абсолютным значениям."
   ]
  },
  {
   "cell_type": "code",
   "execution_count": 16,
   "id": "f0c463a7",
   "metadata": {
    "scrolled": false
   },
   "outputs": [
    {
     "data": {
      "text/html": [
       "<div>\n",
       "<style scoped>\n",
       "    .dataframe tbody tr th:only-of-type {\n",
       "        vertical-align: middle;\n",
       "    }\n",
       "\n",
       "    .dataframe tbody tr th {\n",
       "        vertical-align: top;\n",
       "    }\n",
       "\n",
       "    .dataframe thead th {\n",
       "        text-align: right;\n",
       "    }\n",
       "</style>\n",
       "<table border=\"1\" class=\"dataframe\">\n",
       "  <thead>\n",
       "    <tr style=\"text-align: right;\">\n",
       "      <th></th>\n",
       "      <th>children</th>\n",
       "      <th>days_employed</th>\n",
       "      <th>dob_years</th>\n",
       "      <th>education</th>\n",
       "      <th>education_id</th>\n",
       "      <th>family_status</th>\n",
       "      <th>family_status_id</th>\n",
       "      <th>gender</th>\n",
       "      <th>income_type</th>\n",
       "      <th>debt</th>\n",
       "      <th>total_income</th>\n",
       "      <th>purpose</th>\n",
       "    </tr>\n",
       "  </thead>\n",
       "  <tbody>\n",
       "    <tr>\n",
       "      <th>0</th>\n",
       "      <td>1</td>\n",
       "      <td>8437.673028</td>\n",
       "      <td>42</td>\n",
       "      <td>высшее</td>\n",
       "      <td>0</td>\n",
       "      <td>женат / замужем</td>\n",
       "      <td>0</td>\n",
       "      <td>F</td>\n",
       "      <td>сотрудник</td>\n",
       "      <td>0</td>\n",
       "      <td>253875.639453</td>\n",
       "      <td>покупка жилья</td>\n",
       "    </tr>\n",
       "    <tr>\n",
       "      <th>1</th>\n",
       "      <td>1</td>\n",
       "      <td>4024.803754</td>\n",
       "      <td>36</td>\n",
       "      <td>среднее</td>\n",
       "      <td>1</td>\n",
       "      <td>женат / замужем</td>\n",
       "      <td>0</td>\n",
       "      <td>F</td>\n",
       "      <td>сотрудник</td>\n",
       "      <td>0</td>\n",
       "      <td>112080.014102</td>\n",
       "      <td>приобретение автомобиля</td>\n",
       "    </tr>\n",
       "    <tr>\n",
       "      <th>2</th>\n",
       "      <td>0</td>\n",
       "      <td>5623.422610</td>\n",
       "      <td>33</td>\n",
       "      <td>Среднее</td>\n",
       "      <td>1</td>\n",
       "      <td>женат / замужем</td>\n",
       "      <td>0</td>\n",
       "      <td>M</td>\n",
       "      <td>сотрудник</td>\n",
       "      <td>0</td>\n",
       "      <td>145885.952297</td>\n",
       "      <td>покупка жилья</td>\n",
       "    </tr>\n",
       "    <tr>\n",
       "      <th>3</th>\n",
       "      <td>3</td>\n",
       "      <td>4124.747207</td>\n",
       "      <td>32</td>\n",
       "      <td>среднее</td>\n",
       "      <td>1</td>\n",
       "      <td>женат / замужем</td>\n",
       "      <td>0</td>\n",
       "      <td>M</td>\n",
       "      <td>сотрудник</td>\n",
       "      <td>0</td>\n",
       "      <td>267628.550329</td>\n",
       "      <td>дополнительное образование</td>\n",
       "    </tr>\n",
       "    <tr>\n",
       "      <th>4</th>\n",
       "      <td>0</td>\n",
       "      <td>1630.019381</td>\n",
       "      <td>53</td>\n",
       "      <td>среднее</td>\n",
       "      <td>1</td>\n",
       "      <td>гражданский брак</td>\n",
       "      <td>1</td>\n",
       "      <td>F</td>\n",
       "      <td>пенсионер</td>\n",
       "      <td>0</td>\n",
       "      <td>158616.077870</td>\n",
       "      <td>сыграть свадьбу</td>\n",
       "    </tr>\n",
       "  </tbody>\n",
       "</table>\n",
       "</div>"
      ],
      "text/plain": [
       "   children  days_employed  dob_years education  education_id  \\\n",
       "0         1    8437.673028         42    высшее             0   \n",
       "1         1    4024.803754         36   среднее             1   \n",
       "2         0    5623.422610         33   Среднее             1   \n",
       "3         3    4124.747207         32   среднее             1   \n",
       "4         0    1630.019381         53   среднее             1   \n",
       "\n",
       "      family_status  family_status_id gender income_type  debt   total_income  \\\n",
       "0   женат / замужем                 0      F   сотрудник     0  253875.639453   \n",
       "1   женат / замужем                 0      F   сотрудник     0  112080.014102   \n",
       "2   женат / замужем                 0      M   сотрудник     0  145885.952297   \n",
       "3   женат / замужем                 0      M   сотрудник     0  267628.550329   \n",
       "4  гражданский брак                 1      F   пенсионер     0  158616.077870   \n",
       "\n",
       "                      purpose  \n",
       "0               покупка жилья  \n",
       "1     приобретение автомобиля  \n",
       "2               покупка жилья  \n",
       "3  дополнительное образование  \n",
       "4             сыграть свадьбу  "
      ]
     },
     "metadata": {},
     "output_type": "display_data"
    }
   ],
   "source": [
    "data.loc[(data['days_employed']>=0) | (data['days_employed'].isna() == True),'days_employed']= negative_median\n",
    "data['days_employed']=abs(data['days_employed'])\n",
    "display(data.head())"
   ]
  },
  {
   "cell_type": "code",
   "execution_count": 17,
   "id": "57e5ded3",
   "metadata": {
    "scrolled": true
   },
   "outputs": [
    {
     "name": "stdout",
     "output_type": "stream",
     "text": [
      "<class 'pandas.core.frame.DataFrame'>\n",
      "RangeIndex: 21525 entries, 0 to 21524\n",
      "Data columns (total 12 columns):\n",
      " #   Column            Non-Null Count  Dtype  \n",
      "---  ------            --------------  -----  \n",
      " 0   children          21525 non-null  int64  \n",
      " 1   days_employed     21525 non-null  float64\n",
      " 2   dob_years         21525 non-null  int64  \n",
      " 3   education         21525 non-null  object \n",
      " 4   education_id      21525 non-null  int64  \n",
      " 5   family_status     21525 non-null  object \n",
      " 6   family_status_id  21525 non-null  int64  \n",
      " 7   gender            21525 non-null  object \n",
      " 8   income_type       21525 non-null  object \n",
      " 9   debt              21525 non-null  int64  \n",
      " 10  total_income      21525 non-null  float64\n",
      " 11  purpose           21525 non-null  object \n",
      "dtypes: float64(2), int64(5), object(5)\n",
      "memory usage: 2.0+ MB\n"
     ]
    }
   ],
   "source": [
    "data.info()"
   ]
  },
  {
   "cell_type": "markdown",
   "id": "1fba9544",
   "metadata": {},
   "source": [
    "Все пропуски и не вызывающие доверия значения заменены на медианные значения трудового стажа трудоустроенных клиентов. Все значения приведены в абсолютные."
   ]
  },
  {
   "cell_type": "markdown",
   "id": "041d7020",
   "metadata": {},
   "source": [
    "## Шаг 2.3. Изменение типов данных."
   ]
  },
  {
   "cell_type": "markdown",
   "id": "768b025d",
   "metadata": {},
   "source": [
    "В столбце `total_income`, отображающем ежемесечный доход клиентов, данные представлены вещественнымтипом данных. Для облегчения работы с ними преобразуем их в целочисленные значения."
   ]
  },
  {
   "cell_type": "code",
   "execution_count": 18,
   "id": "fc07caaa",
   "metadata": {},
   "outputs": [
    {
     "name": "stdout",
     "output_type": "stream",
     "text": [
      "<class 'pandas.core.frame.DataFrame'>\n",
      "RangeIndex: 21525 entries, 0 to 21524\n",
      "Data columns (total 12 columns):\n",
      " #   Column            Non-Null Count  Dtype  \n",
      "---  ------            --------------  -----  \n",
      " 0   children          21525 non-null  int64  \n",
      " 1   days_employed     21525 non-null  float64\n",
      " 2   dob_years         21525 non-null  int64  \n",
      " 3   education         21525 non-null  object \n",
      " 4   education_id      21525 non-null  int64  \n",
      " 5   family_status     21525 non-null  object \n",
      " 6   family_status_id  21525 non-null  int64  \n",
      " 7   gender            21525 non-null  object \n",
      " 8   income_type       21525 non-null  object \n",
      " 9   debt              21525 non-null  int64  \n",
      " 10  total_income      21525 non-null  int32  \n",
      " 11  purpose           21525 non-null  object \n",
      "dtypes: float64(1), int32(1), int64(5), object(5)\n",
      "memory usage: 1.9+ MB\n"
     ]
    }
   ],
   "source": [
    "data['total_income'] = data['total_income'].astype(int)\n",
    "data.info()"
   ]
  },
  {
   "cell_type": "markdown",
   "id": "aeb4ab71",
   "metadata": {},
   "source": [
    "## Шаг 2.4. Удаление дубликатов."
   ]
  },
  {
   "cell_type": "markdown",
   "id": "dc62d613",
   "metadata": {},
   "source": [
    "В данных могут присутсвовать дубликаты.Проведем поэтапный анализ и избавимся от них."
   ]
  },
  {
   "cell_type": "markdown",
   "id": "163a5cf2",
   "metadata": {},
   "source": [
    "### Явные дубликаты"
   ]
  },
  {
   "cell_type": "markdown",
   "id": "1b73d2a8",
   "metadata": {},
   "source": [
    "Определим количество явных дубликатов в датафрейме."
   ]
  },
  {
   "cell_type": "code",
   "execution_count": 19,
   "id": "3a7fb2bf",
   "metadata": {
    "scrolled": true
   },
   "outputs": [
    {
     "data": {
      "text/plain": [
       "54"
      ]
     },
     "execution_count": 19,
     "metadata": {},
     "output_type": "execute_result"
    }
   ],
   "source": [
    "data.duplicated().sum()"
   ]
  },
  {
   "cell_type": "markdown",
   "id": "6f664352",
   "metadata": {},
   "source": [
    "Избавимся от явных дубликатов методом `drop_duplicates()`"
   ]
  },
  {
   "cell_type": "code",
   "execution_count": 20,
   "id": "0dbc40c9",
   "metadata": {
    "scrolled": true
   },
   "outputs": [
    {
     "data": {
      "text/plain": [
       "0"
      ]
     },
     "execution_count": 20,
     "metadata": {},
     "output_type": "execute_result"
    }
   ],
   "source": [
    "data = data.drop_duplicates().reset_index(drop=True)\n",
    "data.duplicated().sum()"
   ]
  },
  {
   "cell_type": "markdown",
   "id": "f020159e",
   "metadata": {},
   "source": [
    "Все явные дубликаты удалены из датафрейма."
   ]
  },
  {
   "cell_type": "markdown",
   "id": "34466d64",
   "metadata": {},
   "source": [
    "### Неявные дубликаты"
   ]
  },
  {
   "cell_type": "markdown",
   "id": "7224e565",
   "metadata": {},
   "source": [
    "Поищем неявные дубликаты в каждом из необработанных столбцов"
   ]
  },
  {
   "cell_type": "markdown",
   "id": "1cf0235d",
   "metadata": {},
   "source": [
    "**Столбец `education`**"
   ]
  },
  {
   "cell_type": "code",
   "execution_count": 21,
   "id": "128bce95",
   "metadata": {
    "scrolled": true
   },
   "outputs": [
    {
     "data": {
      "text/plain": [
       "array(['высшее', 'среднее', 'Среднее', 'СРЕДНЕЕ', 'ВЫСШЕЕ',\n",
       "       'неоконченное высшее', 'начальное', 'Высшее',\n",
       "       'НЕОКОНЧЕННОЕ ВЫСШЕЕ', 'Неоконченное высшее', 'НАЧАЛЬНОЕ',\n",
       "       'Начальное', 'Ученая степень', 'УЧЕНАЯ СТЕПЕНЬ', 'ученая степень'],\n",
       "      dtype=object)"
      ]
     },
     "execution_count": 21,
     "metadata": {},
     "output_type": "execute_result"
    }
   ],
   "source": [
    "data ['education'].unique()"
   ]
  },
  {
   "cell_type": "markdown",
   "id": "4503ffaa",
   "metadata": {},
   "source": [
    "В данном столбце обнаружены дубликаты, отличающиеся друг от друга регистром. Все дубликаты можно изменить, приведя столбец к нижнему регистру."
   ]
  },
  {
   "cell_type": "code",
   "execution_count": 22,
   "id": "c7eeb417",
   "metadata": {},
   "outputs": [
    {
     "data": {
      "text/plain": [
       "array(['высшее', 'среднее', 'неоконченное высшее', 'начальное',\n",
       "       'ученая степень'], dtype=object)"
      ]
     },
     "execution_count": 22,
     "metadata": {},
     "output_type": "execute_result"
    }
   ],
   "source": [
    "data ['education'] = data ['education'].str.lower()\n",
    "data ['education'].unique()"
   ]
  },
  {
   "cell_type": "markdown",
   "id": "4f8096b0",
   "metadata": {},
   "source": [
    "**Столбец `children`**"
   ]
  },
  {
   "cell_type": "code",
   "execution_count": 23,
   "id": "a09fd651",
   "metadata": {},
   "outputs": [
    {
     "data": {
      "text/plain": [
       "array([ 1,  0,  3,  2, -1,  4, 20,  5], dtype=int64)"
      ]
     },
     "execution_count": 23,
     "metadata": {},
     "output_type": "execute_result"
    }
   ],
   "source": [
    "data ['children'].unique()"
   ]
  },
  {
   "cell_type": "markdown",
   "id": "bee27375",
   "metadata": {},
   "source": [
    "В столбце, отображающем количество детей у клиента, вызывают сомннение значения `-1` и `20`. Можно предположить что `-` и `0` были введены случайно при заполнении. Заменим значения на `1` и `2` соответсвенно методом `replace`."
   ]
  },
  {
   "cell_type": "code",
   "execution_count": 24,
   "id": "7777e1f2",
   "metadata": {},
   "outputs": [],
   "source": [
    "wrong_numbers = [-1, 20]\n",
    "right_numbers = [1, 2]\n",
    "data ['children'] = data ['children'].replace(wrong_numbers, right_numbers)"
   ]
  },
  {
   "cell_type": "code",
   "execution_count": 25,
   "id": "eb34b602",
   "metadata": {},
   "outputs": [
    {
     "data": {
      "text/plain": [
       "array([1, 0, 3, 2, 4, 5], dtype=int64)"
      ]
     },
     "execution_count": 25,
     "metadata": {},
     "output_type": "execute_result"
    }
   ],
   "source": [
    "data ['children'].unique()"
   ]
  },
  {
   "cell_type": "markdown",
   "id": "b1a06a46",
   "metadata": {},
   "source": [
    "**Столбец `dob_years`**"
   ]
  },
  {
   "cell_type": "code",
   "execution_count": 26,
   "id": "24fee536",
   "metadata": {
    "scrolled": true
   },
   "outputs": [
    {
     "data": {
      "text/plain": [
       "array([42, 36, 33, 32, 53, 27, 43, 50, 35, 41, 40, 65, 54, 56, 26, 48, 24,\n",
       "       21, 57, 67, 28, 63, 62, 47, 34, 68, 25, 31, 30, 20, 49, 37, 45, 61,\n",
       "       64, 44, 52, 46, 23, 38, 39, 51,  0, 59, 29, 60, 55, 58, 71, 22, 73,\n",
       "       66, 69, 19, 72, 70, 74, 75], dtype=int64)"
      ]
     },
     "execution_count": 26,
     "metadata": {},
     "output_type": "execute_result"
    }
   ],
   "source": [
    "data ['dob_years'].unique()"
   ]
  },
  {
   "cell_type": "markdown",
   "id": "f09538df",
   "metadata": {},
   "source": [
    "Исходя из данных, представляющих количество клиентов банка каждого возраста, можно с уверенностью сказать, что в столбце `dob_years` присутствуют значение с возрастом `0`, что является очевидной ошибкой в данных. Заменим возраст `0` на ближайший минимальный возраст клиента, определив его."
   ]
  },
  {
   "cell_type": "code",
   "execution_count": 27,
   "id": "c9d5d9b5",
   "metadata": {
    "scrolled": true
   },
   "outputs": [
    {
     "data": {
      "text/plain": [
       "dob_years\n",
       "0     101\n",
       "19     14\n",
       "Name: dob_years, dtype: int64"
      ]
     },
     "execution_count": 27,
     "metadata": {},
     "output_type": "execute_result"
    }
   ],
   "source": [
    "data.sort_values('dob_years').groupby('dob_years')['dob_years'].count().head(2)"
   ]
  },
  {
   "cell_type": "markdown",
   "id": "d2f63aca",
   "metadata": {},
   "source": [
    "Ближайший подходящий минимальный возраст - 19 лет заменим методом `replace`."
   ]
  },
  {
   "cell_type": "code",
   "execution_count": 28,
   "id": "bef8ee5a",
   "metadata": {},
   "outputs": [
    {
     "data": {
      "text/plain": [
       "dob_years\n",
       "19    115\n",
       "20     51\n",
       "21    111\n",
       "22    183\n",
       "23    253\n",
       "Name: dob_years, dtype: int64"
      ]
     },
     "execution_count": 28,
     "metadata": {},
     "output_type": "execute_result"
    }
   ],
   "source": [
    "data ['dob_years'] = data ['dob_years'].replace(0, 19)\n",
    "data.sort_values('dob_years').groupby('dob_years')['dob_years'].count().head()"
   ]
  },
  {
   "cell_type": "markdown",
   "id": "872ae13b",
   "metadata": {},
   "source": [
    "**Столбец `education_id`**"
   ]
  },
  {
   "cell_type": "code",
   "execution_count": 29,
   "id": "af26b7b7",
   "metadata": {},
   "outputs": [
    {
     "data": {
      "text/plain": [
       "array([0, 1, 2, 3, 4], dtype=int64)"
      ]
     },
     "execution_count": 29,
     "metadata": {},
     "output_type": "execute_result"
    }
   ],
   "source": [
    "data ['education_id'].unique()"
   ]
  },
  {
   "cell_type": "markdown",
   "id": "5938eab7",
   "metadata": {},
   "source": [
    "Все хорошо"
   ]
  },
  {
   "cell_type": "markdown",
   "id": "03e4cb82",
   "metadata": {},
   "source": [
    "**Столбец `family_status`**"
   ]
  },
  {
   "cell_type": "code",
   "execution_count": 30,
   "id": "964af73a",
   "metadata": {},
   "outputs": [
    {
     "data": {
      "text/plain": [
       "array(['женат / замужем', 'гражданский брак', 'вдовец / вдова',\n",
       "       'в разводе', 'Не женат / не замужем'], dtype=object)"
      ]
     },
     "execution_count": 30,
     "metadata": {},
     "output_type": "execute_result"
    }
   ],
   "source": [
    "data ['family_status'].unique()"
   ]
  },
  {
   "cell_type": "markdown",
   "id": "28a5f9ba",
   "metadata": {},
   "source": [
    "Дубликатов нет, но есть значение, выделяющееся по регистру. Приведем столбец к общему нижнему регистру."
   ]
  },
  {
   "cell_type": "code",
   "execution_count": 31,
   "id": "c7c3ab4c",
   "metadata": {},
   "outputs": [
    {
     "data": {
      "text/plain": [
       "array(['женат / замужем', 'гражданский брак', 'вдовец / вдова',\n",
       "       'в разводе', 'не женат / не замужем'], dtype=object)"
      ]
     },
     "execution_count": 31,
     "metadata": {},
     "output_type": "execute_result"
    }
   ],
   "source": [
    "data ['family_status'] = data ['family_status'].str.lower()\n",
    "data ['family_status'].unique()"
   ]
  },
  {
   "cell_type": "markdown",
   "id": "04eda2c9",
   "metadata": {},
   "source": [
    "**Столбец `family_status_id`**"
   ]
  },
  {
   "cell_type": "code",
   "execution_count": 32,
   "id": "1ebea356",
   "metadata": {
    "scrolled": true
   },
   "outputs": [
    {
     "data": {
      "text/plain": [
       "array([0, 1, 2, 3, 4], dtype=int64)"
      ]
     },
     "execution_count": 32,
     "metadata": {},
     "output_type": "execute_result"
    }
   ],
   "source": [
    "data ['family_status_id'].unique()"
   ]
  },
  {
   "cell_type": "markdown",
   "id": "02747700",
   "metadata": {},
   "source": [
    "Все хорошо"
   ]
  },
  {
   "cell_type": "markdown",
   "id": "b5761deb",
   "metadata": {},
   "source": [
    "**Столбец `gender`**"
   ]
  },
  {
   "cell_type": "code",
   "execution_count": 33,
   "id": "785155bb",
   "metadata": {},
   "outputs": [
    {
     "data": {
      "text/plain": [
       "array(['F', 'M', 'XNA'], dtype=object)"
      ]
     },
     "execution_count": 33,
     "metadata": {},
     "output_type": "execute_result"
    }
   ],
   "source": [
    "data ['gender'].unique()"
   ]
  },
  {
   "cell_type": "markdown",
   "id": "6cd3ae95",
   "metadata": {},
   "source": [
    "В столбце `gender` есть одно выбивающееся из общей картины значение `XNA`. Так как данный столбец не планируется использовать в дальнейшем анализе, и нет возможности с уверенностью отнести указанного клиента к какому-либо из гендеров, примем решение оставить данное значение без изменений."
   ]
  },
  {
   "cell_type": "markdown",
   "id": "045da6d9",
   "metadata": {},
   "source": [
    "**Столбец `income_type`**"
   ]
  },
  {
   "cell_type": "code",
   "execution_count": 34,
   "id": "5ddb2114",
   "metadata": {},
   "outputs": [
    {
     "data": {
      "text/plain": [
       "array(['сотрудник', 'пенсионер', 'компаньон', 'госслужащий',\n",
       "       'безработный', 'предприниматель', 'студент', 'в декрете'],\n",
       "      dtype=object)"
      ]
     },
     "execution_count": 34,
     "metadata": {},
     "output_type": "execute_result"
    }
   ],
   "source": [
    "data ['income_type'].unique()"
   ]
  },
  {
   "cell_type": "markdown",
   "id": "552fad76",
   "metadata": {},
   "source": [
    "Все хорошо"
   ]
  },
  {
   "cell_type": "markdown",
   "id": "681e7cd6",
   "metadata": {},
   "source": [
    "**Столбец `debt`**"
   ]
  },
  {
   "cell_type": "code",
   "execution_count": 35,
   "id": "0bb2f02f",
   "metadata": {},
   "outputs": [
    {
     "data": {
      "text/plain": [
       "array([0, 1], dtype=int64)"
      ]
     },
     "execution_count": 35,
     "metadata": {},
     "output_type": "execute_result"
    }
   ],
   "source": [
    "data ['debt'].unique()"
   ]
  },
  {
   "cell_type": "markdown",
   "id": "29939aba",
   "metadata": {},
   "source": [
    "Все хорошо"
   ]
  },
  {
   "cell_type": "markdown",
   "id": "0500b568",
   "metadata": {},
   "source": [
    "**Столбец `purpose`**"
   ]
  },
  {
   "cell_type": "code",
   "execution_count": 36,
   "id": "cbd3de6b",
   "metadata": {
    "scrolled": true
   },
   "outputs": [
    {
     "data": {
      "text/plain": [
       "array(['покупка жилья', 'приобретение автомобиля',\n",
       "       'дополнительное образование', 'сыграть свадьбу',\n",
       "       'операции с жильем', 'образование', 'на проведение свадьбы',\n",
       "       'покупка жилья для семьи', 'покупка недвижимости',\n",
       "       'покупка коммерческой недвижимости', 'покупка жилой недвижимости',\n",
       "       'строительство собственной недвижимости', 'недвижимость',\n",
       "       'строительство недвижимости', 'на покупку подержанного автомобиля',\n",
       "       'на покупку своего автомобиля',\n",
       "       'операции с коммерческой недвижимостью',\n",
       "       'строительство жилой недвижимости', 'жилье',\n",
       "       'операции со своей недвижимостью', 'автомобили',\n",
       "       'заняться образованием', 'сделка с подержанным автомобилем',\n",
       "       'получение образования', 'автомобиль', 'свадьба',\n",
       "       'получение дополнительного образования', 'покупка своего жилья',\n",
       "       'операции с недвижимостью', 'получение высшего образования',\n",
       "       'свой автомобиль', 'сделка с автомобилем',\n",
       "       'профильное образование', 'высшее образование',\n",
       "       'покупка жилья для сдачи', 'на покупку автомобиля', 'ремонт жилью',\n",
       "       'заняться высшим образованием'], dtype=object)"
      ]
     },
     "execution_count": 36,
     "metadata": {},
     "output_type": "execute_result"
    }
   ],
   "source": [
    "data ['purpose'].unique()"
   ]
  },
  {
   "cell_type": "markdown",
   "id": "597e008e",
   "metadata": {},
   "source": [
    "В столбце `purpose` введено большое количество уникальных значений, схожих по смыслу. Вместо приведения их к ограниченному количеству уникальных значений, в дальнейшем произведем их категоризацию."
   ]
  },
  {
   "cell_type": "markdown",
   "id": "10b4e5a2",
   "metadata": {},
   "source": [
    "### Методы обработки дубликатов"
   ]
  },
  {
   "cell_type": "markdown",
   "id": "8705a423",
   "metadata": {},
   "source": [
    "Для обнаружения **явных** дубликатов использовался метод `.duplicated()`, для их удаления использовался метод `.drop_duplicates()`.\n",
    "\n",
    "Подобные дубликаты могут возникнуть в процессе копирования, либо выгрузки данных, что может говорить как о человечском факторе, так и о технологической ошибке."
   ]
  },
  {
   "cell_type": "markdown",
   "id": "c570f235",
   "metadata": {},
   "source": [
    "Для обнаружения **неявных** дубликатов использовался метод `.unique()`.\n",
    "В данном датафрейме неявные дубликаты были представлены значениями, различающиеся регистром и некорректным написанием. \n",
    "- Для приведения к общему регистру использовался метод `.str.lower()`. \n",
    "- ДЛя устранения ошибок в введенных данных использовался метод `.replace()`.\n",
    "\n",
    "Неявные дубликаты чаще всего возникают из-за человеческого фактора."
   ]
  },
  {
   "cell_type": "markdown",
   "id": "92e1424f",
   "metadata": {},
   "source": [
    "## Шаг 2.5. Формирование дополнительных датафреймов словарей, декомпозиция исходного датафрейма."
   ]
  },
  {
   "cell_type": "markdown",
   "id": "cb6cc0d8",
   "metadata": {},
   "source": [
    "Для удобства работы с датафреймом можно произвести декомпозицию исходного датафрейма при помощи создания словарей. Тем более что в исходном датафрейме присутсвуют столбцы `education_id` и `family_status_id`, позволяющие создать словари на их основе."
   ]
  },
  {
   "cell_type": "markdown",
   "id": "022f6692",
   "metadata": {},
   "source": [
    "Создадим два новых датафрейма, скопировав в них столбцы из исходного, избавившись от дубликатов методом `.drop_duplicates()` и обновив индексацию методом `.reset_index(drop=True)`."
   ]
  },
  {
   "cell_type": "code",
   "execution_count": 37,
   "id": "5f28ae77",
   "metadata": {},
   "outputs": [],
   "source": [
    "education_dict=data[['education','education_id']].drop_duplicates().reset_index(drop=True).sort_values('education_id')\n",
    "family_status_dict =data[['family_status','family_status_id']].drop_duplicates().reset_index(drop=True).sort_values('family_status_id')"
   ]
  },
  {
   "cell_type": "code",
   "execution_count": 38,
   "id": "8a958110",
   "metadata": {},
   "outputs": [
    {
     "data": {
      "text/html": [
       "<div>\n",
       "<style scoped>\n",
       "    .dataframe tbody tr th:only-of-type {\n",
       "        vertical-align: middle;\n",
       "    }\n",
       "\n",
       "    .dataframe tbody tr th {\n",
       "        vertical-align: top;\n",
       "    }\n",
       "\n",
       "    .dataframe thead th {\n",
       "        text-align: right;\n",
       "    }\n",
       "</style>\n",
       "<table border=\"1\" class=\"dataframe\">\n",
       "  <thead>\n",
       "    <tr style=\"text-align: right;\">\n",
       "      <th></th>\n",
       "      <th>education</th>\n",
       "      <th>education_id</th>\n",
       "    </tr>\n",
       "  </thead>\n",
       "  <tbody>\n",
       "    <tr>\n",
       "      <th>0</th>\n",
       "      <td>высшее</td>\n",
       "      <td>0</td>\n",
       "    </tr>\n",
       "    <tr>\n",
       "      <th>1</th>\n",
       "      <td>среднее</td>\n",
       "      <td>1</td>\n",
       "    </tr>\n",
       "    <tr>\n",
       "      <th>2</th>\n",
       "      <td>неоконченное высшее</td>\n",
       "      <td>2</td>\n",
       "    </tr>\n",
       "    <tr>\n",
       "      <th>3</th>\n",
       "      <td>начальное</td>\n",
       "      <td>3</td>\n",
       "    </tr>\n",
       "    <tr>\n",
       "      <th>4</th>\n",
       "      <td>ученая степень</td>\n",
       "      <td>4</td>\n",
       "    </tr>\n",
       "  </tbody>\n",
       "</table>\n",
       "</div>"
      ],
      "text/plain": [
       "             education  education_id\n",
       "0               высшее             0\n",
       "1              среднее             1\n",
       "2  неоконченное высшее             2\n",
       "3            начальное             3\n",
       "4       ученая степень             4"
      ]
     },
     "metadata": {},
     "output_type": "display_data"
    },
    {
     "data": {
      "text/html": [
       "<div>\n",
       "<style scoped>\n",
       "    .dataframe tbody tr th:only-of-type {\n",
       "        vertical-align: middle;\n",
       "    }\n",
       "\n",
       "    .dataframe tbody tr th {\n",
       "        vertical-align: top;\n",
       "    }\n",
       "\n",
       "    .dataframe thead th {\n",
       "        text-align: right;\n",
       "    }\n",
       "</style>\n",
       "<table border=\"1\" class=\"dataframe\">\n",
       "  <thead>\n",
       "    <tr style=\"text-align: right;\">\n",
       "      <th></th>\n",
       "      <th>family_status</th>\n",
       "      <th>family_status_id</th>\n",
       "    </tr>\n",
       "  </thead>\n",
       "  <tbody>\n",
       "    <tr>\n",
       "      <th>0</th>\n",
       "      <td>женат / замужем</td>\n",
       "      <td>0</td>\n",
       "    </tr>\n",
       "    <tr>\n",
       "      <th>1</th>\n",
       "      <td>гражданский брак</td>\n",
       "      <td>1</td>\n",
       "    </tr>\n",
       "    <tr>\n",
       "      <th>2</th>\n",
       "      <td>вдовец / вдова</td>\n",
       "      <td>2</td>\n",
       "    </tr>\n",
       "    <tr>\n",
       "      <th>3</th>\n",
       "      <td>в разводе</td>\n",
       "      <td>3</td>\n",
       "    </tr>\n",
       "    <tr>\n",
       "      <th>4</th>\n",
       "      <td>не женат / не замужем</td>\n",
       "      <td>4</td>\n",
       "    </tr>\n",
       "  </tbody>\n",
       "</table>\n",
       "</div>"
      ],
      "text/plain": [
       "           family_status  family_status_id\n",
       "0        женат / замужем                 0\n",
       "1       гражданский брак                 1\n",
       "2         вдовец / вдова                 2\n",
       "3              в разводе                 3\n",
       "4  не женат / не замужем                 4"
      ]
     },
     "metadata": {},
     "output_type": "display_data"
    }
   ],
   "source": [
    "display(education_dict)\n",
    "display(family_status_dict)"
   ]
  },
  {
   "cell_type": "markdown",
   "id": "8a9cded5",
   "metadata": {},
   "source": [
    "Удалим из исходного датафрейма столбцы `education` и `family_status`."
   ]
  },
  {
   "cell_type": "code",
   "execution_count": 39,
   "id": "286673e3",
   "metadata": {},
   "outputs": [],
   "source": [
    "data.drop(columns=['education','family_status'],axis=1,inplace=True)"
   ]
  },
  {
   "cell_type": "code",
   "execution_count": 40,
   "id": "40fa4431",
   "metadata": {},
   "outputs": [
    {
     "name": "stdout",
     "output_type": "stream",
     "text": [
      "<class 'pandas.core.frame.DataFrame'>\n",
      "RangeIndex: 21471 entries, 0 to 21470\n",
      "Data columns (total 10 columns):\n",
      " #   Column            Non-Null Count  Dtype  \n",
      "---  ------            --------------  -----  \n",
      " 0   children          21471 non-null  int64  \n",
      " 1   days_employed     21471 non-null  float64\n",
      " 2   dob_years         21471 non-null  int64  \n",
      " 3   education_id      21471 non-null  int64  \n",
      " 4   family_status_id  21471 non-null  int64  \n",
      " 5   gender            21471 non-null  object \n",
      " 6   income_type       21471 non-null  object \n",
      " 7   debt              21471 non-null  int64  \n",
      " 8   total_income      21471 non-null  int32  \n",
      " 9   purpose           21471 non-null  object \n",
      "dtypes: float64(1), int32(1), int64(5), object(3)\n",
      "memory usage: 1.6+ MB\n"
     ]
    }
   ],
   "source": [
    "data.info()"
   ]
  },
  {
   "cell_type": "markdown",
   "id": "1d1c6ba1",
   "metadata": {},
   "source": [
    "## Шаг 2.6. Категоризация дохода."
   ]
  },
  {
   "cell_type": "markdown",
   "id": "b32f3b25",
   "metadata": {},
   "source": [
    "Для удобства работы с данными о доходах клиентов, может разбить доход на несколько категорий, чтобы в дальнейшем при анализе обращаться к ним.\n",
    "- 0–30000 — 'E';\n",
    "- 30001–50000 — 'D';\n",
    "- 50001–200000 — 'C';\n",
    "- 200001–1000000 — 'B';\n",
    "- 1000001 и выше — 'A'."
   ]
  },
  {
   "cell_type": "markdown",
   "id": "527f0f87",
   "metadata": {},
   "source": [
    "Для этого напишем функцию `categorise_income`, которая пройдет по значениям столбца `total_income` и в зависимости от значения присвоит столбцу `'total_income_category` значение категории дохода."
   ]
  },
  {
   "cell_type": "code",
   "execution_count": 41,
   "id": "44171448",
   "metadata": {},
   "outputs": [],
   "source": [
    "def categorise_income(column):\n",
    "    '''\n",
    "    0–30000 — \\'E\\';\n",
    "30001–50000 — \\'D\\';\n",
    "50001–200000 — \\'C\\';\n",
    "200001–1000000 — \\'B\\';\n",
    "1000001 и выше — \\'A\\'.\n",
    "'''\n",
    "    if column<=30000:\n",
    "        return 'E'\n",
    "    if column<=50000:\n",
    "        return 'D'\n",
    "    if column<=200000:\n",
    "        return 'C'\n",
    "    if column<=1000000:\n",
    "        return 'B'\n",
    "    return 'A'"
   ]
  },
  {
   "cell_type": "markdown",
   "id": "083e36e2",
   "metadata": {},
   "source": [
    "Применим функцию"
   ]
  },
  {
   "cell_type": "code",
   "execution_count": 42,
   "id": "1944d703",
   "metadata": {
    "scrolled": true
   },
   "outputs": [
    {
     "name": "stdout",
     "output_type": "stream",
     "text": [
      "<class 'pandas.core.frame.DataFrame'>\n",
      "RangeIndex: 21471 entries, 0 to 21470\n",
      "Data columns (total 11 columns):\n",
      " #   Column                 Non-Null Count  Dtype  \n",
      "---  ------                 --------------  -----  \n",
      " 0   children               21471 non-null  int64  \n",
      " 1   days_employed          21471 non-null  float64\n",
      " 2   dob_years              21471 non-null  int64  \n",
      " 3   education_id           21471 non-null  int64  \n",
      " 4   family_status_id       21471 non-null  int64  \n",
      " 5   gender                 21471 non-null  object \n",
      " 6   income_type            21471 non-null  object \n",
      " 7   debt                   21471 non-null  int64  \n",
      " 8   total_income           21471 non-null  int32  \n",
      " 9   purpose                21471 non-null  object \n",
      " 10  total_income_category  21471 non-null  object \n",
      "dtypes: float64(1), int32(1), int64(5), object(4)\n",
      "memory usage: 1.7+ MB\n"
     ]
    }
   ],
   "source": [
    "data['total_income_category']=data['total_income'].apply(categorise_income)\n",
    "data.info()"
   ]
  },
  {
   "cell_type": "markdown",
   "id": "add47ebe",
   "metadata": {},
   "source": [
    "## Шаг 2.7. Категоризация целей кредита."
   ]
  },
  {
   "cell_type": "markdown",
   "id": "3df157eb",
   "metadata": {},
   "source": [
    "Как было отмечено ранее в столбце `purpose` введено большое количество уникальных значений, схожих по смыслу. Произведем их категоризацию, создав логическую функцию `purpose_categorisation`, которая пройдет по подстрокам и присвоит столбцу `purpose_category` общие категории целей кредита."
   ]
  },
  {
   "cell_type": "code",
   "execution_count": 43,
   "id": "a1b27cd8",
   "metadata": {},
   "outputs": [],
   "source": [
    "def purpose_categorisation(column):\n",
    "    try:\n",
    "        if 'автомобил' in column:\n",
    "            return 'операции с автомобилем' \n",
    "        if 'жил' in column or 'недвиж' in column:\n",
    "            return 'операции с недвижимостью'\n",
    "        if 'свад' in column:\n",
    "            return 'проведение свадьбы'\n",
    "        if 'образов' in column:\n",
    "            return 'получение образования'\n",
    "    except:\n",
    "        return 'категория не определена'"
   ]
  },
  {
   "cell_type": "markdown",
   "id": "756f43dd",
   "metadata": {},
   "source": [
    "Применим функцию"
   ]
  },
  {
   "cell_type": "code",
   "execution_count": 44,
   "id": "aa4f60b8",
   "metadata": {
    "scrolled": true
   },
   "outputs": [
    {
     "data": {
      "text/plain": [
       "array(['операции с недвижимостью', 'операции с автомобилем',\n",
       "       'получение образования', 'проведение свадьбы'], dtype=object)"
      ]
     },
     "execution_count": 44,
     "metadata": {},
     "output_type": "execute_result"
    }
   ],
   "source": [
    "data['purpose_category']=data['purpose'].apply(purpose_categorisation)\n",
    "data['purpose_category'].unique()"
   ]
  },
  {
   "cell_type": "markdown",
   "id": "57d4de2b",
   "metadata": {},
   "source": [
    "## Ответы на вопросы."
   ]
  },
  {
   "cell_type": "markdown",
   "id": "662ca572",
   "metadata": {},
   "source": [
    "### Вопрос 1:"
   ]
  },
  {
   "cell_type": "markdown",
   "id": "0ad77322",
   "metadata": {},
   "source": [
    "**Есть ли зависимость между количеством детей и возвратом кредита в срок?**"
   ]
  },
  {
   "cell_type": "markdown",
   "id": "5d1773b9",
   "metadata": {},
   "source": [
    "Создадим датафрейм, содержащий только значения из столбцов `children` и `debt`"
   ]
  },
  {
   "cell_type": "code",
   "execution_count": 45,
   "id": "b399a4ce",
   "metadata": {},
   "outputs": [
    {
     "data": {
      "text/html": [
       "<div>\n",
       "<style scoped>\n",
       "    .dataframe tbody tr th:only-of-type {\n",
       "        vertical-align: middle;\n",
       "    }\n",
       "\n",
       "    .dataframe tbody tr th {\n",
       "        vertical-align: top;\n",
       "    }\n",
       "\n",
       "    .dataframe thead th {\n",
       "        text-align: right;\n",
       "    }\n",
       "</style>\n",
       "<table border=\"1\" class=\"dataframe\">\n",
       "  <thead>\n",
       "    <tr style=\"text-align: right;\">\n",
       "      <th></th>\n",
       "      <th>children</th>\n",
       "      <th>debt</th>\n",
       "    </tr>\n",
       "  </thead>\n",
       "  <tbody>\n",
       "    <tr>\n",
       "      <th>0</th>\n",
       "      <td>1</td>\n",
       "      <td>0</td>\n",
       "    </tr>\n",
       "    <tr>\n",
       "      <th>1</th>\n",
       "      <td>1</td>\n",
       "      <td>0</td>\n",
       "    </tr>\n",
       "    <tr>\n",
       "      <th>2</th>\n",
       "      <td>0</td>\n",
       "      <td>0</td>\n",
       "    </tr>\n",
       "    <tr>\n",
       "      <th>3</th>\n",
       "      <td>3</td>\n",
       "      <td>0</td>\n",
       "    </tr>\n",
       "    <tr>\n",
       "      <th>4</th>\n",
       "      <td>0</td>\n",
       "      <td>0</td>\n",
       "    </tr>\n",
       "  </tbody>\n",
       "</table>\n",
       "</div>"
      ],
      "text/plain": [
       "   children  debt\n",
       "0         1     0\n",
       "1         1     0\n",
       "2         0     0\n",
       "3         3     0\n",
       "4         0     0"
      ]
     },
     "metadata": {},
     "output_type": "display_data"
    }
   ],
   "source": [
    "data_children=data[['children','debt']]\n",
    "display(data_children.head())"
   ]
  },
  {
   "cell_type": "markdown",
   "id": "4ef47c5a",
   "metadata": {},
   "source": [
    "Создадим словарь, содержащий, количество клиентов категоризированных по количеству детей."
   ]
  },
  {
   "cell_type": "code",
   "execution_count": 46,
   "id": "19418500",
   "metadata": {},
   "outputs": [
    {
     "data": {
      "text/html": [
       "<div>\n",
       "<style scoped>\n",
       "    .dataframe tbody tr th:only-of-type {\n",
       "        vertical-align: middle;\n",
       "    }\n",
       "\n",
       "    .dataframe tbody tr th {\n",
       "        vertical-align: top;\n",
       "    }\n",
       "\n",
       "    .dataframe thead th {\n",
       "        text-align: right;\n",
       "    }\n",
       "</style>\n",
       "<table border=\"1\" class=\"dataframe\">\n",
       "  <thead>\n",
       "    <tr style=\"text-align: right;\">\n",
       "      <th></th>\n",
       "      <th>creditors_total</th>\n",
       "    </tr>\n",
       "    <tr>\n",
       "      <th>children</th>\n",
       "      <th></th>\n",
       "    </tr>\n",
       "  </thead>\n",
       "  <tbody>\n",
       "    <tr>\n",
       "      <th>0</th>\n",
       "      <td>14107</td>\n",
       "    </tr>\n",
       "    <tr>\n",
       "      <th>1</th>\n",
       "      <td>4856</td>\n",
       "    </tr>\n",
       "    <tr>\n",
       "      <th>2</th>\n",
       "      <td>2128</td>\n",
       "    </tr>\n",
       "    <tr>\n",
       "      <th>3</th>\n",
       "      <td>330</td>\n",
       "    </tr>\n",
       "    <tr>\n",
       "      <th>4</th>\n",
       "      <td>41</td>\n",
       "    </tr>\n",
       "    <tr>\n",
       "      <th>5</th>\n",
       "      <td>9</td>\n",
       "    </tr>\n",
       "  </tbody>\n",
       "</table>\n",
       "</div>"
      ],
      "text/plain": [
       "          creditors_total\n",
       "children                 \n",
       "0                   14107\n",
       "1                    4856\n",
       "2                    2128\n",
       "3                     330\n",
       "4                      41\n",
       "5                       9"
      ]
     },
     "metadata": {},
     "output_type": "display_data"
    }
   ],
   "source": [
    "children_dict = data_children.groupby('children').count()\n",
    "children_dict = children_dict.rename(columns={'debt': 'creditors_total'})\n",
    "display(children_dict)"
   ]
  },
  {
   "cell_type": "markdown",
   "id": "d4c6efa8",
   "metadata": {},
   "source": [
    "Соеденим датафрейм со словарем и преобразуем значения нового столбца в доли по категории."
   ]
  },
  {
   "cell_type": "code",
   "execution_count": 47,
   "id": "a55d3410",
   "metadata": {
    "scrolled": true
   },
   "outputs": [
    {
     "data": {
      "text/html": [
       "<div>\n",
       "<style scoped>\n",
       "    .dataframe tbody tr th:only-of-type {\n",
       "        vertical-align: middle;\n",
       "    }\n",
       "\n",
       "    .dataframe tbody tr th {\n",
       "        vertical-align: top;\n",
       "    }\n",
       "\n",
       "    .dataframe thead th {\n",
       "        text-align: right;\n",
       "    }\n",
       "</style>\n",
       "<table border=\"1\" class=\"dataframe\">\n",
       "  <thead>\n",
       "    <tr style=\"text-align: right;\">\n",
       "      <th></th>\n",
       "      <th>children</th>\n",
       "      <th>debt</th>\n",
       "      <th>creditors_total</th>\n",
       "    </tr>\n",
       "  </thead>\n",
       "  <tbody>\n",
       "    <tr>\n",
       "      <th>0</th>\n",
       "      <td>1</td>\n",
       "      <td>0</td>\n",
       "      <td>0.000206</td>\n",
       "    </tr>\n",
       "    <tr>\n",
       "      <th>1</th>\n",
       "      <td>1</td>\n",
       "      <td>0</td>\n",
       "      <td>0.000206</td>\n",
       "    </tr>\n",
       "    <tr>\n",
       "      <th>2</th>\n",
       "      <td>0</td>\n",
       "      <td>0</td>\n",
       "      <td>0.000071</td>\n",
       "    </tr>\n",
       "    <tr>\n",
       "      <th>3</th>\n",
       "      <td>3</td>\n",
       "      <td>0</td>\n",
       "      <td>0.003030</td>\n",
       "    </tr>\n",
       "    <tr>\n",
       "      <th>4</th>\n",
       "      <td>0</td>\n",
       "      <td>0</td>\n",
       "      <td>0.000071</td>\n",
       "    </tr>\n",
       "  </tbody>\n",
       "</table>\n",
       "</div>"
      ],
      "text/plain": [
       "   children  debt  creditors_total\n",
       "0         1     0         0.000206\n",
       "1         1     0         0.000206\n",
       "2         0     0         0.000071\n",
       "3         3     0         0.003030\n",
       "4         0     0         0.000071"
      ]
     },
     "metadata": {},
     "output_type": "display_data"
    }
   ],
   "source": [
    "data_children = data_children.merge(children_dict, on='children', how='left')\n",
    "data_children['creditors_total'] = 1/data_children['creditors_total']\n",
    "display(data_children.head())"
   ]
  },
  {
   "cell_type": "markdown",
   "id": "22a8af46",
   "metadata": {},
   "source": [
    "Выведем сводную таблицу, отображающую доли по столбцу `debt` по категориям."
   ]
  },
  {
   "cell_type": "code",
   "execution_count": 48,
   "id": "b4943f0d",
   "metadata": {
    "scrolled": true
   },
   "outputs": [
    {
     "data": {
      "text/html": [
       "<div>\n",
       "<style scoped>\n",
       "    .dataframe tbody tr th:only-of-type {\n",
       "        vertical-align: middle;\n",
       "    }\n",
       "\n",
       "    .dataframe tbody tr th {\n",
       "        vertical-align: top;\n",
       "    }\n",
       "\n",
       "    .dataframe thead th {\n",
       "        text-align: right;\n",
       "    }\n",
       "</style>\n",
       "<table border=\"1\" class=\"dataframe\">\n",
       "  <thead>\n",
       "    <tr style=\"text-align: right;\">\n",
       "      <th>debt</th>\n",
       "      <th>0</th>\n",
       "      <th>1</th>\n",
       "    </tr>\n",
       "    <tr>\n",
       "      <th>children</th>\n",
       "      <th></th>\n",
       "      <th></th>\n",
       "    </tr>\n",
       "  </thead>\n",
       "  <tbody>\n",
       "    <tr>\n",
       "      <th>5</th>\n",
       "      <td>1.000000</td>\n",
       "      <td>0.000000</td>\n",
       "    </tr>\n",
       "    <tr>\n",
       "      <th>0</th>\n",
       "      <td>0.924647</td>\n",
       "      <td>0.075353</td>\n",
       "    </tr>\n",
       "    <tr>\n",
       "      <th>3</th>\n",
       "      <td>0.918182</td>\n",
       "      <td>0.081818</td>\n",
       "    </tr>\n",
       "    <tr>\n",
       "      <th>1</th>\n",
       "      <td>0.908361</td>\n",
       "      <td>0.091639</td>\n",
       "    </tr>\n",
       "    <tr>\n",
       "      <th>2</th>\n",
       "      <td>0.905075</td>\n",
       "      <td>0.094925</td>\n",
       "    </tr>\n",
       "    <tr>\n",
       "      <th>4</th>\n",
       "      <td>0.902439</td>\n",
       "      <td>0.097561</td>\n",
       "    </tr>\n",
       "  </tbody>\n",
       "</table>\n",
       "</div>"
      ],
      "text/plain": [
       "debt             0         1\n",
       "children                    \n",
       "5         1.000000  0.000000\n",
       "0         0.924647  0.075353\n",
       "3         0.918182  0.081818\n",
       "1         0.908361  0.091639\n",
       "2         0.905075  0.094925\n",
       "4         0.902439  0.097561"
      ]
     },
     "metadata": {},
     "output_type": "display_data"
    }
   ],
   "source": [
    "data_pivot_children = data_children.pivot_table(index='children', columns='debt', values=('creditors_total'), aggfunc='sum')\n",
    "data_pivot_children =data_pivot_children.fillna(0)\n",
    "display(data_pivot_children.sort_values(by = 0, ascending = False))"
   ]
  },
  {
   "cell_type": "markdown",
   "id": "0a45bb26",
   "metadata": {},
   "source": [
    "И выведем сводную таблицу, отображающую количество клиентов по столбцу `debt` по категориям."
   ]
  },
  {
   "cell_type": "code",
   "execution_count": 49,
   "id": "5d1a5b5f",
   "metadata": {
    "scrolled": true
   },
   "outputs": [
    {
     "data": {
      "text/html": [
       "<div>\n",
       "<style scoped>\n",
       "    .dataframe tbody tr th:only-of-type {\n",
       "        vertical-align: middle;\n",
       "    }\n",
       "\n",
       "    .dataframe tbody tr th {\n",
       "        vertical-align: top;\n",
       "    }\n",
       "\n",
       "    .dataframe thead th {\n",
       "        text-align: right;\n",
       "    }\n",
       "</style>\n",
       "<table border=\"1\" class=\"dataframe\">\n",
       "  <thead>\n",
       "    <tr style=\"text-align: right;\">\n",
       "      <th>debt</th>\n",
       "      <th>0</th>\n",
       "      <th>1</th>\n",
       "    </tr>\n",
       "    <tr>\n",
       "      <th>children</th>\n",
       "      <th></th>\n",
       "      <th></th>\n",
       "    </tr>\n",
       "  </thead>\n",
       "  <tbody>\n",
       "    <tr>\n",
       "      <th>0</th>\n",
       "      <td>13044.0</td>\n",
       "      <td>1063.0</td>\n",
       "    </tr>\n",
       "    <tr>\n",
       "      <th>1</th>\n",
       "      <td>4411.0</td>\n",
       "      <td>445.0</td>\n",
       "    </tr>\n",
       "    <tr>\n",
       "      <th>2</th>\n",
       "      <td>1926.0</td>\n",
       "      <td>202.0</td>\n",
       "    </tr>\n",
       "    <tr>\n",
       "      <th>3</th>\n",
       "      <td>303.0</td>\n",
       "      <td>27.0</td>\n",
       "    </tr>\n",
       "    <tr>\n",
       "      <th>4</th>\n",
       "      <td>37.0</td>\n",
       "      <td>4.0</td>\n",
       "    </tr>\n",
       "    <tr>\n",
       "      <th>5</th>\n",
       "      <td>9.0</td>\n",
       "      <td>NaN</td>\n",
       "    </tr>\n",
       "  </tbody>\n",
       "</table>\n",
       "</div>"
      ],
      "text/plain": [
       "debt            0       1\n",
       "children                 \n",
       "0         13044.0  1063.0\n",
       "1          4411.0   445.0\n",
       "2          1926.0   202.0\n",
       "3           303.0    27.0\n",
       "4            37.0     4.0\n",
       "5             9.0     NaN"
      ]
     },
     "metadata": {},
     "output_type": "display_data"
    }
   ],
   "source": [
    "data_pivot_children_2 = data.pivot_table(index='children', columns='debt', values='dob_years', aggfunc='count')\n",
    "display(data_pivot_children_2)"
   ]
  },
  {
   "cell_type": "markdown",
   "id": "78b5f687",
   "metadata": {},
   "source": [
    "#### Вывод 1:"
   ]
  },
  {
   "cell_type": "markdown",
   "id": "66bd8586",
   "metadata": {},
   "source": [
    "Зависимость между количеством детей и возвратом кредита в срок в данном датафрейме выражена не очень явно. В связи с тем что клиентов, имеющих больше 2 детей мало, данные по этим клиентам не показательны. Общий процент возврата кредитов по всем категориям колеблется между 92 - 90%. У клиентов с 5 детьми процент возврата кредита 100%, это связано с тем, что таких клиентов всего 9."
   ]
  },
  {
   "cell_type": "markdown",
   "id": "3f7f222a",
   "metadata": {},
   "source": [
    "### Вопрос 2:"
   ]
  },
  {
   "cell_type": "markdown",
   "id": "1d8511f8",
   "metadata": {},
   "source": [
    "**Есть ли зависимость между семейным положением и возвратом кредита в срок?**"
   ]
  },
  {
   "cell_type": "markdown",
   "id": "1411a0cb",
   "metadata": {},
   "source": [
    "Создадим датафрейм, содержащий только значения из столбцов `family_status_id` и `debt`"
   ]
  },
  {
   "cell_type": "code",
   "execution_count": 50,
   "id": "703296c3",
   "metadata": {},
   "outputs": [],
   "source": [
    "data_family=data[['family_status_id','debt']]"
   ]
  },
  {
   "cell_type": "markdown",
   "id": "8af335ec",
   "metadata": {},
   "source": [
    "Добавим значения статуса семейного положения из ранее созданного словаря `family_status_dict`."
   ]
  },
  {
   "cell_type": "code",
   "execution_count": 51,
   "id": "b92cdbd9",
   "metadata": {},
   "outputs": [],
   "source": [
    "data_family = data_family.merge(family_status_dict, on='family_status_id', how='left')"
   ]
  },
  {
   "cell_type": "markdown",
   "id": "4a85e80a",
   "metadata": {},
   "source": [
    "Создадим словарь, содержащий, количество клиентов категоризированных по семейному положению."
   ]
  },
  {
   "cell_type": "code",
   "execution_count": 52,
   "id": "52e419e5",
   "metadata": {},
   "outputs": [],
   "source": [
    "client_number_dict = data_family.groupby('family_status_id').count()\n",
    "client_number_dict.drop(columns=['debt'],axis=1,inplace=True)\n",
    "client_number_dict = client_number_dict.rename(columns={'family_status': 'creditors_total'})"
   ]
  },
  {
   "cell_type": "markdown",
   "id": "3765b287",
   "metadata": {},
   "source": [
    "Соеденим датафрейм со словарем и преобразуем значения нового столбца в доли по категории."
   ]
  },
  {
   "cell_type": "code",
   "execution_count": 53,
   "id": "619dd3de",
   "metadata": {},
   "outputs": [],
   "source": [
    "data_family = data_family.merge(client_number_dict, on='family_status_id', how='left')\n",
    "data_family['creditors_total'] = 1/data_family['creditors_total']"
   ]
  },
  {
   "cell_type": "markdown",
   "id": "30357acb",
   "metadata": {},
   "source": [
    "Выведем сводную таблицу, отображающую доли по столбцу `debt` по категориям."
   ]
  },
  {
   "cell_type": "code",
   "execution_count": 54,
   "id": "4c875f0c",
   "metadata": {},
   "outputs": [
    {
     "data": {
      "text/html": [
       "<div>\n",
       "<style scoped>\n",
       "    .dataframe tbody tr th:only-of-type {\n",
       "        vertical-align: middle;\n",
       "    }\n",
       "\n",
       "    .dataframe tbody tr th {\n",
       "        vertical-align: top;\n",
       "    }\n",
       "\n",
       "    .dataframe thead th {\n",
       "        text-align: right;\n",
       "    }\n",
       "</style>\n",
       "<table border=\"1\" class=\"dataframe\">\n",
       "  <thead>\n",
       "    <tr style=\"text-align: right;\">\n",
       "      <th>debt</th>\n",
       "      <th>0</th>\n",
       "      <th>1</th>\n",
       "    </tr>\n",
       "    <tr>\n",
       "      <th>family_status</th>\n",
       "      <th></th>\n",
       "      <th></th>\n",
       "    </tr>\n",
       "  </thead>\n",
       "  <tbody>\n",
       "    <tr>\n",
       "      <th>вдовец / вдова</th>\n",
       "      <td>0.934307</td>\n",
       "      <td>0.065693</td>\n",
       "    </tr>\n",
       "    <tr>\n",
       "      <th>в разводе</th>\n",
       "      <td>0.928870</td>\n",
       "      <td>0.071130</td>\n",
       "    </tr>\n",
       "    <tr>\n",
       "      <th>женат / замужем</th>\n",
       "      <td>0.924579</td>\n",
       "      <td>0.075421</td>\n",
       "    </tr>\n",
       "    <tr>\n",
       "      <th>гражданский брак</th>\n",
       "      <td>0.906798</td>\n",
       "      <td>0.093202</td>\n",
       "    </tr>\n",
       "    <tr>\n",
       "      <th>не женат / не замужем</th>\n",
       "      <td>0.902491</td>\n",
       "      <td>0.097509</td>\n",
       "    </tr>\n",
       "  </tbody>\n",
       "</table>\n",
       "</div>"
      ],
      "text/plain": [
       "debt                          0         1\n",
       "family_status                            \n",
       "вдовец / вдова         0.934307  0.065693\n",
       "в разводе              0.928870  0.071130\n",
       "женат / замужем        0.924579  0.075421\n",
       "гражданский брак       0.906798  0.093202\n",
       "не женат / не замужем  0.902491  0.097509"
      ]
     },
     "metadata": {},
     "output_type": "display_data"
    }
   ],
   "source": [
    "data_pivot_family = data_family.pivot_table(index='family_status', columns='debt', values='creditors_total', aggfunc='sum')\n",
    "display(data_pivot_family.sort_values(by = 0, ascending = False))"
   ]
  },
  {
   "cell_type": "markdown",
   "id": "188e09da",
   "metadata": {},
   "source": [
    "#### Вывод 2:"
   ]
  },
  {
   "cell_type": "markdown",
   "id": "24e51bcb",
   "metadata": {},
   "source": [
    "Зависимость между семейным положением и возвратом кредита в срок в данном датафрейме выражена не очень явно, однако четко просматривается закономерность: наиболее платежеспособными клиентами являются вдовцы и вдовы, следом за ними располагаются разведенные клиенты. Можно сделать вывод, что зависимость между семейным положением и возвратом кредита в срок существует. Зависимость слабая, но в сумме с другими факторами может повлиять на общий процент возврата."
   ]
  },
  {
   "cell_type": "markdown",
   "id": "45e4d60f",
   "metadata": {},
   "source": [
    "### Вопрос 3:"
   ]
  },
  {
   "cell_type": "markdown",
   "id": "9441ccb1",
   "metadata": {},
   "source": [
    "**Есть ли зависимость между уровнем дохода и возвратом кредита в срок?**"
   ]
  },
  {
   "cell_type": "markdown",
   "id": "1e332695",
   "metadata": {},
   "source": [
    "Создадим датафрейм, содержащий только значения из столбцов `total_income_category` и `debt`"
   ]
  },
  {
   "cell_type": "code",
   "execution_count": 55,
   "id": "d293d878",
   "metadata": {},
   "outputs": [],
   "source": [
    "data_income=data[['total_income_category','debt']]"
   ]
  },
  {
   "cell_type": "markdown",
   "id": "5272f4a3",
   "metadata": {},
   "source": [
    "Создадим словарь, содержащий, количество клиентов категоризированных по уровню дохода."
   ]
  },
  {
   "cell_type": "code",
   "execution_count": 56,
   "id": "df743be9",
   "metadata": {},
   "outputs": [],
   "source": [
    "income_dict = data_income.groupby('total_income_category').count()\n",
    "income_dict = income_dict.rename(columns={'debt': 'creditors_total'})"
   ]
  },
  {
   "cell_type": "markdown",
   "id": "d289167a",
   "metadata": {},
   "source": [
    "Соеденим датафрейм со словарем и преобразуем значения нового столбца в доли по категории."
   ]
  },
  {
   "cell_type": "code",
   "execution_count": 57,
   "id": "14f99509",
   "metadata": {},
   "outputs": [],
   "source": [
    "data_income = data_income.merge(income_dict, on='total_income_category', how='left')\n",
    "data_income['creditors_total'] = 1/data_income['creditors_total']"
   ]
  },
  {
   "cell_type": "markdown",
   "id": "4f678f33",
   "metadata": {},
   "source": [
    "Выведем сводную таблицу, отображающую доли по столбцу `debt` по категориям."
   ]
  },
  {
   "cell_type": "code",
   "execution_count": 58,
   "id": "55ca8931",
   "metadata": {},
   "outputs": [
    {
     "data": {
      "text/html": [
       "<div>\n",
       "<style scoped>\n",
       "    .dataframe tbody tr th:only-of-type {\n",
       "        vertical-align: middle;\n",
       "    }\n",
       "\n",
       "    .dataframe tbody tr th {\n",
       "        vertical-align: top;\n",
       "    }\n",
       "\n",
       "    .dataframe thead th {\n",
       "        text-align: right;\n",
       "    }\n",
       "</style>\n",
       "<table border=\"1\" class=\"dataframe\">\n",
       "  <thead>\n",
       "    <tr style=\"text-align: right;\">\n",
       "      <th>debt</th>\n",
       "      <th>0</th>\n",
       "      <th>1</th>\n",
       "    </tr>\n",
       "    <tr>\n",
       "      <th>total_income_category</th>\n",
       "      <th></th>\n",
       "      <th></th>\n",
       "    </tr>\n",
       "  </thead>\n",
       "  <tbody>\n",
       "    <tr>\n",
       "      <th>D</th>\n",
       "      <td>0.940000</td>\n",
       "      <td>0.060000</td>\n",
       "    </tr>\n",
       "    <tr>\n",
       "      <th>B</th>\n",
       "      <td>0.929379</td>\n",
       "      <td>0.070621</td>\n",
       "    </tr>\n",
       "    <tr>\n",
       "      <th>A</th>\n",
       "      <td>0.920000</td>\n",
       "      <td>0.080000</td>\n",
       "    </tr>\n",
       "    <tr>\n",
       "      <th>C</th>\n",
       "      <td>0.915175</td>\n",
       "      <td>0.084825</td>\n",
       "    </tr>\n",
       "    <tr>\n",
       "      <th>E</th>\n",
       "      <td>0.909091</td>\n",
       "      <td>0.090909</td>\n",
       "    </tr>\n",
       "  </tbody>\n",
       "</table>\n",
       "</div>"
      ],
      "text/plain": [
       "debt                          0         1\n",
       "total_income_category                    \n",
       "D                      0.940000  0.060000\n",
       "B                      0.929379  0.070621\n",
       "A                      0.920000  0.080000\n",
       "C                      0.915175  0.084825\n",
       "E                      0.909091  0.090909"
      ]
     },
     "metadata": {},
     "output_type": "display_data"
    }
   ],
   "source": [
    "data_pivot_income = data_income.pivot_table(index='total_income_category', columns='debt', values='creditors_total', aggfunc='sum')\n",
    "display(data_pivot_income.sort_values(by = 0, ascending = False))"
   ]
  },
  {
   "cell_type": "markdown",
   "id": "4fbcfd3c",
   "metadata": {},
   "source": [
    "#### Вывод 3:"
   ]
  },
  {
   "cell_type": "markdown",
   "id": "867ecf7b",
   "metadata": {},
   "source": [
    "Прослеживается закономерность между категории дохода клиента и возратом кредита в срок. \n",
    "\n",
    "Категория `D` с доходом `30001–50000` оказалась наиболее ответсвенной при возврате кредита. Это может быть связано с тем что данная категория граждан более рационально подходит к распределению своих средств и имеет достаточно стабильный заработок, чтобы погашать платежи по кредитам ежемесечно в срок и без задержек.  При этом на столь высокий процент возврата кредитов влияет и то, что в случае просрочки платежа данные клиенты рискуют получить штраф, выбивающийся из их месячного бюджета и доставляющий им серьезные неудобства.\n",
    "\n",
    "Категория `В` с доходом `200001–1000000`, стоящая на 2 месте , скорее всего, представляет собой прослойку менеджмента высшего звена, имеющих внушительный ежемесячный доход, однако заботящихся о своей кредитной истории и репутации, что в свою очередь влияет на высокий процент возврата кредитов.\n",
    "\n",
    "Категория `А` с доходом `1000001 и выше` скорее всего представлена бизнесом, доход которого напрямую зависит от рынка, в следствие чего нестабилен, чтов влияет на более низкий процент возврата кредитов."
   ]
  },
  {
   "cell_type": "markdown",
   "id": "a6a19484",
   "metadata": {},
   "source": [
    "### Вопрос 4:"
   ]
  },
  {
   "cell_type": "markdown",
   "id": "e1517d0a",
   "metadata": {},
   "source": [
    "**Как разные цели кредита влияют на его возврат в срок?**"
   ]
  },
  {
   "cell_type": "markdown",
   "id": "b2d6d6ad",
   "metadata": {},
   "source": [
    "Создадим датафрейм, содержащий только значения из столбцов `'purpose_category` и `debt`"
   ]
  },
  {
   "cell_type": "code",
   "execution_count": 59,
   "id": "7058bfc2",
   "metadata": {},
   "outputs": [],
   "source": [
    "data_purpose=data[['purpose_category','debt']]"
   ]
  },
  {
   "cell_type": "markdown",
   "id": "850d30c1",
   "metadata": {},
   "source": [
    "Создадим словарь, содержащий, количество клиентов категоризированных по цели, на которую взят кредит."
   ]
  },
  {
   "cell_type": "code",
   "execution_count": 60,
   "id": "41696d5c",
   "metadata": {},
   "outputs": [],
   "source": [
    "purpose_dict = data_purpose.groupby('purpose_category').count()\n",
    "purpose_dict = purpose_dict.rename(columns={'debt': 'creditors_total'})"
   ]
  },
  {
   "cell_type": "markdown",
   "id": "b774a396",
   "metadata": {},
   "source": [
    "Соеденим датафрейм со словарем и преобразуем значения нового столбца в доли по категории."
   ]
  },
  {
   "cell_type": "code",
   "execution_count": 61,
   "id": "cfedd9c2",
   "metadata": {},
   "outputs": [],
   "source": [
    "data_purpose = data_purpose.merge(purpose_dict, on='purpose_category', how='left')\n",
    "data_purpose['creditors_total'] = 1/data_purpose['creditors_total']\n"
   ]
  },
  {
   "cell_type": "markdown",
   "id": "b252c1da",
   "metadata": {},
   "source": [
    "Выведем сводную таблицу, отображающую доли по столбцу `debt` по категориям."
   ]
  },
  {
   "cell_type": "code",
   "execution_count": 62,
   "id": "50dbb587",
   "metadata": {},
   "outputs": [
    {
     "data": {
      "text/html": [
       "<div>\n",
       "<style scoped>\n",
       "    .dataframe tbody tr th:only-of-type {\n",
       "        vertical-align: middle;\n",
       "    }\n",
       "\n",
       "    .dataframe tbody tr th {\n",
       "        vertical-align: top;\n",
       "    }\n",
       "\n",
       "    .dataframe thead th {\n",
       "        text-align: right;\n",
       "    }\n",
       "</style>\n",
       "<table border=\"1\" class=\"dataframe\">\n",
       "  <thead>\n",
       "    <tr style=\"text-align: right;\">\n",
       "      <th>debt</th>\n",
       "      <th>0</th>\n",
       "      <th>1</th>\n",
       "    </tr>\n",
       "    <tr>\n",
       "      <th>purpose_category</th>\n",
       "      <th></th>\n",
       "      <th></th>\n",
       "    </tr>\n",
       "  </thead>\n",
       "  <tbody>\n",
       "    <tr>\n",
       "      <th>операции с недвижимостью</th>\n",
       "      <td>0.927686</td>\n",
       "      <td>0.072314</td>\n",
       "    </tr>\n",
       "    <tr>\n",
       "      <th>проведение свадьбы</th>\n",
       "      <td>0.920343</td>\n",
       "      <td>0.079657</td>\n",
       "    </tr>\n",
       "    <tr>\n",
       "      <th>получение образования</th>\n",
       "      <td>0.907823</td>\n",
       "      <td>0.092177</td>\n",
       "    </tr>\n",
       "    <tr>\n",
       "      <th>операции с автомобилем</th>\n",
       "      <td>0.906453</td>\n",
       "      <td>0.093547</td>\n",
       "    </tr>\n",
       "  </tbody>\n",
       "</table>\n",
       "</div>"
      ],
      "text/plain": [
       "debt                             0         1\n",
       "purpose_category                            \n",
       "операции с недвижимостью  0.927686  0.072314\n",
       "проведение свадьбы        0.920343  0.079657\n",
       "получение образования     0.907823  0.092177\n",
       "операции с автомобилем    0.906453  0.093547"
      ]
     },
     "metadata": {},
     "output_type": "display_data"
    }
   ],
   "source": [
    "data_pivot_purpose = data_purpose.pivot_table(index='purpose_category', columns='debt', values='creditors_total', aggfunc='sum')\n",
    "display(data_pivot_purpose.sort_values(by = 0, ascending = False))"
   ]
  },
  {
   "cell_type": "markdown",
   "id": "304e0e52",
   "metadata": {},
   "source": [
    "#### Вывод 4:"
   ]
  },
  {
   "cell_type": "markdown",
   "id": "1c17c02e",
   "metadata": {},
   "source": [
    "Прослеживается четкая закономерность кредиты на `операции с недвижимостью` и `проведение свадеб` возвращают более регулярно. В то время как кредиты на `получение образования` и `операции с автомобилем` возвращают менее охотно."
   ]
  },
  {
   "cell_type": "markdown",
   "id": "c4f3f26a",
   "metadata": {},
   "source": [
    "## Общий вывод:"
   ]
  },
  {
   "cell_type": "markdown",
   "id": "2427615b",
   "metadata": {},
   "source": [
    "Существует явная закономерность между процентом возврата кредитов в зависомости от семейного положения, уровня дохода и цели кредита. Если провести анализ более подробно, рассматривая клиентов по нескольким категориям, можно проследить еще больше закономерностей. \n",
    "\n",
    "Зависимость прецента возврата кредитов от количество детей клиента прслеживается нечетко. Практически все категории возвращают кредит с сравнительно одинаковой частотой."
   ]
  },
  {
   "cell_type": "markdown",
   "id": "7cbadfbc",
   "metadata": {},
   "source": [
    "Для построения более точной модели *кредитного скоринга* рекомендуем провести более детальный анализ по нескольким категориям, кроме того предоставить болььший объем данных для уточнения анализа закономерности процента возврата кредита от количества детей клиента."
   ]
  }
 ],
 "metadata": {
  "ExecuteTimeLog": [
   {
    "duration": 816,
    "start_time": "2022-05-23T18:37:11.823Z"
   },
   {
    "duration": 98,
    "start_time": "2022-05-23T18:37:44.861Z"
   },
   {
    "duration": 196,
    "start_time": "2022-05-23T18:37:58.855Z"
   },
   {
    "duration": 106,
    "start_time": "2022-05-23T18:38:07.437Z"
   },
   {
    "duration": 22,
    "start_time": "2022-05-23T18:38:29.515Z"
   },
   {
    "duration": 9,
    "start_time": "2022-05-23T18:50:56.140Z"
   },
   {
    "duration": 8,
    "start_time": "2022-05-23T18:51:02.790Z"
   },
   {
    "duration": 26,
    "start_time": "2022-05-23T18:51:34.946Z"
   },
   {
    "duration": 38,
    "start_time": "2022-05-23T18:55:50.061Z"
   },
   {
    "duration": 25,
    "start_time": "2022-05-23T18:56:17.996Z"
   },
   {
    "duration": 9,
    "start_time": "2022-05-23T18:56:29.791Z"
   },
   {
    "duration": 30,
    "start_time": "2022-05-23T18:56:41.798Z"
   },
   {
    "duration": 73,
    "start_time": "2022-05-23T18:57:18.096Z"
   },
   {
    "duration": 10,
    "start_time": "2022-05-23T18:57:35.774Z"
   },
   {
    "duration": 9,
    "start_time": "2022-05-23T18:58:39.962Z"
   },
   {
    "duration": 9,
    "start_time": "2022-05-23T18:59:33.824Z"
   },
   {
    "duration": 254,
    "start_time": "2022-05-23T19:03:20.197Z"
   },
   {
    "duration": 21,
    "start_time": "2022-05-23T19:03:52.104Z"
   },
   {
    "duration": 20,
    "start_time": "2022-05-23T19:04:07.700Z"
   },
   {
    "duration": 24,
    "start_time": "2022-05-23T19:05:23.798Z"
   },
   {
    "duration": 16,
    "start_time": "2022-05-23T19:05:48.167Z"
   },
   {
    "duration": 16,
    "start_time": "2022-05-23T19:23:05.821Z"
   },
   {
    "duration": 13,
    "start_time": "2022-05-23T19:24:01.763Z"
   },
   {
    "duration": 22,
    "start_time": "2022-05-23T19:24:20.071Z"
   },
   {
    "duration": 13,
    "start_time": "2022-05-23T19:27:25.988Z"
   },
   {
    "duration": 36,
    "start_time": "2022-05-23T19:27:28.750Z"
   },
   {
    "duration": 15,
    "start_time": "2022-05-23T19:30:48.508Z"
   },
   {
    "duration": 10,
    "start_time": "2022-05-23T19:31:18.268Z"
   },
   {
    "duration": 12,
    "start_time": "2022-05-23T19:31:25.764Z"
   },
   {
    "duration": 19,
    "start_time": "2022-05-23T19:31:37.382Z"
   },
   {
    "duration": 5,
    "start_time": "2022-05-23T19:36:45.382Z"
   },
   {
    "duration": 12,
    "start_time": "2022-05-23T19:40:04.687Z"
   },
   {
    "duration": 35,
    "start_time": "2022-05-23T19:41:05.791Z"
   },
   {
    "duration": 5,
    "start_time": "2022-05-23T19:41:46.928Z"
   },
   {
    "duration": 83,
    "start_time": "2022-05-23T19:42:10.146Z"
   },
   {
    "duration": 34,
    "start_time": "2022-05-23T19:42:16.562Z"
   },
   {
    "duration": 16,
    "start_time": "2022-05-23T19:42:26.886Z"
   },
   {
    "duration": 15,
    "start_time": "2022-05-23T19:50:14.811Z"
   },
   {
    "duration": 17,
    "start_time": "2022-05-23T19:50:55.477Z"
   },
   {
    "duration": 13,
    "start_time": "2022-05-23T19:52:17.185Z"
   },
   {
    "duration": 5,
    "start_time": "2022-05-23T19:52:44.367Z"
   },
   {
    "duration": 15,
    "start_time": "2022-05-23T19:53:11.687Z"
   },
   {
    "duration": 11,
    "start_time": "2022-05-23T19:53:20.378Z"
   },
   {
    "duration": 40,
    "start_time": "2022-05-23T19:53:50.663Z"
   },
   {
    "duration": 5,
    "start_time": "2022-05-23T19:55:28.363Z"
   },
   {
    "duration": 5,
    "start_time": "2022-05-23T19:55:46.964Z"
   },
   {
    "duration": 5,
    "start_time": "2022-05-23T19:56:11.474Z"
   },
   {
    "duration": 21,
    "start_time": "2022-05-23T20:01:06.468Z"
   },
   {
    "duration": 25,
    "start_time": "2022-05-23T20:02:01.611Z"
   },
   {
    "duration": 20,
    "start_time": "2022-05-23T20:04:03.976Z"
   },
   {
    "duration": 23,
    "start_time": "2022-05-23T20:04:18.539Z"
   },
   {
    "duration": 18,
    "start_time": "2022-05-23T20:04:56.883Z"
   },
   {
    "duration": 24,
    "start_time": "2022-05-23T20:07:16.278Z"
   },
   {
    "duration": 10,
    "start_time": "2022-05-23T20:07:38.075Z"
   },
   {
    "duration": 9,
    "start_time": "2022-05-23T20:08:15.852Z"
   },
   {
    "duration": 11,
    "start_time": "2022-05-23T20:09:10.382Z"
   },
   {
    "duration": 8,
    "start_time": "2022-05-23T20:09:11.980Z"
   },
   {
    "duration": 15,
    "start_time": "2022-05-23T20:14:16.730Z"
   },
   {
    "duration": 14,
    "start_time": "2022-05-23T20:18:24.721Z"
   },
   {
    "duration": 15,
    "start_time": "2022-05-23T20:22:54.715Z"
   },
   {
    "duration": 3,
    "start_time": "2022-05-23T20:35:18.913Z"
   },
   {
    "duration": 19,
    "start_time": "2022-05-23T20:37:36.274Z"
   },
   {
    "duration": 58,
    "start_time": "2022-05-23T20:38:44.257Z"
   },
   {
    "duration": 37,
    "start_time": "2022-05-23T20:39:29.114Z"
   },
   {
    "duration": 2,
    "start_time": "2022-05-23T20:40:39.929Z"
   },
   {
    "duration": 6,
    "start_time": "2022-05-23T20:42:39.777Z"
   },
   {
    "duration": 17,
    "start_time": "2022-05-23T20:44:06.153Z"
   },
   {
    "duration": 7,
    "start_time": "2022-05-23T20:44:48.650Z"
   },
   {
    "duration": 5,
    "start_time": "2022-05-23T20:45:14.040Z"
   },
   {
    "duration": 5,
    "start_time": "2022-05-23T20:46:32.883Z"
   },
   {
    "duration": 7,
    "start_time": "2022-05-23T20:46:41.310Z"
   },
   {
    "duration": 5,
    "start_time": "2022-05-23T20:47:59.413Z"
   },
   {
    "duration": 19,
    "start_time": "2022-05-23T20:49:21.788Z"
   },
   {
    "duration": 12,
    "start_time": "2022-05-23T20:49:31.529Z"
   },
   {
    "duration": 35,
    "start_time": "2022-05-23T20:52:04.359Z"
   },
   {
    "duration": 5,
    "start_time": "2022-05-23T20:52:10.415Z"
   },
   {
    "duration": 16,
    "start_time": "2022-05-23T20:55:02.864Z"
   },
   {
    "duration": 4,
    "start_time": "2022-05-23T20:56:53.735Z"
   },
   {
    "duration": 38,
    "start_time": "2022-05-23T20:57:10.974Z"
   },
   {
    "duration": 7,
    "start_time": "2022-05-23T20:58:15.409Z"
   },
   {
    "duration": 20,
    "start_time": "2022-05-23T21:00:03.934Z"
   },
   {
    "duration": 5,
    "start_time": "2022-05-23T21:04:03.148Z"
   },
   {
    "duration": 5,
    "start_time": "2022-05-23T21:05:14.610Z"
   },
   {
    "duration": 9,
    "start_time": "2022-05-23T21:07:07.205Z"
   },
   {
    "duration": 6,
    "start_time": "2022-05-23T21:08:07.621Z"
   },
   {
    "duration": 26,
    "start_time": "2022-05-23T21:08:08.933Z"
   },
   {
    "duration": 14,
    "start_time": "2022-05-23T21:09:57.199Z"
   },
   {
    "duration": 14,
    "start_time": "2022-05-23T21:30:02.560Z"
   },
   {
    "duration": 19,
    "start_time": "2022-05-23T21:32:52.330Z"
   },
   {
    "duration": 7,
    "start_time": "2022-05-23T21:33:03.313Z"
   },
   {
    "duration": 13,
    "start_time": "2022-05-23T21:33:56.260Z"
   },
   {
    "duration": 11,
    "start_time": "2022-05-23T21:33:59.310Z"
   },
   {
    "duration": 6,
    "start_time": "2022-05-23T21:34:08.033Z"
   },
   {
    "duration": 15,
    "start_time": "2022-05-23T21:34:11.921Z"
   },
   {
    "duration": 7,
    "start_time": "2022-05-23T21:34:45.393Z"
   },
   {
    "duration": 86,
    "start_time": "2022-05-23T21:34:46.292Z"
   },
   {
    "duration": 16,
    "start_time": "2022-05-23T21:34:48.865Z"
   },
   {
    "duration": 8,
    "start_time": "2022-05-23T21:34:50.811Z"
   },
   {
    "duration": 17,
    "start_time": "2022-05-23T21:34:52.322Z"
   },
   {
    "duration": 15,
    "start_time": "2022-05-23T21:34:53.709Z"
   },
   {
    "duration": 20,
    "start_time": "2022-05-23T21:34:55.690Z"
   },
   {
    "duration": 24,
    "start_time": "2022-05-23T21:34:57.887Z"
   },
   {
    "duration": 5,
    "start_time": "2022-05-23T21:34:59.970Z"
   },
   {
    "duration": 12,
    "start_time": "2022-05-23T21:35:01.143Z"
   },
   {
    "duration": 5,
    "start_time": "2022-05-23T21:35:02.615Z"
   },
   {
    "duration": 21,
    "start_time": "2022-05-23T21:35:03.689Z"
   },
   {
    "duration": 5,
    "start_time": "2022-05-23T21:35:04.927Z"
   },
   {
    "duration": 17,
    "start_time": "2022-05-23T21:35:06.338Z"
   },
   {
    "duration": 11,
    "start_time": "2022-05-23T21:35:08.168Z"
   },
   {
    "duration": 10,
    "start_time": "2022-05-23T21:35:09.575Z"
   },
   {
    "duration": 14,
    "start_time": "2022-05-23T21:35:14.546Z"
   },
   {
    "duration": 27,
    "start_time": "2022-05-23T21:35:16.186Z"
   },
   {
    "duration": 17,
    "start_time": "2022-05-23T21:35:18.423Z"
   },
   {
    "duration": 27,
    "start_time": "2022-05-23T21:35:20.290Z"
   },
   {
    "duration": 44,
    "start_time": "2022-05-23T21:35:21.688Z"
   },
   {
    "duration": 7,
    "start_time": "2022-05-23T21:35:23.433Z"
   },
   {
    "duration": 16,
    "start_time": "2022-05-23T21:35:24.848Z"
   },
   {
    "duration": 5,
    "start_time": "2022-05-23T21:35:25.813Z"
   },
   {
    "duration": 5,
    "start_time": "2022-05-23T21:35:26.873Z"
   },
   {
    "duration": 22,
    "start_time": "2022-05-23T21:35:29.106Z"
   },
   {
    "duration": 6,
    "start_time": "2022-05-23T21:35:30.240Z"
   },
   {
    "duration": 11,
    "start_time": "2022-05-23T21:35:31.409Z"
   },
   {
    "duration": 16,
    "start_time": "2022-05-23T21:35:32.935Z"
   },
   {
    "duration": 5,
    "start_time": "2022-05-23T21:35:34.664Z"
   },
   {
    "duration": 8,
    "start_time": "2022-05-23T21:35:37.888Z"
   },
   {
    "duration": 29,
    "start_time": "2022-05-23T21:35:41.014Z"
   },
   {
    "duration": 5,
    "start_time": "2022-05-23T21:35:42.544Z"
   },
   {
    "duration": 6,
    "start_time": "2022-05-23T21:35:43.936Z"
   },
   {
    "duration": 8,
    "start_time": "2022-05-23T21:35:44.889Z"
   },
   {
    "duration": 5,
    "start_time": "2022-05-23T21:35:46.529Z"
   },
   {
    "duration": 6,
    "start_time": "2022-05-23T21:35:47.817Z"
   },
   {
    "duration": 15,
    "start_time": "2022-05-23T21:35:50.515Z"
   },
   {
    "duration": 5,
    "start_time": "2022-05-23T21:35:52.936Z"
   },
   {
    "duration": 13,
    "start_time": "2022-05-23T21:36:04.425Z"
   },
   {
    "duration": 4,
    "start_time": "2022-05-23T21:43:01.274Z"
   },
   {
    "duration": 20,
    "start_time": "2022-05-23T21:44:00.961Z"
   },
   {
    "duration": 4,
    "start_time": "2022-05-23T21:53:06.279Z"
   },
   {
    "duration": 35,
    "start_time": "2022-05-23T21:53:30.320Z"
   },
   {
    "duration": 14,
    "start_time": "2022-05-23T21:53:47.343Z"
   },
   {
    "duration": 11,
    "start_time": "2022-05-23T21:54:22.838Z"
   },
   {
    "duration": 13,
    "start_time": "2022-05-23T21:54:50.375Z"
   },
   {
    "duration": 18,
    "start_time": "2022-05-23T21:54:56.439Z"
   },
   {
    "duration": 19,
    "start_time": "2022-05-23T21:56:14.811Z"
   },
   {
    "duration": 5,
    "start_time": "2022-05-23T21:56:39.087Z"
   },
   {
    "duration": 24,
    "start_time": "2022-05-23T21:56:41.519Z"
   },
   {
    "duration": 9,
    "start_time": "2022-05-23T21:56:51.383Z"
   },
   {
    "duration": 15,
    "start_time": "2022-05-23T21:57:23.409Z"
   },
   {
    "duration": 4,
    "start_time": "2022-05-23T21:58:02.462Z"
   },
   {
    "duration": 11,
    "start_time": "2022-05-23T21:58:04.934Z"
   },
   {
    "duration": 4,
    "start_time": "2022-05-23T21:59:30.952Z"
   },
   {
    "duration": 12,
    "start_time": "2022-05-23T21:59:32.509Z"
   },
   {
    "duration": 13,
    "start_time": "2022-05-23T21:59:49.744Z"
   },
   {
    "duration": 4,
    "start_time": "2022-05-23T22:04:58.019Z"
   },
   {
    "duration": 17,
    "start_time": "2022-05-23T22:04:58.892Z"
   },
   {
    "duration": 3,
    "start_time": "2022-05-23T22:06:18.246Z"
   },
   {
    "duration": 11,
    "start_time": "2022-05-23T22:06:25.462Z"
   },
   {
    "duration": 6,
    "start_time": "2022-05-23T22:07:03.471Z"
   },
   {
    "duration": 7,
    "start_time": "2022-05-23T22:08:14.706Z"
   },
   {
    "duration": 8,
    "start_time": "2022-05-23T22:09:26.119Z"
   },
   {
    "duration": 7,
    "start_time": "2022-05-23T22:09:40.281Z"
   },
   {
    "duration": 16,
    "start_time": "2022-05-23T22:09:52.742Z"
   },
   {
    "duration": 8,
    "start_time": "2022-05-23T22:10:04.879Z"
   },
   {
    "duration": 6,
    "start_time": "2022-05-23T22:11:01.336Z"
   },
   {
    "duration": 16,
    "start_time": "2022-05-23T22:11:22.272Z"
   },
   {
    "duration": 17,
    "start_time": "2022-05-23T22:15:52.409Z"
   },
   {
    "duration": 24,
    "start_time": "2022-05-23T22:16:32.194Z"
   },
   {
    "duration": 16,
    "start_time": "2022-05-23T22:16:54.608Z"
   },
   {
    "duration": 17,
    "start_time": "2022-05-23T22:19:21.577Z"
   },
   {
    "duration": 15,
    "start_time": "2022-05-23T22:19:32.962Z"
   },
   {
    "duration": 41,
    "start_time": "2022-05-23T22:24:17.422Z"
   },
   {
    "duration": 34,
    "start_time": "2022-05-23T22:27:31.460Z"
   },
   {
    "duration": 17,
    "start_time": "2022-05-23T22:27:42.555Z"
   },
   {
    "duration": 2,
    "start_time": "2022-05-23T22:35:19.978Z"
   },
   {
    "duration": 5,
    "start_time": "2022-05-23T22:36:23.149Z"
   },
   {
    "duration": 6,
    "start_time": "2022-05-23T22:36:25.484Z"
   },
   {
    "duration": 8,
    "start_time": "2022-05-23T22:38:04.795Z"
   },
   {
    "duration": 8,
    "start_time": "2022-05-23T22:38:27.009Z"
   },
   {
    "duration": 7,
    "start_time": "2022-05-23T22:39:13.123Z"
   },
   {
    "duration": 15,
    "start_time": "2022-05-23T22:39:26.404Z"
   },
   {
    "duration": 17,
    "start_time": "2022-05-23T22:40:45.306Z"
   },
   {
    "duration": 24,
    "start_time": "2022-05-23T22:40:59.964Z"
   },
   {
    "duration": 8,
    "start_time": "2022-05-23T22:54:06.604Z"
   },
   {
    "duration": 3,
    "start_time": "2022-05-23T22:54:12.970Z"
   },
   {
    "duration": 8,
    "start_time": "2022-05-23T22:54:13.753Z"
   },
   {
    "duration": 3,
    "start_time": "2022-05-23T22:54:37.333Z"
   },
   {
    "duration": 9,
    "start_time": "2022-05-23T22:54:38.115Z"
   },
   {
    "duration": 8,
    "start_time": "2022-05-23T22:54:58.140Z"
   },
   {
    "duration": 6,
    "start_time": "2022-05-23T22:55:06.899Z"
   },
   {
    "duration": 13,
    "start_time": "2022-05-23T22:56:29.661Z"
   },
   {
    "duration": 431,
    "start_time": "2022-05-23T22:56:52.204Z"
   },
   {
    "duration": 7,
    "start_time": "2022-05-23T22:57:01.090Z"
   },
   {
    "duration": 18,
    "start_time": "2022-05-23T22:57:03.021Z"
   },
   {
    "duration": 3,
    "start_time": "2022-05-23T22:57:20.031Z"
   },
   {
    "duration": 6,
    "start_time": "2022-05-23T22:57:22.557Z"
   },
   {
    "duration": 14,
    "start_time": "2022-05-23T22:57:24.708Z"
   },
   {
    "duration": 446,
    "start_time": "2022-05-23T22:57:33.140Z"
   },
   {
    "duration": 4,
    "start_time": "2022-05-23T22:57:35.802Z"
   },
   {
    "duration": 6,
    "start_time": "2022-05-23T22:57:36.682Z"
   },
   {
    "duration": 8,
    "start_time": "2022-05-23T22:57:37.602Z"
   },
   {
    "duration": 16,
    "start_time": "2022-05-23T22:58:23.267Z"
   },
   {
    "duration": 7,
    "start_time": "2022-05-23T23:18:41.927Z"
   },
   {
    "duration": 4,
    "start_time": "2022-05-23T23:18:44.038Z"
   },
   {
    "duration": 9,
    "start_time": "2022-05-23T23:18:45.689Z"
   },
   {
    "duration": 12,
    "start_time": "2022-05-23T23:19:47.106Z"
   },
   {
    "duration": 4,
    "start_time": "2022-05-23T23:19:51.560Z"
   },
   {
    "duration": 10,
    "start_time": "2022-05-23T23:19:52.736Z"
   },
   {
    "duration": 11,
    "start_time": "2022-05-23T23:19:54.080Z"
   },
   {
    "duration": 4,
    "start_time": "2022-05-23T23:20:09.753Z"
   },
   {
    "duration": 11,
    "start_time": "2022-05-23T23:20:11.872Z"
   },
   {
    "duration": 10,
    "start_time": "2022-05-23T23:20:14.487Z"
   },
   {
    "duration": 528,
    "start_time": "2022-05-23T23:20:49.849Z"
   },
   {
    "duration": 3,
    "start_time": "2022-05-23T23:20:53.122Z"
   },
   {
    "duration": 10,
    "start_time": "2022-05-23T23:20:53.968Z"
   },
   {
    "duration": 15,
    "start_time": "2022-05-23T23:20:54.808Z"
   },
   {
    "duration": 17,
    "start_time": "2022-05-23T23:21:28.130Z"
   },
   {
    "duration": 4,
    "start_time": "2022-05-23T23:39:51.061Z"
   },
   {
    "duration": 7,
    "start_time": "2022-05-23T23:40:06.295Z"
   },
   {
    "duration": 8,
    "start_time": "2022-05-23T23:40:08.413Z"
   },
   {
    "duration": 9,
    "start_time": "2022-05-23T23:41:18.839Z"
   },
   {
    "duration": 8,
    "start_time": "2022-05-23T23:41:27.199Z"
   },
   {
    "duration": 9,
    "start_time": "2022-05-23T23:41:54.217Z"
   },
   {
    "duration": 10,
    "start_time": "2022-05-23T23:42:25.078Z"
   },
   {
    "duration": 23,
    "start_time": "2022-05-23T23:42:47.527Z"
   },
   {
    "duration": 15,
    "start_time": "2022-05-23T23:42:53.761Z"
   },
   {
    "duration": 3,
    "start_time": "2022-05-23T23:43:12.805Z"
   },
   {
    "duration": 7,
    "start_time": "2022-05-23T23:43:15.391Z"
   },
   {
    "duration": 7,
    "start_time": "2022-05-23T23:43:18.343Z"
   },
   {
    "duration": 8,
    "start_time": "2022-05-23T23:43:32.301Z"
   },
   {
    "duration": 18,
    "start_time": "2022-05-23T23:43:40.648Z"
   },
   {
    "duration": 4,
    "start_time": "2022-05-23T23:43:45.382Z"
   },
   {
    "duration": 6,
    "start_time": "2022-05-23T23:43:47.836Z"
   },
   {
    "duration": 8,
    "start_time": "2022-05-23T23:43:50.616Z"
   },
   {
    "duration": 16,
    "start_time": "2022-05-23T23:43:53.112Z"
   },
   {
    "duration": 7,
    "start_time": "2022-05-23T23:44:15.991Z"
   },
   {
    "duration": 9,
    "start_time": "2022-05-23T23:44:17.671Z"
   },
   {
    "duration": 2,
    "start_time": "2022-05-23T23:44:24.719Z"
   },
   {
    "duration": 82,
    "start_time": "2022-05-23T23:44:25.351Z"
   },
   {
    "duration": 13,
    "start_time": "2022-05-23T23:44:26.662Z"
   },
   {
    "duration": 7,
    "start_time": "2022-05-23T23:44:28.687Z"
   },
   {
    "duration": 14,
    "start_time": "2022-05-23T23:44:30.015Z"
   },
   {
    "duration": 15,
    "start_time": "2022-05-23T23:44:31.748Z"
   },
   {
    "duration": 2,
    "start_time": "2022-05-23T23:44:41.269Z"
   },
   {
    "duration": 74,
    "start_time": "2022-05-23T23:44:41.479Z"
   },
   {
    "duration": 14,
    "start_time": "2022-05-23T23:44:41.679Z"
   },
   {
    "duration": 7,
    "start_time": "2022-05-23T23:44:42.735Z"
   },
   {
    "duration": 14,
    "start_time": "2022-05-23T23:44:43.159Z"
   },
   {
    "duration": 13,
    "start_time": "2022-05-23T23:44:43.407Z"
   },
   {
    "duration": 15,
    "start_time": "2022-05-23T23:44:44.869Z"
   },
   {
    "duration": 4,
    "start_time": "2022-05-23T23:44:47.791Z"
   },
   {
    "duration": 11,
    "start_time": "2022-05-23T23:44:49.013Z"
   },
   {
    "duration": 4,
    "start_time": "2022-05-23T23:44:50.261Z"
   },
   {
    "duration": 9,
    "start_time": "2022-05-23T23:44:51.205Z"
   },
   {
    "duration": 4,
    "start_time": "2022-05-23T23:44:52.381Z"
   },
   {
    "duration": 15,
    "start_time": "2022-05-23T23:44:53.911Z"
   },
   {
    "duration": 8,
    "start_time": "2022-05-23T23:44:54.957Z"
   },
   {
    "duration": 7,
    "start_time": "2022-05-23T23:44:55.277Z"
   },
   {
    "duration": 16,
    "start_time": "2022-05-23T23:44:57.247Z"
   },
   {
    "duration": 14,
    "start_time": "2022-05-23T23:44:57.927Z"
   },
   {
    "duration": 13,
    "start_time": "2022-05-23T23:45:00.340Z"
   },
   {
    "duration": 15,
    "start_time": "2022-05-23T23:45:05.886Z"
   },
   {
    "duration": 31,
    "start_time": "2022-05-23T23:45:06.856Z"
   },
   {
    "duration": 4,
    "start_time": "2022-05-23T23:45:09.062Z"
   },
   {
    "duration": 15,
    "start_time": "2022-05-23T23:45:09.928Z"
   },
   {
    "duration": 4,
    "start_time": "2022-05-23T23:45:10.829Z"
   },
   {
    "duration": 4,
    "start_time": "2022-05-23T23:45:11.509Z"
   },
   {
    "duration": 4,
    "start_time": "2022-05-23T23:45:11.853Z"
   },
   {
    "duration": 4,
    "start_time": "2022-05-23T23:45:12.616Z"
   },
   {
    "duration": 10,
    "start_time": "2022-05-23T23:45:13.517Z"
   },
   {
    "duration": 12,
    "start_time": "2022-05-23T23:45:14.213Z"
   },
   {
    "duration": 4,
    "start_time": "2022-05-23T23:45:14.985Z"
   },
   {
    "duration": 4,
    "start_time": "2022-05-23T23:45:16.182Z"
   },
   {
    "duration": 18,
    "start_time": "2022-05-23T23:45:16.845Z"
   },
   {
    "duration": 4,
    "start_time": "2022-05-23T23:45:17.550Z"
   },
   {
    "duration": 5,
    "start_time": "2022-05-23T23:45:18.949Z"
   },
   {
    "duration": 5,
    "start_time": "2022-05-23T23:45:20.009Z"
   },
   {
    "duration": 5,
    "start_time": "2022-05-23T23:45:21.317Z"
   },
   {
    "duration": 6,
    "start_time": "2022-05-23T23:45:22.493Z"
   },
   {
    "duration": 14,
    "start_time": "2022-05-23T23:45:26.447Z"
   },
   {
    "duration": 11,
    "start_time": "2022-05-23T23:46:17.518Z"
   },
   {
    "duration": 5,
    "start_time": "2022-05-23T23:46:21.127Z"
   },
   {
    "duration": 12,
    "start_time": "2022-05-23T23:46:21.647Z"
   },
   {
    "duration": 3,
    "start_time": "2022-05-23T23:46:24.565Z"
   },
   {
    "duration": 19,
    "start_time": "2022-05-23T23:46:26.129Z"
   },
   {
    "duration": 3,
    "start_time": "2022-05-23T23:46:27.543Z"
   },
   {
    "duration": 11,
    "start_time": "2022-05-23T23:46:28.423Z"
   },
   {
    "duration": 8,
    "start_time": "2022-05-23T23:46:30.887Z"
   },
   {
    "duration": 8,
    "start_time": "2022-05-23T23:46:32.687Z"
   },
   {
    "duration": 11,
    "start_time": "2022-05-23T23:46:34.181Z"
   },
   {
    "duration": 15,
    "start_time": "2022-05-23T23:46:36.646Z"
   },
   {
    "duration": 16,
    "start_time": "2022-05-23T23:46:38.141Z"
   },
   {
    "duration": 4,
    "start_time": "2022-05-23T23:46:41.413Z"
   },
   {
    "duration": 6,
    "start_time": "2022-05-23T23:46:42.445Z"
   },
   {
    "duration": 6,
    "start_time": "2022-05-23T23:46:43.408Z"
   },
   {
    "duration": 8,
    "start_time": "2022-05-23T23:46:44.855Z"
   },
   {
    "duration": 17,
    "start_time": "2022-05-23T23:46:45.736Z"
   },
   {
    "duration": 4,
    "start_time": "2022-05-23T23:46:48.845Z"
   },
   {
    "duration": 6,
    "start_time": "2022-05-23T23:46:49.728Z"
   },
   {
    "duration": 7,
    "start_time": "2022-05-23T23:46:50.760Z"
   },
   {
    "duration": 16,
    "start_time": "2022-05-23T23:46:51.847Z"
   },
   {
    "duration": 4,
    "start_time": "2022-05-23T23:46:55.077Z"
   },
   {
    "duration": 6,
    "start_time": "2022-05-23T23:46:56.382Z"
   },
   {
    "duration": 7,
    "start_time": "2022-05-23T23:46:56.982Z"
   },
   {
    "duration": 17,
    "start_time": "2022-05-23T23:46:57.872Z"
   },
   {
    "duration": 415,
    "start_time": "2022-05-24T05:28:22.811Z"
   },
   {
    "duration": 85,
    "start_time": "2022-05-24T05:28:23.228Z"
   },
   {
    "duration": 14,
    "start_time": "2022-05-24T05:28:23.315Z"
   },
   {
    "duration": 7,
    "start_time": "2022-05-24T05:28:23.331Z"
   },
   {
    "duration": 15,
    "start_time": "2022-05-24T05:28:23.352Z"
   },
   {
    "duration": 13,
    "start_time": "2022-05-24T05:28:23.369Z"
   },
   {
    "duration": 15,
    "start_time": "2022-05-24T05:28:23.383Z"
   },
   {
    "duration": 5,
    "start_time": "2022-05-24T05:28:23.399Z"
   },
   {
    "duration": 46,
    "start_time": "2022-05-24T05:28:23.406Z"
   },
   {
    "duration": 5,
    "start_time": "2022-05-24T05:28:23.455Z"
   },
   {
    "duration": 12,
    "start_time": "2022-05-24T05:28:23.461Z"
   },
   {
    "duration": 4,
    "start_time": "2022-05-24T05:28:23.475Z"
   },
   {
    "duration": 18,
    "start_time": "2022-05-24T05:28:23.480Z"
   },
   {
    "duration": 9,
    "start_time": "2022-05-24T05:28:23.500Z"
   },
   {
    "duration": 7,
    "start_time": "2022-05-24T05:28:23.510Z"
   },
   {
    "duration": 18,
    "start_time": "2022-05-24T05:28:23.552Z"
   },
   {
    "duration": 15,
    "start_time": "2022-05-24T05:28:23.572Z"
   },
   {
    "duration": 14,
    "start_time": "2022-05-24T05:28:23.589Z"
   },
   {
    "duration": 49,
    "start_time": "2022-05-24T05:28:23.604Z"
   },
   {
    "duration": 32,
    "start_time": "2022-05-24T05:28:23.654Z"
   },
   {
    "duration": 6,
    "start_time": "2022-05-24T05:28:23.688Z"
   },
   {
    "duration": 15,
    "start_time": "2022-05-24T05:28:23.695Z"
   },
   {
    "duration": 4,
    "start_time": "2022-05-24T05:28:23.712Z"
   },
   {
    "duration": 5,
    "start_time": "2022-05-24T05:28:23.717Z"
   },
   {
    "duration": 32,
    "start_time": "2022-05-24T05:28:23.723Z"
   },
   {
    "duration": 8,
    "start_time": "2022-05-24T05:28:23.757Z"
   },
   {
    "duration": 12,
    "start_time": "2022-05-24T05:28:23.767Z"
   },
   {
    "duration": 10,
    "start_time": "2022-05-24T05:28:23.784Z"
   },
   {
    "duration": 4,
    "start_time": "2022-05-24T05:28:23.796Z"
   },
   {
    "duration": 9,
    "start_time": "2022-05-24T05:28:23.801Z"
   },
   {
    "duration": 56,
    "start_time": "2022-05-24T05:28:23.811Z"
   },
   {
    "duration": 8,
    "start_time": "2022-05-24T05:28:23.868Z"
   },
   {
    "duration": 6,
    "start_time": "2022-05-24T05:28:23.877Z"
   },
   {
    "duration": 6,
    "start_time": "2022-05-24T05:28:23.884Z"
   },
   {
    "duration": 4,
    "start_time": "2022-05-24T05:28:23.892Z"
   },
   {
    "duration": 17,
    "start_time": "2022-05-24T05:28:23.897Z"
   },
   {
    "duration": 14,
    "start_time": "2022-05-24T05:28:23.916Z"
   },
   {
    "duration": 10,
    "start_time": "2022-05-24T05:28:23.951Z"
   },
   {
    "duration": 6,
    "start_time": "2022-05-24T05:28:23.963Z"
   },
   {
    "duration": 18,
    "start_time": "2022-05-24T05:28:23.971Z"
   },
   {
    "duration": 5,
    "start_time": "2022-05-24T05:28:23.991Z"
   },
   {
    "duration": 19,
    "start_time": "2022-05-24T05:28:23.998Z"
   },
   {
    "duration": 3,
    "start_time": "2022-05-24T05:28:24.019Z"
   },
   {
    "duration": 34,
    "start_time": "2022-05-24T05:28:24.023Z"
   },
   {
    "duration": 8,
    "start_time": "2022-05-24T05:28:24.059Z"
   },
   {
    "duration": 11,
    "start_time": "2022-05-24T05:28:24.068Z"
   },
   {
    "duration": 9,
    "start_time": "2022-05-24T05:28:24.080Z"
   },
   {
    "duration": 15,
    "start_time": "2022-05-24T05:28:24.091Z"
   },
   {
    "duration": 45,
    "start_time": "2022-05-24T05:28:24.108Z"
   },
   {
    "duration": 3,
    "start_time": "2022-05-24T05:28:24.155Z"
   },
   {
    "duration": 12,
    "start_time": "2022-05-24T05:28:24.159Z"
   },
   {
    "duration": 7,
    "start_time": "2022-05-24T05:28:24.172Z"
   },
   {
    "duration": 7,
    "start_time": "2022-05-24T05:28:24.180Z"
   },
   {
    "duration": 21,
    "start_time": "2022-05-24T05:28:24.188Z"
   },
   {
    "duration": 4,
    "start_time": "2022-05-24T05:28:24.210Z"
   },
   {
    "duration": 39,
    "start_time": "2022-05-24T05:28:24.215Z"
   },
   {
    "duration": 8,
    "start_time": "2022-05-24T05:28:24.255Z"
   },
   {
    "duration": 21,
    "start_time": "2022-05-24T05:28:24.264Z"
   },
   {
    "duration": 3,
    "start_time": "2022-05-24T05:28:24.286Z"
   },
   {
    "duration": 9,
    "start_time": "2022-05-24T05:28:24.290Z"
   },
   {
    "duration": 9,
    "start_time": "2022-05-24T05:28:24.300Z"
   },
   {
    "duration": 18,
    "start_time": "2022-05-24T05:28:24.310Z"
   },
   {
    "duration": 506,
    "start_time": "2022-05-24T05:30:38.767Z"
   },
   {
    "duration": 180,
    "start_time": "2022-05-24T05:30:39.275Z"
   },
   {
    "duration": 17,
    "start_time": "2022-05-24T05:30:39.457Z"
   },
   {
    "duration": 7,
    "start_time": "2022-05-24T05:30:39.475Z"
   },
   {
    "duration": 69,
    "start_time": "2022-05-24T05:30:39.484Z"
   },
   {
    "duration": 13,
    "start_time": "2022-05-24T05:30:39.555Z"
   },
   {
    "duration": 16,
    "start_time": "2022-05-24T05:30:39.570Z"
   },
   {
    "duration": 4,
    "start_time": "2022-05-24T05:30:39.588Z"
   },
   {
    "duration": 68,
    "start_time": "2022-05-24T05:30:39.594Z"
   },
   {
    "duration": 4,
    "start_time": "2022-05-24T05:30:39.663Z"
   },
   {
    "duration": 11,
    "start_time": "2022-05-24T05:30:39.669Z"
   },
   {
    "duration": 4,
    "start_time": "2022-05-24T05:30:39.681Z"
   },
   {
    "duration": 18,
    "start_time": "2022-05-24T05:30:39.686Z"
   },
   {
    "duration": 46,
    "start_time": "2022-05-24T05:30:39.707Z"
   },
   {
    "duration": 7,
    "start_time": "2022-05-24T05:30:39.755Z"
   },
   {
    "duration": 28,
    "start_time": "2022-05-24T05:30:39.764Z"
   },
   {
    "duration": 13,
    "start_time": "2022-05-24T05:30:39.793Z"
   },
   {
    "duration": 14,
    "start_time": "2022-05-24T05:30:39.808Z"
   },
   {
    "duration": 42,
    "start_time": "2022-05-24T05:30:39.824Z"
   },
   {
    "duration": 34,
    "start_time": "2022-05-24T05:30:39.868Z"
   },
   {
    "duration": 5,
    "start_time": "2022-05-24T05:30:39.903Z"
   },
   {
    "duration": 19,
    "start_time": "2022-05-24T05:30:39.909Z"
   },
   {
    "duration": 26,
    "start_time": "2022-05-24T05:30:39.929Z"
   },
   {
    "duration": 6,
    "start_time": "2022-05-24T05:30:39.957Z"
   },
   {
    "duration": 12,
    "start_time": "2022-05-24T05:30:39.964Z"
   },
   {
    "duration": 5,
    "start_time": "2022-05-24T05:30:39.977Z"
   },
   {
    "duration": 12,
    "start_time": "2022-05-24T05:30:39.984Z"
   },
   {
    "duration": 11,
    "start_time": "2022-05-24T05:30:39.997Z"
   },
   {
    "duration": 5,
    "start_time": "2022-05-24T05:30:40.009Z"
   },
   {
    "duration": 7,
    "start_time": "2022-05-24T05:30:40.053Z"
   },
   {
    "duration": 34,
    "start_time": "2022-05-24T05:30:40.062Z"
   },
   {
    "duration": 7,
    "start_time": "2022-05-24T05:30:40.098Z"
   },
   {
    "duration": 22,
    "start_time": "2022-05-24T05:30:40.109Z"
   },
   {
    "duration": 17,
    "start_time": "2022-05-24T05:30:40.133Z"
   },
   {
    "duration": 7,
    "start_time": "2022-05-24T05:30:40.154Z"
   },
   {
    "duration": 18,
    "start_time": "2022-05-24T05:30:40.163Z"
   },
   {
    "duration": 16,
    "start_time": "2022-05-24T05:30:40.184Z"
   },
   {
    "duration": 12,
    "start_time": "2022-05-24T05:30:40.202Z"
   },
   {
    "duration": 8,
    "start_time": "2022-05-24T05:30:40.216Z"
   },
   {
    "duration": 38,
    "start_time": "2022-05-24T05:30:40.226Z"
   },
   {
    "duration": 4,
    "start_time": "2022-05-24T05:30:40.268Z"
   },
   {
    "duration": 25,
    "start_time": "2022-05-24T05:30:40.273Z"
   },
   {
    "duration": 5,
    "start_time": "2022-05-24T05:30:40.300Z"
   },
   {
    "duration": 16,
    "start_time": "2022-05-24T05:30:40.306Z"
   },
   {
    "duration": 31,
    "start_time": "2022-05-24T05:30:40.323Z"
   },
   {
    "duration": 10,
    "start_time": "2022-05-24T05:30:40.356Z"
   },
   {
    "duration": 16,
    "start_time": "2022-05-24T05:30:40.368Z"
   },
   {
    "duration": 17,
    "start_time": "2022-05-24T05:30:40.386Z"
   },
   {
    "duration": 16,
    "start_time": "2022-05-24T05:30:40.405Z"
   },
   {
    "duration": 31,
    "start_time": "2022-05-24T05:30:40.422Z"
   },
   {
    "duration": 9,
    "start_time": "2022-05-24T05:30:40.454Z"
   },
   {
    "duration": 11,
    "start_time": "2022-05-24T05:30:40.464Z"
   },
   {
    "duration": 8,
    "start_time": "2022-05-24T05:30:40.477Z"
   },
   {
    "duration": 20,
    "start_time": "2022-05-24T05:30:40.487Z"
   },
   {
    "duration": 4,
    "start_time": "2022-05-24T05:30:40.509Z"
   },
   {
    "duration": 39,
    "start_time": "2022-05-24T05:30:40.515Z"
   },
   {
    "duration": 8,
    "start_time": "2022-05-24T05:30:40.556Z"
   },
   {
    "duration": 18,
    "start_time": "2022-05-24T05:30:40.566Z"
   },
   {
    "duration": 4,
    "start_time": "2022-05-24T05:30:40.585Z"
   },
   {
    "duration": 13,
    "start_time": "2022-05-24T05:30:40.590Z"
   },
   {
    "duration": 9,
    "start_time": "2022-05-24T05:30:40.605Z"
   },
   {
    "duration": 44,
    "start_time": "2022-05-24T05:30:40.616Z"
   },
   {
    "duration": 32,
    "start_time": "2022-05-24T05:36:08.288Z"
   },
   {
    "duration": 12,
    "start_time": "2022-05-24T05:37:25.241Z"
   },
   {
    "duration": 67,
    "start_time": "2022-05-24T20:29:37.787Z"
   },
   {
    "duration": 7,
    "start_time": "2022-05-24T20:29:40.690Z"
   },
   {
    "duration": 447,
    "start_time": "2022-05-24T20:29:48.141Z"
   },
   {
    "duration": 406,
    "start_time": "2022-05-24T20:29:48.590Z"
   },
   {
    "duration": 49,
    "start_time": "2022-05-24T20:29:53.385Z"
   },
   {
    "duration": 26,
    "start_time": "2022-05-24T20:35:14.283Z"
   },
   {
    "duration": 8,
    "start_time": "2022-05-24T20:46:58.387Z"
   },
   {
    "duration": 379,
    "start_time": "2022-05-24T20:46:59.131Z"
   },
   {
    "duration": 14,
    "start_time": "2022-05-24T20:46:59.513Z"
   },
   {
    "duration": 15,
    "start_time": "2022-05-24T20:47:00.953Z"
   },
   {
    "duration": 5,
    "start_time": "2022-05-24T20:47:01.153Z"
   },
   {
    "duration": 12,
    "start_time": "2022-05-24T20:47:01.265Z"
   },
   {
    "duration": 4,
    "start_time": "2022-05-24T20:47:01.387Z"
   },
   {
    "duration": 15,
    "start_time": "2022-05-24T20:47:01.523Z"
   },
   {
    "duration": 6,
    "start_time": "2022-05-24T20:47:01.623Z"
   },
   {
    "duration": 21,
    "start_time": "2022-05-24T20:47:01.785Z"
   },
   {
    "duration": 10,
    "start_time": "2022-05-24T20:47:01.883Z"
   },
   {
    "duration": 21,
    "start_time": "2022-05-24T20:47:01.919Z"
   },
   {
    "duration": 20,
    "start_time": "2022-05-24T20:47:02.053Z"
   },
   {
    "duration": 44,
    "start_time": "2022-05-24T20:47:02.095Z"
   },
   {
    "duration": 23,
    "start_time": "2022-05-24T20:47:02.252Z"
   },
   {
    "duration": 25,
    "start_time": "2022-05-24T20:47:03.321Z"
   },
   {
    "duration": 30,
    "start_time": "2022-05-24T20:47:03.761Z"
   },
   {
    "duration": 6,
    "start_time": "2022-05-24T20:47:04.554Z"
   },
   {
    "duration": 24,
    "start_time": "2022-05-24T20:47:04.633Z"
   },
   {
    "duration": 5,
    "start_time": "2022-05-24T20:47:04.702Z"
   },
   {
    "duration": 5,
    "start_time": "2022-05-24T20:47:04.771Z"
   },
   {
    "duration": 6,
    "start_time": "2022-05-24T20:47:04.810Z"
   },
   {
    "duration": 6,
    "start_time": "2022-05-24T20:47:04.906Z"
   },
   {
    "duration": 14,
    "start_time": "2022-05-24T20:47:04.977Z"
   },
   {
    "duration": 15,
    "start_time": "2022-05-24T20:47:05.049Z"
   },
   {
    "duration": 6,
    "start_time": "2022-05-24T20:47:05.117Z"
   },
   {
    "duration": 6,
    "start_time": "2022-05-24T20:47:05.213Z"
   },
   {
    "duration": 19,
    "start_time": "2022-05-24T20:47:05.285Z"
   },
   {
    "duration": 5,
    "start_time": "2022-05-24T20:47:05.355Z"
   },
   {
    "duration": 5,
    "start_time": "2022-05-24T20:47:05.455Z"
   },
   {
    "duration": 5,
    "start_time": "2022-05-24T20:47:05.584Z"
   },
   {
    "duration": 5,
    "start_time": "2022-05-24T20:47:05.684Z"
   },
   {
    "duration": 6,
    "start_time": "2022-05-24T20:47:05.782Z"
   },
   {
    "duration": 19,
    "start_time": "2022-05-24T20:47:06.915Z"
   },
   {
    "duration": 10,
    "start_time": "2022-05-24T20:47:06.953Z"
   },
   {
    "duration": 6,
    "start_time": "2022-05-24T20:47:07.027Z"
   },
   {
    "duration": 14,
    "start_time": "2022-05-24T20:47:07.427Z"
   },
   {
    "duration": 4,
    "start_time": "2022-05-24T20:47:08.075Z"
   },
   {
    "duration": 23,
    "start_time": "2022-05-24T20:47:08.145Z"
   },
   {
    "duration": 4,
    "start_time": "2022-05-24T20:47:08.274Z"
   },
   {
    "duration": 12,
    "start_time": "2022-05-24T20:47:08.345Z"
   },
   {
    "duration": 16,
    "start_time": "2022-05-24T20:47:08.530Z"
   },
   {
    "duration": 10,
    "start_time": "2022-05-24T20:47:08.600Z"
   },
   {
    "duration": 11,
    "start_time": "2022-05-24T20:47:08.671Z"
   },
   {
    "duration": 22,
    "start_time": "2022-05-24T20:47:08.744Z"
   },
   {
    "duration": 17,
    "start_time": "2022-05-24T20:47:08.813Z"
   },
   {
    "duration": 6,
    "start_time": "2022-05-24T20:47:10.242Z"
   },
   {
    "duration": 8,
    "start_time": "2022-05-24T20:47:10.313Z"
   },
   {
    "duration": 8,
    "start_time": "2022-05-24T20:47:10.389Z"
   },
   {
    "duration": 9,
    "start_time": "2022-05-24T20:47:10.461Z"
   },
   {
    "duration": 22,
    "start_time": "2022-05-24T20:47:10.534Z"
   },
   {
    "duration": 4,
    "start_time": "2022-05-24T20:47:10.760Z"
   },
   {
    "duration": 9,
    "start_time": "2022-05-24T20:47:10.823Z"
   },
   {
    "duration": 8,
    "start_time": "2022-05-24T20:47:10.898Z"
   },
   {
    "duration": 17,
    "start_time": "2022-05-24T20:47:12.305Z"
   },
   {
    "duration": 4,
    "start_time": "2022-05-24T20:47:13.019Z"
   },
   {
    "duration": 8,
    "start_time": "2022-05-24T20:47:13.089Z"
   },
   {
    "duration": 9,
    "start_time": "2022-05-24T20:47:13.163Z"
   },
   {
    "duration": 24,
    "start_time": "2022-05-24T20:47:13.240Z"
   },
   {
    "duration": 8,
    "start_time": "2022-05-24T20:59:29.325Z"
   },
   {
    "duration": 8,
    "start_time": "2022-05-24T20:59:40.796Z"
   },
   {
    "duration": 11,
    "start_time": "2022-05-24T21:00:58.047Z"
   },
   {
    "duration": 552,
    "start_time": "2022-05-24T21:01:30.061Z"
   },
   {
    "duration": 13,
    "start_time": "2022-05-24T21:01:57.950Z"
   },
   {
    "duration": 13,
    "start_time": "2022-05-24T21:02:02.396Z"
   },
   {
    "duration": 11,
    "start_time": "2022-05-24T21:02:21.572Z"
   },
   {
    "duration": 4,
    "start_time": "2022-05-24T21:02:56.723Z"
   },
   {
    "duration": 10,
    "start_time": "2022-05-24T21:05:02.291Z"
   },
   {
    "duration": 17,
    "start_time": "2022-05-24T21:06:05.996Z"
   },
   {
    "duration": 9,
    "start_time": "2022-05-24T21:09:38.445Z"
   },
   {
    "duration": 71,
    "start_time": "2022-05-25T17:16:27.056Z"
   },
   {
    "duration": 40,
    "start_time": "2022-05-25T17:16:42.478Z"
   },
   {
    "duration": 459,
    "start_time": "2022-05-25T17:16:46.798Z"
   },
   {
    "duration": 89,
    "start_time": "2022-05-25T17:16:47.258Z"
   },
   {
    "duration": 46,
    "start_time": "2022-05-25T17:16:47.350Z"
   },
   {
    "duration": 8,
    "start_time": "2022-05-25T17:16:47.398Z"
   },
   {
    "duration": 39,
    "start_time": "2022-05-25T17:16:47.409Z"
   },
   {
    "duration": 14,
    "start_time": "2022-05-25T17:16:47.449Z"
   },
   {
    "duration": 16,
    "start_time": "2022-05-25T17:16:47.465Z"
   },
   {
    "duration": 5,
    "start_time": "2022-05-25T17:16:47.482Z"
   },
   {
    "duration": 13,
    "start_time": "2022-05-25T17:16:47.489Z"
   },
   {
    "duration": 39,
    "start_time": "2022-05-25T17:16:47.504Z"
   },
   {
    "duration": 17,
    "start_time": "2022-05-25T17:16:47.545Z"
   },
   {
    "duration": 4,
    "start_time": "2022-05-25T17:16:47.564Z"
   },
   {
    "duration": 21,
    "start_time": "2022-05-25T17:16:47.570Z"
   },
   {
    "duration": 8,
    "start_time": "2022-05-25T17:16:47.594Z"
   },
   {
    "duration": 7,
    "start_time": "2022-05-25T17:16:47.604Z"
   },
   {
    "duration": 42,
    "start_time": "2022-05-25T17:16:47.613Z"
   },
   {
    "duration": 16,
    "start_time": "2022-05-25T17:16:47.656Z"
   },
   {
    "duration": 15,
    "start_time": "2022-05-25T17:16:47.674Z"
   },
   {
    "duration": 17,
    "start_time": "2022-05-25T17:16:47.691Z"
   },
   {
    "duration": 33,
    "start_time": "2022-05-25T17:16:47.742Z"
   },
   {
    "duration": 6,
    "start_time": "2022-05-25T17:16:47.777Z"
   },
   {
    "duration": 17,
    "start_time": "2022-05-25T17:16:47.785Z"
   },
   {
    "duration": 5,
    "start_time": "2022-05-25T17:16:47.804Z"
   },
   {
    "duration": 5,
    "start_time": "2022-05-25T17:16:47.840Z"
   },
   {
    "duration": 10,
    "start_time": "2022-05-25T17:16:47.847Z"
   },
   {
    "duration": 5,
    "start_time": "2022-05-25T17:16:47.858Z"
   },
   {
    "duration": 11,
    "start_time": "2022-05-25T17:16:47.865Z"
   },
   {
    "duration": 12,
    "start_time": "2022-05-25T17:16:47.878Z"
   },
   {
    "duration": 5,
    "start_time": "2022-05-25T17:16:47.892Z"
   },
   {
    "duration": 42,
    "start_time": "2022-05-25T17:16:47.899Z"
   },
   {
    "duration": 19,
    "start_time": "2022-05-25T17:16:47.943Z"
   },
   {
    "duration": 6,
    "start_time": "2022-05-25T17:16:47.964Z"
   },
   {
    "duration": 7,
    "start_time": "2022-05-25T17:16:47.971Z"
   },
   {
    "duration": 8,
    "start_time": "2022-05-25T17:16:47.979Z"
   },
   {
    "duration": 6,
    "start_time": "2022-05-25T17:16:47.989Z"
   },
   {
    "duration": 7,
    "start_time": "2022-05-25T17:16:47.997Z"
   },
   {
    "duration": 48,
    "start_time": "2022-05-25T17:16:48.005Z"
   },
   {
    "duration": 10,
    "start_time": "2022-05-25T17:16:48.055Z"
   },
   {
    "duration": 6,
    "start_time": "2022-05-25T17:16:48.067Z"
   },
   {
    "duration": 14,
    "start_time": "2022-05-25T17:16:48.075Z"
   },
   {
    "duration": 4,
    "start_time": "2022-05-25T17:16:48.093Z"
   },
   {
    "duration": 48,
    "start_time": "2022-05-25T17:16:48.098Z"
   },
   {
    "duration": 4,
    "start_time": "2022-05-25T17:16:48.147Z"
   },
   {
    "duration": 17,
    "start_time": "2022-05-25T17:16:48.152Z"
   },
   {
    "duration": 8,
    "start_time": "2022-05-25T17:16:48.171Z"
   },
   {
    "duration": 8,
    "start_time": "2022-05-25T17:16:48.180Z"
   },
   {
    "duration": 10,
    "start_time": "2022-05-25T17:16:48.190Z"
   },
   {
    "duration": 50,
    "start_time": "2022-05-25T17:16:48.202Z"
   },
   {
    "duration": 15,
    "start_time": "2022-05-25T17:16:48.254Z"
   },
   {
    "duration": 3,
    "start_time": "2022-05-25T17:16:48.271Z"
   },
   {
    "duration": 13,
    "start_time": "2022-05-25T17:16:48.276Z"
   },
   {
    "duration": 11,
    "start_time": "2022-05-25T17:16:48.291Z"
   },
   {
    "duration": 10,
    "start_time": "2022-05-25T17:16:48.303Z"
   },
   {
    "duration": 36,
    "start_time": "2022-05-25T17:16:48.314Z"
   },
   {
    "duration": 3,
    "start_time": "2022-05-25T17:16:48.352Z"
   },
   {
    "duration": 9,
    "start_time": "2022-05-25T17:16:48.356Z"
   },
   {
    "duration": 10,
    "start_time": "2022-05-25T17:16:48.366Z"
   },
   {
    "duration": 16,
    "start_time": "2022-05-25T17:16:48.378Z"
   },
   {
    "duration": 3,
    "start_time": "2022-05-25T17:16:48.396Z"
   },
   {
    "duration": 8,
    "start_time": "2022-05-25T17:16:48.401Z"
   },
   {
    "duration": 34,
    "start_time": "2022-05-25T17:16:48.410Z"
   },
   {
    "duration": 17,
    "start_time": "2022-05-25T17:16:48.445Z"
   },
   {
    "duration": 9,
    "start_time": "2022-05-25T17:16:48.463Z"
   },
   {
    "duration": 3,
    "start_time": "2022-05-25T17:16:48.474Z"
   },
   {
    "duration": 10,
    "start_time": "2022-05-25T17:16:48.478Z"
   },
   {
    "duration": 18,
    "start_time": "2022-05-25T17:16:48.490Z"
   },
   {
    "duration": 4,
    "start_time": "2022-05-25T17:16:48.542Z"
   },
   {
    "duration": 5,
    "start_time": "2022-05-25T17:16:59.419Z"
   },
   {
    "duration": 3,
    "start_time": "2022-05-25T17:17:10.757Z"
   },
   {
    "duration": 74,
    "start_time": "2022-05-25T17:17:31.653Z"
   },
   {
    "duration": 3,
    "start_time": "2022-05-25T17:17:40.784Z"
   },
   {
    "duration": 10,
    "start_time": "2022-05-25T17:17:41.019Z"
   },
   {
    "duration": 20,
    "start_time": "2022-05-25T17:17:45.090Z"
   },
   {
    "duration": 10,
    "start_time": "2022-05-25T17:17:57.510Z"
   },
   {
    "duration": 17,
    "start_time": "2022-05-25T17:18:01.834Z"
   },
   {
    "duration": 9,
    "start_time": "2022-05-25T17:18:07.782Z"
   },
   {
    "duration": 20,
    "start_time": "2022-05-25T17:18:31.114Z"
   },
   {
    "duration": 28,
    "start_time": "2022-05-25T17:18:38.558Z"
   },
   {
    "duration": 4,
    "start_time": "2022-05-25T17:18:44.554Z"
   },
   {
    "duration": 8,
    "start_time": "2022-05-25T17:18:44.907Z"
   },
   {
    "duration": 3,
    "start_time": "2022-05-25T17:18:56.268Z"
   },
   {
    "duration": 8,
    "start_time": "2022-05-25T17:18:56.418Z"
   },
   {
    "duration": 30,
    "start_time": "2022-05-25T17:19:01.497Z"
   },
   {
    "duration": 32,
    "start_time": "2022-05-25T17:19:54.115Z"
   },
   {
    "duration": 511,
    "start_time": "2022-11-26T13:32:04.261Z"
   },
   {
    "duration": 1004,
    "start_time": "2022-11-26T13:32:42.152Z"
   }
  ],
  "kernelspec": {
   "display_name": "Python 3 (ipykernel)",
   "language": "python",
   "name": "python3"
  },
  "language_info": {
   "codemirror_mode": {
    "name": "ipython",
    "version": 3
   },
   "file_extension": ".py",
   "mimetype": "text/x-python",
   "name": "python",
   "nbconvert_exporter": "python",
   "pygments_lexer": "ipython3",
   "version": "3.9.12"
  },
  "toc": {
   "base_numbering": 1,
   "nav_menu": {},
   "number_sections": true,
   "sideBar": true,
   "skip_h1_title": true,
   "title_cell": "Содержание",
   "title_sidebar": "Contents",
   "toc_cell": true,
   "toc_position": {
    "height": "calc(100% - 180px)",
    "left": "10px",
    "top": "150px",
    "width": "476.378px"
   },
   "toc_section_display": true,
   "toc_window_display": true
  }
 },
 "nbformat": 4,
 "nbformat_minor": 5
}
