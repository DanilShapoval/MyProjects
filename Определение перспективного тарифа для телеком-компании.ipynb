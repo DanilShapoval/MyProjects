{
 "cells": [
  {
   "cell_type": "markdown",
   "metadata": {
    "toc": true
   },
   "source": [
    "<h1>Содержание<span class=\"tocSkip\"></span></h1>\n",
    "<div class=\"toc\"><ul class=\"toc-item\"><li><span><a href=\"#Предобработка-данных\" data-toc-modified-id=\"Предобработка-данных-1\"><span class=\"toc-item-num\">1&nbsp;&nbsp;</span>Предобработка данных</a></span><ul class=\"toc-item\"><li><span><a href=\"#Датасет-users\" data-toc-modified-id=\"Датасет-users-1.1\"><span class=\"toc-item-num\">1.1&nbsp;&nbsp;</span>Датасет users</a></span></li><li><span><a href=\"#Датасет-tariffs\" data-toc-modified-id=\"Датасет-tariffs-1.2\"><span class=\"toc-item-num\">1.2&nbsp;&nbsp;</span>Датасет tariffs</a></span></li><li><span><a href=\"#Датасет-calls\" data-toc-modified-id=\"Датасет-calls-1.3\"><span class=\"toc-item-num\">1.3&nbsp;&nbsp;</span>Датасет calls</a></span></li><li><span><a href=\"#Датасет-internet\" data-toc-modified-id=\"Датасет-internet-1.4\"><span class=\"toc-item-num\">1.4&nbsp;&nbsp;</span>Датасет internet</a></span></li><li><span><a href=\"#Датасет-messages\" data-toc-modified-id=\"Датасет-messages-1.5\"><span class=\"toc-item-num\">1.5&nbsp;&nbsp;</span>Датасет messages</a></span></li></ul></li><li><span><a href=\"#Дополнительные-расчеты-для-каждого-пользователя\" data-toc-modified-id=\"Дополнительные-расчеты-для-каждого-пользователя-2\"><span class=\"toc-item-num\">2&nbsp;&nbsp;</span>Дополнительные расчеты для каждого пользователя</a></span><ul class=\"toc-item\"><li><span><a href=\"#Количество-сделанных-звонков-и-израсходованных-минут-разговора-по-месяцам\" data-toc-modified-id=\"Количество-сделанных-звонков-и-израсходованных-минут-разговора-по-месяцам-2.1\"><span class=\"toc-item-num\">2.1&nbsp;&nbsp;</span>Количество сделанных звонков и израсходованных минут разговора по месяцам</a></span></li><li><span><a href=\"#Количество-отправленных-сообщений-по-месяцам\" data-toc-modified-id=\"Количество-отправленных-сообщений-по-месяцам-2.2\"><span class=\"toc-item-num\">2.2&nbsp;&nbsp;</span>Количество отправленных сообщений по месяцам</a></span></li><li><span><a href=\"#Объем-израсходованного-интернет-трафика-по-месяцам\" data-toc-modified-id=\"Объем-израсходованного-интернет-трафика-по-месяцам-2.3\"><span class=\"toc-item-num\">2.3&nbsp;&nbsp;</span>Объем израсходованного интернет-трафика по месяцам</a></span></li><li><span><a href=\"#Сводная-таблица\" data-toc-modified-id=\"Сводная-таблица-2.4\"><span class=\"toc-item-num\">2.4&nbsp;&nbsp;</span>Сводная таблица</a></span></li><li><span><a href=\"#Помесячная-выручка-с-каждого-пользователя\" data-toc-modified-id=\"Помесячная-выручка-с-каждого-пользователя-2.5\"><span class=\"toc-item-num\">2.5&nbsp;&nbsp;</span>Помесячная выручка с каждого пользователя</a></span></li></ul></li><li><span><a href=\"#Анализ-данных\" data-toc-modified-id=\"Анализ-данных-3\"><span class=\"toc-item-num\">3&nbsp;&nbsp;</span>Анализ данных</a></span><ul class=\"toc-item\"><li><span><a href=\"#Анализ-тарифа-smart\" data-toc-modified-id=\"Анализ-тарифа-smart-3.1\"><span class=\"toc-item-num\">3.1&nbsp;&nbsp;</span>Анализ тарифа <code>smart</code></a></span><ul class=\"toc-item\"><li><span><a href=\"#Количество-использованных-минут\" data-toc-modified-id=\"Количество-использованных-минут-3.1.1\"><span class=\"toc-item-num\">3.1.1&nbsp;&nbsp;</span>Количество использованных минут</a></span></li><li><span><a href=\"#Количество-использованных-сообщений\" data-toc-modified-id=\"Количество-использованных-сообщений-3.1.2\"><span class=\"toc-item-num\">3.1.2&nbsp;&nbsp;</span>Количество использованных сообщений</a></span></li><li><span><a href=\"#Количество-использованных-гигабайт\" data-toc-modified-id=\"Количество-использованных-гигабайт-3.1.3\"><span class=\"toc-item-num\">3.1.3&nbsp;&nbsp;</span>Количество использованных гигабайт</a></span></li></ul></li><li><span><a href=\"#Анализ-тарифа-ultra\" data-toc-modified-id=\"Анализ-тарифа-ultra-3.2\"><span class=\"toc-item-num\">3.2&nbsp;&nbsp;</span>Анализ тарифа <code>ultra</code></a></span><ul class=\"toc-item\"><li><span><a href=\"#Количество-использованных-минут\" data-toc-modified-id=\"Количество-использованных-минут-3.2.1\"><span class=\"toc-item-num\">3.2.1&nbsp;&nbsp;</span>Количество использованных минут</a></span></li><li><span><a href=\"#Количество-использованных-сообщений\" data-toc-modified-id=\"Количество-использованных-сообщений-3.2.2\"><span class=\"toc-item-num\">3.2.2&nbsp;&nbsp;</span>Количество использованных сообщений</a></span></li><li><span><a href=\"#Количество-использованных-гигабайт\" data-toc-modified-id=\"Количество-использованных-гигабайт-3.2.3\"><span class=\"toc-item-num\">3.2.3&nbsp;&nbsp;</span>Количество использованных гигабайт</a></span></li></ul></li><li><span><a href=\"#Общие-выводы-по-анализу-поведения-клиентов-обоих-тарифов\" data-toc-modified-id=\"Общие-выводы-по-анализу-поведения-клиентов-обоих-тарифов-3.3\"><span class=\"toc-item-num\">3.3&nbsp;&nbsp;</span>Общие выводы по анализу поведения клиентов обоих тарифов</a></span></li></ul></li><li><span><a href=\"#Проверка-гипотез\" data-toc-modified-id=\"Проверка-гипотез-4\"><span class=\"toc-item-num\">4&nbsp;&nbsp;</span>Проверка гипотез</a></span><ul class=\"toc-item\"><li><span><a href=\"#Гипотеза-1-(средняя-выручка-пользователей-тарифов-«Ультра»-и-«Смарт»-различаются)\" data-toc-modified-id=\"Гипотеза-1-(средняя-выручка-пользователей-тарифов-«Ультра»-и-«Смарт»-различаются)-4.1\"><span class=\"toc-item-num\">4.1&nbsp;&nbsp;</span>Гипотеза 1 (средняя выручка пользователей тарифов «Ультра» и «Смарт» различаются)</a></span></li><li><span><a href=\"#Гипотеза-2-(средняя-выручка-пользователей-из-Москвы-отличается-от-выручки-пользователей-из-других-регионов)\" data-toc-modified-id=\"Гипотеза-2-(средняя-выручка-пользователей-из-Москвы-отличается-от-выручки-пользователей-из-других-регионов)-4.2\"><span class=\"toc-item-num\">4.2&nbsp;&nbsp;</span>Гипотеза 2 (средняя выручка пользователей из Москвы отличается от выручки пользователей из других регионов)</a></span></li></ul></li><li><span><a href=\"#Общий-вывод\" data-toc-modified-id=\"Общий-вывод-5\"><span class=\"toc-item-num\">5&nbsp;&nbsp;</span>Общий вывод</a></span></li></ul></div>"
   ]
  },
  {
   "cell_type": "markdown",
   "metadata": {},
   "source": [
    "# Определение перспективного тарифа для телеком-компании\n",
    "\n",
    "Вы аналитик компании «Мегалайн» — федерального оператора сотовой связи. Клиентам предлагают два тарифных плана: «Смарт» и «Ультра». Чтобы скорректировать рекламный бюджет, коммерческий департамент хочет понять, какой тариф приносит больше денег.\n",
    "Вам предстоит сделать предварительный анализ тарифов на небольшой выборке клиентов. В вашем распоряжении данные 500 пользователей «Мегалайна»: кто они, откуда, каким тарифом пользуются, сколько звонков и сообщений каждый отправил за 2018 год. Нужно проанализировать поведение клиентов и сделать вывод — какой тариф лучше."
   ]
  },
  {
   "cell_type": "markdown",
   "metadata": {},
   "source": [
    "«Мегалайн» всегда округляет секунды до минут, а мегабайты — до гигабайт. Каждый звонок округляется отдельно: даже если он длился всего 1 секунду, будет засчитан как 1 минута.\n",
    "Для веб-трафика отдельные сессии не считаются. Вместо этого общая сумма за месяц округляется в бо́льшую сторону. Если абонент использует 1025 мегабайт в этом месяце, с него возьмут плату за 2 гигабайта. Примите, что неиспользованные за предыдущий месяц звонки, смс, интернет на следующий месяц не переносятся."
   ]
  },
  {
   "cell_type": "code",
   "execution_count": 1,
   "metadata": {},
   "outputs": [],
   "source": [
    "import pandas as pd\n"
   ]
  },
  {
   "cell_type": "markdown",
   "metadata": {},
   "source": [
    "## Предобработка данных"
   ]
  },
  {
   "cell_type": "markdown",
   "metadata": {},
   "source": [
    "Приступим к предобработке данных"
   ]
  },
  {
   "cell_type": "markdown",
   "metadata": {},
   "source": [
    "### Датасет users"
   ]
  },
  {
   "cell_type": "code",
   "execution_count": 2,
   "metadata": {},
   "outputs": [],
   "source": [
    "users = pd.read_csv('users.csv')"
   ]
  },
  {
   "cell_type": "code",
   "execution_count": 3,
   "metadata": {
    "scrolled": false
   },
   "outputs": [
    {
     "data": {
      "text/html": [
       "<div>\n",
       "<style scoped>\n",
       "    .dataframe tbody tr th:only-of-type {\n",
       "        vertical-align: middle;\n",
       "    }\n",
       "\n",
       "    .dataframe tbody tr th {\n",
       "        vertical-align: top;\n",
       "    }\n",
       "\n",
       "    .dataframe thead th {\n",
       "        text-align: right;\n",
       "    }\n",
       "</style>\n",
       "<table border=\"1\" class=\"dataframe\">\n",
       "  <thead>\n",
       "    <tr style=\"text-align: right;\">\n",
       "      <th></th>\n",
       "      <th>user_id</th>\n",
       "      <th>age</th>\n",
       "      <th>churn_date</th>\n",
       "      <th>city</th>\n",
       "      <th>first_name</th>\n",
       "      <th>last_name</th>\n",
       "      <th>reg_date</th>\n",
       "      <th>tariff</th>\n",
       "    </tr>\n",
       "  </thead>\n",
       "  <tbody>\n",
       "    <tr>\n",
       "      <th>0</th>\n",
       "      <td>1000</td>\n",
       "      <td>52</td>\n",
       "      <td>NaN</td>\n",
       "      <td>Краснодар</td>\n",
       "      <td>Рафаил</td>\n",
       "      <td>Верещагин</td>\n",
       "      <td>2018-05-25</td>\n",
       "      <td>ultra</td>\n",
       "    </tr>\n",
       "    <tr>\n",
       "      <th>1</th>\n",
       "      <td>1001</td>\n",
       "      <td>41</td>\n",
       "      <td>NaN</td>\n",
       "      <td>Москва</td>\n",
       "      <td>Иван</td>\n",
       "      <td>Ежов</td>\n",
       "      <td>2018-11-01</td>\n",
       "      <td>smart</td>\n",
       "    </tr>\n",
       "    <tr>\n",
       "      <th>2</th>\n",
       "      <td>1002</td>\n",
       "      <td>59</td>\n",
       "      <td>NaN</td>\n",
       "      <td>Стерлитамак</td>\n",
       "      <td>Евгений</td>\n",
       "      <td>Абрамович</td>\n",
       "      <td>2018-06-17</td>\n",
       "      <td>smart</td>\n",
       "    </tr>\n",
       "    <tr>\n",
       "      <th>3</th>\n",
       "      <td>1003</td>\n",
       "      <td>23</td>\n",
       "      <td>NaN</td>\n",
       "      <td>Москва</td>\n",
       "      <td>Белла</td>\n",
       "      <td>Белякова</td>\n",
       "      <td>2018-08-17</td>\n",
       "      <td>ultra</td>\n",
       "    </tr>\n",
       "    <tr>\n",
       "      <th>4</th>\n",
       "      <td>1004</td>\n",
       "      <td>68</td>\n",
       "      <td>NaN</td>\n",
       "      <td>Новокузнецк</td>\n",
       "      <td>Татьяна</td>\n",
       "      <td>Авдеенко</td>\n",
       "      <td>2018-05-14</td>\n",
       "      <td>ultra</td>\n",
       "    </tr>\n",
       "  </tbody>\n",
       "</table>\n",
       "</div>"
      ],
      "text/plain": [
       "   user_id  age churn_date         city first_name  last_name    reg_date  \\\n",
       "0     1000   52        NaN    Краснодар     Рафаил  Верещагин  2018-05-25   \n",
       "1     1001   41        NaN       Москва       Иван       Ежов  2018-11-01   \n",
       "2     1002   59        NaN  Стерлитамак    Евгений  Абрамович  2018-06-17   \n",
       "3     1003   23        NaN       Москва      Белла   Белякова  2018-08-17   \n",
       "4     1004   68        NaN  Новокузнецк    Татьяна   Авдеенко  2018-05-14   \n",
       "\n",
       "  tariff  \n",
       "0  ultra  \n",
       "1  smart  \n",
       "2  smart  \n",
       "3  ultra  \n",
       "4  ultra  "
      ]
     },
     "metadata": {},
     "output_type": "display_data"
    },
    {
     "name": "stdout",
     "output_type": "stream",
     "text": [
      "<class 'pandas.core.frame.DataFrame'>\n",
      "RangeIndex: 500 entries, 0 to 499\n",
      "Data columns (total 8 columns):\n",
      " #   Column      Non-Null Count  Dtype \n",
      "---  ------      --------------  ----- \n",
      " 0   user_id     500 non-null    int64 \n",
      " 1   age         500 non-null    int64 \n",
      " 2   churn_date  38 non-null     object\n",
      " 3   city        500 non-null    object\n",
      " 4   first_name  500 non-null    object\n",
      " 5   last_name   500 non-null    object\n",
      " 6   reg_date    500 non-null    object\n",
      " 7   tariff      500 non-null    object\n",
      "dtypes: int64(2), object(6)\n",
      "memory usage: 31.4+ KB\n"
     ]
    }
   ],
   "source": [
    "display(users.head())\n",
    "users.info()"
   ]
  },
  {
   "cell_type": "markdown",
   "metadata": {},
   "source": [
    "Столбец churn_date отображает дату прекращения пользования тарифом (если значение пропущено, то тариф ещё действовал на момент выгрузки данных). Заполнять `Nan`значения пока не будем, вернемся к ним, если это понадобится в процессе исследования."
   ]
  },
  {
   "cell_type": "markdown",
   "metadata": {},
   "source": [
    "Приведем столбец `reg_date` к формату `datetime`"
   ]
  },
  {
   "cell_type": "code",
   "execution_count": 4,
   "metadata": {},
   "outputs": [
    {
     "data": {
      "text/plain": [
       "array([nan, '2018-10-05', '2018-12-18', '2018-11-21', '2018-10-03',\n",
       "       '2018-10-14', '2018-12-09', '2018-12-11', '2018-12-26',\n",
       "       '2018-08-31', '2018-12-03', '2018-12-23', '2018-11-07',\n",
       "       '2018-12-16', '2018-12-20', '2018-11-30', '2018-12-21',\n",
       "       '2018-08-17', '2018-09-02', '2018-10-04', '2018-11-13',\n",
       "       '2018-11-22', '2018-10-28', '2018-11-26', '2018-11-27',\n",
       "       '2018-11-16', '2018-10-27', '2018-12-30', '2018-09-27',\n",
       "       '2018-12-25', '2018-12-14', '2018-12-24', '2018-09-26',\n",
       "       '2018-10-25'], dtype=object)"
      ]
     },
     "execution_count": 4,
     "metadata": {},
     "output_type": "execute_result"
    }
   ],
   "source": [
    "users['churn_date'].unique()"
   ]
  },
  {
   "cell_type": "code",
   "execution_count": 5,
   "metadata": {},
   "outputs": [],
   "source": [
    "users['reg_date']= pd.to_datetime(users['reg_date'], format='%Y.%m.%d')"
   ]
  },
  {
   "cell_type": "code",
   "execution_count": 6,
   "metadata": {
    "scrolled": true
   },
   "outputs": [
    {
     "name": "stdout",
     "output_type": "stream",
     "text": [
      "<class 'pandas.core.frame.DataFrame'>\n",
      "RangeIndex: 500 entries, 0 to 499\n",
      "Data columns (total 8 columns):\n",
      " #   Column      Non-Null Count  Dtype         \n",
      "---  ------      --------------  -----         \n",
      " 0   user_id     500 non-null    int64         \n",
      " 1   age         500 non-null    int64         \n",
      " 2   churn_date  38 non-null     object        \n",
      " 3   city        500 non-null    object        \n",
      " 4   first_name  500 non-null    object        \n",
      " 5   last_name   500 non-null    object        \n",
      " 6   reg_date    500 non-null    datetime64[ns]\n",
      " 7   tariff      500 non-null    object        \n",
      "dtypes: datetime64[ns](1), int64(2), object(5)\n",
      "memory usage: 31.4+ KB\n"
     ]
    }
   ],
   "source": [
    "users.info()"
   ]
  },
  {
   "cell_type": "markdown",
   "metadata": {},
   "source": [
    "Проверим датафрейм на наличие дубликатов"
   ]
  },
  {
   "cell_type": "code",
   "execution_count": 7,
   "metadata": {},
   "outputs": [
    {
     "data": {
      "text/plain": [
       "0"
      ]
     },
     "execution_count": 7,
     "metadata": {},
     "output_type": "execute_result"
    }
   ],
   "source": [
    "users.duplicated().sum()"
   ]
  },
  {
   "cell_type": "markdown",
   "metadata": {},
   "source": [
    "Дубликатов нет, идем дальше"
   ]
  },
  {
   "cell_type": "markdown",
   "metadata": {},
   "source": [
    "Проверим значения в столбце `age` на наличие аномальных значений возраста"
   ]
  },
  {
   "cell_type": "code",
   "execution_count": 8,
   "metadata": {},
   "outputs": [
    {
     "data": {
      "text/plain": [
       "count    500.00000\n",
       "mean      46.58800\n",
       "std       16.66763\n",
       "min       18.00000\n",
       "25%       32.00000\n",
       "50%       46.00000\n",
       "75%       62.00000\n",
       "max       75.00000\n",
       "Name: age, dtype: float64"
      ]
     },
     "execution_count": 8,
     "metadata": {},
     "output_type": "execute_result"
    }
   ],
   "source": [
    "users['age'].describe()"
   ]
  },
  {
   "cell_type": "markdown",
   "metadata": {},
   "source": [
    "Аномалий не выявлено"
   ]
  },
  {
   "cell_type": "markdown",
   "metadata": {},
   "source": [
    "Поверим столбец `city` на наличие неявных дубликатов"
   ]
  },
  {
   "cell_type": "code",
   "execution_count": 9,
   "metadata": {},
   "outputs": [
    {
     "data": {
      "text/plain": [
       "array(['Краснодар', 'Москва', 'Стерлитамак', 'Новокузнецк',\n",
       "       'Набережные Челны', 'Ульяновск', 'Челябинск', 'Пермь', 'Тюмень',\n",
       "       'Самара', 'Санкт-Петербург', 'Иваново', 'Чебоксары', 'Омск', 'Уфа',\n",
       "       'Томск', 'Чита', 'Мурманск', 'Петрозаводск', 'Тверь',\n",
       "       'Екатеринбург', 'Махачкала', 'Вологда', 'Череповец', 'Ярославль',\n",
       "       'Сочи', 'Хабаровск', 'Ставрополь', 'Рязань', 'Улан-Удэ', 'Тула',\n",
       "       'Саратов', 'Ростов-на-Дону', 'Казань', 'Иркутск', 'Курск',\n",
       "       'Калуга', 'Якутск', 'Астрахань', 'Химки', 'Владикавказ',\n",
       "       'Волгоград', 'Саранск', 'Ижевск', 'Новосибирск', 'Брянск',\n",
       "       'Тольятти', 'Нижний Тагил', 'Орёл', 'Белгород', 'Воронеж',\n",
       "       'Волжский', 'Курган', 'Барнаул', 'Красноярск', 'Архангельск',\n",
       "       'Липецк', 'Кемерово', 'Киров', 'Сургут', 'Пенза', 'Магнитогорск',\n",
       "       'Нижний Новгород', 'Кострома', 'Владивосток', 'Тамбов', 'Балашиха',\n",
       "       'Севастополь', 'Калининград', 'Оренбург', 'Смоленск',\n",
       "       'Нижневартовск', 'Владимир', 'Новороссийск', 'Грозный', 'Подольск'],\n",
       "      dtype=object)"
      ]
     },
     "execution_count": 9,
     "metadata": {},
     "output_type": "execute_result"
    }
   ],
   "source": [
    "users['city'].unique()"
   ]
  },
  {
   "cell_type": "markdown",
   "metadata": {},
   "source": [
    "Дубликатов нет, идем дальше"
   ]
  },
  {
   "cell_type": "code",
   "execution_count": 10,
   "metadata": {},
   "outputs": [
    {
     "data": {
      "text/plain": [
       "0"
      ]
     },
     "execution_count": 10,
     "metadata": {},
     "output_type": "execute_result"
    }
   ],
   "source": [
    "users.duplicated().sum()"
   ]
  },
  {
   "cell_type": "markdown",
   "metadata": {},
   "source": [
    "Дубликатов нет, идем дальше"
   ]
  },
  {
   "cell_type": "markdown",
   "metadata": {},
   "source": [
    "Поверим столбец `tariff` на наличие неявных дубликатов"
   ]
  },
  {
   "cell_type": "code",
   "execution_count": 11,
   "metadata": {},
   "outputs": [
    {
     "data": {
      "text/plain": [
       "smart    351\n",
       "ultra    149\n",
       "Name: tariff, dtype: int64"
      ]
     },
     "execution_count": 11,
     "metadata": {},
     "output_type": "execute_result"
    }
   ],
   "source": [
    "users['tariff'].value_counts()"
   ]
  },
  {
   "cell_type": "markdown",
   "metadata": {},
   "source": [
    "Дубликатов нет, идем дальше"
   ]
  },
  {
   "cell_type": "markdown",
   "metadata": {},
   "source": [
    "Проверим столбец `user_id` на наличие дубликатов"
   ]
  },
  {
   "cell_type": "code",
   "execution_count": 12,
   "metadata": {},
   "outputs": [
    {
     "data": {
      "text/plain": [
       "500"
      ]
     },
     "execution_count": 12,
     "metadata": {},
     "output_type": "execute_result"
    }
   ],
   "source": [
    "users['user_id'].nunique()"
   ]
  },
  {
   "cell_type": "markdown",
   "metadata": {},
   "source": [
    "ДУбликатов нет"
   ]
  },
  {
   "cell_type": "markdown",
   "metadata": {},
   "source": [
    "### Датасет tariffs"
   ]
  },
  {
   "cell_type": "code",
   "execution_count": 13,
   "metadata": {},
   "outputs": [],
   "source": [
    "tariffs = pd.read_csv('tariffs.csv')"
   ]
  },
  {
   "cell_type": "code",
   "execution_count": 14,
   "metadata": {
    "scrolled": false
   },
   "outputs": [
    {
     "data": {
      "text/html": [
       "<div>\n",
       "<style scoped>\n",
       "    .dataframe tbody tr th:only-of-type {\n",
       "        vertical-align: middle;\n",
       "    }\n",
       "\n",
       "    .dataframe tbody tr th {\n",
       "        vertical-align: top;\n",
       "    }\n",
       "\n",
       "    .dataframe thead th {\n",
       "        text-align: right;\n",
       "    }\n",
       "</style>\n",
       "<table border=\"1\" class=\"dataframe\">\n",
       "  <thead>\n",
       "    <tr style=\"text-align: right;\">\n",
       "      <th></th>\n",
       "      <th>messages_included</th>\n",
       "      <th>mb_per_month_included</th>\n",
       "      <th>minutes_included</th>\n",
       "      <th>rub_monthly_fee</th>\n",
       "      <th>rub_per_gb</th>\n",
       "      <th>rub_per_message</th>\n",
       "      <th>rub_per_minute</th>\n",
       "      <th>tariff_name</th>\n",
       "    </tr>\n",
       "  </thead>\n",
       "  <tbody>\n",
       "    <tr>\n",
       "      <th>0</th>\n",
       "      <td>50</td>\n",
       "      <td>15360</td>\n",
       "      <td>500</td>\n",
       "      <td>550</td>\n",
       "      <td>200</td>\n",
       "      <td>3</td>\n",
       "      <td>3</td>\n",
       "      <td>smart</td>\n",
       "    </tr>\n",
       "    <tr>\n",
       "      <th>1</th>\n",
       "      <td>1000</td>\n",
       "      <td>30720</td>\n",
       "      <td>3000</td>\n",
       "      <td>1950</td>\n",
       "      <td>150</td>\n",
       "      <td>1</td>\n",
       "      <td>1</td>\n",
       "      <td>ultra</td>\n",
       "    </tr>\n",
       "  </tbody>\n",
       "</table>\n",
       "</div>"
      ],
      "text/plain": [
       "   messages_included  mb_per_month_included  minutes_included  \\\n",
       "0                 50                  15360               500   \n",
       "1               1000                  30720              3000   \n",
       "\n",
       "   rub_monthly_fee  rub_per_gb  rub_per_message  rub_per_minute tariff_name  \n",
       "0              550         200                3               3       smart  \n",
       "1             1950         150                1               1       ultra  "
      ]
     },
     "metadata": {},
     "output_type": "display_data"
    },
    {
     "name": "stdout",
     "output_type": "stream",
     "text": [
      "<class 'pandas.core.frame.DataFrame'>\n",
      "RangeIndex: 2 entries, 0 to 1\n",
      "Data columns (total 8 columns):\n",
      " #   Column                 Non-Null Count  Dtype \n",
      "---  ------                 --------------  ----- \n",
      " 0   messages_included      2 non-null      int64 \n",
      " 1   mb_per_month_included  2 non-null      int64 \n",
      " 2   minutes_included       2 non-null      int64 \n",
      " 3   rub_monthly_fee        2 non-null      int64 \n",
      " 4   rub_per_gb             2 non-null      int64 \n",
      " 5   rub_per_message        2 non-null      int64 \n",
      " 6   rub_per_minute         2 non-null      int64 \n",
      " 7   tariff_name            2 non-null      object\n",
      "dtypes: int64(7), object(1)\n",
      "memory usage: 256.0+ bytes\n"
     ]
    }
   ],
   "source": [
    "display(tariffs.head())\n",
    "tariffs.info()"
   ]
  },
  {
   "cell_type": "markdown",
   "metadata": {},
   "source": [
    "С датасетом все в порядке, идем дальше"
   ]
  },
  {
   "cell_type": "markdown",
   "metadata": {},
   "source": [
    "### Датасет calls"
   ]
  },
  {
   "cell_type": "code",
   "execution_count": 15,
   "metadata": {},
   "outputs": [],
   "source": [
    "calls = pd.read_csv('calls.csv')"
   ]
  },
  {
   "cell_type": "code",
   "execution_count": 16,
   "metadata": {},
   "outputs": [
    {
     "data": {
      "text/html": [
       "<div>\n",
       "<style scoped>\n",
       "    .dataframe tbody tr th:only-of-type {\n",
       "        vertical-align: middle;\n",
       "    }\n",
       "\n",
       "    .dataframe tbody tr th {\n",
       "        vertical-align: top;\n",
       "    }\n",
       "\n",
       "    .dataframe thead th {\n",
       "        text-align: right;\n",
       "    }\n",
       "</style>\n",
       "<table border=\"1\" class=\"dataframe\">\n",
       "  <thead>\n",
       "    <tr style=\"text-align: right;\">\n",
       "      <th></th>\n",
       "      <th>id</th>\n",
       "      <th>call_date</th>\n",
       "      <th>duration</th>\n",
       "      <th>user_id</th>\n",
       "    </tr>\n",
       "  </thead>\n",
       "  <tbody>\n",
       "    <tr>\n",
       "      <th>0</th>\n",
       "      <td>1000_0</td>\n",
       "      <td>2018-07-25</td>\n",
       "      <td>0.00</td>\n",
       "      <td>1000</td>\n",
       "    </tr>\n",
       "    <tr>\n",
       "      <th>1</th>\n",
       "      <td>1000_1</td>\n",
       "      <td>2018-08-17</td>\n",
       "      <td>0.00</td>\n",
       "      <td>1000</td>\n",
       "    </tr>\n",
       "    <tr>\n",
       "      <th>2</th>\n",
       "      <td>1000_2</td>\n",
       "      <td>2018-06-11</td>\n",
       "      <td>2.85</td>\n",
       "      <td>1000</td>\n",
       "    </tr>\n",
       "    <tr>\n",
       "      <th>3</th>\n",
       "      <td>1000_3</td>\n",
       "      <td>2018-09-21</td>\n",
       "      <td>13.80</td>\n",
       "      <td>1000</td>\n",
       "    </tr>\n",
       "    <tr>\n",
       "      <th>4</th>\n",
       "      <td>1000_4</td>\n",
       "      <td>2018-12-15</td>\n",
       "      <td>5.18</td>\n",
       "      <td>1000</td>\n",
       "    </tr>\n",
       "  </tbody>\n",
       "</table>\n",
       "</div>"
      ],
      "text/plain": [
       "       id   call_date  duration  user_id\n",
       "0  1000_0  2018-07-25      0.00     1000\n",
       "1  1000_1  2018-08-17      0.00     1000\n",
       "2  1000_2  2018-06-11      2.85     1000\n",
       "3  1000_3  2018-09-21     13.80     1000\n",
       "4  1000_4  2018-12-15      5.18     1000"
      ]
     },
     "metadata": {},
     "output_type": "display_data"
    },
    {
     "name": "stdout",
     "output_type": "stream",
     "text": [
      "<class 'pandas.core.frame.DataFrame'>\n",
      "RangeIndex: 202607 entries, 0 to 202606\n",
      "Data columns (total 4 columns):\n",
      " #   Column     Non-Null Count   Dtype  \n",
      "---  ------     --------------   -----  \n",
      " 0   id         202607 non-null  object \n",
      " 1   call_date  202607 non-null  object \n",
      " 2   duration   202607 non-null  float64\n",
      " 3   user_id    202607 non-null  int64  \n",
      "dtypes: float64(1), int64(1), object(2)\n",
      "memory usage: 6.2+ MB\n"
     ]
    }
   ],
   "source": [
    "display(calls.head())\n",
    "calls.info()"
   ]
  },
  {
   "cell_type": "markdown",
   "metadata": {},
   "source": [
    "Проверим количество пользователей по солбцу `user_id`"
   ]
  },
  {
   "cell_type": "code",
   "execution_count": 17,
   "metadata": {},
   "outputs": [
    {
     "data": {
      "text/plain": [
       "492"
      ]
     },
     "execution_count": 17,
     "metadata": {},
     "output_type": "execute_result"
    }
   ],
   "source": [
    "calls['user_id'].nunique()"
   ]
  },
  {
   "cell_type": "markdown",
   "metadata": {},
   "source": [
    "Пользователей, производивших звонки меньше общего количества пользователей, похоже не все используют симкарты оператора для звонков, кому-то, возможно, достаточно только интернета и сообщений."
   ]
  },
  {
   "cell_type": "markdown",
   "metadata": {},
   "source": [
    "Проверим датафрейм на наличие дубликатов"
   ]
  },
  {
   "cell_type": "code",
   "execution_count": 18,
   "metadata": {
    "scrolled": false
   },
   "outputs": [
    {
     "data": {
      "text/plain": [
       "0"
      ]
     },
     "execution_count": 18,
     "metadata": {},
     "output_type": "execute_result"
    }
   ],
   "source": [
    "calls.duplicated().sum()"
   ]
  },
  {
   "cell_type": "markdown",
   "metadata": {},
   "source": [
    "Дубликато в нет"
   ]
  },
  {
   "cell_type": "markdown",
   "metadata": {},
   "source": [
    "Приведем столбец `call_date` к формату `datetime`"
   ]
  },
  {
   "cell_type": "code",
   "execution_count": 19,
   "metadata": {},
   "outputs": [],
   "source": [
    "calls['call_date']= pd.to_datetime(calls['call_date'], format='%Y.%m.%d')"
   ]
  },
  {
   "cell_type": "code",
   "execution_count": 20,
   "metadata": {},
   "outputs": [
    {
     "name": "stdout",
     "output_type": "stream",
     "text": [
      "<class 'pandas.core.frame.DataFrame'>\n",
      "RangeIndex: 202607 entries, 0 to 202606\n",
      "Data columns (total 4 columns):\n",
      " #   Column     Non-Null Count   Dtype         \n",
      "---  ------     --------------   -----         \n",
      " 0   id         202607 non-null  object        \n",
      " 1   call_date  202607 non-null  datetime64[ns]\n",
      " 2   duration   202607 non-null  float64       \n",
      " 3   user_id    202607 non-null  int64         \n",
      "dtypes: datetime64[ns](1), float64(1), int64(1), object(1)\n",
      "memory usage: 6.2+ MB\n"
     ]
    }
   ],
   "source": [
    "calls.info()"
   ]
  },
  {
   "cell_type": "markdown",
   "metadata": {},
   "source": [
    "### Датасет internet"
   ]
  },
  {
   "cell_type": "code",
   "execution_count": 21,
   "metadata": {},
   "outputs": [],
   "source": [
    "internet = pd.read_csv('internet.csv')"
   ]
  },
  {
   "cell_type": "code",
   "execution_count": 22,
   "metadata": {},
   "outputs": [
    {
     "data": {
      "text/html": [
       "<div>\n",
       "<style scoped>\n",
       "    .dataframe tbody tr th:only-of-type {\n",
       "        vertical-align: middle;\n",
       "    }\n",
       "\n",
       "    .dataframe tbody tr th {\n",
       "        vertical-align: top;\n",
       "    }\n",
       "\n",
       "    .dataframe thead th {\n",
       "        text-align: right;\n",
       "    }\n",
       "</style>\n",
       "<table border=\"1\" class=\"dataframe\">\n",
       "  <thead>\n",
       "    <tr style=\"text-align: right;\">\n",
       "      <th></th>\n",
       "      <th>Unnamed: 0</th>\n",
       "      <th>id</th>\n",
       "      <th>mb_used</th>\n",
       "      <th>session_date</th>\n",
       "      <th>user_id</th>\n",
       "    </tr>\n",
       "  </thead>\n",
       "  <tbody>\n",
       "    <tr>\n",
       "      <th>0</th>\n",
       "      <td>0</td>\n",
       "      <td>1000_0</td>\n",
       "      <td>112.95</td>\n",
       "      <td>2018-11-25</td>\n",
       "      <td>1000</td>\n",
       "    </tr>\n",
       "    <tr>\n",
       "      <th>1</th>\n",
       "      <td>1</td>\n",
       "      <td>1000_1</td>\n",
       "      <td>1052.81</td>\n",
       "      <td>2018-09-07</td>\n",
       "      <td>1000</td>\n",
       "    </tr>\n",
       "    <tr>\n",
       "      <th>2</th>\n",
       "      <td>2</td>\n",
       "      <td>1000_2</td>\n",
       "      <td>1197.26</td>\n",
       "      <td>2018-06-25</td>\n",
       "      <td>1000</td>\n",
       "    </tr>\n",
       "    <tr>\n",
       "      <th>3</th>\n",
       "      <td>3</td>\n",
       "      <td>1000_3</td>\n",
       "      <td>550.27</td>\n",
       "      <td>2018-08-22</td>\n",
       "      <td>1000</td>\n",
       "    </tr>\n",
       "    <tr>\n",
       "      <th>4</th>\n",
       "      <td>4</td>\n",
       "      <td>1000_4</td>\n",
       "      <td>302.56</td>\n",
       "      <td>2018-09-24</td>\n",
       "      <td>1000</td>\n",
       "    </tr>\n",
       "  </tbody>\n",
       "</table>\n",
       "</div>"
      ],
      "text/plain": [
       "   Unnamed: 0      id  mb_used session_date  user_id\n",
       "0           0  1000_0   112.95   2018-11-25     1000\n",
       "1           1  1000_1  1052.81   2018-09-07     1000\n",
       "2           2  1000_2  1197.26   2018-06-25     1000\n",
       "3           3  1000_3   550.27   2018-08-22     1000\n",
       "4           4  1000_4   302.56   2018-09-24     1000"
      ]
     },
     "metadata": {},
     "output_type": "display_data"
    },
    {
     "name": "stdout",
     "output_type": "stream",
     "text": [
      "<class 'pandas.core.frame.DataFrame'>\n",
      "RangeIndex: 149396 entries, 0 to 149395\n",
      "Data columns (total 5 columns):\n",
      " #   Column        Non-Null Count   Dtype  \n",
      "---  ------        --------------   -----  \n",
      " 0   Unnamed: 0    149396 non-null  int64  \n",
      " 1   id            149396 non-null  object \n",
      " 2   mb_used       149396 non-null  float64\n",
      " 3   session_date  149396 non-null  object \n",
      " 4   user_id       149396 non-null  int64  \n",
      "dtypes: float64(1), int64(2), object(2)\n",
      "memory usage: 5.7+ MB\n"
     ]
    }
   ],
   "source": [
    "display(internet.head())\n",
    "internet.info()"
   ]
  },
  {
   "cell_type": "markdown",
   "metadata": {},
   "source": [
    "Проверим датафрейм на наличие дубликатов"
   ]
  },
  {
   "cell_type": "code",
   "execution_count": 23,
   "metadata": {},
   "outputs": [
    {
     "data": {
      "text/plain": [
       "0"
      ]
     },
     "execution_count": 23,
     "metadata": {},
     "output_type": "execute_result"
    }
   ],
   "source": [
    "internet.duplicated().sum()"
   ]
  },
  {
   "cell_type": "markdown",
   "metadata": {},
   "source": [
    "Дубликато в нет"
   ]
  },
  {
   "cell_type": "markdown",
   "metadata": {},
   "source": [
    "Проверим количество пользователей по солбцу `user_id`"
   ]
  },
  {
   "cell_type": "code",
   "execution_count": 24,
   "metadata": {},
   "outputs": [
    {
     "data": {
      "text/plain": [
       "497"
      ]
     },
     "execution_count": 24,
     "metadata": {},
     "output_type": "execute_result"
    }
   ],
   "source": [
    "internet['user_id'].nunique()"
   ]
  },
  {
   "cell_type": "markdown",
   "metadata": {},
   "source": [
    "Пользователей, пользовавшихся интернетом меньше общего количества пользователей, похоже не все пользуются интернетом оператора."
   ]
  },
  {
   "cell_type": "markdown",
   "metadata": {},
   "source": [
    "В датафрейме есть лишний столбец, скорей всего, при выгрузке данных произошла ошибка и продублировался столбец индексов. Удалим его."
   ]
  },
  {
   "cell_type": "code",
   "execution_count": 25,
   "metadata": {},
   "outputs": [
    {
     "name": "stdout",
     "output_type": "stream",
     "text": [
      "<class 'pandas.core.frame.DataFrame'>\n",
      "RangeIndex: 149396 entries, 0 to 149395\n",
      "Data columns (total 4 columns):\n",
      " #   Column        Non-Null Count   Dtype  \n",
      "---  ------        --------------   -----  \n",
      " 0   id            149396 non-null  object \n",
      " 1   mb_used       149396 non-null  float64\n",
      " 2   session_date  149396 non-null  object \n",
      " 3   user_id       149396 non-null  int64  \n",
      "dtypes: float64(1), int64(1), object(2)\n",
      "memory usage: 4.6+ MB\n"
     ]
    }
   ],
   "source": [
    "internet=internet.drop(columns = ['Unnamed: 0'],axis = 1)\n",
    "internet.info()"
   ]
  },
  {
   "cell_type": "markdown",
   "metadata": {},
   "source": [
    "Приведем столбец `session_date` к формату `datetime`"
   ]
  },
  {
   "cell_type": "code",
   "execution_count": 26,
   "metadata": {},
   "outputs": [],
   "source": [
    "internet['session_date']= pd.to_datetime(internet['session_date'], format='%Y.%m.%d')"
   ]
  },
  {
   "cell_type": "code",
   "execution_count": 27,
   "metadata": {
    "scrolled": true
   },
   "outputs": [
    {
     "name": "stdout",
     "output_type": "stream",
     "text": [
      "<class 'pandas.core.frame.DataFrame'>\n",
      "RangeIndex: 149396 entries, 0 to 149395\n",
      "Data columns (total 4 columns):\n",
      " #   Column        Non-Null Count   Dtype         \n",
      "---  ------        --------------   -----         \n",
      " 0   id            149396 non-null  object        \n",
      " 1   mb_used       149396 non-null  float64       \n",
      " 2   session_date  149396 non-null  datetime64[ns]\n",
      " 3   user_id       149396 non-null  int64         \n",
      "dtypes: datetime64[ns](1), float64(1), int64(1), object(1)\n",
      "memory usage: 4.6+ MB\n"
     ]
    }
   ],
   "source": [
    "internet.info()"
   ]
  },
  {
   "cell_type": "markdown",
   "metadata": {},
   "source": [
    "### Датасет messages"
   ]
  },
  {
   "cell_type": "code",
   "execution_count": 28,
   "metadata": {},
   "outputs": [],
   "source": [
    "messages = pd.read_csv('messages.csv')"
   ]
  },
  {
   "cell_type": "code",
   "execution_count": 29,
   "metadata": {},
   "outputs": [
    {
     "data": {
      "text/html": [
       "<div>\n",
       "<style scoped>\n",
       "    .dataframe tbody tr th:only-of-type {\n",
       "        vertical-align: middle;\n",
       "    }\n",
       "\n",
       "    .dataframe tbody tr th {\n",
       "        vertical-align: top;\n",
       "    }\n",
       "\n",
       "    .dataframe thead th {\n",
       "        text-align: right;\n",
       "    }\n",
       "</style>\n",
       "<table border=\"1\" class=\"dataframe\">\n",
       "  <thead>\n",
       "    <tr style=\"text-align: right;\">\n",
       "      <th></th>\n",
       "      <th>id</th>\n",
       "      <th>message_date</th>\n",
       "      <th>user_id</th>\n",
       "    </tr>\n",
       "  </thead>\n",
       "  <tbody>\n",
       "    <tr>\n",
       "      <th>0</th>\n",
       "      <td>1000_0</td>\n",
       "      <td>2018-06-27</td>\n",
       "      <td>1000</td>\n",
       "    </tr>\n",
       "    <tr>\n",
       "      <th>1</th>\n",
       "      <td>1000_1</td>\n",
       "      <td>2018-10-08</td>\n",
       "      <td>1000</td>\n",
       "    </tr>\n",
       "    <tr>\n",
       "      <th>2</th>\n",
       "      <td>1000_2</td>\n",
       "      <td>2018-08-04</td>\n",
       "      <td>1000</td>\n",
       "    </tr>\n",
       "    <tr>\n",
       "      <th>3</th>\n",
       "      <td>1000_3</td>\n",
       "      <td>2018-06-16</td>\n",
       "      <td>1000</td>\n",
       "    </tr>\n",
       "    <tr>\n",
       "      <th>4</th>\n",
       "      <td>1000_4</td>\n",
       "      <td>2018-12-05</td>\n",
       "      <td>1000</td>\n",
       "    </tr>\n",
       "  </tbody>\n",
       "</table>\n",
       "</div>"
      ],
      "text/plain": [
       "       id message_date  user_id\n",
       "0  1000_0   2018-06-27     1000\n",
       "1  1000_1   2018-10-08     1000\n",
       "2  1000_2   2018-08-04     1000\n",
       "3  1000_3   2018-06-16     1000\n",
       "4  1000_4   2018-12-05     1000"
      ]
     },
     "metadata": {},
     "output_type": "display_data"
    },
    {
     "name": "stdout",
     "output_type": "stream",
     "text": [
      "<class 'pandas.core.frame.DataFrame'>\n",
      "RangeIndex: 123036 entries, 0 to 123035\n",
      "Data columns (total 3 columns):\n",
      " #   Column        Non-Null Count   Dtype \n",
      "---  ------        --------------   ----- \n",
      " 0   id            123036 non-null  object\n",
      " 1   message_date  123036 non-null  object\n",
      " 2   user_id       123036 non-null  int64 \n",
      "dtypes: int64(1), object(2)\n",
      "memory usage: 2.8+ MB\n"
     ]
    }
   ],
   "source": [
    "display(messages.head())\n",
    "messages.info()"
   ]
  },
  {
   "cell_type": "markdown",
   "metadata": {},
   "source": [
    "Проверим датафрейм на наличие дубликатов"
   ]
  },
  {
   "cell_type": "code",
   "execution_count": 30,
   "metadata": {},
   "outputs": [
    {
     "data": {
      "text/plain": [
       "0"
      ]
     },
     "execution_count": 30,
     "metadata": {},
     "output_type": "execute_result"
    }
   ],
   "source": [
    "messages.duplicated().sum()"
   ]
  },
  {
   "cell_type": "markdown",
   "metadata": {},
   "source": [
    "Дубликато в нет"
   ]
  },
  {
   "cell_type": "markdown",
   "metadata": {},
   "source": [
    "Проверим количество пользователей по солбцу `user_id`"
   ]
  },
  {
   "cell_type": "code",
   "execution_count": 31,
   "metadata": {},
   "outputs": [
    {
     "data": {
      "text/plain": [
       "426"
      ]
     },
     "execution_count": 31,
     "metadata": {},
     "output_type": "execute_result"
    }
   ],
   "source": [
    "messages['user_id'].nunique()"
   ]
  },
  {
   "cell_type": "markdown",
   "metadata": {},
   "source": [
    "Пользователей, пользовавшихся сообщениями меньше общего количества пользователей, похоже не все пользуются СМС."
   ]
  },
  {
   "cell_type": "markdown",
   "metadata": {},
   "source": [
    "Приведем столбец `message_date` к формату `datetime`"
   ]
  },
  {
   "cell_type": "code",
   "execution_count": 32,
   "metadata": {
    "scrolled": true
   },
   "outputs": [
    {
     "name": "stdout",
     "output_type": "stream",
     "text": [
      "<class 'pandas.core.frame.DataFrame'>\n",
      "RangeIndex: 123036 entries, 0 to 123035\n",
      "Data columns (total 3 columns):\n",
      " #   Column        Non-Null Count   Dtype         \n",
      "---  ------        --------------   -----         \n",
      " 0   id            123036 non-null  object        \n",
      " 1   message_date  123036 non-null  datetime64[ns]\n",
      " 2   user_id       123036 non-null  int64         \n",
      "dtypes: datetime64[ns](1), int64(1), object(1)\n",
      "memory usage: 2.8+ MB\n"
     ]
    }
   ],
   "source": [
    "messages['message_date']= pd.to_datetime(messages['message_date'], format='%Y.%m.%d')\n",
    "messages.info()"
   ]
  },
  {
   "cell_type": "markdown",
   "metadata": {},
   "source": [
    "## Дополнительные расчеты для каждого пользователя"
   ]
  },
  {
   "cell_type": "markdown",
   "metadata": {},
   "source": [
    "### Количество сделанных звонков и израсходованных минут разговора по месяцам"
   ]
  },
  {
   "cell_type": "markdown",
   "metadata": {},
   "source": [
    "**Приступим к рассчету звонков по месяцам**"
   ]
  },
  {
   "cell_type": "code",
   "execution_count": 33,
   "metadata": {},
   "outputs": [
    {
     "data": {
      "text/html": [
       "<div>\n",
       "<style scoped>\n",
       "    .dataframe tbody tr th:only-of-type {\n",
       "        vertical-align: middle;\n",
       "    }\n",
       "\n",
       "    .dataframe tbody tr th {\n",
       "        vertical-align: top;\n",
       "    }\n",
       "\n",
       "    .dataframe thead th {\n",
       "        text-align: right;\n",
       "    }\n",
       "</style>\n",
       "<table border=\"1\" class=\"dataframe\">\n",
       "  <thead>\n",
       "    <tr style=\"text-align: right;\">\n",
       "      <th></th>\n",
       "      <th>id</th>\n",
       "      <th>call_date</th>\n",
       "      <th>duration</th>\n",
       "      <th>user_id</th>\n",
       "    </tr>\n",
       "  </thead>\n",
       "  <tbody>\n",
       "    <tr>\n",
       "      <th>0</th>\n",
       "      <td>1000_0</td>\n",
       "      <td>2018-07-25</td>\n",
       "      <td>0.00</td>\n",
       "      <td>1000</td>\n",
       "    </tr>\n",
       "    <tr>\n",
       "      <th>1</th>\n",
       "      <td>1000_1</td>\n",
       "      <td>2018-08-17</td>\n",
       "      <td>0.00</td>\n",
       "      <td>1000</td>\n",
       "    </tr>\n",
       "    <tr>\n",
       "      <th>2</th>\n",
       "      <td>1000_2</td>\n",
       "      <td>2018-06-11</td>\n",
       "      <td>2.85</td>\n",
       "      <td>1000</td>\n",
       "    </tr>\n",
       "    <tr>\n",
       "      <th>3</th>\n",
       "      <td>1000_3</td>\n",
       "      <td>2018-09-21</td>\n",
       "      <td>13.80</td>\n",
       "      <td>1000</td>\n",
       "    </tr>\n",
       "    <tr>\n",
       "      <th>4</th>\n",
       "      <td>1000_4</td>\n",
       "      <td>2018-12-15</td>\n",
       "      <td>5.18</td>\n",
       "      <td>1000</td>\n",
       "    </tr>\n",
       "  </tbody>\n",
       "</table>\n",
       "</div>"
      ],
      "text/plain": [
       "       id  call_date  duration  user_id\n",
       "0  1000_0 2018-07-25      0.00     1000\n",
       "1  1000_1 2018-08-17      0.00     1000\n",
       "2  1000_2 2018-06-11      2.85     1000\n",
       "3  1000_3 2018-09-21     13.80     1000\n",
       "4  1000_4 2018-12-15      5.18     1000"
      ]
     },
     "execution_count": 33,
     "metadata": {},
     "output_type": "execute_result"
    }
   ],
   "source": [
    "calls.head()"
   ]
  },
  {
   "cell_type": "code",
   "execution_count": 34,
   "metadata": {},
   "outputs": [],
   "source": [
    "calls['month']=pd.DatetimeIndex(calls['call_date']).month "
   ]
  },
  {
   "cell_type": "code",
   "execution_count": 35,
   "metadata": {
    "scrolled": true
   },
   "outputs": [
    {
     "data": {
      "text/html": [
       "<div>\n",
       "<style scoped>\n",
       "    .dataframe tbody tr th:only-of-type {\n",
       "        vertical-align: middle;\n",
       "    }\n",
       "\n",
       "    .dataframe tbody tr th {\n",
       "        vertical-align: top;\n",
       "    }\n",
       "\n",
       "    .dataframe thead th {\n",
       "        text-align: right;\n",
       "    }\n",
       "</style>\n",
       "<table border=\"1\" class=\"dataframe\">\n",
       "  <thead>\n",
       "    <tr style=\"text-align: right;\">\n",
       "      <th></th>\n",
       "      <th>id</th>\n",
       "      <th>call_date</th>\n",
       "      <th>duration</th>\n",
       "      <th>user_id</th>\n",
       "      <th>month</th>\n",
       "    </tr>\n",
       "  </thead>\n",
       "  <tbody>\n",
       "    <tr>\n",
       "      <th>0</th>\n",
       "      <td>1000_0</td>\n",
       "      <td>2018-07-25</td>\n",
       "      <td>0.00</td>\n",
       "      <td>1000</td>\n",
       "      <td>7</td>\n",
       "    </tr>\n",
       "    <tr>\n",
       "      <th>1</th>\n",
       "      <td>1000_1</td>\n",
       "      <td>2018-08-17</td>\n",
       "      <td>0.00</td>\n",
       "      <td>1000</td>\n",
       "      <td>8</td>\n",
       "    </tr>\n",
       "    <tr>\n",
       "      <th>2</th>\n",
       "      <td>1000_2</td>\n",
       "      <td>2018-06-11</td>\n",
       "      <td>2.85</td>\n",
       "      <td>1000</td>\n",
       "      <td>6</td>\n",
       "    </tr>\n",
       "    <tr>\n",
       "      <th>3</th>\n",
       "      <td>1000_3</td>\n",
       "      <td>2018-09-21</td>\n",
       "      <td>13.80</td>\n",
       "      <td>1000</td>\n",
       "      <td>9</td>\n",
       "    </tr>\n",
       "    <tr>\n",
       "      <th>4</th>\n",
       "      <td>1000_4</td>\n",
       "      <td>2018-12-15</td>\n",
       "      <td>5.18</td>\n",
       "      <td>1000</td>\n",
       "      <td>12</td>\n",
       "    </tr>\n",
       "  </tbody>\n",
       "</table>\n",
       "</div>"
      ],
      "text/plain": [
       "       id  call_date  duration  user_id  month\n",
       "0  1000_0 2018-07-25      0.00     1000      7\n",
       "1  1000_1 2018-08-17      0.00     1000      8\n",
       "2  1000_2 2018-06-11      2.85     1000      6\n",
       "3  1000_3 2018-09-21     13.80     1000      9\n",
       "4  1000_4 2018-12-15      5.18     1000     12"
      ]
     },
     "execution_count": 35,
     "metadata": {},
     "output_type": "execute_result"
    }
   ],
   "source": [
    "calls.head()"
   ]
  },
  {
   "cell_type": "code",
   "execution_count": 36,
   "metadata": {},
   "outputs": [],
   "source": [
    "import numpy as np"
   ]
  },
  {
   "cell_type": "code",
   "execution_count": 37,
   "metadata": {},
   "outputs": [],
   "source": [
    "calls['duration_round']=calls['duration'].apply(np.ceil)"
   ]
  },
  {
   "cell_type": "code",
   "execution_count": 38,
   "metadata": {},
   "outputs": [
    {
     "data": {
      "text/html": [
       "<div>\n",
       "<style scoped>\n",
       "    .dataframe tbody tr th:only-of-type {\n",
       "        vertical-align: middle;\n",
       "    }\n",
       "\n",
       "    .dataframe tbody tr th {\n",
       "        vertical-align: top;\n",
       "    }\n",
       "\n",
       "    .dataframe thead th {\n",
       "        text-align: right;\n",
       "    }\n",
       "</style>\n",
       "<table border=\"1\" class=\"dataframe\">\n",
       "  <thead>\n",
       "    <tr style=\"text-align: right;\">\n",
       "      <th></th>\n",
       "      <th>id</th>\n",
       "      <th>call_date</th>\n",
       "      <th>duration</th>\n",
       "      <th>user_id</th>\n",
       "      <th>month</th>\n",
       "      <th>duration_round</th>\n",
       "    </tr>\n",
       "  </thead>\n",
       "  <tbody>\n",
       "    <tr>\n",
       "      <th>0</th>\n",
       "      <td>1000_0</td>\n",
       "      <td>2018-07-25</td>\n",
       "      <td>0.00</td>\n",
       "      <td>1000</td>\n",
       "      <td>7</td>\n",
       "      <td>0.0</td>\n",
       "    </tr>\n",
       "    <tr>\n",
       "      <th>1</th>\n",
       "      <td>1000_1</td>\n",
       "      <td>2018-08-17</td>\n",
       "      <td>0.00</td>\n",
       "      <td>1000</td>\n",
       "      <td>8</td>\n",
       "      <td>0.0</td>\n",
       "    </tr>\n",
       "    <tr>\n",
       "      <th>2</th>\n",
       "      <td>1000_2</td>\n",
       "      <td>2018-06-11</td>\n",
       "      <td>2.85</td>\n",
       "      <td>1000</td>\n",
       "      <td>6</td>\n",
       "      <td>3.0</td>\n",
       "    </tr>\n",
       "    <tr>\n",
       "      <th>3</th>\n",
       "      <td>1000_3</td>\n",
       "      <td>2018-09-21</td>\n",
       "      <td>13.80</td>\n",
       "      <td>1000</td>\n",
       "      <td>9</td>\n",
       "      <td>14.0</td>\n",
       "    </tr>\n",
       "    <tr>\n",
       "      <th>4</th>\n",
       "      <td>1000_4</td>\n",
       "      <td>2018-12-15</td>\n",
       "      <td>5.18</td>\n",
       "      <td>1000</td>\n",
       "      <td>12</td>\n",
       "      <td>6.0</td>\n",
       "    </tr>\n",
       "  </tbody>\n",
       "</table>\n",
       "</div>"
      ],
      "text/plain": [
       "       id  call_date  duration  user_id  month  duration_round\n",
       "0  1000_0 2018-07-25      0.00     1000      7             0.0\n",
       "1  1000_1 2018-08-17      0.00     1000      8             0.0\n",
       "2  1000_2 2018-06-11      2.85     1000      6             3.0\n",
       "3  1000_3 2018-09-21     13.80     1000      9            14.0\n",
       "4  1000_4 2018-12-15      5.18     1000     12             6.0"
      ]
     },
     "execution_count": 38,
     "metadata": {},
     "output_type": "execute_result"
    }
   ],
   "source": [
    "calls.head()"
   ]
  },
  {
   "cell_type": "markdown",
   "metadata": {},
   "source": [
    "**количество сделанных звонков и израсходованных минут по месяцам**"
   ]
  },
  {
   "cell_type": "code",
   "execution_count": 39,
   "metadata": {},
   "outputs": [],
   "source": [
    "def kategorise(df,c1,c2):\n",
    "    a=df[c1].astype('str')+'_'+df[c2].astype('str')\n",
    "    return a "
   ]
  },
  {
   "cell_type": "code",
   "execution_count": 40,
   "metadata": {},
   "outputs": [],
   "source": [
    "\n",
    "calls['category']=kategorise(calls,'user_id','month')\n"
   ]
  },
  {
   "cell_type": "code",
   "execution_count": 41,
   "metadata": {},
   "outputs": [
    {
     "data": {
      "text/html": [
       "<div>\n",
       "<style scoped>\n",
       "    .dataframe tbody tr th:only-of-type {\n",
       "        vertical-align: middle;\n",
       "    }\n",
       "\n",
       "    .dataframe tbody tr th {\n",
       "        vertical-align: top;\n",
       "    }\n",
       "\n",
       "    .dataframe thead th {\n",
       "        text-align: right;\n",
       "    }\n",
       "</style>\n",
       "<table border=\"1\" class=\"dataframe\">\n",
       "  <thead>\n",
       "    <tr style=\"text-align: right;\">\n",
       "      <th></th>\n",
       "      <th>category</th>\n",
       "      <th>calls_number</th>\n",
       "      <th>minutes_total</th>\n",
       "    </tr>\n",
       "  </thead>\n",
       "  <tbody>\n",
       "    <tr>\n",
       "      <th>0</th>\n",
       "      <td>1000_10</td>\n",
       "      <td>57</td>\n",
       "      <td>350.0</td>\n",
       "    </tr>\n",
       "    <tr>\n",
       "      <th>1</th>\n",
       "      <td>1000_11</td>\n",
       "      <td>43</td>\n",
       "      <td>338.0</td>\n",
       "    </tr>\n",
       "    <tr>\n",
       "      <th>2</th>\n",
       "      <td>1000_12</td>\n",
       "      <td>46</td>\n",
       "      <td>333.0</td>\n",
       "    </tr>\n",
       "    <tr>\n",
       "      <th>3</th>\n",
       "      <td>1000_5</td>\n",
       "      <td>22</td>\n",
       "      <td>159.0</td>\n",
       "    </tr>\n",
       "    <tr>\n",
       "      <th>4</th>\n",
       "      <td>1000_6</td>\n",
       "      <td>43</td>\n",
       "      <td>172.0</td>\n",
       "    </tr>\n",
       "    <tr>\n",
       "      <th>...</th>\n",
       "      <td>...</td>\n",
       "      <td>...</td>\n",
       "      <td>...</td>\n",
       "    </tr>\n",
       "    <tr>\n",
       "      <th>3169</th>\n",
       "      <td>1498_9</td>\n",
       "      <td>59</td>\n",
       "      <td>471.0</td>\n",
       "    </tr>\n",
       "    <tr>\n",
       "      <th>3170</th>\n",
       "      <td>1499_10</td>\n",
       "      <td>68</td>\n",
       "      <td>449.0</td>\n",
       "    </tr>\n",
       "    <tr>\n",
       "      <th>3171</th>\n",
       "      <td>1499_11</td>\n",
       "      <td>74</td>\n",
       "      <td>612.0</td>\n",
       "    </tr>\n",
       "    <tr>\n",
       "      <th>3172</th>\n",
       "      <td>1499_12</td>\n",
       "      <td>69</td>\n",
       "      <td>492.0</td>\n",
       "    </tr>\n",
       "    <tr>\n",
       "      <th>3173</th>\n",
       "      <td>1499_9</td>\n",
       "      <td>9</td>\n",
       "      <td>70.0</td>\n",
       "    </tr>\n",
       "  </tbody>\n",
       "</table>\n",
       "<p>3174 rows × 3 columns</p>\n",
       "</div>"
      ],
      "text/plain": [
       "     category  calls_number  minutes_total\n",
       "0     1000_10            57          350.0\n",
       "1     1000_11            43          338.0\n",
       "2     1000_12            46          333.0\n",
       "3      1000_5            22          159.0\n",
       "4      1000_6            43          172.0\n",
       "...       ...           ...            ...\n",
       "3169   1498_9            59          471.0\n",
       "3170  1499_10            68          449.0\n",
       "3171  1499_11            74          612.0\n",
       "3172  1499_12            69          492.0\n",
       "3173   1499_9             9           70.0\n",
       "\n",
       "[3174 rows x 3 columns]"
      ]
     },
     "execution_count": 41,
     "metadata": {},
     "output_type": "execute_result"
    }
   ],
   "source": [
    "calls_month=calls.groupby('category').agg({'duration_round':['count', 'sum']})\n",
    "calls_month.columns = ['calls_number', 'minutes_total'] \n",
    "calls_month=calls_month.reset_index()\n",
    "calls_month"
   ]
  },
  {
   "cell_type": "markdown",
   "metadata": {},
   "source": [
    "### Количество отправленных сообщений по месяцам"
   ]
  },
  {
   "cell_type": "code",
   "execution_count": 42,
   "metadata": {},
   "outputs": [
    {
     "data": {
      "text/html": [
       "<div>\n",
       "<style scoped>\n",
       "    .dataframe tbody tr th:only-of-type {\n",
       "        vertical-align: middle;\n",
       "    }\n",
       "\n",
       "    .dataframe tbody tr th {\n",
       "        vertical-align: top;\n",
       "    }\n",
       "\n",
       "    .dataframe thead th {\n",
       "        text-align: right;\n",
       "    }\n",
       "</style>\n",
       "<table border=\"1\" class=\"dataframe\">\n",
       "  <thead>\n",
       "    <tr style=\"text-align: right;\">\n",
       "      <th></th>\n",
       "      <th>id</th>\n",
       "      <th>message_date</th>\n",
       "      <th>user_id</th>\n",
       "    </tr>\n",
       "  </thead>\n",
       "  <tbody>\n",
       "    <tr>\n",
       "      <th>0</th>\n",
       "      <td>1000_0</td>\n",
       "      <td>2018-06-27</td>\n",
       "      <td>1000</td>\n",
       "    </tr>\n",
       "    <tr>\n",
       "      <th>1</th>\n",
       "      <td>1000_1</td>\n",
       "      <td>2018-10-08</td>\n",
       "      <td>1000</td>\n",
       "    </tr>\n",
       "    <tr>\n",
       "      <th>2</th>\n",
       "      <td>1000_2</td>\n",
       "      <td>2018-08-04</td>\n",
       "      <td>1000</td>\n",
       "    </tr>\n",
       "    <tr>\n",
       "      <th>3</th>\n",
       "      <td>1000_3</td>\n",
       "      <td>2018-06-16</td>\n",
       "      <td>1000</td>\n",
       "    </tr>\n",
       "    <tr>\n",
       "      <th>4</th>\n",
       "      <td>1000_4</td>\n",
       "      <td>2018-12-05</td>\n",
       "      <td>1000</td>\n",
       "    </tr>\n",
       "  </tbody>\n",
       "</table>\n",
       "</div>"
      ],
      "text/plain": [
       "       id message_date  user_id\n",
       "0  1000_0   2018-06-27     1000\n",
       "1  1000_1   2018-10-08     1000\n",
       "2  1000_2   2018-08-04     1000\n",
       "3  1000_3   2018-06-16     1000\n",
       "4  1000_4   2018-12-05     1000"
      ]
     },
     "execution_count": 42,
     "metadata": {},
     "output_type": "execute_result"
    }
   ],
   "source": [
    "messages.head()\n"
   ]
  },
  {
   "cell_type": "code",
   "execution_count": 43,
   "metadata": {
    "scrolled": true
   },
   "outputs": [
    {
     "data": {
      "text/html": [
       "<div>\n",
       "<style scoped>\n",
       "    .dataframe tbody tr th:only-of-type {\n",
       "        vertical-align: middle;\n",
       "    }\n",
       "\n",
       "    .dataframe tbody tr th {\n",
       "        vertical-align: top;\n",
       "    }\n",
       "\n",
       "    .dataframe thead th {\n",
       "        text-align: right;\n",
       "    }\n",
       "</style>\n",
       "<table border=\"1\" class=\"dataframe\">\n",
       "  <thead>\n",
       "    <tr style=\"text-align: right;\">\n",
       "      <th></th>\n",
       "      <th>id</th>\n",
       "      <th>message_date</th>\n",
       "      <th>user_id</th>\n",
       "      <th>month</th>\n",
       "    </tr>\n",
       "  </thead>\n",
       "  <tbody>\n",
       "    <tr>\n",
       "      <th>0</th>\n",
       "      <td>1000_0</td>\n",
       "      <td>2018-06-27</td>\n",
       "      <td>1000</td>\n",
       "      <td>6</td>\n",
       "    </tr>\n",
       "    <tr>\n",
       "      <th>1</th>\n",
       "      <td>1000_1</td>\n",
       "      <td>2018-10-08</td>\n",
       "      <td>1000</td>\n",
       "      <td>10</td>\n",
       "    </tr>\n",
       "    <tr>\n",
       "      <th>2</th>\n",
       "      <td>1000_2</td>\n",
       "      <td>2018-08-04</td>\n",
       "      <td>1000</td>\n",
       "      <td>8</td>\n",
       "    </tr>\n",
       "    <tr>\n",
       "      <th>3</th>\n",
       "      <td>1000_3</td>\n",
       "      <td>2018-06-16</td>\n",
       "      <td>1000</td>\n",
       "      <td>6</td>\n",
       "    </tr>\n",
       "    <tr>\n",
       "      <th>4</th>\n",
       "      <td>1000_4</td>\n",
       "      <td>2018-12-05</td>\n",
       "      <td>1000</td>\n",
       "      <td>12</td>\n",
       "    </tr>\n",
       "  </tbody>\n",
       "</table>\n",
       "</div>"
      ],
      "text/plain": [
       "       id message_date  user_id  month\n",
       "0  1000_0   2018-06-27     1000      6\n",
       "1  1000_1   2018-10-08     1000     10\n",
       "2  1000_2   2018-08-04     1000      8\n",
       "3  1000_3   2018-06-16     1000      6\n",
       "4  1000_4   2018-12-05     1000     12"
      ]
     },
     "execution_count": 43,
     "metadata": {},
     "output_type": "execute_result"
    }
   ],
   "source": [
    "messages['month']=pd.DatetimeIndex(messages['message_date']).month \n",
    "messages.head()"
   ]
  },
  {
   "cell_type": "code",
   "execution_count": 44,
   "metadata": {},
   "outputs": [],
   "source": [
    "messages['category']=kategorise(messages,'user_id','month')\n"
   ]
  },
  {
   "cell_type": "code",
   "execution_count": 45,
   "metadata": {},
   "outputs": [
    {
     "data": {
      "text/html": [
       "<div>\n",
       "<style scoped>\n",
       "    .dataframe tbody tr th:only-of-type {\n",
       "        vertical-align: middle;\n",
       "    }\n",
       "\n",
       "    .dataframe tbody tr th {\n",
       "        vertical-align: top;\n",
       "    }\n",
       "\n",
       "    .dataframe thead th {\n",
       "        text-align: right;\n",
       "    }\n",
       "</style>\n",
       "<table border=\"1\" class=\"dataframe\">\n",
       "  <thead>\n",
       "    <tr style=\"text-align: right;\">\n",
       "      <th></th>\n",
       "      <th>category</th>\n",
       "      <th>message_total</th>\n",
       "    </tr>\n",
       "  </thead>\n",
       "  <tbody>\n",
       "    <tr>\n",
       "      <th>0</th>\n",
       "      <td>1000_10</td>\n",
       "      <td>73</td>\n",
       "    </tr>\n",
       "    <tr>\n",
       "      <th>1</th>\n",
       "      <td>1000_11</td>\n",
       "      <td>58</td>\n",
       "    </tr>\n",
       "    <tr>\n",
       "      <th>2</th>\n",
       "      <td>1000_12</td>\n",
       "      <td>70</td>\n",
       "    </tr>\n",
       "    <tr>\n",
       "      <th>3</th>\n",
       "      <td>1000_5</td>\n",
       "      <td>22</td>\n",
       "    </tr>\n",
       "    <tr>\n",
       "      <th>4</th>\n",
       "      <td>1000_6</td>\n",
       "      <td>60</td>\n",
       "    </tr>\n",
       "    <tr>\n",
       "      <th>...</th>\n",
       "      <td>...</td>\n",
       "      <td>...</td>\n",
       "    </tr>\n",
       "    <tr>\n",
       "      <th>2712</th>\n",
       "      <td>1498_9</td>\n",
       "      <td>44</td>\n",
       "    </tr>\n",
       "    <tr>\n",
       "      <th>2713</th>\n",
       "      <td>1499_10</td>\n",
       "      <td>48</td>\n",
       "    </tr>\n",
       "    <tr>\n",
       "      <th>2714</th>\n",
       "      <td>1499_11</td>\n",
       "      <td>59</td>\n",
       "    </tr>\n",
       "    <tr>\n",
       "      <th>2715</th>\n",
       "      <td>1499_12</td>\n",
       "      <td>66</td>\n",
       "    </tr>\n",
       "    <tr>\n",
       "      <th>2716</th>\n",
       "      <td>1499_9</td>\n",
       "      <td>11</td>\n",
       "    </tr>\n",
       "  </tbody>\n",
       "</table>\n",
       "<p>2717 rows × 2 columns</p>\n",
       "</div>"
      ],
      "text/plain": [
       "     category  message_total\n",
       "0     1000_10             73\n",
       "1     1000_11             58\n",
       "2     1000_12             70\n",
       "3      1000_5             22\n",
       "4      1000_6             60\n",
       "...       ...            ...\n",
       "2712   1498_9             44\n",
       "2713  1499_10             48\n",
       "2714  1499_11             59\n",
       "2715  1499_12             66\n",
       "2716   1499_9             11\n",
       "\n",
       "[2717 rows x 2 columns]"
      ]
     },
     "execution_count": 45,
     "metadata": {},
     "output_type": "execute_result"
    }
   ],
   "source": [
    "messages_month=messages.groupby('category').agg({'id':'count'})\n",
    "messages_month.columns = ['message_total'] \n",
    "messages_month=messages_month.reset_index()\n",
    "messages_month"
   ]
  },
  {
   "cell_type": "markdown",
   "metadata": {},
   "source": [
    "### Объем израсходованного интернет-трафика по месяцам"
   ]
  },
  {
   "cell_type": "code",
   "execution_count": 46,
   "metadata": {},
   "outputs": [
    {
     "data": {
      "text/html": [
       "<div>\n",
       "<style scoped>\n",
       "    .dataframe tbody tr th:only-of-type {\n",
       "        vertical-align: middle;\n",
       "    }\n",
       "\n",
       "    .dataframe tbody tr th {\n",
       "        vertical-align: top;\n",
       "    }\n",
       "\n",
       "    .dataframe thead th {\n",
       "        text-align: right;\n",
       "    }\n",
       "</style>\n",
       "<table border=\"1\" class=\"dataframe\">\n",
       "  <thead>\n",
       "    <tr style=\"text-align: right;\">\n",
       "      <th></th>\n",
       "      <th>id</th>\n",
       "      <th>mb_used</th>\n",
       "      <th>session_date</th>\n",
       "      <th>user_id</th>\n",
       "    </tr>\n",
       "  </thead>\n",
       "  <tbody>\n",
       "    <tr>\n",
       "      <th>0</th>\n",
       "      <td>1000_0</td>\n",
       "      <td>112.95</td>\n",
       "      <td>2018-11-25</td>\n",
       "      <td>1000</td>\n",
       "    </tr>\n",
       "    <tr>\n",
       "      <th>1</th>\n",
       "      <td>1000_1</td>\n",
       "      <td>1052.81</td>\n",
       "      <td>2018-09-07</td>\n",
       "      <td>1000</td>\n",
       "    </tr>\n",
       "    <tr>\n",
       "      <th>2</th>\n",
       "      <td>1000_2</td>\n",
       "      <td>1197.26</td>\n",
       "      <td>2018-06-25</td>\n",
       "      <td>1000</td>\n",
       "    </tr>\n",
       "    <tr>\n",
       "      <th>3</th>\n",
       "      <td>1000_3</td>\n",
       "      <td>550.27</td>\n",
       "      <td>2018-08-22</td>\n",
       "      <td>1000</td>\n",
       "    </tr>\n",
       "    <tr>\n",
       "      <th>4</th>\n",
       "      <td>1000_4</td>\n",
       "      <td>302.56</td>\n",
       "      <td>2018-09-24</td>\n",
       "      <td>1000</td>\n",
       "    </tr>\n",
       "  </tbody>\n",
       "</table>\n",
       "</div>"
      ],
      "text/plain": [
       "       id  mb_used session_date  user_id\n",
       "0  1000_0   112.95   2018-11-25     1000\n",
       "1  1000_1  1052.81   2018-09-07     1000\n",
       "2  1000_2  1197.26   2018-06-25     1000\n",
       "3  1000_3   550.27   2018-08-22     1000\n",
       "4  1000_4   302.56   2018-09-24     1000"
      ]
     },
     "execution_count": 46,
     "metadata": {},
     "output_type": "execute_result"
    }
   ],
   "source": [
    "internet.head()"
   ]
  },
  {
   "cell_type": "code",
   "execution_count": 47,
   "metadata": {},
   "outputs": [
    {
     "data": {
      "text/html": [
       "<div>\n",
       "<style scoped>\n",
       "    .dataframe tbody tr th:only-of-type {\n",
       "        vertical-align: middle;\n",
       "    }\n",
       "\n",
       "    .dataframe tbody tr th {\n",
       "        vertical-align: top;\n",
       "    }\n",
       "\n",
       "    .dataframe thead th {\n",
       "        text-align: right;\n",
       "    }\n",
       "</style>\n",
       "<table border=\"1\" class=\"dataframe\">\n",
       "  <thead>\n",
       "    <tr style=\"text-align: right;\">\n",
       "      <th></th>\n",
       "      <th>id</th>\n",
       "      <th>mb_used</th>\n",
       "      <th>session_date</th>\n",
       "      <th>user_id</th>\n",
       "      <th>month</th>\n",
       "    </tr>\n",
       "  </thead>\n",
       "  <tbody>\n",
       "    <tr>\n",
       "      <th>0</th>\n",
       "      <td>1000_0</td>\n",
       "      <td>112.95</td>\n",
       "      <td>2018-11-25</td>\n",
       "      <td>1000</td>\n",
       "      <td>11</td>\n",
       "    </tr>\n",
       "    <tr>\n",
       "      <th>1</th>\n",
       "      <td>1000_1</td>\n",
       "      <td>1052.81</td>\n",
       "      <td>2018-09-07</td>\n",
       "      <td>1000</td>\n",
       "      <td>9</td>\n",
       "    </tr>\n",
       "    <tr>\n",
       "      <th>2</th>\n",
       "      <td>1000_2</td>\n",
       "      <td>1197.26</td>\n",
       "      <td>2018-06-25</td>\n",
       "      <td>1000</td>\n",
       "      <td>6</td>\n",
       "    </tr>\n",
       "    <tr>\n",
       "      <th>3</th>\n",
       "      <td>1000_3</td>\n",
       "      <td>550.27</td>\n",
       "      <td>2018-08-22</td>\n",
       "      <td>1000</td>\n",
       "      <td>8</td>\n",
       "    </tr>\n",
       "    <tr>\n",
       "      <th>4</th>\n",
       "      <td>1000_4</td>\n",
       "      <td>302.56</td>\n",
       "      <td>2018-09-24</td>\n",
       "      <td>1000</td>\n",
       "      <td>9</td>\n",
       "    </tr>\n",
       "  </tbody>\n",
       "</table>\n",
       "</div>"
      ],
      "text/plain": [
       "       id  mb_used session_date  user_id  month\n",
       "0  1000_0   112.95   2018-11-25     1000     11\n",
       "1  1000_1  1052.81   2018-09-07     1000      9\n",
       "2  1000_2  1197.26   2018-06-25     1000      6\n",
       "3  1000_3   550.27   2018-08-22     1000      8\n",
       "4  1000_4   302.56   2018-09-24     1000      9"
      ]
     },
     "execution_count": 47,
     "metadata": {},
     "output_type": "execute_result"
    }
   ],
   "source": [
    "internet['month']=pd.DatetimeIndex(internet['session_date']).month \n",
    "internet.head()"
   ]
  },
  {
   "cell_type": "code",
   "execution_count": 48,
   "metadata": {},
   "outputs": [],
   "source": [
    "internet['category']=kategorise(internet,'user_id','month')"
   ]
  },
  {
   "cell_type": "code",
   "execution_count": 49,
   "metadata": {},
   "outputs": [
    {
     "data": {
      "text/html": [
       "<div>\n",
       "<style scoped>\n",
       "    .dataframe tbody tr th:only-of-type {\n",
       "        vertical-align: middle;\n",
       "    }\n",
       "\n",
       "    .dataframe tbody tr th {\n",
       "        vertical-align: top;\n",
       "    }\n",
       "\n",
       "    .dataframe thead th {\n",
       "        text-align: right;\n",
       "    }\n",
       "</style>\n",
       "<table border=\"1\" class=\"dataframe\">\n",
       "  <thead>\n",
       "    <tr style=\"text-align: right;\">\n",
       "      <th></th>\n",
       "      <th>category</th>\n",
       "      <th>gb_total</th>\n",
       "    </tr>\n",
       "  </thead>\n",
       "  <tbody>\n",
       "    <tr>\n",
       "      <th>0</th>\n",
       "      <td>1000_10</td>\n",
       "      <td>15.0</td>\n",
       "    </tr>\n",
       "    <tr>\n",
       "      <th>1</th>\n",
       "      <td>1000_11</td>\n",
       "      <td>15.0</td>\n",
       "    </tr>\n",
       "    <tr>\n",
       "      <th>2</th>\n",
       "      <td>1000_12</td>\n",
       "      <td>10.0</td>\n",
       "    </tr>\n",
       "    <tr>\n",
       "      <th>3</th>\n",
       "      <td>1000_5</td>\n",
       "      <td>3.0</td>\n",
       "    </tr>\n",
       "    <tr>\n",
       "      <th>4</th>\n",
       "      <td>1000_6</td>\n",
       "      <td>23.0</td>\n",
       "    </tr>\n",
       "    <tr>\n",
       "      <th>...</th>\n",
       "      <td>...</td>\n",
       "      <td>...</td>\n",
       "    </tr>\n",
       "    <tr>\n",
       "      <th>3198</th>\n",
       "      <td>1498_9</td>\n",
       "      <td>22.0</td>\n",
       "    </tr>\n",
       "    <tr>\n",
       "      <th>3199</th>\n",
       "      <td>1499_10</td>\n",
       "      <td>18.0</td>\n",
       "    </tr>\n",
       "    <tr>\n",
       "      <th>3200</th>\n",
       "      <td>1499_11</td>\n",
       "      <td>18.0</td>\n",
       "    </tr>\n",
       "    <tr>\n",
       "      <th>3201</th>\n",
       "      <td>1499_12</td>\n",
       "      <td>13.0</td>\n",
       "    </tr>\n",
       "    <tr>\n",
       "      <th>3202</th>\n",
       "      <td>1499_9</td>\n",
       "      <td>2.0</td>\n",
       "    </tr>\n",
       "  </tbody>\n",
       "</table>\n",
       "<p>3203 rows × 2 columns</p>\n",
       "</div>"
      ],
      "text/plain": [
       "     category  gb_total\n",
       "0     1000_10      15.0\n",
       "1     1000_11      15.0\n",
       "2     1000_12      10.0\n",
       "3      1000_5       3.0\n",
       "4      1000_6      23.0\n",
       "...       ...       ...\n",
       "3198   1498_9      22.0\n",
       "3199  1499_10      18.0\n",
       "3200  1499_11      18.0\n",
       "3201  1499_12      13.0\n",
       "3202   1499_9       2.0\n",
       "\n",
       "[3203 rows x 2 columns]"
      ]
     },
     "execution_count": 49,
     "metadata": {},
     "output_type": "execute_result"
    }
   ],
   "source": [
    "internet_month=internet.groupby('category').agg({'mb_used':'sum'})\n",
    "internet_month['mb_used'] = (internet_month['mb_used']/1024).apply(np.ceil)\n",
    "internet_month.columns = ['gb_total'] \n",
    "internet_month=internet_month.reset_index()\n",
    "internet_month"
   ]
  },
  {
   "cell_type": "code",
   "execution_count": 50,
   "metadata": {},
   "outputs": [
    {
     "data": {
      "text/html": [
       "<div>\n",
       "<style scoped>\n",
       "    .dataframe tbody tr th:only-of-type {\n",
       "        vertical-align: middle;\n",
       "    }\n",
       "\n",
       "    .dataframe tbody tr th {\n",
       "        vertical-align: top;\n",
       "    }\n",
       "\n",
       "    .dataframe thead th {\n",
       "        text-align: right;\n",
       "    }\n",
       "</style>\n",
       "<table border=\"1\" class=\"dataframe\">\n",
       "  <thead>\n",
       "    <tr style=\"text-align: right;\">\n",
       "      <th></th>\n",
       "      <th>user_id</th>\n",
       "      <th>age</th>\n",
       "      <th>churn_date</th>\n",
       "      <th>city</th>\n",
       "      <th>first_name</th>\n",
       "      <th>last_name</th>\n",
       "      <th>reg_date</th>\n",
       "      <th>tariff</th>\n",
       "    </tr>\n",
       "  </thead>\n",
       "  <tbody>\n",
       "    <tr>\n",
       "      <th>0</th>\n",
       "      <td>1000</td>\n",
       "      <td>52</td>\n",
       "      <td>NaN</td>\n",
       "      <td>Краснодар</td>\n",
       "      <td>Рафаил</td>\n",
       "      <td>Верещагин</td>\n",
       "      <td>2018-05-25</td>\n",
       "      <td>ultra</td>\n",
       "    </tr>\n",
       "    <tr>\n",
       "      <th>1</th>\n",
       "      <td>1001</td>\n",
       "      <td>41</td>\n",
       "      <td>NaN</td>\n",
       "      <td>Москва</td>\n",
       "      <td>Иван</td>\n",
       "      <td>Ежов</td>\n",
       "      <td>2018-11-01</td>\n",
       "      <td>smart</td>\n",
       "    </tr>\n",
       "    <tr>\n",
       "      <th>2</th>\n",
       "      <td>1002</td>\n",
       "      <td>59</td>\n",
       "      <td>NaN</td>\n",
       "      <td>Стерлитамак</td>\n",
       "      <td>Евгений</td>\n",
       "      <td>Абрамович</td>\n",
       "      <td>2018-06-17</td>\n",
       "      <td>smart</td>\n",
       "    </tr>\n",
       "    <tr>\n",
       "      <th>3</th>\n",
       "      <td>1003</td>\n",
       "      <td>23</td>\n",
       "      <td>NaN</td>\n",
       "      <td>Москва</td>\n",
       "      <td>Белла</td>\n",
       "      <td>Белякова</td>\n",
       "      <td>2018-08-17</td>\n",
       "      <td>ultra</td>\n",
       "    </tr>\n",
       "    <tr>\n",
       "      <th>4</th>\n",
       "      <td>1004</td>\n",
       "      <td>68</td>\n",
       "      <td>NaN</td>\n",
       "      <td>Новокузнецк</td>\n",
       "      <td>Татьяна</td>\n",
       "      <td>Авдеенко</td>\n",
       "      <td>2018-05-14</td>\n",
       "      <td>ultra</td>\n",
       "    </tr>\n",
       "  </tbody>\n",
       "</table>\n",
       "</div>"
      ],
      "text/plain": [
       "   user_id  age churn_date         city first_name  last_name   reg_date  \\\n",
       "0     1000   52        NaN    Краснодар     Рафаил  Верещагин 2018-05-25   \n",
       "1     1001   41        NaN       Москва       Иван       Ежов 2018-11-01   \n",
       "2     1002   59        NaN  Стерлитамак    Евгений  Абрамович 2018-06-17   \n",
       "3     1003   23        NaN       Москва      Белла   Белякова 2018-08-17   \n",
       "4     1004   68        NaN  Новокузнецк    Татьяна   Авдеенко 2018-05-14   \n",
       "\n",
       "  tariff  \n",
       "0  ultra  \n",
       "1  smart  \n",
       "2  smart  \n",
       "3  ultra  \n",
       "4  ultra  "
      ]
     },
     "execution_count": 50,
     "metadata": {},
     "output_type": "execute_result"
    }
   ],
   "source": [
    "users.head()"
   ]
  },
  {
   "cell_type": "code",
   "execution_count": 51,
   "metadata": {
    "scrolled": false
   },
   "outputs": [
    {
     "data": {
      "text/html": [
       "<div>\n",
       "<style scoped>\n",
       "    .dataframe tbody tr th:only-of-type {\n",
       "        vertical-align: middle;\n",
       "    }\n",
       "\n",
       "    .dataframe tbody tr th {\n",
       "        vertical-align: top;\n",
       "    }\n",
       "\n",
       "    .dataframe thead th {\n",
       "        text-align: right;\n",
       "    }\n",
       "</style>\n",
       "<table border=\"1\" class=\"dataframe\">\n",
       "  <thead>\n",
       "    <tr style=\"text-align: right;\">\n",
       "      <th></th>\n",
       "      <th>user_id</th>\n",
       "      <th>tariff</th>\n",
       "    </tr>\n",
       "  </thead>\n",
       "  <tbody>\n",
       "    <tr>\n",
       "      <th>0</th>\n",
       "      <td>1000</td>\n",
       "      <td>ultra</td>\n",
       "    </tr>\n",
       "    <tr>\n",
       "      <th>1</th>\n",
       "      <td>1001</td>\n",
       "      <td>smart</td>\n",
       "    </tr>\n",
       "    <tr>\n",
       "      <th>2</th>\n",
       "      <td>1002</td>\n",
       "      <td>smart</td>\n",
       "    </tr>\n",
       "    <tr>\n",
       "      <th>3</th>\n",
       "      <td>1003</td>\n",
       "      <td>ultra</td>\n",
       "    </tr>\n",
       "    <tr>\n",
       "      <th>4</th>\n",
       "      <td>1004</td>\n",
       "      <td>ultra</td>\n",
       "    </tr>\n",
       "    <tr>\n",
       "      <th>...</th>\n",
       "      <td>...</td>\n",
       "      <td>...</td>\n",
       "    </tr>\n",
       "    <tr>\n",
       "      <th>495</th>\n",
       "      <td>1495</td>\n",
       "      <td>ultra</td>\n",
       "    </tr>\n",
       "    <tr>\n",
       "      <th>496</th>\n",
       "      <td>1496</td>\n",
       "      <td>smart</td>\n",
       "    </tr>\n",
       "    <tr>\n",
       "      <th>497</th>\n",
       "      <td>1497</td>\n",
       "      <td>smart</td>\n",
       "    </tr>\n",
       "    <tr>\n",
       "      <th>498</th>\n",
       "      <td>1498</td>\n",
       "      <td>smart</td>\n",
       "    </tr>\n",
       "    <tr>\n",
       "      <th>499</th>\n",
       "      <td>1499</td>\n",
       "      <td>smart</td>\n",
       "    </tr>\n",
       "  </tbody>\n",
       "</table>\n",
       "<p>500 rows × 2 columns</p>\n",
       "</div>"
      ],
      "text/plain": [
       "     user_id tariff\n",
       "0       1000  ultra\n",
       "1       1001  smart\n",
       "2       1002  smart\n",
       "3       1003  ultra\n",
       "4       1004  ultra\n",
       "..       ...    ...\n",
       "495     1495  ultra\n",
       "496     1496  smart\n",
       "497     1497  smart\n",
       "498     1498  smart\n",
       "499     1499  smart\n",
       "\n",
       "[500 rows x 2 columns]"
      ]
     },
     "execution_count": 51,
     "metadata": {},
     "output_type": "execute_result"
    }
   ],
   "source": [
    "users_tariff=users[['user_id', 'tariff']]\n",
    "users_tariff"
   ]
  },
  {
   "cell_type": "markdown",
   "metadata": {},
   "source": [
    "### Сводная таблица"
   ]
  },
  {
   "cell_type": "markdown",
   "metadata": {},
   "source": [
    "**Сведем в общую таблицу** "
   ]
  },
  {
   "cell_type": "code",
   "execution_count": 52,
   "metadata": {},
   "outputs": [
    {
     "data": {
      "text/html": [
       "<div>\n",
       "<style scoped>\n",
       "    .dataframe tbody tr th:only-of-type {\n",
       "        vertical-align: middle;\n",
       "    }\n",
       "\n",
       "    .dataframe tbody tr th {\n",
       "        vertical-align: top;\n",
       "    }\n",
       "\n",
       "    .dataframe thead th {\n",
       "        text-align: right;\n",
       "    }\n",
       "</style>\n",
       "<table border=\"1\" class=\"dataframe\">\n",
       "  <thead>\n",
       "    <tr style=\"text-align: right;\">\n",
       "      <th></th>\n",
       "      <th>category</th>\n",
       "      <th>calls_number</th>\n",
       "      <th>minutes_total</th>\n",
       "      <th>message_total</th>\n",
       "      <th>gb_total</th>\n",
       "    </tr>\n",
       "  </thead>\n",
       "  <tbody>\n",
       "    <tr>\n",
       "      <th>0</th>\n",
       "      <td>1000_10</td>\n",
       "      <td>57.0</td>\n",
       "      <td>350.0</td>\n",
       "      <td>73.0</td>\n",
       "      <td>15.0</td>\n",
       "    </tr>\n",
       "    <tr>\n",
       "      <th>1</th>\n",
       "      <td>1000_11</td>\n",
       "      <td>43.0</td>\n",
       "      <td>338.0</td>\n",
       "      <td>58.0</td>\n",
       "      <td>15.0</td>\n",
       "    </tr>\n",
       "    <tr>\n",
       "      <th>2</th>\n",
       "      <td>1000_12</td>\n",
       "      <td>46.0</td>\n",
       "      <td>333.0</td>\n",
       "      <td>70.0</td>\n",
       "      <td>10.0</td>\n",
       "    </tr>\n",
       "    <tr>\n",
       "      <th>3</th>\n",
       "      <td>1000_5</td>\n",
       "      <td>22.0</td>\n",
       "      <td>159.0</td>\n",
       "      <td>22.0</td>\n",
       "      <td>3.0</td>\n",
       "    </tr>\n",
       "    <tr>\n",
       "      <th>4</th>\n",
       "      <td>1000_6</td>\n",
       "      <td>43.0</td>\n",
       "      <td>172.0</td>\n",
       "      <td>60.0</td>\n",
       "      <td>23.0</td>\n",
       "    </tr>\n",
       "    <tr>\n",
       "      <th>...</th>\n",
       "      <td>...</td>\n",
       "      <td>...</td>\n",
       "      <td>...</td>\n",
       "      <td>...</td>\n",
       "      <td>...</td>\n",
       "    </tr>\n",
       "    <tr>\n",
       "      <th>3209</th>\n",
       "      <td>1489_11</td>\n",
       "      <td>NaN</td>\n",
       "      <td>NaN</td>\n",
       "      <td>20.0</td>\n",
       "      <td>18.0</td>\n",
       "    </tr>\n",
       "    <tr>\n",
       "      <th>3210</th>\n",
       "      <td>1489_12</td>\n",
       "      <td>NaN</td>\n",
       "      <td>NaN</td>\n",
       "      <td>35.0</td>\n",
       "      <td>17.0</td>\n",
       "    </tr>\n",
       "    <tr>\n",
       "      <th>3211</th>\n",
       "      <td>1489_8</td>\n",
       "      <td>NaN</td>\n",
       "      <td>NaN</td>\n",
       "      <td>17.0</td>\n",
       "      <td>11.0</td>\n",
       "    </tr>\n",
       "    <tr>\n",
       "      <th>3212</th>\n",
       "      <td>1489_9</td>\n",
       "      <td>NaN</td>\n",
       "      <td>NaN</td>\n",
       "      <td>32.0</td>\n",
       "      <td>17.0</td>\n",
       "    </tr>\n",
       "    <tr>\n",
       "      <th>3213</th>\n",
       "      <td>1476_4</td>\n",
       "      <td>NaN</td>\n",
       "      <td>NaN</td>\n",
       "      <td>NaN</td>\n",
       "      <td>1.0</td>\n",
       "    </tr>\n",
       "  </tbody>\n",
       "</table>\n",
       "<p>3214 rows × 5 columns</p>\n",
       "</div>"
      ],
      "text/plain": [
       "     category  calls_number  minutes_total  message_total  gb_total\n",
       "0     1000_10          57.0          350.0           73.0      15.0\n",
       "1     1000_11          43.0          338.0           58.0      15.0\n",
       "2     1000_12          46.0          333.0           70.0      10.0\n",
       "3      1000_5          22.0          159.0           22.0       3.0\n",
       "4      1000_6          43.0          172.0           60.0      23.0\n",
       "...       ...           ...            ...            ...       ...\n",
       "3209  1489_11           NaN            NaN           20.0      18.0\n",
       "3210  1489_12           NaN            NaN           35.0      17.0\n",
       "3211   1489_8           NaN            NaN           17.0      11.0\n",
       "3212   1489_9           NaN            NaN           32.0      17.0\n",
       "3213   1476_4           NaN            NaN            NaN       1.0\n",
       "\n",
       "[3214 rows x 5 columns]"
      ]
     },
     "execution_count": 52,
     "metadata": {},
     "output_type": "execute_result"
    }
   ],
   "source": [
    "total=calls_month.merge(messages_month, on='category',how='outer')\n",
    "total=total.merge(internet_month, on='category',how='outer')\n",
    "total"
   ]
  },
  {
   "cell_type": "code",
   "execution_count": 53,
   "metadata": {},
   "outputs": [],
   "source": [
    "def user(c1):\n",
    "    b=[]\n",
    "    for a in c1:\n",
    "        b.append(int(a[:4]))\n",
    "    return b"
   ]
  },
  {
   "cell_type": "code",
   "execution_count": 54,
   "metadata": {},
   "outputs": [],
   "source": [
    "def months(c1):\n",
    "    b=[]\n",
    "    for a in c1:\n",
    "        b.append(int(a[5:])) \n",
    "    return b "
   ]
  },
  {
   "cell_type": "code",
   "execution_count": 55,
   "metadata": {},
   "outputs": [
    {
     "data": {
      "text/html": [
       "<div>\n",
       "<style scoped>\n",
       "    .dataframe tbody tr th:only-of-type {\n",
       "        vertical-align: middle;\n",
       "    }\n",
       "\n",
       "    .dataframe tbody tr th {\n",
       "        vertical-align: top;\n",
       "    }\n",
       "\n",
       "    .dataframe thead th {\n",
       "        text-align: right;\n",
       "    }\n",
       "</style>\n",
       "<table border=\"1\" class=\"dataframe\">\n",
       "  <thead>\n",
       "    <tr style=\"text-align: right;\">\n",
       "      <th></th>\n",
       "      <th>category</th>\n",
       "      <th>calls_number</th>\n",
       "      <th>minutes_total</th>\n",
       "      <th>message_total</th>\n",
       "      <th>gb_total</th>\n",
       "      <th>user_id</th>\n",
       "      <th>months</th>\n",
       "    </tr>\n",
       "  </thead>\n",
       "  <tbody>\n",
       "    <tr>\n",
       "      <th>0</th>\n",
       "      <td>1000_10</td>\n",
       "      <td>57.0</td>\n",
       "      <td>350.0</td>\n",
       "      <td>73.0</td>\n",
       "      <td>15.0</td>\n",
       "      <td>1000</td>\n",
       "      <td>10</td>\n",
       "    </tr>\n",
       "    <tr>\n",
       "      <th>1</th>\n",
       "      <td>1000_11</td>\n",
       "      <td>43.0</td>\n",
       "      <td>338.0</td>\n",
       "      <td>58.0</td>\n",
       "      <td>15.0</td>\n",
       "      <td>1000</td>\n",
       "      <td>11</td>\n",
       "    </tr>\n",
       "    <tr>\n",
       "      <th>2</th>\n",
       "      <td>1000_12</td>\n",
       "      <td>46.0</td>\n",
       "      <td>333.0</td>\n",
       "      <td>70.0</td>\n",
       "      <td>10.0</td>\n",
       "      <td>1000</td>\n",
       "      <td>12</td>\n",
       "    </tr>\n",
       "    <tr>\n",
       "      <th>3</th>\n",
       "      <td>1000_5</td>\n",
       "      <td>22.0</td>\n",
       "      <td>159.0</td>\n",
       "      <td>22.0</td>\n",
       "      <td>3.0</td>\n",
       "      <td>1000</td>\n",
       "      <td>5</td>\n",
       "    </tr>\n",
       "    <tr>\n",
       "      <th>4</th>\n",
       "      <td>1000_6</td>\n",
       "      <td>43.0</td>\n",
       "      <td>172.0</td>\n",
       "      <td>60.0</td>\n",
       "      <td>23.0</td>\n",
       "      <td>1000</td>\n",
       "      <td>6</td>\n",
       "    </tr>\n",
       "    <tr>\n",
       "      <th>...</th>\n",
       "      <td>...</td>\n",
       "      <td>...</td>\n",
       "      <td>...</td>\n",
       "      <td>...</td>\n",
       "      <td>...</td>\n",
       "      <td>...</td>\n",
       "      <td>...</td>\n",
       "    </tr>\n",
       "    <tr>\n",
       "      <th>3209</th>\n",
       "      <td>1489_11</td>\n",
       "      <td>NaN</td>\n",
       "      <td>NaN</td>\n",
       "      <td>20.0</td>\n",
       "      <td>18.0</td>\n",
       "      <td>1489</td>\n",
       "      <td>11</td>\n",
       "    </tr>\n",
       "    <tr>\n",
       "      <th>3210</th>\n",
       "      <td>1489_12</td>\n",
       "      <td>NaN</td>\n",
       "      <td>NaN</td>\n",
       "      <td>35.0</td>\n",
       "      <td>17.0</td>\n",
       "      <td>1489</td>\n",
       "      <td>12</td>\n",
       "    </tr>\n",
       "    <tr>\n",
       "      <th>3211</th>\n",
       "      <td>1489_8</td>\n",
       "      <td>NaN</td>\n",
       "      <td>NaN</td>\n",
       "      <td>17.0</td>\n",
       "      <td>11.0</td>\n",
       "      <td>1489</td>\n",
       "      <td>8</td>\n",
       "    </tr>\n",
       "    <tr>\n",
       "      <th>3212</th>\n",
       "      <td>1489_9</td>\n",
       "      <td>NaN</td>\n",
       "      <td>NaN</td>\n",
       "      <td>32.0</td>\n",
       "      <td>17.0</td>\n",
       "      <td>1489</td>\n",
       "      <td>9</td>\n",
       "    </tr>\n",
       "    <tr>\n",
       "      <th>3213</th>\n",
       "      <td>1476_4</td>\n",
       "      <td>NaN</td>\n",
       "      <td>NaN</td>\n",
       "      <td>NaN</td>\n",
       "      <td>1.0</td>\n",
       "      <td>1476</td>\n",
       "      <td>4</td>\n",
       "    </tr>\n",
       "  </tbody>\n",
       "</table>\n",
       "<p>3214 rows × 7 columns</p>\n",
       "</div>"
      ],
      "text/plain": [
       "     category  calls_number  minutes_total  message_total  gb_total  user_id  \\\n",
       "0     1000_10          57.0          350.0           73.0      15.0     1000   \n",
       "1     1000_11          43.0          338.0           58.0      15.0     1000   \n",
       "2     1000_12          46.0          333.0           70.0      10.0     1000   \n",
       "3      1000_5          22.0          159.0           22.0       3.0     1000   \n",
       "4      1000_6          43.0          172.0           60.0      23.0     1000   \n",
       "...       ...           ...            ...            ...       ...      ...   \n",
       "3209  1489_11           NaN            NaN           20.0      18.0     1489   \n",
       "3210  1489_12           NaN            NaN           35.0      17.0     1489   \n",
       "3211   1489_8           NaN            NaN           17.0      11.0     1489   \n",
       "3212   1489_9           NaN            NaN           32.0      17.0     1489   \n",
       "3213   1476_4           NaN            NaN            NaN       1.0     1476   \n",
       "\n",
       "      months  \n",
       "0         10  \n",
       "1         11  \n",
       "2         12  \n",
       "3          5  \n",
       "4          6  \n",
       "...      ...  \n",
       "3209      11  \n",
       "3210      12  \n",
       "3211       8  \n",
       "3212       9  \n",
       "3213       4  \n",
       "\n",
       "[3214 rows x 7 columns]"
      ]
     },
     "execution_count": 55,
     "metadata": {},
     "output_type": "execute_result"
    }
   ],
   "source": [
    "total['user_id']=user(total['category'])\n",
    "total['months']=months(total['category'])\n",
    "total"
   ]
  },
  {
   "cell_type": "code",
   "execution_count": 56,
   "metadata": {},
   "outputs": [
    {
     "data": {
      "text/plain": [
       "498"
      ]
     },
     "execution_count": 56,
     "metadata": {},
     "output_type": "execute_result"
    }
   ],
   "source": [
    "total['user_id'].nunique()"
   ]
  },
  {
   "cell_type": "code",
   "execution_count": 57,
   "metadata": {},
   "outputs": [
    {
     "data": {
      "text/html": [
       "<div>\n",
       "<style scoped>\n",
       "    .dataframe tbody tr th:only-of-type {\n",
       "        vertical-align: middle;\n",
       "    }\n",
       "\n",
       "    .dataframe tbody tr th {\n",
       "        vertical-align: top;\n",
       "    }\n",
       "\n",
       "    .dataframe thead th {\n",
       "        text-align: right;\n",
       "    }\n",
       "</style>\n",
       "<table border=\"1\" class=\"dataframe\">\n",
       "  <thead>\n",
       "    <tr style=\"text-align: right;\">\n",
       "      <th></th>\n",
       "      <th>category</th>\n",
       "      <th>calls_number</th>\n",
       "      <th>minutes_total</th>\n",
       "      <th>message_total</th>\n",
       "      <th>gb_total</th>\n",
       "      <th>user_id</th>\n",
       "      <th>months</th>\n",
       "      <th>tariff</th>\n",
       "    </tr>\n",
       "  </thead>\n",
       "  <tbody>\n",
       "    <tr>\n",
       "      <th>0</th>\n",
       "      <td>1000_10</td>\n",
       "      <td>57.0</td>\n",
       "      <td>350.0</td>\n",
       "      <td>73.0</td>\n",
       "      <td>15.0</td>\n",
       "      <td>1000</td>\n",
       "      <td>10.0</td>\n",
       "      <td>ultra</td>\n",
       "    </tr>\n",
       "    <tr>\n",
       "      <th>1</th>\n",
       "      <td>1000_11</td>\n",
       "      <td>43.0</td>\n",
       "      <td>338.0</td>\n",
       "      <td>58.0</td>\n",
       "      <td>15.0</td>\n",
       "      <td>1000</td>\n",
       "      <td>11.0</td>\n",
       "      <td>ultra</td>\n",
       "    </tr>\n",
       "    <tr>\n",
       "      <th>2</th>\n",
       "      <td>1000_12</td>\n",
       "      <td>46.0</td>\n",
       "      <td>333.0</td>\n",
       "      <td>70.0</td>\n",
       "      <td>10.0</td>\n",
       "      <td>1000</td>\n",
       "      <td>12.0</td>\n",
       "      <td>ultra</td>\n",
       "    </tr>\n",
       "    <tr>\n",
       "      <th>3</th>\n",
       "      <td>1000_5</td>\n",
       "      <td>22.0</td>\n",
       "      <td>159.0</td>\n",
       "      <td>22.0</td>\n",
       "      <td>3.0</td>\n",
       "      <td>1000</td>\n",
       "      <td>5.0</td>\n",
       "      <td>ultra</td>\n",
       "    </tr>\n",
       "    <tr>\n",
       "      <th>4</th>\n",
       "      <td>1000_6</td>\n",
       "      <td>43.0</td>\n",
       "      <td>172.0</td>\n",
       "      <td>60.0</td>\n",
       "      <td>23.0</td>\n",
       "      <td>1000</td>\n",
       "      <td>6.0</td>\n",
       "      <td>ultra</td>\n",
       "    </tr>\n",
       "    <tr>\n",
       "      <th>...</th>\n",
       "      <td>...</td>\n",
       "      <td>...</td>\n",
       "      <td>...</td>\n",
       "      <td>...</td>\n",
       "      <td>...</td>\n",
       "      <td>...</td>\n",
       "      <td>...</td>\n",
       "      <td>...</td>\n",
       "    </tr>\n",
       "    <tr>\n",
       "      <th>3211</th>\n",
       "      <td>1489_12</td>\n",
       "      <td>NaN</td>\n",
       "      <td>NaN</td>\n",
       "      <td>35.0</td>\n",
       "      <td>17.0</td>\n",
       "      <td>1489</td>\n",
       "      <td>12.0</td>\n",
       "      <td>smart</td>\n",
       "    </tr>\n",
       "    <tr>\n",
       "      <th>3212</th>\n",
       "      <td>1489_8</td>\n",
       "      <td>NaN</td>\n",
       "      <td>NaN</td>\n",
       "      <td>17.0</td>\n",
       "      <td>11.0</td>\n",
       "      <td>1489</td>\n",
       "      <td>8.0</td>\n",
       "      <td>smart</td>\n",
       "    </tr>\n",
       "    <tr>\n",
       "      <th>3213</th>\n",
       "      <td>1489_9</td>\n",
       "      <td>NaN</td>\n",
       "      <td>NaN</td>\n",
       "      <td>32.0</td>\n",
       "      <td>17.0</td>\n",
       "      <td>1489</td>\n",
       "      <td>9.0</td>\n",
       "      <td>smart</td>\n",
       "    </tr>\n",
       "    <tr>\n",
       "      <th>3214</th>\n",
       "      <td>NaN</td>\n",
       "      <td>NaN</td>\n",
       "      <td>NaN</td>\n",
       "      <td>NaN</td>\n",
       "      <td>NaN</td>\n",
       "      <td>1128</td>\n",
       "      <td>NaN</td>\n",
       "      <td>ultra</td>\n",
       "    </tr>\n",
       "    <tr>\n",
       "      <th>3215</th>\n",
       "      <td>NaN</td>\n",
       "      <td>NaN</td>\n",
       "      <td>NaN</td>\n",
       "      <td>NaN</td>\n",
       "      <td>NaN</td>\n",
       "      <td>1371</td>\n",
       "      <td>NaN</td>\n",
       "      <td>smart</td>\n",
       "    </tr>\n",
       "  </tbody>\n",
       "</table>\n",
       "<p>3216 rows × 8 columns</p>\n",
       "</div>"
      ],
      "text/plain": [
       "     category  calls_number  minutes_total  message_total  gb_total  user_id  \\\n",
       "0     1000_10          57.0          350.0           73.0      15.0     1000   \n",
       "1     1000_11          43.0          338.0           58.0      15.0     1000   \n",
       "2     1000_12          46.0          333.0           70.0      10.0     1000   \n",
       "3      1000_5          22.0          159.0           22.0       3.0     1000   \n",
       "4      1000_6          43.0          172.0           60.0      23.0     1000   \n",
       "...       ...           ...            ...            ...       ...      ...   \n",
       "3211  1489_12           NaN            NaN           35.0      17.0     1489   \n",
       "3212   1489_8           NaN            NaN           17.0      11.0     1489   \n",
       "3213   1489_9           NaN            NaN           32.0      17.0     1489   \n",
       "3214      NaN           NaN            NaN            NaN       NaN     1128   \n",
       "3215      NaN           NaN            NaN            NaN       NaN     1371   \n",
       "\n",
       "      months tariff  \n",
       "0       10.0  ultra  \n",
       "1       11.0  ultra  \n",
       "2       12.0  ultra  \n",
       "3        5.0  ultra  \n",
       "4        6.0  ultra  \n",
       "...      ...    ...  \n",
       "3211    12.0  smart  \n",
       "3212     8.0  smart  \n",
       "3213     9.0  smart  \n",
       "3214     NaN  ultra  \n",
       "3215     NaN  smart  \n",
       "\n",
       "[3216 rows x 8 columns]"
      ]
     },
     "execution_count": 57,
     "metadata": {},
     "output_type": "execute_result"
    }
   ],
   "source": [
    "total=total.merge(users_tariff, on='user_id',how='outer')\n",
    "total\n"
   ]
  },
  {
   "cell_type": "code",
   "execution_count": 58,
   "metadata": {},
   "outputs": [
    {
     "data": {
      "text/plain": [
       "500"
      ]
     },
     "execution_count": 58,
     "metadata": {},
     "output_type": "execute_result"
    }
   ],
   "source": [
    "total['user_id'].nunique()"
   ]
  },
  {
   "cell_type": "code",
   "execution_count": 59,
   "metadata": {},
   "outputs": [
    {
     "data": {
      "text/plain": [
       "498"
      ]
     },
     "execution_count": 59,
     "metadata": {},
     "output_type": "execute_result"
    }
   ],
   "source": [
    "total = total.dropna(subset=['months']) \n",
    "total['user_id'].nunique()"
   ]
  },
  {
   "cell_type": "code",
   "execution_count": 60,
   "metadata": {
    "scrolled": false
   },
   "outputs": [
    {
     "data": {
      "text/html": [
       "<div>\n",
       "<style scoped>\n",
       "    .dataframe tbody tr th:only-of-type {\n",
       "        vertical-align: middle;\n",
       "    }\n",
       "\n",
       "    .dataframe tbody tr th {\n",
       "        vertical-align: top;\n",
       "    }\n",
       "\n",
       "    .dataframe thead th {\n",
       "        text-align: right;\n",
       "    }\n",
       "</style>\n",
       "<table border=\"1\" class=\"dataframe\">\n",
       "  <thead>\n",
       "    <tr style=\"text-align: right;\">\n",
       "      <th></th>\n",
       "      <th>category</th>\n",
       "      <th>calls_number</th>\n",
       "      <th>minutes_total</th>\n",
       "      <th>message_total</th>\n",
       "      <th>gb_total</th>\n",
       "      <th>user_id</th>\n",
       "      <th>months</th>\n",
       "      <th>tariff_name</th>\n",
       "    </tr>\n",
       "  </thead>\n",
       "  <tbody>\n",
       "    <tr>\n",
       "      <th>0</th>\n",
       "      <td>1000_10</td>\n",
       "      <td>57.0</td>\n",
       "      <td>350.0</td>\n",
       "      <td>73.0</td>\n",
       "      <td>15.0</td>\n",
       "      <td>1000</td>\n",
       "      <td>10.0</td>\n",
       "      <td>ultra</td>\n",
       "    </tr>\n",
       "    <tr>\n",
       "      <th>1</th>\n",
       "      <td>1000_11</td>\n",
       "      <td>43.0</td>\n",
       "      <td>338.0</td>\n",
       "      <td>58.0</td>\n",
       "      <td>15.0</td>\n",
       "      <td>1000</td>\n",
       "      <td>11.0</td>\n",
       "      <td>ultra</td>\n",
       "    </tr>\n",
       "    <tr>\n",
       "      <th>2</th>\n",
       "      <td>1000_12</td>\n",
       "      <td>46.0</td>\n",
       "      <td>333.0</td>\n",
       "      <td>70.0</td>\n",
       "      <td>10.0</td>\n",
       "      <td>1000</td>\n",
       "      <td>12.0</td>\n",
       "      <td>ultra</td>\n",
       "    </tr>\n",
       "    <tr>\n",
       "      <th>3</th>\n",
       "      <td>1000_5</td>\n",
       "      <td>22.0</td>\n",
       "      <td>159.0</td>\n",
       "      <td>22.0</td>\n",
       "      <td>3.0</td>\n",
       "      <td>1000</td>\n",
       "      <td>5.0</td>\n",
       "      <td>ultra</td>\n",
       "    </tr>\n",
       "    <tr>\n",
       "      <th>4</th>\n",
       "      <td>1000_6</td>\n",
       "      <td>43.0</td>\n",
       "      <td>172.0</td>\n",
       "      <td>60.0</td>\n",
       "      <td>23.0</td>\n",
       "      <td>1000</td>\n",
       "      <td>6.0</td>\n",
       "      <td>ultra</td>\n",
       "    </tr>\n",
       "    <tr>\n",
       "      <th>...</th>\n",
       "      <td>...</td>\n",
       "      <td>...</td>\n",
       "      <td>...</td>\n",
       "      <td>...</td>\n",
       "      <td>...</td>\n",
       "      <td>...</td>\n",
       "      <td>...</td>\n",
       "      <td>...</td>\n",
       "    </tr>\n",
       "    <tr>\n",
       "      <th>3209</th>\n",
       "      <td>1489_10</td>\n",
       "      <td>0.0</td>\n",
       "      <td>0.0</td>\n",
       "      <td>21.0</td>\n",
       "      <td>20.0</td>\n",
       "      <td>1489</td>\n",
       "      <td>10.0</td>\n",
       "      <td>smart</td>\n",
       "    </tr>\n",
       "    <tr>\n",
       "      <th>3210</th>\n",
       "      <td>1489_11</td>\n",
       "      <td>0.0</td>\n",
       "      <td>0.0</td>\n",
       "      <td>20.0</td>\n",
       "      <td>18.0</td>\n",
       "      <td>1489</td>\n",
       "      <td>11.0</td>\n",
       "      <td>smart</td>\n",
       "    </tr>\n",
       "    <tr>\n",
       "      <th>3211</th>\n",
       "      <td>1489_12</td>\n",
       "      <td>0.0</td>\n",
       "      <td>0.0</td>\n",
       "      <td>35.0</td>\n",
       "      <td>17.0</td>\n",
       "      <td>1489</td>\n",
       "      <td>12.0</td>\n",
       "      <td>smart</td>\n",
       "    </tr>\n",
       "    <tr>\n",
       "      <th>3212</th>\n",
       "      <td>1489_8</td>\n",
       "      <td>0.0</td>\n",
       "      <td>0.0</td>\n",
       "      <td>17.0</td>\n",
       "      <td>11.0</td>\n",
       "      <td>1489</td>\n",
       "      <td>8.0</td>\n",
       "      <td>smart</td>\n",
       "    </tr>\n",
       "    <tr>\n",
       "      <th>3213</th>\n",
       "      <td>1489_9</td>\n",
       "      <td>0.0</td>\n",
       "      <td>0.0</td>\n",
       "      <td>32.0</td>\n",
       "      <td>17.0</td>\n",
       "      <td>1489</td>\n",
       "      <td>9.0</td>\n",
       "      <td>smart</td>\n",
       "    </tr>\n",
       "  </tbody>\n",
       "</table>\n",
       "<p>3214 rows × 8 columns</p>\n",
       "</div>"
      ],
      "text/plain": [
       "     category  calls_number  minutes_total  message_total  gb_total  user_id  \\\n",
       "0     1000_10          57.0          350.0           73.0      15.0     1000   \n",
       "1     1000_11          43.0          338.0           58.0      15.0     1000   \n",
       "2     1000_12          46.0          333.0           70.0      10.0     1000   \n",
       "3      1000_5          22.0          159.0           22.0       3.0     1000   \n",
       "4      1000_6          43.0          172.0           60.0      23.0     1000   \n",
       "...       ...           ...            ...            ...       ...      ...   \n",
       "3209  1489_10           0.0            0.0           21.0      20.0     1489   \n",
       "3210  1489_11           0.0            0.0           20.0      18.0     1489   \n",
       "3211  1489_12           0.0            0.0           35.0      17.0     1489   \n",
       "3212   1489_8           0.0            0.0           17.0      11.0     1489   \n",
       "3213   1489_9           0.0            0.0           32.0      17.0     1489   \n",
       "\n",
       "      months tariff_name  \n",
       "0       10.0       ultra  \n",
       "1       11.0       ultra  \n",
       "2       12.0       ultra  \n",
       "3        5.0       ultra  \n",
       "4        6.0       ultra  \n",
       "...      ...         ...  \n",
       "3209    10.0       smart  \n",
       "3210    11.0       smart  \n",
       "3211    12.0       smart  \n",
       "3212     8.0       smart  \n",
       "3213     9.0       smart  \n",
       "\n",
       "[3214 rows x 8 columns]"
      ]
     },
     "execution_count": 60,
     "metadata": {},
     "output_type": "execute_result"
    }
   ],
   "source": [
    "total=total.fillna(0)\n",
    "total.rename(columns={'tariff': 'tariff_name'}, inplace=True)\n",
    "total"
   ]
  },
  {
   "cell_type": "markdown",
   "metadata": {},
   "source": [
    "### Помесячная выручка с каждого пользователя"
   ]
  },
  {
   "cell_type": "code",
   "execution_count": 61,
   "metadata": {},
   "outputs": [
    {
     "data": {
      "text/html": [
       "<div>\n",
       "<style scoped>\n",
       "    .dataframe tbody tr th:only-of-type {\n",
       "        vertical-align: middle;\n",
       "    }\n",
       "\n",
       "    .dataframe tbody tr th {\n",
       "        vertical-align: top;\n",
       "    }\n",
       "\n",
       "    .dataframe thead th {\n",
       "        text-align: right;\n",
       "    }\n",
       "</style>\n",
       "<table border=\"1\" class=\"dataframe\">\n",
       "  <thead>\n",
       "    <tr style=\"text-align: right;\">\n",
       "      <th></th>\n",
       "      <th>messages_included</th>\n",
       "      <th>mb_per_month_included</th>\n",
       "      <th>minutes_included</th>\n",
       "      <th>rub_monthly_fee</th>\n",
       "      <th>rub_per_gb</th>\n",
       "      <th>rub_per_message</th>\n",
       "      <th>rub_per_minute</th>\n",
       "      <th>tariff_name</th>\n",
       "    </tr>\n",
       "  </thead>\n",
       "  <tbody>\n",
       "    <tr>\n",
       "      <th>0</th>\n",
       "      <td>50</td>\n",
       "      <td>15360</td>\n",
       "      <td>500</td>\n",
       "      <td>550</td>\n",
       "      <td>200</td>\n",
       "      <td>3</td>\n",
       "      <td>3</td>\n",
       "      <td>smart</td>\n",
       "    </tr>\n",
       "    <tr>\n",
       "      <th>1</th>\n",
       "      <td>1000</td>\n",
       "      <td>30720</td>\n",
       "      <td>3000</td>\n",
       "      <td>1950</td>\n",
       "      <td>150</td>\n",
       "      <td>1</td>\n",
       "      <td>1</td>\n",
       "      <td>ultra</td>\n",
       "    </tr>\n",
       "  </tbody>\n",
       "</table>\n",
       "</div>"
      ],
      "text/plain": [
       "   messages_included  mb_per_month_included  minutes_included  \\\n",
       "0                 50                  15360               500   \n",
       "1               1000                  30720              3000   \n",
       "\n",
       "   rub_monthly_fee  rub_per_gb  rub_per_message  rub_per_minute tariff_name  \n",
       "0              550         200                3               3       smart  \n",
       "1             1950         150                1               1       ultra  "
      ]
     },
     "execution_count": 61,
     "metadata": {},
     "output_type": "execute_result"
    }
   ],
   "source": [
    "tariffs"
   ]
  },
  {
   "cell_type": "code",
   "execution_count": 62,
   "metadata": {},
   "outputs": [],
   "source": [
    "tariffs['gb_per_month_included'] = (tariffs['mb_per_month_included']/1024).astype('int')"
   ]
  },
  {
   "cell_type": "code",
   "execution_count": 63,
   "metadata": {},
   "outputs": [
    {
     "data": {
      "text/html": [
       "<div>\n",
       "<style scoped>\n",
       "    .dataframe tbody tr th:only-of-type {\n",
       "        vertical-align: middle;\n",
       "    }\n",
       "\n",
       "    .dataframe tbody tr th {\n",
       "        vertical-align: top;\n",
       "    }\n",
       "\n",
       "    .dataframe thead th {\n",
       "        text-align: right;\n",
       "    }\n",
       "</style>\n",
       "<table border=\"1\" class=\"dataframe\">\n",
       "  <thead>\n",
       "    <tr style=\"text-align: right;\">\n",
       "      <th></th>\n",
       "      <th>messages_included</th>\n",
       "      <th>mb_per_month_included</th>\n",
       "      <th>minutes_included</th>\n",
       "      <th>rub_monthly_fee</th>\n",
       "      <th>rub_per_gb</th>\n",
       "      <th>rub_per_message</th>\n",
       "      <th>rub_per_minute</th>\n",
       "      <th>tariff_name</th>\n",
       "      <th>gb_per_month_included</th>\n",
       "    </tr>\n",
       "  </thead>\n",
       "  <tbody>\n",
       "    <tr>\n",
       "      <th>0</th>\n",
       "      <td>50</td>\n",
       "      <td>15360</td>\n",
       "      <td>500</td>\n",
       "      <td>550</td>\n",
       "      <td>200</td>\n",
       "      <td>3</td>\n",
       "      <td>3</td>\n",
       "      <td>smart</td>\n",
       "      <td>15</td>\n",
       "    </tr>\n",
       "    <tr>\n",
       "      <th>1</th>\n",
       "      <td>1000</td>\n",
       "      <td>30720</td>\n",
       "      <td>3000</td>\n",
       "      <td>1950</td>\n",
       "      <td>150</td>\n",
       "      <td>1</td>\n",
       "      <td>1</td>\n",
       "      <td>ultra</td>\n",
       "      <td>30</td>\n",
       "    </tr>\n",
       "  </tbody>\n",
       "</table>\n",
       "</div>"
      ],
      "text/plain": [
       "   messages_included  mb_per_month_included  minutes_included  \\\n",
       "0                 50                  15360               500   \n",
       "1               1000                  30720              3000   \n",
       "\n",
       "   rub_monthly_fee  rub_per_gb  rub_per_message  rub_per_minute tariff_name  \\\n",
       "0              550         200                3               3       smart   \n",
       "1             1950         150                1               1       ultra   \n",
       "\n",
       "   gb_per_month_included  \n",
       "0                     15  \n",
       "1                     30  "
      ]
     },
     "execution_count": 63,
     "metadata": {},
     "output_type": "execute_result"
    }
   ],
   "source": [
    "tariffs"
   ]
  },
  {
   "cell_type": "markdown",
   "metadata": {},
   "source": [
    "помесячную выручку с каждого пользователя (вычтите бесплатный лимит из суммарного количества звонков, сообщений и интернет-трафика; остаток умножьте на значение из тарифного плана; прибавьте абонентскую плату, соответствующую тарифному плану)."
   ]
  },
  {
   "cell_type": "code",
   "execution_count": 64,
   "metadata": {},
   "outputs": [],
   "source": [
    "total=total.merge(tariffs, on='tariff_name',how='outer')\n",
    "total['months']=total['months'].astype('int')"
   ]
  },
  {
   "cell_type": "code",
   "execution_count": 65,
   "metadata": {},
   "outputs": [],
   "source": [
    "def overlim_count(df,c1,c2,c3):\n",
    "    a=[]\n",
    "    for i in range(len(df)):\n",
    "        if df[c1][i]<df[c2][i]:\n",
    "            a.append(0)\n",
    "        else:\n",
    "            a.append((df[c1][i]-df[c2][i])*df[c3][i])\n",
    "    return a"
   ]
  },
  {
   "cell_type": "code",
   "execution_count": 66,
   "metadata": {},
   "outputs": [
    {
     "data": {
      "text/html": [
       "<div>\n",
       "<style scoped>\n",
       "    .dataframe tbody tr th:only-of-type {\n",
       "        vertical-align: middle;\n",
       "    }\n",
       "\n",
       "    .dataframe tbody tr th {\n",
       "        vertical-align: top;\n",
       "    }\n",
       "\n",
       "    .dataframe thead th {\n",
       "        text-align: right;\n",
       "    }\n",
       "</style>\n",
       "<table border=\"1\" class=\"dataframe\">\n",
       "  <thead>\n",
       "    <tr style=\"text-align: right;\">\n",
       "      <th></th>\n",
       "      <th>category</th>\n",
       "      <th>calls_number</th>\n",
       "      <th>minutes_total</th>\n",
       "      <th>message_total</th>\n",
       "      <th>gb_total</th>\n",
       "      <th>user_id</th>\n",
       "      <th>months</th>\n",
       "      <th>tariff_name</th>\n",
       "      <th>messages_included</th>\n",
       "      <th>mb_per_month_included</th>\n",
       "      <th>minutes_included</th>\n",
       "      <th>rub_monthly_fee</th>\n",
       "      <th>rub_per_gb</th>\n",
       "      <th>rub_per_message</th>\n",
       "      <th>rub_per_minute</th>\n",
       "      <th>gb_per_month_included</th>\n",
       "      <th>min_overlim_pr</th>\n",
       "      <th>message_overlim_pr</th>\n",
       "      <th>gb_overlim_pr</th>\n",
       "    </tr>\n",
       "  </thead>\n",
       "  <tbody>\n",
       "    <tr>\n",
       "      <th>0</th>\n",
       "      <td>1000_10</td>\n",
       "      <td>57.0</td>\n",
       "      <td>350.0</td>\n",
       "      <td>73.0</td>\n",
       "      <td>15.0</td>\n",
       "      <td>1000</td>\n",
       "      <td>10</td>\n",
       "      <td>ultra</td>\n",
       "      <td>1000</td>\n",
       "      <td>30720</td>\n",
       "      <td>3000</td>\n",
       "      <td>1950</td>\n",
       "      <td>150</td>\n",
       "      <td>1</td>\n",
       "      <td>1</td>\n",
       "      <td>30</td>\n",
       "      <td>0.0</td>\n",
       "      <td>0.0</td>\n",
       "      <td>0.0</td>\n",
       "    </tr>\n",
       "    <tr>\n",
       "      <th>1</th>\n",
       "      <td>1000_11</td>\n",
       "      <td>43.0</td>\n",
       "      <td>338.0</td>\n",
       "      <td>58.0</td>\n",
       "      <td>15.0</td>\n",
       "      <td>1000</td>\n",
       "      <td>11</td>\n",
       "      <td>ultra</td>\n",
       "      <td>1000</td>\n",
       "      <td>30720</td>\n",
       "      <td>3000</td>\n",
       "      <td>1950</td>\n",
       "      <td>150</td>\n",
       "      <td>1</td>\n",
       "      <td>1</td>\n",
       "      <td>30</td>\n",
       "      <td>0.0</td>\n",
       "      <td>0.0</td>\n",
       "      <td>0.0</td>\n",
       "    </tr>\n",
       "    <tr>\n",
       "      <th>2</th>\n",
       "      <td>1000_12</td>\n",
       "      <td>46.0</td>\n",
       "      <td>333.0</td>\n",
       "      <td>70.0</td>\n",
       "      <td>10.0</td>\n",
       "      <td>1000</td>\n",
       "      <td>12</td>\n",
       "      <td>ultra</td>\n",
       "      <td>1000</td>\n",
       "      <td>30720</td>\n",
       "      <td>3000</td>\n",
       "      <td>1950</td>\n",
       "      <td>150</td>\n",
       "      <td>1</td>\n",
       "      <td>1</td>\n",
       "      <td>30</td>\n",
       "      <td>0.0</td>\n",
       "      <td>0.0</td>\n",
       "      <td>0.0</td>\n",
       "    </tr>\n",
       "    <tr>\n",
       "      <th>3</th>\n",
       "      <td>1000_5</td>\n",
       "      <td>22.0</td>\n",
       "      <td>159.0</td>\n",
       "      <td>22.0</td>\n",
       "      <td>3.0</td>\n",
       "      <td>1000</td>\n",
       "      <td>5</td>\n",
       "      <td>ultra</td>\n",
       "      <td>1000</td>\n",
       "      <td>30720</td>\n",
       "      <td>3000</td>\n",
       "      <td>1950</td>\n",
       "      <td>150</td>\n",
       "      <td>1</td>\n",
       "      <td>1</td>\n",
       "      <td>30</td>\n",
       "      <td>0.0</td>\n",
       "      <td>0.0</td>\n",
       "      <td>0.0</td>\n",
       "    </tr>\n",
       "    <tr>\n",
       "      <th>4</th>\n",
       "      <td>1000_6</td>\n",
       "      <td>43.0</td>\n",
       "      <td>172.0</td>\n",
       "      <td>60.0</td>\n",
       "      <td>23.0</td>\n",
       "      <td>1000</td>\n",
       "      <td>6</td>\n",
       "      <td>ultra</td>\n",
       "      <td>1000</td>\n",
       "      <td>30720</td>\n",
       "      <td>3000</td>\n",
       "      <td>1950</td>\n",
       "      <td>150</td>\n",
       "      <td>1</td>\n",
       "      <td>1</td>\n",
       "      <td>30</td>\n",
       "      <td>0.0</td>\n",
       "      <td>0.0</td>\n",
       "      <td>0.0</td>\n",
       "    </tr>\n",
       "    <tr>\n",
       "      <th>...</th>\n",
       "      <td>...</td>\n",
       "      <td>...</td>\n",
       "      <td>...</td>\n",
       "      <td>...</td>\n",
       "      <td>...</td>\n",
       "      <td>...</td>\n",
       "      <td>...</td>\n",
       "      <td>...</td>\n",
       "      <td>...</td>\n",
       "      <td>...</td>\n",
       "      <td>...</td>\n",
       "      <td>...</td>\n",
       "      <td>...</td>\n",
       "      <td>...</td>\n",
       "      <td>...</td>\n",
       "      <td>...</td>\n",
       "      <td>...</td>\n",
       "      <td>...</td>\n",
       "      <td>...</td>\n",
       "    </tr>\n",
       "    <tr>\n",
       "      <th>3209</th>\n",
       "      <td>1489_10</td>\n",
       "      <td>0.0</td>\n",
       "      <td>0.0</td>\n",
       "      <td>21.0</td>\n",
       "      <td>20.0</td>\n",
       "      <td>1489</td>\n",
       "      <td>10</td>\n",
       "      <td>smart</td>\n",
       "      <td>50</td>\n",
       "      <td>15360</td>\n",
       "      <td>500</td>\n",
       "      <td>550</td>\n",
       "      <td>200</td>\n",
       "      <td>3</td>\n",
       "      <td>3</td>\n",
       "      <td>15</td>\n",
       "      <td>0.0</td>\n",
       "      <td>0.0</td>\n",
       "      <td>1000.0</td>\n",
       "    </tr>\n",
       "    <tr>\n",
       "      <th>3210</th>\n",
       "      <td>1489_11</td>\n",
       "      <td>0.0</td>\n",
       "      <td>0.0</td>\n",
       "      <td>20.0</td>\n",
       "      <td>18.0</td>\n",
       "      <td>1489</td>\n",
       "      <td>11</td>\n",
       "      <td>smart</td>\n",
       "      <td>50</td>\n",
       "      <td>15360</td>\n",
       "      <td>500</td>\n",
       "      <td>550</td>\n",
       "      <td>200</td>\n",
       "      <td>3</td>\n",
       "      <td>3</td>\n",
       "      <td>15</td>\n",
       "      <td>0.0</td>\n",
       "      <td>0.0</td>\n",
       "      <td>600.0</td>\n",
       "    </tr>\n",
       "    <tr>\n",
       "      <th>3211</th>\n",
       "      <td>1489_12</td>\n",
       "      <td>0.0</td>\n",
       "      <td>0.0</td>\n",
       "      <td>35.0</td>\n",
       "      <td>17.0</td>\n",
       "      <td>1489</td>\n",
       "      <td>12</td>\n",
       "      <td>smart</td>\n",
       "      <td>50</td>\n",
       "      <td>15360</td>\n",
       "      <td>500</td>\n",
       "      <td>550</td>\n",
       "      <td>200</td>\n",
       "      <td>3</td>\n",
       "      <td>3</td>\n",
       "      <td>15</td>\n",
       "      <td>0.0</td>\n",
       "      <td>0.0</td>\n",
       "      <td>400.0</td>\n",
       "    </tr>\n",
       "    <tr>\n",
       "      <th>3212</th>\n",
       "      <td>1489_8</td>\n",
       "      <td>0.0</td>\n",
       "      <td>0.0</td>\n",
       "      <td>17.0</td>\n",
       "      <td>11.0</td>\n",
       "      <td>1489</td>\n",
       "      <td>8</td>\n",
       "      <td>smart</td>\n",
       "      <td>50</td>\n",
       "      <td>15360</td>\n",
       "      <td>500</td>\n",
       "      <td>550</td>\n",
       "      <td>200</td>\n",
       "      <td>3</td>\n",
       "      <td>3</td>\n",
       "      <td>15</td>\n",
       "      <td>0.0</td>\n",
       "      <td>0.0</td>\n",
       "      <td>0.0</td>\n",
       "    </tr>\n",
       "    <tr>\n",
       "      <th>3213</th>\n",
       "      <td>1489_9</td>\n",
       "      <td>0.0</td>\n",
       "      <td>0.0</td>\n",
       "      <td>32.0</td>\n",
       "      <td>17.0</td>\n",
       "      <td>1489</td>\n",
       "      <td>9</td>\n",
       "      <td>smart</td>\n",
       "      <td>50</td>\n",
       "      <td>15360</td>\n",
       "      <td>500</td>\n",
       "      <td>550</td>\n",
       "      <td>200</td>\n",
       "      <td>3</td>\n",
       "      <td>3</td>\n",
       "      <td>15</td>\n",
       "      <td>0.0</td>\n",
       "      <td>0.0</td>\n",
       "      <td>400.0</td>\n",
       "    </tr>\n",
       "  </tbody>\n",
       "</table>\n",
       "<p>3214 rows × 19 columns</p>\n",
       "</div>"
      ],
      "text/plain": [
       "     category  calls_number  minutes_total  message_total  gb_total  user_id  \\\n",
       "0     1000_10          57.0          350.0           73.0      15.0     1000   \n",
       "1     1000_11          43.0          338.0           58.0      15.0     1000   \n",
       "2     1000_12          46.0          333.0           70.0      10.0     1000   \n",
       "3      1000_5          22.0          159.0           22.0       3.0     1000   \n",
       "4      1000_6          43.0          172.0           60.0      23.0     1000   \n",
       "...       ...           ...            ...            ...       ...      ...   \n",
       "3209  1489_10           0.0            0.0           21.0      20.0     1489   \n",
       "3210  1489_11           0.0            0.0           20.0      18.0     1489   \n",
       "3211  1489_12           0.0            0.0           35.0      17.0     1489   \n",
       "3212   1489_8           0.0            0.0           17.0      11.0     1489   \n",
       "3213   1489_9           0.0            0.0           32.0      17.0     1489   \n",
       "\n",
       "      months tariff_name  messages_included  mb_per_month_included  \\\n",
       "0         10       ultra               1000                  30720   \n",
       "1         11       ultra               1000                  30720   \n",
       "2         12       ultra               1000                  30720   \n",
       "3          5       ultra               1000                  30720   \n",
       "4          6       ultra               1000                  30720   \n",
       "...      ...         ...                ...                    ...   \n",
       "3209      10       smart                 50                  15360   \n",
       "3210      11       smart                 50                  15360   \n",
       "3211      12       smart                 50                  15360   \n",
       "3212       8       smart                 50                  15360   \n",
       "3213       9       smart                 50                  15360   \n",
       "\n",
       "      minutes_included  rub_monthly_fee  rub_per_gb  rub_per_message  \\\n",
       "0                 3000             1950         150                1   \n",
       "1                 3000             1950         150                1   \n",
       "2                 3000             1950         150                1   \n",
       "3                 3000             1950         150                1   \n",
       "4                 3000             1950         150                1   \n",
       "...                ...              ...         ...              ...   \n",
       "3209               500              550         200                3   \n",
       "3210               500              550         200                3   \n",
       "3211               500              550         200                3   \n",
       "3212               500              550         200                3   \n",
       "3213               500              550         200                3   \n",
       "\n",
       "      rub_per_minute  gb_per_month_included  min_overlim_pr  \\\n",
       "0                  1                     30             0.0   \n",
       "1                  1                     30             0.0   \n",
       "2                  1                     30             0.0   \n",
       "3                  1                     30             0.0   \n",
       "4                  1                     30             0.0   \n",
       "...              ...                    ...             ...   \n",
       "3209               3                     15             0.0   \n",
       "3210               3                     15             0.0   \n",
       "3211               3                     15             0.0   \n",
       "3212               3                     15             0.0   \n",
       "3213               3                     15             0.0   \n",
       "\n",
       "      message_overlim_pr  gb_overlim_pr  \n",
       "0                    0.0            0.0  \n",
       "1                    0.0            0.0  \n",
       "2                    0.0            0.0  \n",
       "3                    0.0            0.0  \n",
       "4                    0.0            0.0  \n",
       "...                  ...            ...  \n",
       "3209                 0.0         1000.0  \n",
       "3210                 0.0          600.0  \n",
       "3211                 0.0          400.0  \n",
       "3212                 0.0            0.0  \n",
       "3213                 0.0          400.0  \n",
       "\n",
       "[3214 rows x 19 columns]"
      ]
     },
     "execution_count": 66,
     "metadata": {},
     "output_type": "execute_result"
    }
   ],
   "source": [
    "total['min_overlim_pr']=overlim_count(total,'minutes_total','minutes_included','rub_per_minute')\n",
    "total['message_overlim_pr']=overlim_count(total,'message_total','messages_included','rub_per_message')\n",
    "total['gb_overlim_pr']=overlim_count(total,'gb_total','gb_per_month_included','rub_per_gb')\n",
    "total"
   ]
  },
  {
   "cell_type": "code",
   "execution_count": 67,
   "metadata": {
    "scrolled": false
   },
   "outputs": [
    {
     "data": {
      "text/html": [
       "<div>\n",
       "<style scoped>\n",
       "    .dataframe tbody tr th:only-of-type {\n",
       "        vertical-align: middle;\n",
       "    }\n",
       "\n",
       "    .dataframe tbody tr th {\n",
       "        vertical-align: top;\n",
       "    }\n",
       "\n",
       "    .dataframe thead th {\n",
       "        text-align: right;\n",
       "    }\n",
       "</style>\n",
       "<table border=\"1\" class=\"dataframe\">\n",
       "  <thead>\n",
       "    <tr style=\"text-align: right;\">\n",
       "      <th></th>\n",
       "      <th>category</th>\n",
       "      <th>calls_number</th>\n",
       "      <th>minutes_total</th>\n",
       "      <th>message_total</th>\n",
       "      <th>gb_total</th>\n",
       "      <th>user_id</th>\n",
       "      <th>months</th>\n",
       "      <th>tariff_name</th>\n",
       "      <th>messages_included</th>\n",
       "      <th>mb_per_month_included</th>\n",
       "      <th>minutes_included</th>\n",
       "      <th>rub_monthly_fee</th>\n",
       "      <th>rub_per_gb</th>\n",
       "      <th>rub_per_message</th>\n",
       "      <th>rub_per_minute</th>\n",
       "      <th>gb_per_month_included</th>\n",
       "      <th>min_overlim_pr</th>\n",
       "      <th>message_overlim_pr</th>\n",
       "      <th>gb_overlim_pr</th>\n",
       "      <th>total_income</th>\n",
       "    </tr>\n",
       "  </thead>\n",
       "  <tbody>\n",
       "    <tr>\n",
       "      <th>0</th>\n",
       "      <td>1000_10</td>\n",
       "      <td>57.0</td>\n",
       "      <td>350.0</td>\n",
       "      <td>73.0</td>\n",
       "      <td>15.0</td>\n",
       "      <td>1000</td>\n",
       "      <td>10</td>\n",
       "      <td>ultra</td>\n",
       "      <td>1000</td>\n",
       "      <td>30720</td>\n",
       "      <td>3000</td>\n",
       "      <td>1950</td>\n",
       "      <td>150</td>\n",
       "      <td>1</td>\n",
       "      <td>1</td>\n",
       "      <td>30</td>\n",
       "      <td>0.0</td>\n",
       "      <td>0.0</td>\n",
       "      <td>0.0</td>\n",
       "      <td>1950.0</td>\n",
       "    </tr>\n",
       "    <tr>\n",
       "      <th>1</th>\n",
       "      <td>1000_11</td>\n",
       "      <td>43.0</td>\n",
       "      <td>338.0</td>\n",
       "      <td>58.0</td>\n",
       "      <td>15.0</td>\n",
       "      <td>1000</td>\n",
       "      <td>11</td>\n",
       "      <td>ultra</td>\n",
       "      <td>1000</td>\n",
       "      <td>30720</td>\n",
       "      <td>3000</td>\n",
       "      <td>1950</td>\n",
       "      <td>150</td>\n",
       "      <td>1</td>\n",
       "      <td>1</td>\n",
       "      <td>30</td>\n",
       "      <td>0.0</td>\n",
       "      <td>0.0</td>\n",
       "      <td>0.0</td>\n",
       "      <td>1950.0</td>\n",
       "    </tr>\n",
       "    <tr>\n",
       "      <th>2</th>\n",
       "      <td>1000_12</td>\n",
       "      <td>46.0</td>\n",
       "      <td>333.0</td>\n",
       "      <td>70.0</td>\n",
       "      <td>10.0</td>\n",
       "      <td>1000</td>\n",
       "      <td>12</td>\n",
       "      <td>ultra</td>\n",
       "      <td>1000</td>\n",
       "      <td>30720</td>\n",
       "      <td>3000</td>\n",
       "      <td>1950</td>\n",
       "      <td>150</td>\n",
       "      <td>1</td>\n",
       "      <td>1</td>\n",
       "      <td>30</td>\n",
       "      <td>0.0</td>\n",
       "      <td>0.0</td>\n",
       "      <td>0.0</td>\n",
       "      <td>1950.0</td>\n",
       "    </tr>\n",
       "    <tr>\n",
       "      <th>3</th>\n",
       "      <td>1000_5</td>\n",
       "      <td>22.0</td>\n",
       "      <td>159.0</td>\n",
       "      <td>22.0</td>\n",
       "      <td>3.0</td>\n",
       "      <td>1000</td>\n",
       "      <td>5</td>\n",
       "      <td>ultra</td>\n",
       "      <td>1000</td>\n",
       "      <td>30720</td>\n",
       "      <td>3000</td>\n",
       "      <td>1950</td>\n",
       "      <td>150</td>\n",
       "      <td>1</td>\n",
       "      <td>1</td>\n",
       "      <td>30</td>\n",
       "      <td>0.0</td>\n",
       "      <td>0.0</td>\n",
       "      <td>0.0</td>\n",
       "      <td>1950.0</td>\n",
       "    </tr>\n",
       "    <tr>\n",
       "      <th>4</th>\n",
       "      <td>1000_6</td>\n",
       "      <td>43.0</td>\n",
       "      <td>172.0</td>\n",
       "      <td>60.0</td>\n",
       "      <td>23.0</td>\n",
       "      <td>1000</td>\n",
       "      <td>6</td>\n",
       "      <td>ultra</td>\n",
       "      <td>1000</td>\n",
       "      <td>30720</td>\n",
       "      <td>3000</td>\n",
       "      <td>1950</td>\n",
       "      <td>150</td>\n",
       "      <td>1</td>\n",
       "      <td>1</td>\n",
       "      <td>30</td>\n",
       "      <td>0.0</td>\n",
       "      <td>0.0</td>\n",
       "      <td>0.0</td>\n",
       "      <td>1950.0</td>\n",
       "    </tr>\n",
       "    <tr>\n",
       "      <th>...</th>\n",
       "      <td>...</td>\n",
       "      <td>...</td>\n",
       "      <td>...</td>\n",
       "      <td>...</td>\n",
       "      <td>...</td>\n",
       "      <td>...</td>\n",
       "      <td>...</td>\n",
       "      <td>...</td>\n",
       "      <td>...</td>\n",
       "      <td>...</td>\n",
       "      <td>...</td>\n",
       "      <td>...</td>\n",
       "      <td>...</td>\n",
       "      <td>...</td>\n",
       "      <td>...</td>\n",
       "      <td>...</td>\n",
       "      <td>...</td>\n",
       "      <td>...</td>\n",
       "      <td>...</td>\n",
       "      <td>...</td>\n",
       "    </tr>\n",
       "    <tr>\n",
       "      <th>3209</th>\n",
       "      <td>1489_10</td>\n",
       "      <td>0.0</td>\n",
       "      <td>0.0</td>\n",
       "      <td>21.0</td>\n",
       "      <td>20.0</td>\n",
       "      <td>1489</td>\n",
       "      <td>10</td>\n",
       "      <td>smart</td>\n",
       "      <td>50</td>\n",
       "      <td>15360</td>\n",
       "      <td>500</td>\n",
       "      <td>550</td>\n",
       "      <td>200</td>\n",
       "      <td>3</td>\n",
       "      <td>3</td>\n",
       "      <td>15</td>\n",
       "      <td>0.0</td>\n",
       "      <td>0.0</td>\n",
       "      <td>1000.0</td>\n",
       "      <td>1550.0</td>\n",
       "    </tr>\n",
       "    <tr>\n",
       "      <th>3210</th>\n",
       "      <td>1489_11</td>\n",
       "      <td>0.0</td>\n",
       "      <td>0.0</td>\n",
       "      <td>20.0</td>\n",
       "      <td>18.0</td>\n",
       "      <td>1489</td>\n",
       "      <td>11</td>\n",
       "      <td>smart</td>\n",
       "      <td>50</td>\n",
       "      <td>15360</td>\n",
       "      <td>500</td>\n",
       "      <td>550</td>\n",
       "      <td>200</td>\n",
       "      <td>3</td>\n",
       "      <td>3</td>\n",
       "      <td>15</td>\n",
       "      <td>0.0</td>\n",
       "      <td>0.0</td>\n",
       "      <td>600.0</td>\n",
       "      <td>1150.0</td>\n",
       "    </tr>\n",
       "    <tr>\n",
       "      <th>3211</th>\n",
       "      <td>1489_12</td>\n",
       "      <td>0.0</td>\n",
       "      <td>0.0</td>\n",
       "      <td>35.0</td>\n",
       "      <td>17.0</td>\n",
       "      <td>1489</td>\n",
       "      <td>12</td>\n",
       "      <td>smart</td>\n",
       "      <td>50</td>\n",
       "      <td>15360</td>\n",
       "      <td>500</td>\n",
       "      <td>550</td>\n",
       "      <td>200</td>\n",
       "      <td>3</td>\n",
       "      <td>3</td>\n",
       "      <td>15</td>\n",
       "      <td>0.0</td>\n",
       "      <td>0.0</td>\n",
       "      <td>400.0</td>\n",
       "      <td>950.0</td>\n",
       "    </tr>\n",
       "    <tr>\n",
       "      <th>3212</th>\n",
       "      <td>1489_8</td>\n",
       "      <td>0.0</td>\n",
       "      <td>0.0</td>\n",
       "      <td>17.0</td>\n",
       "      <td>11.0</td>\n",
       "      <td>1489</td>\n",
       "      <td>8</td>\n",
       "      <td>smart</td>\n",
       "      <td>50</td>\n",
       "      <td>15360</td>\n",
       "      <td>500</td>\n",
       "      <td>550</td>\n",
       "      <td>200</td>\n",
       "      <td>3</td>\n",
       "      <td>3</td>\n",
       "      <td>15</td>\n",
       "      <td>0.0</td>\n",
       "      <td>0.0</td>\n",
       "      <td>0.0</td>\n",
       "      <td>550.0</td>\n",
       "    </tr>\n",
       "    <tr>\n",
       "      <th>3213</th>\n",
       "      <td>1489_9</td>\n",
       "      <td>0.0</td>\n",
       "      <td>0.0</td>\n",
       "      <td>32.0</td>\n",
       "      <td>17.0</td>\n",
       "      <td>1489</td>\n",
       "      <td>9</td>\n",
       "      <td>smart</td>\n",
       "      <td>50</td>\n",
       "      <td>15360</td>\n",
       "      <td>500</td>\n",
       "      <td>550</td>\n",
       "      <td>200</td>\n",
       "      <td>3</td>\n",
       "      <td>3</td>\n",
       "      <td>15</td>\n",
       "      <td>0.0</td>\n",
       "      <td>0.0</td>\n",
       "      <td>400.0</td>\n",
       "      <td>950.0</td>\n",
       "    </tr>\n",
       "  </tbody>\n",
       "</table>\n",
       "<p>3214 rows × 20 columns</p>\n",
       "</div>"
      ],
      "text/plain": [
       "     category  calls_number  minutes_total  message_total  gb_total  user_id  \\\n",
       "0     1000_10          57.0          350.0           73.0      15.0     1000   \n",
       "1     1000_11          43.0          338.0           58.0      15.0     1000   \n",
       "2     1000_12          46.0          333.0           70.0      10.0     1000   \n",
       "3      1000_5          22.0          159.0           22.0       3.0     1000   \n",
       "4      1000_6          43.0          172.0           60.0      23.0     1000   \n",
       "...       ...           ...            ...            ...       ...      ...   \n",
       "3209  1489_10           0.0            0.0           21.0      20.0     1489   \n",
       "3210  1489_11           0.0            0.0           20.0      18.0     1489   \n",
       "3211  1489_12           0.0            0.0           35.0      17.0     1489   \n",
       "3212   1489_8           0.0            0.0           17.0      11.0     1489   \n",
       "3213   1489_9           0.0            0.0           32.0      17.0     1489   \n",
       "\n",
       "      months tariff_name  messages_included  mb_per_month_included  \\\n",
       "0         10       ultra               1000                  30720   \n",
       "1         11       ultra               1000                  30720   \n",
       "2         12       ultra               1000                  30720   \n",
       "3          5       ultra               1000                  30720   \n",
       "4          6       ultra               1000                  30720   \n",
       "...      ...         ...                ...                    ...   \n",
       "3209      10       smart                 50                  15360   \n",
       "3210      11       smart                 50                  15360   \n",
       "3211      12       smart                 50                  15360   \n",
       "3212       8       smart                 50                  15360   \n",
       "3213       9       smart                 50                  15360   \n",
       "\n",
       "      minutes_included  rub_monthly_fee  rub_per_gb  rub_per_message  \\\n",
       "0                 3000             1950         150                1   \n",
       "1                 3000             1950         150                1   \n",
       "2                 3000             1950         150                1   \n",
       "3                 3000             1950         150                1   \n",
       "4                 3000             1950         150                1   \n",
       "...                ...              ...         ...              ...   \n",
       "3209               500              550         200                3   \n",
       "3210               500              550         200                3   \n",
       "3211               500              550         200                3   \n",
       "3212               500              550         200                3   \n",
       "3213               500              550         200                3   \n",
       "\n",
       "      rub_per_minute  gb_per_month_included  min_overlim_pr  \\\n",
       "0                  1                     30             0.0   \n",
       "1                  1                     30             0.0   \n",
       "2                  1                     30             0.0   \n",
       "3                  1                     30             0.0   \n",
       "4                  1                     30             0.0   \n",
       "...              ...                    ...             ...   \n",
       "3209               3                     15             0.0   \n",
       "3210               3                     15             0.0   \n",
       "3211               3                     15             0.0   \n",
       "3212               3                     15             0.0   \n",
       "3213               3                     15             0.0   \n",
       "\n",
       "      message_overlim_pr  gb_overlim_pr  total_income  \n",
       "0                    0.0            0.0        1950.0  \n",
       "1                    0.0            0.0        1950.0  \n",
       "2                    0.0            0.0        1950.0  \n",
       "3                    0.0            0.0        1950.0  \n",
       "4                    0.0            0.0        1950.0  \n",
       "...                  ...            ...           ...  \n",
       "3209                 0.0         1000.0        1550.0  \n",
       "3210                 0.0          600.0        1150.0  \n",
       "3211                 0.0          400.0         950.0  \n",
       "3212                 0.0            0.0         550.0  \n",
       "3213                 0.0          400.0         950.0  \n",
       "\n",
       "[3214 rows x 20 columns]"
      ]
     },
     "execution_count": 67,
     "metadata": {},
     "output_type": "execute_result"
    }
   ],
   "source": [
    "total['total_income']=total['min_overlim_pr']+total['message_overlim_pr']+total['gb_overlim_pr']+total['rub_monthly_fee']\n",
    "total"
   ]
  },
  {
   "cell_type": "markdown",
   "metadata": {},
   "source": [
    "## Анализ данных"
   ]
  },
  {
   "cell_type": "code",
   "execution_count": 68,
   "metadata": {
    "scrolled": false
   },
   "outputs": [
    {
     "data": {
      "text/html": [
       "<div>\n",
       "<style scoped>\n",
       "    .dataframe tbody tr th:only-of-type {\n",
       "        vertical-align: middle;\n",
       "    }\n",
       "\n",
       "    .dataframe tbody tr th {\n",
       "        vertical-align: top;\n",
       "    }\n",
       "\n",
       "    .dataframe thead th {\n",
       "        text-align: right;\n",
       "    }\n",
       "</style>\n",
       "<table border=\"1\" class=\"dataframe\">\n",
       "  <thead>\n",
       "    <tr style=\"text-align: right;\">\n",
       "      <th></th>\n",
       "      <th>user_id</th>\n",
       "      <th>months</th>\n",
       "      <th>tariff_name</th>\n",
       "      <th>minutes_total</th>\n",
       "      <th>message_total</th>\n",
       "      <th>gb_total</th>\n",
       "      <th>total_income</th>\n",
       "      <th>minutes_included</th>\n",
       "      <th>messages_included</th>\n",
       "      <th>gb_per_month_included</th>\n",
       "    </tr>\n",
       "  </thead>\n",
       "  <tbody>\n",
       "    <tr>\n",
       "      <th>0</th>\n",
       "      <td>1000</td>\n",
       "      <td>10</td>\n",
       "      <td>ultra</td>\n",
       "      <td>350.0</td>\n",
       "      <td>73.0</td>\n",
       "      <td>15.0</td>\n",
       "      <td>1950.0</td>\n",
       "      <td>3000</td>\n",
       "      <td>1000</td>\n",
       "      <td>30</td>\n",
       "    </tr>\n",
       "    <tr>\n",
       "      <th>1</th>\n",
       "      <td>1000</td>\n",
       "      <td>11</td>\n",
       "      <td>ultra</td>\n",
       "      <td>338.0</td>\n",
       "      <td>58.0</td>\n",
       "      <td>15.0</td>\n",
       "      <td>1950.0</td>\n",
       "      <td>3000</td>\n",
       "      <td>1000</td>\n",
       "      <td>30</td>\n",
       "    </tr>\n",
       "    <tr>\n",
       "      <th>2</th>\n",
       "      <td>1000</td>\n",
       "      <td>12</td>\n",
       "      <td>ultra</td>\n",
       "      <td>333.0</td>\n",
       "      <td>70.0</td>\n",
       "      <td>10.0</td>\n",
       "      <td>1950.0</td>\n",
       "      <td>3000</td>\n",
       "      <td>1000</td>\n",
       "      <td>30</td>\n",
       "    </tr>\n",
       "    <tr>\n",
       "      <th>3</th>\n",
       "      <td>1000</td>\n",
       "      <td>5</td>\n",
       "      <td>ultra</td>\n",
       "      <td>159.0</td>\n",
       "      <td>22.0</td>\n",
       "      <td>3.0</td>\n",
       "      <td>1950.0</td>\n",
       "      <td>3000</td>\n",
       "      <td>1000</td>\n",
       "      <td>30</td>\n",
       "    </tr>\n",
       "    <tr>\n",
       "      <th>4</th>\n",
       "      <td>1000</td>\n",
       "      <td>6</td>\n",
       "      <td>ultra</td>\n",
       "      <td>172.0</td>\n",
       "      <td>60.0</td>\n",
       "      <td>23.0</td>\n",
       "      <td>1950.0</td>\n",
       "      <td>3000</td>\n",
       "      <td>1000</td>\n",
       "      <td>30</td>\n",
       "    </tr>\n",
       "    <tr>\n",
       "      <th>...</th>\n",
       "      <td>...</td>\n",
       "      <td>...</td>\n",
       "      <td>...</td>\n",
       "      <td>...</td>\n",
       "      <td>...</td>\n",
       "      <td>...</td>\n",
       "      <td>...</td>\n",
       "      <td>...</td>\n",
       "      <td>...</td>\n",
       "      <td>...</td>\n",
       "    </tr>\n",
       "    <tr>\n",
       "      <th>3209</th>\n",
       "      <td>1489</td>\n",
       "      <td>10</td>\n",
       "      <td>smart</td>\n",
       "      <td>0.0</td>\n",
       "      <td>21.0</td>\n",
       "      <td>20.0</td>\n",
       "      <td>1550.0</td>\n",
       "      <td>500</td>\n",
       "      <td>50</td>\n",
       "      <td>15</td>\n",
       "    </tr>\n",
       "    <tr>\n",
       "      <th>3210</th>\n",
       "      <td>1489</td>\n",
       "      <td>11</td>\n",
       "      <td>smart</td>\n",
       "      <td>0.0</td>\n",
       "      <td>20.0</td>\n",
       "      <td>18.0</td>\n",
       "      <td>1150.0</td>\n",
       "      <td>500</td>\n",
       "      <td>50</td>\n",
       "      <td>15</td>\n",
       "    </tr>\n",
       "    <tr>\n",
       "      <th>3211</th>\n",
       "      <td>1489</td>\n",
       "      <td>12</td>\n",
       "      <td>smart</td>\n",
       "      <td>0.0</td>\n",
       "      <td>35.0</td>\n",
       "      <td>17.0</td>\n",
       "      <td>950.0</td>\n",
       "      <td>500</td>\n",
       "      <td>50</td>\n",
       "      <td>15</td>\n",
       "    </tr>\n",
       "    <tr>\n",
       "      <th>3212</th>\n",
       "      <td>1489</td>\n",
       "      <td>8</td>\n",
       "      <td>smart</td>\n",
       "      <td>0.0</td>\n",
       "      <td>17.0</td>\n",
       "      <td>11.0</td>\n",
       "      <td>550.0</td>\n",
       "      <td>500</td>\n",
       "      <td>50</td>\n",
       "      <td>15</td>\n",
       "    </tr>\n",
       "    <tr>\n",
       "      <th>3213</th>\n",
       "      <td>1489</td>\n",
       "      <td>9</td>\n",
       "      <td>smart</td>\n",
       "      <td>0.0</td>\n",
       "      <td>32.0</td>\n",
       "      <td>17.0</td>\n",
       "      <td>950.0</td>\n",
       "      <td>500</td>\n",
       "      <td>50</td>\n",
       "      <td>15</td>\n",
       "    </tr>\n",
       "  </tbody>\n",
       "</table>\n",
       "<p>3214 rows × 10 columns</p>\n",
       "</div>"
      ],
      "text/plain": [
       "      user_id  months tariff_name  minutes_total  message_total  gb_total  \\\n",
       "0        1000      10       ultra          350.0           73.0      15.0   \n",
       "1        1000      11       ultra          338.0           58.0      15.0   \n",
       "2        1000      12       ultra          333.0           70.0      10.0   \n",
       "3        1000       5       ultra          159.0           22.0       3.0   \n",
       "4        1000       6       ultra          172.0           60.0      23.0   \n",
       "...       ...     ...         ...            ...            ...       ...   \n",
       "3209     1489      10       smart            0.0           21.0      20.0   \n",
       "3210     1489      11       smart            0.0           20.0      18.0   \n",
       "3211     1489      12       smart            0.0           35.0      17.0   \n",
       "3212     1489       8       smart            0.0           17.0      11.0   \n",
       "3213     1489       9       smart            0.0           32.0      17.0   \n",
       "\n",
       "      total_income  minutes_included  messages_included  gb_per_month_included  \n",
       "0           1950.0              3000               1000                     30  \n",
       "1           1950.0              3000               1000                     30  \n",
       "2           1950.0              3000               1000                     30  \n",
       "3           1950.0              3000               1000                     30  \n",
       "4           1950.0              3000               1000                     30  \n",
       "...            ...               ...                ...                    ...  \n",
       "3209        1550.0               500                 50                     15  \n",
       "3210        1150.0               500                 50                     15  \n",
       "3211         950.0               500                 50                     15  \n",
       "3212         550.0               500                 50                     15  \n",
       "3213         950.0               500                 50                     15  \n",
       "\n",
       "[3214 rows x 10 columns]"
      ]
     },
     "execution_count": 68,
     "metadata": {},
     "output_type": "execute_result"
    }
   ],
   "source": [
    "analise=total[['user_id','months','tariff_name',\n",
    "               'minutes_total','message_total',\n",
    "               'gb_total','total_income','minutes_included',\n",
    "               'messages_included','gb_per_month_included']]\n",
    "analise"
   ]
  },
  {
   "cell_type": "markdown",
   "metadata": {},
   "source": [
    "### Анализ тарифа `smart`"
   ]
  },
  {
   "cell_type": "code",
   "execution_count": 69,
   "metadata": {},
   "outputs": [
    {
     "data": {
      "text/html": [
       "<div>\n",
       "<style scoped>\n",
       "    .dataframe tbody tr th:only-of-type {\n",
       "        vertical-align: middle;\n",
       "    }\n",
       "\n",
       "    .dataframe tbody tr th {\n",
       "        vertical-align: top;\n",
       "    }\n",
       "\n",
       "    .dataframe thead th {\n",
       "        text-align: right;\n",
       "    }\n",
       "</style>\n",
       "<table border=\"1\" class=\"dataframe\">\n",
       "  <thead>\n",
       "    <tr style=\"text-align: right;\">\n",
       "      <th></th>\n",
       "      <th>user_id</th>\n",
       "      <th>months</th>\n",
       "      <th>tariff_name</th>\n",
       "      <th>minutes_total</th>\n",
       "      <th>message_total</th>\n",
       "      <th>gb_total</th>\n",
       "      <th>total_income</th>\n",
       "      <th>minutes_included</th>\n",
       "      <th>messages_included</th>\n",
       "      <th>gb_per_month_included</th>\n",
       "    </tr>\n",
       "  </thead>\n",
       "  <tbody>\n",
       "    <tr>\n",
       "      <th>985</th>\n",
       "      <td>1001</td>\n",
       "      <td>11</td>\n",
       "      <td>smart</td>\n",
       "      <td>430.0</td>\n",
       "      <td>0.0</td>\n",
       "      <td>18.0</td>\n",
       "      <td>1150.0</td>\n",
       "      <td>500</td>\n",
       "      <td>50</td>\n",
       "      <td>15</td>\n",
       "    </tr>\n",
       "    <tr>\n",
       "      <th>986</th>\n",
       "      <td>1001</td>\n",
       "      <td>12</td>\n",
       "      <td>smart</td>\n",
       "      <td>414.0</td>\n",
       "      <td>0.0</td>\n",
       "      <td>14.0</td>\n",
       "      <td>550.0</td>\n",
       "      <td>500</td>\n",
       "      <td>50</td>\n",
       "      <td>15</td>\n",
       "    </tr>\n",
       "    <tr>\n",
       "      <th>987</th>\n",
       "      <td>1002</td>\n",
       "      <td>10</td>\n",
       "      <td>smart</td>\n",
       "      <td>212.0</td>\n",
       "      <td>10.0</td>\n",
       "      <td>14.0</td>\n",
       "      <td>550.0</td>\n",
       "      <td>500</td>\n",
       "      <td>50</td>\n",
       "      <td>15</td>\n",
       "    </tr>\n",
       "    <tr>\n",
       "      <th>988</th>\n",
       "      <td>1002</td>\n",
       "      <td>11</td>\n",
       "      <td>smart</td>\n",
       "      <td>243.0</td>\n",
       "      <td>16.0</td>\n",
       "      <td>19.0</td>\n",
       "      <td>1350.0</td>\n",
       "      <td>500</td>\n",
       "      <td>50</td>\n",
       "      <td>15</td>\n",
       "    </tr>\n",
       "    <tr>\n",
       "      <th>989</th>\n",
       "      <td>1002</td>\n",
       "      <td>12</td>\n",
       "      <td>smart</td>\n",
       "      <td>236.0</td>\n",
       "      <td>12.0</td>\n",
       "      <td>18.0</td>\n",
       "      <td>1150.0</td>\n",
       "      <td>500</td>\n",
       "      <td>50</td>\n",
       "      <td>15</td>\n",
       "    </tr>\n",
       "    <tr>\n",
       "      <th>...</th>\n",
       "      <td>...</td>\n",
       "      <td>...</td>\n",
       "      <td>...</td>\n",
       "      <td>...</td>\n",
       "      <td>...</td>\n",
       "      <td>...</td>\n",
       "      <td>...</td>\n",
       "      <td>...</td>\n",
       "      <td>...</td>\n",
       "      <td>...</td>\n",
       "    </tr>\n",
       "    <tr>\n",
       "      <th>3209</th>\n",
       "      <td>1489</td>\n",
       "      <td>10</td>\n",
       "      <td>smart</td>\n",
       "      <td>0.0</td>\n",
       "      <td>21.0</td>\n",
       "      <td>20.0</td>\n",
       "      <td>1550.0</td>\n",
       "      <td>500</td>\n",
       "      <td>50</td>\n",
       "      <td>15</td>\n",
       "    </tr>\n",
       "    <tr>\n",
       "      <th>3210</th>\n",
       "      <td>1489</td>\n",
       "      <td>11</td>\n",
       "      <td>smart</td>\n",
       "      <td>0.0</td>\n",
       "      <td>20.0</td>\n",
       "      <td>18.0</td>\n",
       "      <td>1150.0</td>\n",
       "      <td>500</td>\n",
       "      <td>50</td>\n",
       "      <td>15</td>\n",
       "    </tr>\n",
       "    <tr>\n",
       "      <th>3211</th>\n",
       "      <td>1489</td>\n",
       "      <td>12</td>\n",
       "      <td>smart</td>\n",
       "      <td>0.0</td>\n",
       "      <td>35.0</td>\n",
       "      <td>17.0</td>\n",
       "      <td>950.0</td>\n",
       "      <td>500</td>\n",
       "      <td>50</td>\n",
       "      <td>15</td>\n",
       "    </tr>\n",
       "    <tr>\n",
       "      <th>3212</th>\n",
       "      <td>1489</td>\n",
       "      <td>8</td>\n",
       "      <td>smart</td>\n",
       "      <td>0.0</td>\n",
       "      <td>17.0</td>\n",
       "      <td>11.0</td>\n",
       "      <td>550.0</td>\n",
       "      <td>500</td>\n",
       "      <td>50</td>\n",
       "      <td>15</td>\n",
       "    </tr>\n",
       "    <tr>\n",
       "      <th>3213</th>\n",
       "      <td>1489</td>\n",
       "      <td>9</td>\n",
       "      <td>smart</td>\n",
       "      <td>0.0</td>\n",
       "      <td>32.0</td>\n",
       "      <td>17.0</td>\n",
       "      <td>950.0</td>\n",
       "      <td>500</td>\n",
       "      <td>50</td>\n",
       "      <td>15</td>\n",
       "    </tr>\n",
       "  </tbody>\n",
       "</table>\n",
       "<p>2229 rows × 10 columns</p>\n",
       "</div>"
      ],
      "text/plain": [
       "      user_id  months tariff_name  minutes_total  message_total  gb_total  \\\n",
       "985      1001      11       smart          430.0            0.0      18.0   \n",
       "986      1001      12       smart          414.0            0.0      14.0   \n",
       "987      1002      10       smart          212.0           10.0      14.0   \n",
       "988      1002      11       smart          243.0           16.0      19.0   \n",
       "989      1002      12       smart          236.0           12.0      18.0   \n",
       "...       ...     ...         ...            ...            ...       ...   \n",
       "3209     1489      10       smart            0.0           21.0      20.0   \n",
       "3210     1489      11       smart            0.0           20.0      18.0   \n",
       "3211     1489      12       smart            0.0           35.0      17.0   \n",
       "3212     1489       8       smart            0.0           17.0      11.0   \n",
       "3213     1489       9       smart            0.0           32.0      17.0   \n",
       "\n",
       "      total_income  minutes_included  messages_included  gb_per_month_included  \n",
       "985         1150.0               500                 50                     15  \n",
       "986          550.0               500                 50                     15  \n",
       "987          550.0               500                 50                     15  \n",
       "988         1350.0               500                 50                     15  \n",
       "989         1150.0               500                 50                     15  \n",
       "...            ...               ...                ...                    ...  \n",
       "3209        1550.0               500                 50                     15  \n",
       "3210        1150.0               500                 50                     15  \n",
       "3211         950.0               500                 50                     15  \n",
       "3212         550.0               500                 50                     15  \n",
       "3213         950.0               500                 50                     15  \n",
       "\n",
       "[2229 rows x 10 columns]"
      ]
     },
     "execution_count": 69,
     "metadata": {},
     "output_type": "execute_result"
    }
   ],
   "source": [
    "smart_analise=analise.query('tariff_name == \"smart\"')\n",
    "smart_analise"
   ]
  },
  {
   "cell_type": "markdown",
   "metadata": {},
   "source": [
    "#### Количество использованных минут"
   ]
  },
  {
   "cell_type": "code",
   "execution_count": 70,
   "metadata": {},
   "outputs": [
    {
     "data": {
      "image/png": "[encoded data removed]",
      "text/plain": [
       "<Figure size 720x720 with 1 Axes>"
      ]
     },
     "metadata": {
      "needs_background": "light"
     },
     "output_type": "display_data"
    }
   ],
   "source": [
    "smart_analise['minutes_total'].plot(kind = 'hist', bins=50, figsize = (10,10), grid=True, title = 'minutes_total');"
   ]
  },
  {
   "cell_type": "code",
   "execution_count": 71,
   "metadata": {},
   "outputs": [
    {
     "data": {
      "text/plain": [
       "count    2229.000000\n",
       "mean      417.934948\n",
       "std       190.313730\n",
       "min         0.000000\n",
       "25%       282.000000\n",
       "50%       422.000000\n",
       "75%       545.000000\n",
       "max      1435.000000\n",
       "Name: minutes_total, dtype: float64"
      ]
     },
     "execution_count": 71,
     "metadata": {},
     "output_type": "execute_result"
    }
   ],
   "source": [
    "smart_analise['minutes_total'].describe()"
   ]
  },
  {
   "cell_type": "markdown",
   "metadata": {},
   "source": [
    "На гистограмме присутствует выброс в районе нулевого количества использованных минут в месяц. Скорей всего,это пользователи, предпочитающие пользоваться мессенджерами и звонками в мессенджерах и сообщениями, либо итроверты. Исходя из гистограммы, можно сказать, что доля таких пользователей не так уж и мала. Однако, в целом, распределение на гистограмме похоже на распределение Пуассона, стремящееся к нормальному. По гисторамме видно, что пик значений приходится примерно на 420 минут, что означает, что, в среднем, клиентам хватает (либо они предпочитают не превышать лимит) выделенных тарифом 550 минут. Однако, гисторамма скошена вправо. В общем плане, поведение клиентов не выбивается из бытовой логики - стараться не превышать лимит, чтобы не переплачивать за тариф."
   ]
  },
  {
   "cell_type": "code",
   "execution_count": 72,
   "metadata": {},
   "outputs": [
    {
     "name": "stdout",
     "output_type": "stream",
     "text": [
      "Доля клиентов, не пользующихся минутами: 0.004\n"
     ]
    }
   ],
   "source": [
    "a=smart_analise.query('minutes_total == 0')['minutes_total'].count()/smart_analise['minutes_total'].count()\n",
    "print(f'Доля клиентов, не пользующихся минутами: {round(a, 3)}')"
   ]
  },
  {
   "cell_type": "markdown",
   "metadata": {},
   "source": [
    "Рассмотрим долю клиентов, которые превышают месячный лимит по минутам."
   ]
  },
  {
   "cell_type": "code",
   "execution_count": 73,
   "metadata": {},
   "outputs": [
    {
     "name": "stdout",
     "output_type": "stream",
     "text": [
      "Доля клиентов, превышающих месячный лимит по минутам: 0.239\n"
     ]
    }
   ],
   "source": [
    "b=smart_analise.query('minutes_total > 550')['minutes_total'].count()/smart_analise['minutes_total'].count()\n",
    "print(f'Доля клиентов, превышающих месячный лимит по минутам: {round(b, 3)}')"
   ]
  },
  {
   "cell_type": "markdown",
   "metadata": {},
   "source": [
    "Около 24% клиентов от общей выборки все же превышали лимит."
   ]
  },
  {
   "cell_type": "markdown",
   "metadata": {},
   "source": [
    "Рассчитаем среднее количество, дисперситю и стандартное отклонение для выборки. Поскольку нам доподлинно известно, что датасет — не вся совокупность, а выборка из неё, вместо дисперсии рассчитаем её оценку по имеющейся выборке (то есть s², а не σ²). Для этого в методе var() укажем параметр ddof=1 :"
   ]
  },
  {
   "cell_type": "code",
   "execution_count": 74,
   "metadata": {},
   "outputs": [
    {
     "name": "stdout",
     "output_type": "stream",
     "text": [
      "Cреднее количество использованных минут в месяц:  417.9349484073576\n",
      "Дисперсия по количеству использованных минут в месяц:  36219.31578434425\n",
      "Стандартное отклонение по количеству использованных минут в месяц:  190.31372988921282\n"
     ]
    }
   ],
   "source": [
    "print('Cреднее количество использованных минут в месяц: ', smart_analise['minutes_total'].mean())\n",
    "print('Дисперсия по количеству использованных минут в месяц: ', np.var(smart_analise['minutes_total'],ddof=1))\n",
    "print('Стандартное отклонение по количеству использованных минут в месяц: ', np.std(smart_analise['minutes_total'],ddof=1))"
   ]
  },
  {
   "cell_type": "markdown",
   "metadata": {},
   "source": [
    "Подобные результаты говорят о том, что основной объем значений в выборке лежит в диапазоне `418 +/- 3*190` минут. Т.е. в диапазоне 0 - 988 минут. Прочие значения можно считать выбросами."
   ]
  },
  {
   "cell_type": "markdown",
   "metadata": {},
   "source": [
    "#### Количество использованных сообщений"
   ]
  },
  {
   "cell_type": "code",
   "execution_count": 75,
   "metadata": {
    "scrolled": false
   },
   "outputs": [
    {
     "data": {
      "image/png": "[encoded data removed]",
      "text/plain": [
       "<Figure size 720x720 with 1 Axes>"
      ]
     },
     "metadata": {
      "needs_background": "light"
     },
     "output_type": "display_data"
    }
   ],
   "source": [
    "smart_analise['message_total'].plot(kind = 'hist', bins=50, figsize = (10,10), grid=True, title = 'message_total');"
   ]
  },
  {
   "cell_type": "code",
   "execution_count": 76,
   "metadata": {},
   "outputs": [
    {
     "data": {
      "text/plain": [
       "count    2229.000000\n",
       "mean       33.384029\n",
       "std        28.227876\n",
       "min         0.000000\n",
       "25%        10.000000\n",
       "50%        28.000000\n",
       "75%        51.000000\n",
       "max       143.000000\n",
       "Name: message_total, dtype: float64"
      ]
     },
     "execution_count": 76,
     "metadata": {},
     "output_type": "execute_result"
    }
   ],
   "source": [
    "smart_analise['message_total'].describe()"
   ]
  },
  {
   "cell_type": "markdown",
   "metadata": {},
   "source": [
    "На гистограмме присутствует выброс в районе нулевого количества отравленных сообщений в месяц. Скорей всего,это пользователи, предпочитающие пользоваться интернетом, мессенджерами и звонками. Исходя из гистограммы, можно сказать, что доля таких пользователей высока. "
   ]
  },
  {
   "cell_type": "markdown",
   "metadata": {},
   "source": [
    "Рассмотрим долю клиентов, которые не пользуются сообщениями."
   ]
  },
  {
   "cell_type": "code",
   "execution_count": 77,
   "metadata": {
    "scrolled": true
   },
   "outputs": [
    {
     "name": "stdout",
     "output_type": "stream",
     "text": [
      "Доля клиентов, не пользующихся сообщениями: 0.138\n"
     ]
    }
   ],
   "source": [
    "c=smart_analise.query('message_total == 0')['message_total'].count()/smart_analise['message_total'].count()\n",
    "print(f'Доля клиентов, не пользующихся сообщениями: {round(c, 3)}')"
   ]
  },
  {
   "cell_type": "markdown",
   "metadata": {},
   "source": [
    "Рассмотрим долю клиентов, которые превышают месячный лимит по сообщениям."
   ]
  },
  {
   "cell_type": "code",
   "execution_count": 78,
   "metadata": {},
   "outputs": [
    {
     "name": "stdout",
     "output_type": "stream",
     "text": [
      "Доля клиентов, превышающих лимит по сообщениям: 0.253\n"
     ]
    }
   ],
   "source": [
    "d=smart_analise.query('message_total > messages_included')['message_total'].count()/smart_analise['message_total'].count()\n",
    "print(f'Доля клиентов, превышающих лимит по сообщениям: {round(d, 3)}')"
   ]
  },
  {
   "cell_type": "markdown",
   "metadata": {},
   "source": [
    "Рассчитаем среднее количество, дисперситю и стандартное отклонение для выборки. Поскольку нам доподлинно известно, что датасет — не вся совокупность, а выборка из неё, вместо дисперсии рассчитаем её оценку по имеющейся выборке (то есть s², а не σ²). Для этого в методе var() укажем параметр ddof=1 :"
   ]
  },
  {
   "cell_type": "code",
   "execution_count": 79,
   "metadata": {},
   "outputs": [
    {
     "name": "stdout",
     "output_type": "stream",
     "text": [
      "Cреднее количество отправленных сообщений в месяц:  33.384028712427096\n",
      "Дисперсия по количеству отправленных сообщений в месяц:  796.8129584480083\n",
      "Стандартное отклонение по количеству отправленных сообщений в месяц:  28.22787555676141\n"
     ]
    }
   ],
   "source": [
    "print('Cреднее количество отправленных сообщений в месяц: ', smart_analise['message_total'].mean())\n",
    "print('Дисперсия по количеству отправленных сообщений в месяц: ', np.var(smart_analise['message_total'],ddof=1))\n",
    "print('Стандартное отклонение по количеству отправленных сообщений в месяц: ', np.std(smart_analise['message_total'],ddof=1))"
   ]
  },
  {
   "cell_type": "markdown",
   "metadata": {},
   "source": [
    "Подобные результаты говорят о том, что основной объем значений в выборке лежит в диапазоне `33 +/- 3*28` сообщений. Т.е. в диапазоне `0 - 117` сообщений. Прочие значения можно считать выбросами."
   ]
  },
  {
   "cell_type": "markdown",
   "metadata": {},
   "source": [
    "#### Количество использованных гигабайт"
   ]
  },
  {
   "cell_type": "code",
   "execution_count": 80,
   "metadata": {},
   "outputs": [
    {
     "data": {
      "image/png": "[encoded data removed]",
      "text/plain": [
       "<Figure size 720x720 with 1 Axes>"
      ]
     },
     "metadata": {
      "needs_background": "light"
     },
     "output_type": "display_data"
    }
   ],
   "source": [
    "smart_analise['gb_total'].plot(kind = 'hist', bins=50, figsize = (10,10), grid=True, title = 'gb_total');"
   ]
  },
  {
   "cell_type": "code",
   "execution_count": 81,
   "metadata": {},
   "outputs": [
    {
     "data": {
      "text/plain": [
       "count    2229.000000\n",
       "mean       16.328847\n",
       "std         5.747061\n",
       "min         0.000000\n",
       "25%        13.000000\n",
       "50%        17.000000\n",
       "75%        20.000000\n",
       "max        38.000000\n",
       "Name: gb_total, dtype: float64"
      ]
     },
     "execution_count": 81,
     "metadata": {},
     "output_type": "execute_result"
    }
   ],
   "source": [
    "smart_analise['gb_total'].describe()"
   ]
  },
  {
   "cell_type": "markdown",
   "metadata": {},
   "source": [
    "В целом, распределение на гистограмме похоже на распределение Пуассона, стремящееся к нормальному. По гисторамме видно, что пик значений приходится примерно на 17 ГБ, что означает, что, в среднем, клиентам  не хватает выделенных тарифом 15 ГБ. Гисторамма ближе всех трех к нормальному распределению, что говорит о том, что установленное граничное значение в 15 Гб не является для пользователей слишком большой преградой для тогоБ чтобы превыысить лимит. Подобное не кажется странным в наш век интернета."
   ]
  },
  {
   "cell_type": "markdown",
   "metadata": {},
   "source": [
    "Рассмотрим долю клиентов, которые не пользуются гигабайтами."
   ]
  },
  {
   "cell_type": "code",
   "execution_count": 82,
   "metadata": {},
   "outputs": [
    {
     "name": "stdout",
     "output_type": "stream",
     "text": [
      "Доля клиентов, не пользующихся гигабайтами: 0.001\n"
     ]
    }
   ],
   "source": [
    "e=smart_analise.query('gb_total == 0')['message_total'].count()/smart_analise['gb_total'].count()\n",
    "print(f'Доля клиентов, не пользующихся гигабайтами: {round(e, 3)}')"
   ]
  },
  {
   "cell_type": "markdown",
   "metadata": {},
   "source": [
    "Рассмотрим долю клиентов, которые превышают месячный лимит по гигабайтам."
   ]
  },
  {
   "cell_type": "code",
   "execution_count": 83,
   "metadata": {},
   "outputs": [
    {
     "name": "stdout",
     "output_type": "stream",
     "text": [
      "Доля клиентов, превышающих лимит по гигабайтам: 0.585\n"
     ]
    }
   ],
   "source": [
    "f=smart_analise.query('gb_total > gb_per_month_included')['gb_total'].count()/smart_analise['gb_total'].count()\n",
    "print(f'Доля клиентов, превышающих лимит по гигабайтам: {round(f, 3)}')"
   ]
  },
  {
   "cell_type": "markdown",
   "metadata": {},
   "source": [
    "Рассчитаем среднее количество, дисперситю и стандартное отклонение для выборки. Поскольку нам доподлинно известно, что датасет — не вся совокупность, а выборка из неё, вместо дисперсии рассчитаем её оценку по имеющейся выборке (то есть s², а не σ²). Для этого в методе var() укажем параметр ddof=1 :"
   ]
  },
  {
   "cell_type": "code",
   "execution_count": 84,
   "metadata": {},
   "outputs": [
    {
     "name": "stdout",
     "output_type": "stream",
     "text": [
      "Cреднее количество отправленных сообщений в месяц:  16.328847016599372\n",
      "Дисперсия по количеству отправленных сообщений в месяц:  33.02870517811158\n",
      "Стандартное отклонение по количеству отправленных сообщений в месяц:  5.747060568509052\n"
     ]
    }
   ],
   "source": [
    "print('Cреднее количество отправленных сообщений в месяц: ', smart_analise['gb_total'].mean())\n",
    "print('Дисперсия по количеству отправленных сообщений в месяц: ', np.var(smart_analise['gb_total'],ddof=1))\n",
    "print('Стандартное отклонение по количеству отправленных сообщений в месяц: ', np.std(smart_analise['gb_total'],ddof=1))"
   ]
  },
  {
   "cell_type": "markdown",
   "metadata": {},
   "source": [
    "Подобные результаты говорят о том, что основной объем значений в выборке лежит в диапазоне `16 +/- 3*5` сообщений. Т.е. в диапазоне `1 - 31` Гб. Прочие значения можно считать выбросами."
   ]
  },
  {
   "cell_type": "markdown",
   "metadata": {},
   "source": [
    "### Анализ тарифа `ultra`"
   ]
  },
  {
   "cell_type": "code",
   "execution_count": 85,
   "metadata": {},
   "outputs": [
    {
     "data": {
      "text/html": [
       "<div>\n",
       "<style scoped>\n",
       "    .dataframe tbody tr th:only-of-type {\n",
       "        vertical-align: middle;\n",
       "    }\n",
       "\n",
       "    .dataframe tbody tr th {\n",
       "        vertical-align: top;\n",
       "    }\n",
       "\n",
       "    .dataframe thead th {\n",
       "        text-align: right;\n",
       "    }\n",
       "</style>\n",
       "<table border=\"1\" class=\"dataframe\">\n",
       "  <thead>\n",
       "    <tr style=\"text-align: right;\">\n",
       "      <th></th>\n",
       "      <th>user_id</th>\n",
       "      <th>months</th>\n",
       "      <th>tariff_name</th>\n",
       "      <th>minutes_total</th>\n",
       "      <th>message_total</th>\n",
       "      <th>gb_total</th>\n",
       "      <th>total_income</th>\n",
       "      <th>minutes_included</th>\n",
       "      <th>messages_included</th>\n",
       "      <th>gb_per_month_included</th>\n",
       "    </tr>\n",
       "  </thead>\n",
       "  <tbody>\n",
       "    <tr>\n",
       "      <th>0</th>\n",
       "      <td>1000</td>\n",
       "      <td>10</td>\n",
       "      <td>ultra</td>\n",
       "      <td>350.0</td>\n",
       "      <td>73.0</td>\n",
       "      <td>15.0</td>\n",
       "      <td>1950.0</td>\n",
       "      <td>3000</td>\n",
       "      <td>1000</td>\n",
       "      <td>30</td>\n",
       "    </tr>\n",
       "    <tr>\n",
       "      <th>1</th>\n",
       "      <td>1000</td>\n",
       "      <td>11</td>\n",
       "      <td>ultra</td>\n",
       "      <td>338.0</td>\n",
       "      <td>58.0</td>\n",
       "      <td>15.0</td>\n",
       "      <td>1950.0</td>\n",
       "      <td>3000</td>\n",
       "      <td>1000</td>\n",
       "      <td>30</td>\n",
       "    </tr>\n",
       "    <tr>\n",
       "      <th>2</th>\n",
       "      <td>1000</td>\n",
       "      <td>12</td>\n",
       "      <td>ultra</td>\n",
       "      <td>333.0</td>\n",
       "      <td>70.0</td>\n",
       "      <td>10.0</td>\n",
       "      <td>1950.0</td>\n",
       "      <td>3000</td>\n",
       "      <td>1000</td>\n",
       "      <td>30</td>\n",
       "    </tr>\n",
       "    <tr>\n",
       "      <th>3</th>\n",
       "      <td>1000</td>\n",
       "      <td>5</td>\n",
       "      <td>ultra</td>\n",
       "      <td>159.0</td>\n",
       "      <td>22.0</td>\n",
       "      <td>3.0</td>\n",
       "      <td>1950.0</td>\n",
       "      <td>3000</td>\n",
       "      <td>1000</td>\n",
       "      <td>30</td>\n",
       "    </tr>\n",
       "    <tr>\n",
       "      <th>4</th>\n",
       "      <td>1000</td>\n",
       "      <td>6</td>\n",
       "      <td>ultra</td>\n",
       "      <td>172.0</td>\n",
       "      <td>60.0</td>\n",
       "      <td>23.0</td>\n",
       "      <td>1950.0</td>\n",
       "      <td>3000</td>\n",
       "      <td>1000</td>\n",
       "      <td>30</td>\n",
       "    </tr>\n",
       "    <tr>\n",
       "      <th>...</th>\n",
       "      <td>...</td>\n",
       "      <td>...</td>\n",
       "      <td>...</td>\n",
       "      <td>...</td>\n",
       "      <td>...</td>\n",
       "      <td>...</td>\n",
       "      <td>...</td>\n",
       "      <td>...</td>\n",
       "      <td>...</td>\n",
       "      <td>...</td>\n",
       "    </tr>\n",
       "    <tr>\n",
       "      <th>980</th>\n",
       "      <td>1473</td>\n",
       "      <td>10</td>\n",
       "      <td>ultra</td>\n",
       "      <td>0.0</td>\n",
       "      <td>20.0</td>\n",
       "      <td>14.0</td>\n",
       "      <td>1950.0</td>\n",
       "      <td>3000</td>\n",
       "      <td>1000</td>\n",
       "      <td>30</td>\n",
       "    </tr>\n",
       "    <tr>\n",
       "      <th>981</th>\n",
       "      <td>1473</td>\n",
       "      <td>11</td>\n",
       "      <td>ultra</td>\n",
       "      <td>0.0</td>\n",
       "      <td>14.0</td>\n",
       "      <td>22.0</td>\n",
       "      <td>1950.0</td>\n",
       "      <td>3000</td>\n",
       "      <td>1000</td>\n",
       "      <td>30</td>\n",
       "    </tr>\n",
       "    <tr>\n",
       "      <th>982</th>\n",
       "      <td>1473</td>\n",
       "      <td>12</td>\n",
       "      <td>ultra</td>\n",
       "      <td>0.0</td>\n",
       "      <td>20.0</td>\n",
       "      <td>18.0</td>\n",
       "      <td>1950.0</td>\n",
       "      <td>3000</td>\n",
       "      <td>1000</td>\n",
       "      <td>30</td>\n",
       "    </tr>\n",
       "    <tr>\n",
       "      <th>983</th>\n",
       "      <td>1473</td>\n",
       "      <td>8</td>\n",
       "      <td>ultra</td>\n",
       "      <td>0.0</td>\n",
       "      <td>17.0</td>\n",
       "      <td>13.0</td>\n",
       "      <td>1950.0</td>\n",
       "      <td>3000</td>\n",
       "      <td>1000</td>\n",
       "      <td>30</td>\n",
       "    </tr>\n",
       "    <tr>\n",
       "      <th>984</th>\n",
       "      <td>1473</td>\n",
       "      <td>9</td>\n",
       "      <td>ultra</td>\n",
       "      <td>0.0</td>\n",
       "      <td>19.0</td>\n",
       "      <td>17.0</td>\n",
       "      <td>1950.0</td>\n",
       "      <td>3000</td>\n",
       "      <td>1000</td>\n",
       "      <td>30</td>\n",
       "    </tr>\n",
       "  </tbody>\n",
       "</table>\n",
       "<p>985 rows × 10 columns</p>\n",
       "</div>"
      ],
      "text/plain": [
       "     user_id  months tariff_name  minutes_total  message_total  gb_total  \\\n",
       "0       1000      10       ultra          350.0           73.0      15.0   \n",
       "1       1000      11       ultra          338.0           58.0      15.0   \n",
       "2       1000      12       ultra          333.0           70.0      10.0   \n",
       "3       1000       5       ultra          159.0           22.0       3.0   \n",
       "4       1000       6       ultra          172.0           60.0      23.0   \n",
       "..       ...     ...         ...            ...            ...       ...   \n",
       "980     1473      10       ultra            0.0           20.0      14.0   \n",
       "981     1473      11       ultra            0.0           14.0      22.0   \n",
       "982     1473      12       ultra            0.0           20.0      18.0   \n",
       "983     1473       8       ultra            0.0           17.0      13.0   \n",
       "984     1473       9       ultra            0.0           19.0      17.0   \n",
       "\n",
       "     total_income  minutes_included  messages_included  gb_per_month_included  \n",
       "0          1950.0              3000               1000                     30  \n",
       "1          1950.0              3000               1000                     30  \n",
       "2          1950.0              3000               1000                     30  \n",
       "3          1950.0              3000               1000                     30  \n",
       "4          1950.0              3000               1000                     30  \n",
       "..            ...               ...                ...                    ...  \n",
       "980        1950.0              3000               1000                     30  \n",
       "981        1950.0              3000               1000                     30  \n",
       "982        1950.0              3000               1000                     30  \n",
       "983        1950.0              3000               1000                     30  \n",
       "984        1950.0              3000               1000                     30  \n",
       "\n",
       "[985 rows x 10 columns]"
      ]
     },
     "execution_count": 85,
     "metadata": {},
     "output_type": "execute_result"
    }
   ],
   "source": [
    "ultra_analise=analise.query('tariff_name == \"ultra\"')\n",
    "ultra_analise"
   ]
  },
  {
   "cell_type": "markdown",
   "metadata": {},
   "source": [
    "#### Количество использованных минут"
   ]
  },
  {
   "cell_type": "markdown",
   "metadata": {},
   "source": [
    "Выведем гисторамму распределения количества использованных минут в месяц."
   ]
  },
  {
   "cell_type": "code",
   "execution_count": 86,
   "metadata": {},
   "outputs": [
    {
     "data": {
      "image/png": "[encoded data removed]",
      "text/plain": [
       "<Figure size 720x720 with 1 Axes>"
      ]
     },
     "metadata": {
      "needs_background": "light"
     },
     "output_type": "display_data"
    }
   ],
   "source": [
    "ultra_analise['minutes_total'].plot(kind = 'hist', bins=100, figsize = (10,10), grid=True, title = 'minutes_total');\n"
   ]
  },
  {
   "cell_type": "code",
   "execution_count": 87,
   "metadata": {},
   "outputs": [
    {
     "data": {
      "text/plain": [
       "count     985.000000\n",
       "mean      526.623350\n",
       "std       317.606098\n",
       "min         0.000000\n",
       "25%       284.000000\n",
       "50%       518.000000\n",
       "75%       752.000000\n",
       "max      1673.000000\n",
       "Name: minutes_total, dtype: float64"
      ]
     },
     "execution_count": 87,
     "metadata": {},
     "output_type": "execute_result"
    }
   ],
   "source": [
    "ultra_analise['minutes_total'].describe()"
   ]
  },
  {
   "cell_type": "markdown",
   "metadata": {},
   "source": [
    "На гистограмме присутствует выброс в районе нулевого количества использованных минут в месяц. Скорей всего,это пользователи, предпочитающие пользоваться мессенджерами и звонками в мессенджерах и сообщениями, либо, клиенты, преобретшие симкарту оператора для модема. Исходя из гистограммы, можно сказать, что доля таких пользователей не так уж и мала. Второй пик на гистограмме приходится примерно на 500-550 минут. Гисторамма скошена вправо, Скорее всего, пользователи находящиеся правее пика - люди, которым необходимо постоянно быть на связи в течении всего дня. Так же, по гистограмме видно, что ни один из клиентов в выборке не превысил лимит по минутам в месяц, что не удивительно, учитывая, что для этого надо провести на телефоне непрерывно 50 часов, больше двух суток."
   ]
  },
  {
   "cell_type": "markdown",
   "metadata": {},
   "source": [
    "Рассмотрим долю клиентов, которые превышают месячный лимит по минутам."
   ]
  },
  {
   "cell_type": "code",
   "execution_count": 88,
   "metadata": {},
   "outputs": [
    {
     "name": "stdout",
     "output_type": "stream",
     "text": [
      "Доля клиентов, превышающих лимит по минутам: 0.0\n"
     ]
    }
   ],
   "source": [
    "g=ultra_analise.query('minutes_total > minutes_included')['minutes_total'].count()/ultra_analise['minutes_total'].count()\n",
    "print(f'Доля клиентов, превышающих лимит по минутам: {round(g, 3)}')"
   ]
  },
  {
   "cell_type": "markdown",
   "metadata": {},
   "source": [
    "Рассмотрим долю клиентов, которые вообще не пользуются минутами, раз уж превышающих лимит у нас нет."
   ]
  },
  {
   "cell_type": "code",
   "execution_count": 89,
   "metadata": {
    "scrolled": true
   },
   "outputs": [
    {
     "name": "stdout",
     "output_type": "stream",
     "text": [
      "Доля клиентов, не пользующихся минутами: 0.039\n"
     ]
    }
   ],
   "source": [
    "h=ultra_analise.query('minutes_total == 0')['minutes_total'].count()/ultra_analise['minutes_total'].count()\n",
    "print(f'Доля клиентов, не пользующихся минутами: {round(h, 3)}')"
   ]
  },
  {
   "cell_type": "markdown",
   "metadata": {},
   "source": [
    "Почти 4 процента. "
   ]
  },
  {
   "cell_type": "markdown",
   "metadata": {},
   "source": [
    "Рассчитаем среднее количество, дисперситю и стандартное отклонение для отфильтрованной выборки"
   ]
  },
  {
   "cell_type": "code",
   "execution_count": 90,
   "metadata": {},
   "outputs": [
    {
     "name": "stdout",
     "output_type": "stream",
     "text": [
      "Cреднее количество использованных минут в месяц:  526.6233502538071\n",
      "Дисперсия по количеству использованных минут в месяц:  100771.22361720211\n",
      "Стандартное отклонение по количеству использованных минут в месяц:  317.444835549741\n"
     ]
    }
   ],
   "source": [
    "print('Cреднее количество использованных минут в месяц: ', ultra_analise['minutes_total'].mean())\n",
    "print('Дисперсия по количеству использованных минут в месяц: ', np.var(ultra_analise['minutes_total']))\n",
    "print('Стандартное отклонение по количеству использованных минут в месяц: ', np.std(ultra_analise['minutes_total']))\n"
   ]
  },
  {
   "cell_type": "markdown",
   "metadata": {},
   "source": [
    "Подобные результаты говорят о том,  что основной объем значений в выборке лежит в диапазоне `527 +/- 3*317` минут. Т.е. в диапазоне  `0 - 1478` минут. Прочие значения можно считать выбросами."
   ]
  },
  {
   "cell_type": "markdown",
   "metadata": {},
   "source": [
    "#### Количество использованных сообщений"
   ]
  },
  {
   "cell_type": "code",
   "execution_count": 91,
   "metadata": {},
   "outputs": [
    {
     "data": {
      "image/png": "[encoded data removed]",
      "text/plain": [
       "<Figure size 720x720 with 1 Axes>"
      ]
     },
     "metadata": {
      "needs_background": "light"
     },
     "output_type": "display_data"
    }
   ],
   "source": [
    "ultra_analise['message_total'].plot(kind = 'hist', bins=50, figsize = (10,10), grid=True, title = 'message_total');"
   ]
  },
  {
   "cell_type": "code",
   "execution_count": 92,
   "metadata": {},
   "outputs": [
    {
     "data": {
      "text/plain": [
       "count    985.000000\n",
       "mean      49.363452\n",
       "std       47.804457\n",
       "min        0.000000\n",
       "25%        6.000000\n",
       "50%       38.000000\n",
       "75%       79.000000\n",
       "max      224.000000\n",
       "Name: message_total, dtype: float64"
      ]
     },
     "execution_count": 92,
     "metadata": {},
     "output_type": "execute_result"
    }
   ],
   "source": [
    "ultra_analise['message_total'].describe()"
   ]
  },
  {
   "cell_type": "markdown",
   "metadata": {},
   "source": [
    "На гистограмме присутствует выброс в районе нулевого количества отравленных сообщений в месяц. Скорей всего,это пользователи, предпочитающие пользоваться интернетом, мессенджерами и звонками. Исходя из гистограммы, можно сказать, что доля таких пользователей высока. "
   ]
  },
  {
   "cell_type": "markdown",
   "metadata": {},
   "source": [
    "Рассмотрим долю клиентов, которые не пользуются сообщениями"
   ]
  },
  {
   "cell_type": "code",
   "execution_count": 93,
   "metadata": {},
   "outputs": [
    {
     "name": "stdout",
     "output_type": "stream",
     "text": [
      "Доля клиентов, не пользующихся сообщениями: 0.193\n"
     ]
    }
   ],
   "source": [
    "i=ultra_analise.query('message_total == 0')['message_total'].count()/ultra_analise['message_total'].count()\n",
    "print(f'Доля клиентов, не пользующихся сообщениями: {round(i, 3)}')"
   ]
  },
  {
   "cell_type": "markdown",
   "metadata": {},
   "source": [
    "А вот и подтверждение гипотезы о том, что многие из клиентов, не пользующихся минутами, брали симкарту только ради интернета, аналогичные пики в районе 0 в количестве звонков и СМС свидетельствуют о том, что большинство этих пользователей исплозовали симкарты оператора в модемах или держали симкарту в телефоне только ради гигабайт. Подробнее рассмотрим ниже."
   ]
  },
  {
   "cell_type": "markdown",
   "metadata": {},
   "source": [
    "Рассмотрим долю клиентов, которые превышают месячный лимит по сообщениям."
   ]
  },
  {
   "cell_type": "code",
   "execution_count": 94,
   "metadata": {},
   "outputs": [
    {
     "name": "stdout",
     "output_type": "stream",
     "text": [
      "Доля клиентов, превышающих лимит по сообщениям: 0.0\n"
     ]
    }
   ],
   "source": [
    "j=ultra_analise.query('message_total > messages_included')['message_total'].count()/ultra_analise['message_total'].count()\n",
    "print(f'Доля клиентов, превышающих лимит по сообщениям: {round(j, 3)}')"
   ]
  },
  {
   "cell_type": "markdown",
   "metadata": {},
   "source": [
    "Месячный лимит по сообщениям не превышает ни один из пользователей"
   ]
  },
  {
   "cell_type": "markdown",
   "metadata": {},
   "source": [
    "Рассчитаем среднее количество, дисперситю и стандартное отклонение для выборки. Поскольку нам доподлинно известно, что датасет — не вся совокупность, а выборка из неё, вместо дисперсии рассчитаем её оценку по имеющейся выборке (то есть s², а не σ²). Для этого в методе var() укажем параметр ddof=1 :"
   ]
  },
  {
   "cell_type": "code",
   "execution_count": 95,
   "metadata": {},
   "outputs": [
    {
     "name": "stdout",
     "output_type": "stream",
     "text": [
      "Cреднее количество отправленных сообщений в месяц:  49.36345177664975\n",
      "Дисперсия по количеству отправленных сообщений в месяц:  2285.2661425446827\n",
      "Стандартное отклонение по количеству отправленных сообщений в месяц:  47.804457350174815\n"
     ]
    }
   ],
   "source": [
    "print('Cреднее количество отправленных сообщений в месяц: ', ultra_analise['message_total'].mean())\n",
    "print('Дисперсия по количеству отправленных сообщений в месяц: ', np.var(ultra_analise['message_total'],ddof=1))\n",
    "print('Стандартное отклонение по количеству отправленных сообщений в месяц: ', np.std(ultra_analise['message_total'],ddof=1))"
   ]
  },
  {
   "cell_type": "markdown",
   "metadata": {},
   "source": [
    "Подобные результаты говорят о том, что основной объем значений в выборке лежит в диапазоне `49 +/- 3*47` сообщений. Т.е. в диапазоне `0 - 119` сообщений. Прочие значения можно считать выбросами."
   ]
  },
  {
   "cell_type": "markdown",
   "metadata": {},
   "source": [
    "#### Количество использованных гигабайт"
   ]
  },
  {
   "cell_type": "code",
   "execution_count": 96,
   "metadata": {},
   "outputs": [
    {
     "data": {
      "image/png": "[encoded data removed]",
      "text/plain": [
       "<Figure size 720x720 with 1 Axes>"
      ]
     },
     "metadata": {
      "needs_background": "light"
     },
     "output_type": "display_data"
    }
   ],
   "source": [
    "ultra_analise['gb_total'].plot(kind = 'hist', bins=50, figsize = (10,10), grid=True, title = 'gb_total');"
   ]
  },
  {
   "cell_type": "markdown",
   "metadata": {},
   "source": [
    "В целом, распределение на гистограмме похоже на распределение Пуассона, стремящееся к нормальному. По гисторамме видно, что пик значений приходится примерно на 19-21 ГБ, что означает, что, в среднем, клиентам хватает выделенных тарифом 30 ГБ. Гисторамма ближе всех трех к нормальному распределению, что говорит о том, что установленное граничное значение в 30 Гб не является для пользователей слишком большой преградой для того, чтобы превыысить лимит. Подобное не кажется странным в наш век интернета."
   ]
  },
  {
   "cell_type": "markdown",
   "metadata": {},
   "source": [
    "Рассмотрим долю клиентов, которые превышают месячный лимит по гигабайтам."
   ]
  },
  {
   "cell_type": "code",
   "execution_count": 97,
   "metadata": {},
   "outputs": [
    {
     "name": "stdout",
     "output_type": "stream",
     "text": [
      "Доля клиентов, превышающих лимит по сообщениям: 0.136\n"
     ]
    }
   ],
   "source": [
    "k=ultra_analise.query('gb_total > gb_per_month_included')['gb_total'].count()/ultra_analise['gb_total'].count()\n",
    "print(f'Доля клиентов, превышающих лимит по сообщениям: {round(k, 3)}')"
   ]
  },
  {
   "cell_type": "markdown",
   "metadata": {},
   "source": [
    "Рассмотрим долю клиентов, которые не пользуются гигабайтами"
   ]
  },
  {
   "cell_type": "code",
   "execution_count": 98,
   "metadata": {},
   "outputs": [
    {
     "name": "stdout",
     "output_type": "stream",
     "text": [
      "Доля клиентов, не пользующихся гигабайтами: 0.011\n"
     ]
    }
   ],
   "source": [
    "l=ultra_analise.query('gb_total == 0')['gb_total'].count()/ultra_analise['gb_total'].count()\n",
    "print(f'Доля клиентов, не пользующихся гигабайтами: {round(l, 3)}')"
   ]
  },
  {
   "cell_type": "markdown",
   "metadata": {},
   "source": [
    "Рассчитаем среднее количество, дисперситю и стандартное отклонение для выборки. Поскольку нам доподлинно известно, что датасет — не вся совокупность, а выборка из неё, вместо дисперсии рассчитаем её оценку по имеющейся выборке (то есть s², а не σ²). Для этого в методе var() укажем параметр ddof=1 :"
   ]
  },
  {
   "cell_type": "code",
   "execution_count": 99,
   "metadata": {},
   "outputs": [
    {
     "name": "stdout",
     "output_type": "stream",
     "text": [
      "Cреднее количество отправленных сообщений в месяц:  19.494416243654822\n",
      "Дисперсия по количеству отправленных сообщений в месяц:  97.09168626965472\n",
      "Стандартное отклонение по количеству отправленных сообщений в месяц:  9.8535113675103\n"
     ]
    }
   ],
   "source": [
    "print('Cреднее количество отправленных сообщений в месяц: ', ultra_analise['gb_total'].mean())\n",
    "print('Дисперсия по количеству отправленных сообщений в месяц: ', np.var(ultra_analise['gb_total'],ddof=1))\n",
    "print('Стандартное отклонение по количеству отправленных сообщений в месяц: ', np.std(ultra_analise['gb_total'],ddof=1))"
   ]
  },
  {
   "cell_type": "markdown",
   "metadata": {},
   "source": [
    "Подобные результаты говорят о том, что основной объем значений в выборке лежит в диапазоне `19 +/- 3*9` сообщений. Т.е. в диапазоне `0 - 38` Гб. Прочие значения можно считать выбросами."
   ]
  },
  {
   "cell_type": "markdown",
   "metadata": {},
   "source": [
    "### Общие выводы по анализу поведения клиентов обоих тарифов"
   ]
  },
  {
   "cell_type": "markdown",
   "metadata": {},
   "source": [
    "  Итак, мы проанализировали поведение всех пользователей в выборке в зависимости от тарифа в течении года.\n",
    "  \n",
    "Сразу бросается в глаза, что в одной и другой выборке большое количество пользователей игнорируют сообщения как метод общения. Во многом это связано с тем, что на смену СМС пришли месенджеры, в которых кроме сообщений можно обмениваться картинками, ссылками и видео, что несомненно повышает их приоритет и приоритет интернета, а это в свою очередь приводит нас к следующей отличительной особенности обеих выборок.\n",
    "  \n",
    "Превышение лимита по гигабайтам пользователей не беспокоит, особенно хорошо это заметно на пользователях 'бюджетного тарифа'. Это как раз-таки связано в том числе и с тем, что основное общение в наше время присходит именно в интернете.\n",
    "\n",
    "График распределения количества звонков за месяц, в свою очередь сильно разнится в зависимости от тарифа. Это связано с тем, что, пользователи берут тариф с большим количеством гигабайт не для звонков, а для использования симкарты в качестве источника интернета.\n",
    "\n",
    "Проверим эту гипотезу. Для этого всего-лишь надо рассмотреть среднее количество использованых гигабайт у пользователей, не пользующихся минутами и СМС.\n"
   ]
  },
  {
   "cell_type": "code",
   "execution_count": 100,
   "metadata": {},
   "outputs": [
    {
     "name": "stdout",
     "output_type": "stream",
     "text": [
      "Cреднее количество использованых гигабайт у пользователей, не пользующихся минутами и СМС: 1.0\n"
     ]
    }
   ],
   "source": [
    "m=ultra_analise.query('(minutes_total == 0) and (message_total == 0)')['gb_total'].mean()\n",
    "print(f'Cреднее количество использованых гигабайт у пользователей, не пользующихся минутами и СМС: {m}')"
   ]
  },
  {
   "cell_type": "code",
   "execution_count": 101,
   "metadata": {},
   "outputs": [
    {
     "data": {
      "text/html": [
       "<div>\n",
       "<style scoped>\n",
       "    .dataframe tbody tr th:only-of-type {\n",
       "        vertical-align: middle;\n",
       "    }\n",
       "\n",
       "    .dataframe tbody tr th {\n",
       "        vertical-align: top;\n",
       "    }\n",
       "\n",
       "    .dataframe thead th {\n",
       "        text-align: right;\n",
       "    }\n",
       "</style>\n",
       "<table border=\"1\" class=\"dataframe\">\n",
       "  <thead>\n",
       "    <tr style=\"text-align: right;\">\n",
       "      <th></th>\n",
       "      <th>user_id</th>\n",
       "      <th>months</th>\n",
       "      <th>tariff_name</th>\n",
       "      <th>minutes_total</th>\n",
       "      <th>message_total</th>\n",
       "      <th>gb_total</th>\n",
       "      <th>total_income</th>\n",
       "      <th>minutes_included</th>\n",
       "      <th>messages_included</th>\n",
       "      <th>gb_per_month_included</th>\n",
       "    </tr>\n",
       "  </thead>\n",
       "  <tbody>\n",
       "    <tr>\n",
       "      <th>381</th>\n",
       "      <td>1240</td>\n",
       "      <td>2</td>\n",
       "      <td>ultra</td>\n",
       "      <td>0.0</td>\n",
       "      <td>0.0</td>\n",
       "      <td>1.0</td>\n",
       "      <td>1950.0</td>\n",
       "      <td>3000</td>\n",
       "      <td>1000</td>\n",
       "      <td>30</td>\n",
       "    </tr>\n",
       "    <tr>\n",
       "      <th>934</th>\n",
       "      <td>1476</td>\n",
       "      <td>4</td>\n",
       "      <td>ultra</td>\n",
       "      <td>0.0</td>\n",
       "      <td>0.0</td>\n",
       "      <td>1.0</td>\n",
       "      <td>1950.0</td>\n",
       "      <td>3000</td>\n",
       "      <td>1000</td>\n",
       "      <td>30</td>\n",
       "    </tr>\n",
       "  </tbody>\n",
       "</table>\n",
       "</div>"
      ],
      "text/plain": [
       "     user_id  months tariff_name  minutes_total  message_total  gb_total  \\\n",
       "381     1240       2       ultra            0.0            0.0       1.0   \n",
       "934     1476       4       ultra            0.0            0.0       1.0   \n",
       "\n",
       "     total_income  minutes_included  messages_included  gb_per_month_included  \n",
       "381        1950.0              3000               1000                     30  \n",
       "934        1950.0              3000               1000                     30  "
      ]
     },
     "execution_count": 101,
     "metadata": {},
     "output_type": "execute_result"
    }
   ],
   "source": [
    "ultra_analise.query('(minutes_total == 0) & (message_total == 0)')"
   ]
  },
  {
   "cell_type": "markdown",
   "metadata": {},
   "source": [
    "Похоже гипотеза была не верна и пользователи просто предпочитаю игнорировать одну из опций тарифа. Это скорей всего связано с тем, что они перешли на этот тариф именно из-за черезмерного превышения лимитов по предыдущим тарифам, а минуты или СМС их вовсе не интересовали. Если бы у нас был набор данных пошире, можно было бы это проверить."
   ]
  },
  {
   "cell_type": "code",
   "execution_count": 102,
   "metadata": {},
   "outputs": [
    {
     "name": "stdout",
     "output_type": "stream",
     "text": [
      "Количество пользователей тарифа ultra - 148\n",
      "Количество пользователей тарифа ultra, не пользующихся минутами 8\n",
      "Количество пользователей тарифа ultra, не пользующихся СМС 28\n"
     ]
    }
   ],
   "source": [
    "print('Количество пользователей тарифа ultra -',ultra_analise['user_id'].nunique())\n",
    "print('Количество пользователей тарифа ultra, не пользующихся минутами'\n",
    "      ,ultra_analise.query('minutes_total == 0')['user_id'].nunique())\n",
    "print('Количество пользователей тарифа ultra, не пользующихся СМС',\n",
    "      ultra_analise.query('message_total == 0')['user_id'].nunique())"
   ]
  },
  {
   "cell_type": "code",
   "execution_count": 103,
   "metadata": {},
   "outputs": [
    {
     "data": {
      "text/plain": [
       "minutes_total    5\n",
       "dtype: int64"
      ]
     },
     "execution_count": 103,
     "metadata": {},
     "output_type": "execute_result"
    }
   ],
   "source": [
    "ultra_analise.groupby('user_id').agg({'minutes_total':'mean'}).query('minutes_total == 0').count()"
   ]
  },
  {
   "cell_type": "code",
   "execution_count": 104,
   "metadata": {},
   "outputs": [
    {
     "data": {
      "text/plain": [
       "message_total    24\n",
       "dtype: int64"
      ]
     },
     "execution_count": 104,
     "metadata": {},
     "output_type": "execute_result"
    }
   ],
   "source": [
    "ultra_analise.groupby('user_id').agg({'message_total':'mean'}).query('message_total == 0'). count()"
   ]
  },
  {
   "cell_type": "code",
   "execution_count": 105,
   "metadata": {},
   "outputs": [
    {
     "name": "stdout",
     "output_type": "stream",
     "text": [
      "Количество пользователей тарифа ultra - 148\n",
      "Количество пользователей тарифа ultra, вообще не пользующихся минутами 5\n",
      "Количество пользователей тарифа ultra, вообще не пользующихся СМС 24\n"
     ]
    }
   ],
   "source": [
    "print('Количество пользователей тарифа ultra -',ultra_analise['user_id'].nunique())\n",
    "print('Количество пользователей тарифа ultra, вообще не пользующихся минутами'\n",
    "      ,ultra_analise.groupby('user_id').\n",
    "      agg({'minutes_total':'mean'}).\n",
    "      query('minutes_total == 0')['minutes_total'].count())\n",
    "print('Количество пользователей тарифа ultra, вообще не пользующихся СМС',\n",
    "     ultra_analise.groupby('user_id').agg({'message_total':'mean'}).\n",
    "      query('message_total == 0')['message_total']. count())"
   ]
  },
  {
   "cell_type": "markdown",
   "metadata": {},
   "source": [
    "И даже тут все логично. СМС как не были популярны среди пользователей, так и не пользутся популярностью"
   ]
  },
  {
   "cell_type": "code",
   "execution_count": 106,
   "metadata": {
    "scrolled": true
   },
   "outputs": [
    {
     "data": {
      "image/png": "[encoded data removed]",
      "text/plain": [
       "<Figure size 1152x360 with 2 Axes>"
      ]
     },
     "metadata": {
      "needs_background": "light"
     },
     "output_type": "display_data"
    }
   ],
   "source": [
    "import matplotlib.pyplot as plt\n",
    "import seaborn as sns\n",
    "import warnings\n",
    "warnings.simplefilter(\"ignore\")\n",
    "  \n",
    "\n",
    "fig, axes = plt.subplots(1, 2, figsize=(16, 5))\n",
    "\n",
    "sns.distplot(smart_analise['gb_total'], kde=False, ax=axes[0]);\n",
    "sns.distplot(ultra_analise['gb_total'], kde=False, ax=axes[0]);\n",
    "\n",
    "sns.boxplot(x=analise['tariff_name'], y = analise['gb_total'], ax=axes[1]);\n",
    "\n",
    "  "
   ]
  },
  {
   "cell_type": "markdown",
   "metadata": {},
   "source": [
    "## Проверка гипотез"
   ]
  },
  {
   "cell_type": "markdown",
   "metadata": {},
   "source": [
    "В анализе поведения клиентов мы рассматривали значения минут, СМС и Гб каждого клиента по всем месяцам, это давало возможность оценить активность клиентов в течении года, однако для анализа выручки стоит взять среднее от средних значений по каждому пользователю, что позволит более точно оценить помесячный доход от каждого тарифа, ведь некоторые пользователи могли подключиться в средине года или отключиться через несколько месяцев использования тарифа, что внесет изменения в среднемесячные значения."
   ]
  },
  {
   "cell_type": "markdown",
   "metadata": {},
   "source": [
    "*Кроме того, для получения более точных результатов, поскольку месячных плат по каждому клиенту у нас максимум 12, можно было бы выдвинуть, для начала, гипотезу о том, что среднемесячная сумма отображает месячный платеж клиента и проверить ее для каждого клиента. Однако, пока мне за эту работу не платят, так что сделаем среднее из средних и помолимся, хотя, возможно в свободное время я этим займусь.*"
   ]
  },
  {
   "cell_type": "code",
   "execution_count": 107,
   "metadata": {},
   "outputs": [
    {
     "data": {
      "image/png": "[encoded data removed]",
      "text/plain": [
       "<Figure size 720x720 with 1 Axes>"
      ]
     },
     "metadata": {
      "needs_background": "light"
     },
     "output_type": "display_data"
    }
   ],
   "source": [
    "(smart_analise.groupby('user_id').agg({'total_income':'mean'})['total_income'].\n",
    " plot(kind = 'hist', bins=50, figsize = (10,10), grid=True, title = 'total_income'));"
   ]
  },
  {
   "cell_type": "code",
   "execution_count": 108,
   "metadata": {
    "scrolled": false
   },
   "outputs": [
    {
     "data": {
      "image/png": "[encoded data removed]",
      "text/plain": [
       "<Figure size 720x720 with 1 Axes>"
      ]
     },
     "metadata": {
      "needs_background": "light"
     },
     "output_type": "display_data"
    }
   ],
   "source": [
    "(ultra_analise.groupby('user_id').agg({'total_income':'mean'})['total_income'].\n",
    " plot(kind = 'hist', bins=50, figsize = (10,10), grid=True, title = 'total_income'));"
   ]
  },
  {
   "cell_type": "markdown",
   "metadata": {},
   "source": [
    "### Гипотеза 1 (средняя выручка пользователей тарифов «Ультра» и «Смарт» различаются)"
   ]
  },
  {
   "cell_type": "markdown",
   "metadata": {},
   "source": [
    "Для начала создадим новый датафрейм, где, как уже упоминалось выше, посчитаем среднемесячную выручку для каждого пользователя "
   ]
  },
  {
   "cell_type": "code",
   "execution_count": 109,
   "metadata": {},
   "outputs": [],
   "source": [
    "cities=users[['user_id','city']]\n",
    "analise_hipotes = analise[['user_id','months','tariff_name','total_income']]\n",
    "analise_hipotes = analise_hipotes.merge(cities, on='user_id',how='left')"
   ]
  },
  {
   "cell_type": "code",
   "execution_count": 110,
   "metadata": {},
   "outputs": [
    {
     "data": {
      "text/html": [
       "<div>\n",
       "<style scoped>\n",
       "    .dataframe tbody tr th:only-of-type {\n",
       "        vertical-align: middle;\n",
       "    }\n",
       "\n",
       "    .dataframe tbody tr th {\n",
       "        vertical-align: top;\n",
       "    }\n",
       "\n",
       "    .dataframe thead th {\n",
       "        text-align: right;\n",
       "    }\n",
       "</style>\n",
       "<table border=\"1\" class=\"dataframe\">\n",
       "  <thead>\n",
       "    <tr style=\"text-align: right;\">\n",
       "      <th></th>\n",
       "      <th>user_id</th>\n",
       "      <th>months</th>\n",
       "      <th>tariff_name</th>\n",
       "      <th>total_income</th>\n",
       "      <th>city</th>\n",
       "    </tr>\n",
       "  </thead>\n",
       "  <tbody>\n",
       "    <tr>\n",
       "      <th>0</th>\n",
       "      <td>1000</td>\n",
       "      <td>10</td>\n",
       "      <td>ultra</td>\n",
       "      <td>1950.0</td>\n",
       "      <td>Краснодар</td>\n",
       "    </tr>\n",
       "    <tr>\n",
       "      <th>1</th>\n",
       "      <td>1000</td>\n",
       "      <td>11</td>\n",
       "      <td>ultra</td>\n",
       "      <td>1950.0</td>\n",
       "      <td>Краснодар</td>\n",
       "    </tr>\n",
       "    <tr>\n",
       "      <th>2</th>\n",
       "      <td>1000</td>\n",
       "      <td>12</td>\n",
       "      <td>ultra</td>\n",
       "      <td>1950.0</td>\n",
       "      <td>Краснодар</td>\n",
       "    </tr>\n",
       "    <tr>\n",
       "      <th>3</th>\n",
       "      <td>1000</td>\n",
       "      <td>5</td>\n",
       "      <td>ultra</td>\n",
       "      <td>1950.0</td>\n",
       "      <td>Краснодар</td>\n",
       "    </tr>\n",
       "    <tr>\n",
       "      <th>4</th>\n",
       "      <td>1000</td>\n",
       "      <td>6</td>\n",
       "      <td>ultra</td>\n",
       "      <td>1950.0</td>\n",
       "      <td>Краснодар</td>\n",
       "    </tr>\n",
       "  </tbody>\n",
       "</table>\n",
       "</div>"
      ],
      "text/plain": [
       "   user_id  months tariff_name  total_income       city\n",
       "0     1000      10       ultra        1950.0  Краснодар\n",
       "1     1000      11       ultra        1950.0  Краснодар\n",
       "2     1000      12       ultra        1950.0  Краснодар\n",
       "3     1000       5       ultra        1950.0  Краснодар\n",
       "4     1000       6       ultra        1950.0  Краснодар"
      ]
     },
     "execution_count": 110,
     "metadata": {},
     "output_type": "execute_result"
    }
   ],
   "source": [
    "analise_hipotes.head()"
   ]
  },
  {
   "cell_type": "code",
   "execution_count": 111,
   "metadata": {},
   "outputs": [],
   "source": [
    "smart = analise_hipotes.query('tariff_name == \"smart\"').groupby('user_id').agg({'total_income':'mean'})\n",
    "ultra = analise_hipotes.query('tariff_name == \"ultra\"').groupby('user_id').agg({'total_income':'mean'})\n"
   ]
  },
  {
   "cell_type": "markdown",
   "metadata": {},
   "source": [
    "**Выдвинем нулевую гипотезу**"
   ]
  },
  {
   "cell_type": "markdown",
   "metadata": {},
   "source": [
    "Начнем доказательство `от противного` проверим равенство двух генеральных совокупностей:\n",
    "\n",
    "`Нулевая гипотеза H₀:` средняя выручка пользователей тарифов «Ультра» и «Смарт» равны.\n",
    "\n",
    "`Альтернативная гипотеза H₁:` средняя выручка пользователей тарифов «Ультра» и «Смарт» различаются.\n"
   ]
  },
  {
   "cell_type": "code",
   "execution_count": 112,
   "metadata": {
    "scrolled": true
   },
   "outputs": [
    {
     "name": "stdout",
     "output_type": "stream",
     "text": [
      "p-значение: 2.084961899583595e-59\n",
      "Средняя выручка пользователей тарифов «Ультра» и «Смарт» различаются\n"
     ]
    }
   ],
   "source": [
    "from scipy import stats as st\n",
    "\n",
    "sample_1 = smart['total_income']\n",
    "sample_2 = ultra['total_income']\n",
    "\n",
    "alpha = .05 # критический уровень статистической значимости\n",
    "\n",
    "results = st.ttest_ind(\n",
    "    sample_1, \n",
    "    sample_2,\n",
    "    equal_var = False)\n",
    "\n",
    "print('p-значение:', results.pvalue)\n",
    "\n",
    "if results.pvalue < alpha:\n",
    "    print(\"Средняя выручка пользователей тарифов «Ультра» и «Смарт» различаются\")\n",
    "else:\n",
    "    print(\"Средняя выручка пользователей тарифов «Ультра» и «Смарт» равны\")"
   ]
  },
  {
   "cell_type": "markdown",
   "metadata": {},
   "source": [
    "**Теперь, очевидно, что средняя выручка пользователей тарифов «Ультра» и «Смарт» не равны** "
   ]
  },
  {
   "cell_type": "code",
   "execution_count": 113,
   "metadata": {},
   "outputs": [
    {
     "name": "stdout",
     "output_type": "stream",
     "text": [
      "Средняя выручка пользователей тарифа «Смарт» 1324.4010192743758\n",
      "Доля пользователей тарифа «Смарт» от общего числа пользователей 0.7028112449799196\n",
      "Средняя выручка пользователей тарифа «Ультра» 2086.4646586521594\n",
      "Доля пользователей тарифа «Ультра» от общего числа пользователей 0.2971887550200803\n"
     ]
    }
   ],
   "source": [
    "print('Средняя выручка пользователей тарифа «Смарт»', \n",
    "      smart['total_income'].mean())\n",
    "print('Доля пользователей тарифа «Смарт» от общего числа пользователей', \n",
    "      smart['total_income'].count()/ (smart['total_income'].count()+ultra['total_income'].count()))\n",
    "print('Средняя выручка пользователей тарифа «Ультра»', \n",
    "      ultra['total_income'].mean())\n",
    "print('Доля пользователей тарифа «Ультра» от общего числа пользователей', \n",
    "      ultra['total_income'].count()/ (smart['total_income'].count()+ultra['total_income'].count()))"
   ]
  },
  {
   "cell_type": "code",
   "execution_count": 114,
   "metadata": {},
   "outputs": [
    {
     "name": "stdout",
     "output_type": "stream",
     "text": [
      "Средний доход от пользователей тарифа «Смарт» в зависимости от доли рынка 930.8039292088987\n",
      "Средний доход от пользователей тарифа «Ультра» в зависимости от доли рынка 620.0738342982321\n"
     ]
    }
   ],
   "source": [
    "print('Средний доход от пользователей тарифа «Смарт» в зависимости от доли рынка', \n",
    "      smart['total_income'].mean()* \n",
    "      smart['total_income'].count()/ (smart['total_income'].count()+ultra['total_income'].count()))\n",
    "\n",
    "print('Средний доход от пользователей тарифа «Ультра» в зависимости от доли рынка', \n",
    "      ultra['total_income'].mean()* \n",
    "      ultra['total_income'].count()/ (smart['total_income'].count()+ultra['total_income'].count()))\n"
   ]
  },
  {
   "cell_type": "markdown",
   "metadata": {},
   "source": [
    "### Гипотеза 2 (средняя выручка пользователей из Москвы отличается от выручки пользователей из других регионов)"
   ]
  },
  {
   "cell_type": "markdown",
   "metadata": {},
   "source": [
    "Начнем доказательство `от противного` проверим равенство двух генеральных совокупностей:\n",
    "\n",
    "`Нулевая гипотеза H₀:` средняя выручка пользователей из Москвы равна выручке пользователей из других регионов.\n",
    "\n",
    "`Альтернативная гипотеза H₁:` средняя выручка пользователей из Москвы отличается от выручки пользователей из других регионов."
   ]
  },
  {
   "cell_type": "code",
   "execution_count": 115,
   "metadata": {},
   "outputs": [
    {
     "name": "stdout",
     "output_type": "stream",
     "text": [
      "p-значение: 2.084961899583595e-59\n",
      "Средняя выручка пользователей из Москвы отличается от выручки пользователей из других регионов\n"
     ]
    }
   ],
   "source": [
    "from scipy import stats as st\n",
    "\n",
    "sample_1_0 = analise_hipotes.query('city == \"Москва\"').groupby('user_id').agg({'total_income':'mean'})['total_income']\n",
    "sample_2_1 = analise_hipotes.query('city != \"Москва\"').groupby('user_id').agg({'total_income':'mean'})['total_income']\n",
    "\n",
    "alpha = .05 # критический уровень статистической значимости\n",
    "\n",
    "results = st.ttest_ind(\n",
    "    sample_1, \n",
    "    sample_2,\n",
    "    equal_var = False)\n",
    "\n",
    "print('p-значение:', results.pvalue)\n",
    "\n",
    "if results.pvalue < alpha:\n",
    "    print(\"Средняя выручка пользователей из Москвы отличается от выручки пользователей из других регионов\")\n",
    "else:\n",
    "    print(\"Cредняя выручка пользователей из Москвы равна выручке пользователей из других регионов\")"
   ]
  },
  {
   "cell_type": "markdown",
   "metadata": {},
   "source": [
    "А Москвичи тратят больше или меньше?"
   ]
  },
  {
   "cell_type": "code",
   "execution_count": 116,
   "metadata": {},
   "outputs": [
    {
     "name": "stdout",
     "output_type": "stream",
     "text": [
      "Средняя выручка пользователей из Москвы 1498.465851152215\n",
      "Средняя выручка пользователей из других регионов 1563.8822229636137\n"
     ]
    }
   ],
   "source": [
    "print('Средняя выручка пользователей из Москвы', \n",
    "      analise_hipotes.query('city == \"Москва\"').groupby('user_id').agg({'total_income':'mean'})['total_income'].mean())\n",
    "print('Средняя выручка пользователей из других регионов', \n",
    "      analise_hipotes.query('city != \"Москва\"').groupby('user_id').agg({'total_income':'mean'})['total_income'].mean())"
   ]
  },
  {
   "cell_type": "markdown",
   "metadata": {},
   "source": [
    "Похоже в Москве умеют экономить."
   ]
  },
  {
   "cell_type": "markdown",
   "metadata": {},
   "source": [
    "**Средняя выручка пользователей из Москвы отличается от выручки пользователей из других регионов** "
   ]
  },
  {
   "cell_type": "markdown",
   "metadata": {},
   "source": [
    "## Общий вывод"
   ]
  },
  {
   "cell_type": "markdown",
   "metadata": {},
   "source": [
    "Средний доход от клиента тарифа `Ультра` выше, однако из-за дешевизны тарифа `Смарт` больше пользователей выбирают и как следствие приносят больший доход по доле рынка, переплачивая за превышения лимита. С точки зренее бизнеса, тариф `Смарт` выгоднее. Однако, проведя более тонкую настройку тарифов, можно выгадать оптимыльные настройки тарифов, повышающие качествооказываемых услуг и приносимый доход."
   ]
  }
 ],
 "metadata": {
  "ExecuteTimeLog": [
   {
    "duration": 412,
    "start_time": "2022-06-18T14:21:17.560Z"
   },
   {
    "duration": 111,
    "start_time": "2022-06-18T14:22:03.338Z"
   },
   {
    "duration": 221,
    "start_time": "2022-06-18T14:22:07.067Z"
   },
   {
    "duration": 21,
    "start_time": "2022-06-18T14:22:20.857Z"
   },
   {
    "duration": 43,
    "start_time": "2022-06-18T14:22:26.431Z"
   },
   {
    "duration": 43,
    "start_time": "2022-06-18T14:23:15.561Z"
   },
   {
    "duration": 11,
    "start_time": "2022-06-18T14:23:35.097Z"
   },
   {
    "duration": 30,
    "start_time": "2022-06-18T14:23:52.431Z"
   },
   {
    "duration": 77,
    "start_time": "2022-06-18T14:25:42.569Z"
   },
   {
    "duration": 16,
    "start_time": "2022-06-18T14:25:59.210Z"
   },
   {
    "duration": 46,
    "start_time": "2022-06-18T14:27:32.401Z"
   },
   {
    "duration": 167,
    "start_time": "2022-06-18T14:27:34.985Z"
   },
   {
    "duration": 390,
    "start_time": "2022-06-18T14:28:07.736Z"
   },
   {
    "duration": 29,
    "start_time": "2022-06-18T14:28:29.849Z"
   },
   {
    "duration": 311,
    "start_time": "2022-06-18T14:31:17.743Z"
   },
   {
    "duration": 138,
    "start_time": "2022-06-18T14:31:32.304Z"
   },
   {
    "duration": 27,
    "start_time": "2022-06-18T14:31:32.576Z"
   },
   {
    "duration": 19,
    "start_time": "2022-06-18T14:32:08.736Z"
   },
   {
    "duration": 64,
    "start_time": "2022-06-18T14:32:35.170Z"
   },
   {
    "duration": 18,
    "start_time": "2022-06-18T14:32:51.474Z"
   },
   {
    "duration": 189,
    "start_time": "2022-06-18T14:32:58.002Z"
   },
   {
    "duration": 40,
    "start_time": "2022-06-18T14:32:58.277Z"
   },
   {
    "duration": 18,
    "start_time": "2022-06-18T14:40:27.452Z"
   },
   {
    "duration": 6,
    "start_time": "2022-06-18T14:47:37.069Z"
   },
   {
    "duration": 25,
    "start_time": "2022-06-18T14:54:44.012Z"
   },
   {
    "duration": 3,
    "start_time": "2022-06-18T14:57:27.022Z"
   },
   {
    "duration": 6,
    "start_time": "2022-06-18T14:57:33.007Z"
   },
   {
    "duration": 5,
    "start_time": "2022-06-18T14:58:01.015Z"
   },
   {
    "duration": 5,
    "start_time": "2022-06-18T14:58:03.774Z"
   },
   {
    "duration": 35,
    "start_time": "2022-06-18T14:58:14.263Z"
   },
   {
    "duration": 18,
    "start_time": "2022-06-18T14:58:14.558Z"
   },
   {
    "duration": 3,
    "start_time": "2022-06-18T14:58:17.503Z"
   },
   {
    "duration": 6,
    "start_time": "2022-06-18T14:58:18.022Z"
   },
   {
    "duration": 8,
    "start_time": "2022-06-18T14:58:58.063Z"
   },
   {
    "duration": 6,
    "start_time": "2022-06-18T14:59:15.909Z"
   },
   {
    "duration": 10,
    "start_time": "2022-06-18T14:59:43.287Z"
   },
   {
    "duration": 10,
    "start_time": "2022-06-18T15:00:24.431Z"
   },
   {
    "duration": 8,
    "start_time": "2022-06-18T15:00:35.808Z"
   },
   {
    "duration": 6,
    "start_time": "2022-06-18T15:00:48.551Z"
   },
   {
    "duration": 7,
    "start_time": "2022-06-18T15:01:41.686Z"
   },
   {
    "duration": 6,
    "start_time": "2022-06-18T15:03:21.119Z"
   },
   {
    "duration": 6,
    "start_time": "2022-06-18T15:03:24.943Z"
   },
   {
    "duration": 5,
    "start_time": "2022-06-18T15:03:39.815Z"
   },
   {
    "duration": 5,
    "start_time": "2022-06-18T15:06:03.320Z"
   },
   {
    "duration": 6,
    "start_time": "2022-06-18T15:07:04.335Z"
   },
   {
    "duration": 12,
    "start_time": "2022-06-18T15:07:29.031Z"
   },
   {
    "duration": 29,
    "start_time": "2022-06-18T15:08:34.113Z"
   },
   {
    "duration": 7,
    "start_time": "2022-06-18T15:08:53.991Z"
   },
   {
    "duration": 6,
    "start_time": "2022-06-18T15:09:30.840Z"
   },
   {
    "duration": 4,
    "start_time": "2022-06-18T15:09:48.768Z"
   },
   {
    "duration": 4,
    "start_time": "2022-06-18T15:11:51.224Z"
   },
   {
    "duration": 17,
    "start_time": "2022-06-18T15:11:52.080Z"
   },
   {
    "duration": 4,
    "start_time": "2022-06-18T15:12:34.897Z"
   },
   {
    "duration": 4,
    "start_time": "2022-06-18T15:12:47.736Z"
   },
   {
    "duration": 5,
    "start_time": "2022-06-18T15:13:41.422Z"
   },
   {
    "duration": 23,
    "start_time": "2022-06-18T15:14:06.446Z"
   },
   {
    "duration": 25,
    "start_time": "2022-06-18T15:14:20.310Z"
   },
   {
    "duration": 15,
    "start_time": "2022-06-18T15:14:21.447Z"
   },
   {
    "duration": 7,
    "start_time": "2022-06-18T15:16:51.416Z"
   },
   {
    "duration": 7,
    "start_time": "2022-06-18T15:20:46.387Z"
   },
   {
    "duration": 104,
    "start_time": "2022-06-18T15:21:03.913Z"
   },
   {
    "duration": 18,
    "start_time": "2022-06-18T15:21:44.840Z"
   },
   {
    "duration": 111,
    "start_time": "2022-06-18T15:21:50.255Z"
   },
   {
    "duration": 8,
    "start_time": "2022-06-18T15:22:18.440Z"
   },
   {
    "duration": 6,
    "start_time": "2022-06-18T15:22:25.032Z"
   },
   {
    "duration": 5,
    "start_time": "2022-06-18T15:23:23.635Z"
   },
   {
    "duration": 20,
    "start_time": "2022-06-18T15:23:57.993Z"
   },
   {
    "duration": 150,
    "start_time": "2022-06-18T15:24:41.593Z"
   },
   {
    "duration": 30,
    "start_time": "2022-06-18T15:24:41.869Z"
   },
   {
    "duration": 7,
    "start_time": "2022-06-18T15:24:43.559Z"
   },
   {
    "duration": 94,
    "start_time": "2022-06-18T15:24:46.391Z"
   },
   {
    "duration": 16,
    "start_time": "2022-06-18T15:25:01.959Z"
   },
   {
    "duration": 273,
    "start_time": "2022-06-18T15:25:05.175Z"
   },
   {
    "duration": 13,
    "start_time": "2022-06-18T15:25:05.551Z"
   },
   {
    "duration": 154,
    "start_time": "2022-06-18T15:25:10.279Z"
   },
   {
    "duration": 37,
    "start_time": "2022-06-18T15:25:10.559Z"
   },
   {
    "duration": 8,
    "start_time": "2022-06-18T15:25:11.529Z"
   },
   {
    "duration": 82,
    "start_time": "2022-06-18T15:25:12.848Z"
   },
   {
    "duration": 298,
    "start_time": "2022-06-18T15:25:13.880Z"
   },
   {
    "duration": 31,
    "start_time": "2022-06-18T15:25:26.192Z"
   },
   {
    "duration": 9,
    "start_time": "2022-06-18T15:25:29.224Z"
   },
   {
    "duration": 6,
    "start_time": "2022-06-18T15:25:48.840Z"
   },
   {
    "duration": 33,
    "start_time": "2022-06-18T15:26:50.161Z"
   },
   {
    "duration": 44,
    "start_time": "2022-06-18T15:26:57.136Z"
   },
   {
    "duration": 6,
    "start_time": "2022-06-18T15:26:57.448Z"
   },
   {
    "duration": 132,
    "start_time": "2022-06-18T15:28:15.601Z"
   },
   {
    "duration": 42,
    "start_time": "2022-06-18T15:28:17.117Z"
   },
   {
    "duration": 57,
    "start_time": "2022-06-18T15:29:15.376Z"
   },
   {
    "duration": 7,
    "start_time": "2022-06-18T15:29:55.290Z"
   },
   {
    "duration": 24,
    "start_time": "2022-06-18T15:39:27.219Z"
   },
   {
    "duration": 25,
    "start_time": "2022-06-18T15:39:42.456Z"
   },
   {
    "duration": 37,
    "start_time": "2022-06-18T15:41:12.680Z"
   },
   {
    "duration": 16,
    "start_time": "2022-06-18T15:41:35.144Z"
   },
   {
    "duration": 18,
    "start_time": "2022-06-18T15:42:01.601Z"
   },
   {
    "duration": 8,
    "start_time": "2022-06-18T15:42:37.471Z"
   },
   {
    "duration": 19,
    "start_time": "2022-06-18T15:42:46.376Z"
   },
   {
    "duration": 10,
    "start_time": "2022-06-18T15:43:01.429Z"
   },
   {
    "duration": 46,
    "start_time": "2022-06-18T15:43:58.161Z"
   },
   {
    "duration": 279,
    "start_time": "2022-06-18T15:45:13.265Z"
   },
   {
    "duration": 30,
    "start_time": "2022-06-18T15:45:21.089Z"
   },
   {
    "duration": 25,
    "start_time": "2022-06-18T15:45:33.457Z"
   },
   {
    "duration": 6,
    "start_time": "2022-06-18T15:46:04.290Z"
   },
   {
    "duration": 8,
    "start_time": "2022-06-18T16:00:54.880Z"
   },
   {
    "duration": 21,
    "start_time": "2022-06-18T16:01:30.216Z"
   },
   {
    "duration": 9,
    "start_time": "2022-06-18T16:01:30.456Z"
   },
   {
    "duration": 4,
    "start_time": "2022-06-18T16:05:23.011Z"
   },
   {
    "duration": 9,
    "start_time": "2022-06-18T16:05:35.239Z"
   },
   {
    "duration": 7,
    "start_time": "2022-06-18T16:08:26.504Z"
   },
   {
    "duration": 13,
    "start_time": "2022-06-18T16:09:07.463Z"
   },
   {
    "duration": 7,
    "start_time": "2022-06-18T16:09:27.807Z"
   },
   {
    "duration": 8,
    "start_time": "2022-06-18T16:12:22.601Z"
   },
   {
    "duration": 8,
    "start_time": "2022-06-18T16:12:42.017Z"
   },
   {
    "duration": 10,
    "start_time": "2022-06-18T16:12:56.677Z"
   },
   {
    "duration": 7,
    "start_time": "2022-06-18T16:13:17.720Z"
   },
   {
    "duration": 11,
    "start_time": "2022-06-18T16:13:57.800Z"
   },
   {
    "duration": 7,
    "start_time": "2022-06-18T16:14:33.914Z"
   },
   {
    "duration": 9,
    "start_time": "2022-06-18T16:14:38.655Z"
   },
   {
    "duration": 8,
    "start_time": "2022-06-18T16:24:01.763Z"
   },
   {
    "duration": 9,
    "start_time": "2022-06-18T16:24:41.360Z"
   },
   {
    "duration": 7,
    "start_time": "2022-06-18T16:25:17.968Z"
   },
   {
    "duration": 6,
    "start_time": "2022-06-18T16:26:04.161Z"
   },
   {
    "duration": 7,
    "start_time": "2022-06-18T16:26:12.393Z"
   },
   {
    "duration": 8,
    "start_time": "2022-06-18T16:28:19.665Z"
   },
   {
    "duration": 24,
    "start_time": "2022-06-18T16:28:23.802Z"
   },
   {
    "duration": 8,
    "start_time": "2022-06-18T16:28:29.465Z"
   },
   {
    "duration": 9,
    "start_time": "2022-06-18T16:28:43.528Z"
   },
   {
    "duration": 8,
    "start_time": "2022-06-18T16:33:40.017Z"
   },
   {
    "duration": 21,
    "start_time": "2022-06-18T16:45:54.562Z"
   },
   {
    "duration": 4,
    "start_time": "2022-06-18T16:47:21.338Z"
   },
   {
    "duration": 10,
    "start_time": "2022-06-18T16:47:25.127Z"
   },
   {
    "duration": 18,
    "start_time": "2022-06-18T16:47:55.920Z"
   },
   {
    "duration": 5,
    "start_time": "2022-06-18T16:47:59.760Z"
   },
   {
    "duration": 6,
    "start_time": "2022-06-18T16:48:21.643Z"
   },
   {
    "duration": 4,
    "start_time": "2022-06-18T16:48:27.576Z"
   },
   {
    "duration": 4,
    "start_time": "2022-06-18T16:48:30.409Z"
   },
   {
    "duration": 4,
    "start_time": "2022-06-18T16:48:37.736Z"
   },
   {
    "duration": 12,
    "start_time": "2022-06-18T16:48:41.113Z"
   },
   {
    "duration": 7,
    "start_time": "2022-06-18T16:54:25.401Z"
   },
   {
    "duration": 46,
    "start_time": "2022-06-18T16:54:32.210Z"
   },
   {
    "duration": 9,
    "start_time": "2022-06-18T16:54:52.020Z"
   },
   {
    "duration": 40,
    "start_time": "2022-06-18T16:55:02.817Z"
   },
   {
    "duration": 4,
    "start_time": "2022-06-18T17:02:29.914Z"
   },
   {
    "duration": 29,
    "start_time": "2022-06-18T17:02:36.546Z"
   },
   {
    "duration": 19,
    "start_time": "2022-06-18T17:02:46.400Z"
   },
   {
    "duration": 27,
    "start_time": "2022-06-18T17:03:03.104Z"
   },
   {
    "duration": 7,
    "start_time": "2022-06-18T17:05:49.895Z"
   },
   {
    "duration": 14,
    "start_time": "2022-06-18T17:05:54.855Z"
   },
   {
    "duration": 304,
    "start_time": "2022-06-18T17:05:55.104Z"
   },
   {
    "duration": 288,
    "start_time": "2022-06-18T17:06:07.498Z"
   },
   {
    "duration": 285,
    "start_time": "2022-06-18T17:06:32.072Z"
   },
   {
    "duration": 7,
    "start_time": "2022-06-18T17:07:02.473Z"
   },
   {
    "duration": 10,
    "start_time": "2022-06-18T17:07:45.080Z"
   },
   {
    "duration": 10,
    "start_time": "2022-06-18T17:08:50.057Z"
   },
   {
    "duration": 8,
    "start_time": "2022-06-18T17:09:02.165Z"
   },
   {
    "duration": 7,
    "start_time": "2022-06-18T17:12:07.841Z"
   },
   {
    "duration": 3,
    "start_time": "2022-06-18T17:12:13.977Z"
   },
   {
    "duration": 4,
    "start_time": "2022-06-18T17:13:20.731Z"
   },
   {
    "duration": 12,
    "start_time": "2022-06-18T17:13:24.328Z"
   },
   {
    "duration": 3,
    "start_time": "2022-06-18T17:28:49.353Z"
   },
   {
    "duration": 40,
    "start_time": "2022-06-18T17:35:17.857Z"
   },
   {
    "duration": 33,
    "start_time": "2022-06-18T17:35:24.232Z"
   },
   {
    "duration": 98,
    "start_time": "2022-06-18T17:37:55.000Z"
   },
   {
    "duration": 14,
    "start_time": "2022-06-18T17:38:13.163Z"
   },
   {
    "duration": 60,
    "start_time": "2022-06-18T17:41:53.057Z"
   },
   {
    "duration": 90,
    "start_time": "2022-06-18T17:42:00.473Z"
   },
   {
    "duration": 8,
    "start_time": "2022-06-18T17:45:15.456Z"
   },
   {
    "duration": 18,
    "start_time": "2022-06-18T17:45:50.905Z"
   },
   {
    "duration": 24,
    "start_time": "2022-06-18T17:46:50.912Z"
   },
   {
    "duration": 14,
    "start_time": "2022-06-18T17:47:29.306Z"
   },
   {
    "duration": 18,
    "start_time": "2022-06-18T17:49:24.497Z"
   },
   {
    "duration": 18,
    "start_time": "2022-06-18T17:50:17.862Z"
   },
   {
    "duration": 49,
    "start_time": "2022-06-18T17:52:11.306Z"
   },
   {
    "duration": 29,
    "start_time": "2022-06-18T17:52:32.939Z"
   },
   {
    "duration": 428,
    "start_time": "2022-06-18T17:54:09.647Z"
   },
   {
    "duration": 42,
    "start_time": "2022-06-18T17:54:10.078Z"
   },
   {
    "duration": 33,
    "start_time": "2022-06-18T17:54:10.121Z"
   },
   {
    "duration": 4,
    "start_time": "2022-06-18T17:54:10.157Z"
   },
   {
    "duration": 45,
    "start_time": "2022-06-18T17:54:10.163Z"
   },
   {
    "duration": 13,
    "start_time": "2022-06-18T17:54:10.210Z"
   },
   {
    "duration": 13,
    "start_time": "2022-06-18T17:54:10.224Z"
   },
   {
    "duration": 10,
    "start_time": "2022-06-18T17:54:10.239Z"
   },
   {
    "duration": 7,
    "start_time": "2022-06-18T17:54:10.251Z"
   },
   {
    "duration": 26,
    "start_time": "2022-06-18T17:54:10.262Z"
   },
   {
    "duration": 26,
    "start_time": "2022-06-18T17:54:10.291Z"
   },
   {
    "duration": 21,
    "start_time": "2022-06-18T17:54:10.319Z"
   },
   {
    "duration": 209,
    "start_time": "2022-06-18T17:54:10.342Z"
   },
   {
    "duration": 61,
    "start_time": "2022-06-18T17:54:10.553Z"
   },
   {
    "duration": 16,
    "start_time": "2022-06-18T17:54:10.617Z"
   },
   {
    "duration": 139,
    "start_time": "2022-06-18T17:54:10.635Z"
   },
   {
    "duration": 39,
    "start_time": "2022-06-18T17:54:10.776Z"
   },
   {
    "duration": 20,
    "start_time": "2022-06-18T17:54:10.817Z"
   },
   {
    "duration": 165,
    "start_time": "2022-06-18T17:54:10.839Z"
   },
   {
    "duration": 28,
    "start_time": "2022-06-18T17:54:11.006Z"
   },
   {
    "duration": 115,
    "start_time": "2022-06-18T17:54:11.036Z"
   },
   {
    "duration": 7,
    "start_time": "2022-06-18T17:54:11.152Z"
   },
   {
    "duration": 0,
    "start_time": "2022-06-18T17:54:11.175Z"
   },
   {
    "duration": 0,
    "start_time": "2022-06-18T17:54:11.184Z"
   },
   {
    "duration": 0,
    "start_time": "2022-06-18T17:54:11.186Z"
   },
   {
    "duration": 0,
    "start_time": "2022-06-18T17:54:11.187Z"
   },
   {
    "duration": 0,
    "start_time": "2022-06-18T17:54:11.190Z"
   },
   {
    "duration": 0,
    "start_time": "2022-06-18T17:54:11.191Z"
   },
   {
    "duration": 0,
    "start_time": "2022-06-18T17:54:11.193Z"
   },
   {
    "duration": 0,
    "start_time": "2022-06-18T17:54:11.198Z"
   },
   {
    "duration": 0,
    "start_time": "2022-06-18T17:54:11.199Z"
   },
   {
    "duration": 0,
    "start_time": "2022-06-18T17:54:11.200Z"
   },
   {
    "duration": 0,
    "start_time": "2022-06-18T17:54:11.202Z"
   },
   {
    "duration": 0,
    "start_time": "2022-06-18T17:54:11.204Z"
   },
   {
    "duration": 0,
    "start_time": "2022-06-18T17:54:11.205Z"
   },
   {
    "duration": 0,
    "start_time": "2022-06-18T17:54:11.206Z"
   },
   {
    "duration": 0,
    "start_time": "2022-06-18T17:54:11.207Z"
   },
   {
    "duration": 0,
    "start_time": "2022-06-18T17:54:11.208Z"
   },
   {
    "duration": 0,
    "start_time": "2022-06-18T17:54:11.210Z"
   },
   {
    "duration": 0,
    "start_time": "2022-06-18T17:54:11.211Z"
   },
   {
    "duration": 0,
    "start_time": "2022-06-18T17:54:11.212Z"
   },
   {
    "duration": 0,
    "start_time": "2022-06-18T17:54:11.213Z"
   },
   {
    "duration": 0,
    "start_time": "2022-06-18T17:54:11.215Z"
   },
   {
    "duration": 0,
    "start_time": "2022-06-18T17:54:11.216Z"
   },
   {
    "duration": 0,
    "start_time": "2022-06-18T17:54:11.218Z"
   },
   {
    "duration": 0,
    "start_time": "2022-06-18T17:54:11.222Z"
   },
   {
    "duration": 0,
    "start_time": "2022-06-18T17:54:11.223Z"
   },
   {
    "duration": 0,
    "start_time": "2022-06-18T17:54:11.225Z"
   },
   {
    "duration": 0,
    "start_time": "2022-06-18T17:54:11.270Z"
   },
   {
    "duration": 0,
    "start_time": "2022-06-18T17:54:11.271Z"
   },
   {
    "duration": 0,
    "start_time": "2022-06-18T17:54:11.272Z"
   },
   {
    "duration": 0,
    "start_time": "2022-06-18T17:54:11.278Z"
   },
   {
    "duration": 0,
    "start_time": "2022-06-18T17:54:11.282Z"
   },
   {
    "duration": 9,
    "start_time": "2022-06-18T17:54:31.912Z"
   },
   {
    "duration": 34,
    "start_time": "2022-06-18T17:54:33.045Z"
   },
   {
    "duration": 38,
    "start_time": "2022-06-18T17:54:33.495Z"
   },
   {
    "duration": 23,
    "start_time": "2022-06-18T17:54:34.779Z"
   },
   {
    "duration": 125,
    "start_time": "2022-06-18T17:54:35.374Z"
   },
   {
    "duration": 27,
    "start_time": "2022-06-18T17:54:35.654Z"
   },
   {
    "duration": 62,
    "start_time": "2022-06-18T17:54:37.043Z"
   },
   {
    "duration": 6,
    "start_time": "2022-06-18T17:54:38.126Z"
   },
   {
    "duration": 5,
    "start_time": "2022-06-18T17:54:38.641Z"
   },
   {
    "duration": 37,
    "start_time": "2022-06-18T17:54:38.703Z"
   },
   {
    "duration": 20,
    "start_time": "2022-06-18T17:54:38.770Z"
   },
   {
    "duration": 25,
    "start_time": "2022-06-18T17:54:38.800Z"
   },
   {
    "duration": 10,
    "start_time": "2022-06-18T17:54:38.830Z"
   },
   {
    "duration": 92,
    "start_time": "2022-06-18T17:54:38.869Z"
   },
   {
    "duration": 0,
    "start_time": "2022-06-18T17:54:38.963Z"
   },
   {
    "duration": 7,
    "start_time": "2022-06-18T17:54:39.095Z"
   },
   {
    "duration": 40,
    "start_time": "2022-06-18T17:54:39.136Z"
   },
   {
    "duration": 3,
    "start_time": "2022-06-18T17:54:39.183Z"
   },
   {
    "duration": 5,
    "start_time": "2022-06-18T17:54:39.204Z"
   },
   {
    "duration": 3,
    "start_time": "2022-06-18T17:54:39.261Z"
   },
   {
    "duration": 7,
    "start_time": "2022-06-18T17:54:39.307Z"
   },
   {
    "duration": 3,
    "start_time": "2022-06-18T17:54:39.325Z"
   },
   {
    "duration": 15,
    "start_time": "2022-06-18T17:54:39.388Z"
   },
   {
    "duration": 8,
    "start_time": "2022-06-18T17:54:39.419Z"
   },
   {
    "duration": 3,
    "start_time": "2022-06-18T17:54:39.451Z"
   },
   {
    "duration": 8,
    "start_time": "2022-06-18T17:54:39.530Z"
   },
   {
    "duration": 23,
    "start_time": "2022-06-18T17:54:39.562Z"
   },
   {
    "duration": 22,
    "start_time": "2022-06-18T17:54:39.593Z"
   },
   {
    "duration": 14,
    "start_time": "2022-06-18T17:54:39.625Z"
   },
   {
    "duration": 7,
    "start_time": "2022-06-18T17:54:39.655Z"
   },
   {
    "duration": 7,
    "start_time": "2022-06-18T17:54:39.686Z"
   },
   {
    "duration": 9,
    "start_time": "2022-06-18T17:54:52.798Z"
   },
   {
    "duration": 13,
    "start_time": "2022-06-18T17:55:09.399Z"
   },
   {
    "duration": 7,
    "start_time": "2022-06-18T17:55:29.749Z"
   },
   {
    "duration": 3,
    "start_time": "2022-06-18T17:56:04.341Z"
   },
   {
    "duration": 5,
    "start_time": "2022-06-18T17:56:05.271Z"
   },
   {
    "duration": 11,
    "start_time": "2022-06-18T17:56:07.925Z"
   },
   {
    "duration": 24,
    "start_time": "2022-06-18T17:56:20.005Z"
   },
   {
    "duration": 43,
    "start_time": "2022-06-18T17:56:25.350Z"
   },
   {
    "duration": 15,
    "start_time": "2022-06-18T17:56:28.062Z"
   },
   {
    "duration": 24,
    "start_time": "2022-06-18T17:56:31.662Z"
   },
   {
    "duration": 73,
    "start_time": "2022-06-18T17:56:57.412Z"
   },
   {
    "duration": 22,
    "start_time": "2022-06-18T17:57:04.893Z"
   },
   {
    "duration": 89,
    "start_time": "2022-06-18T17:58:00.999Z"
   },
   {
    "duration": 17,
    "start_time": "2022-06-18T17:58:26.407Z"
   },
   {
    "duration": 22,
    "start_time": "2022-06-18T17:58:32.090Z"
   },
   {
    "duration": 30,
    "start_time": "2022-06-18T17:58:37.375Z"
   },
   {
    "duration": 18,
    "start_time": "2022-06-18T17:59:01.343Z"
   },
   {
    "duration": 45,
    "start_time": "2022-06-18T17:59:58.126Z"
   },
   {
    "duration": 22,
    "start_time": "2022-06-18T18:00:10.926Z"
   },
   {
    "duration": 58,
    "start_time": "2022-06-18T18:00:18.894Z"
   },
   {
    "duration": 21,
    "start_time": "2022-06-18T18:01:09.302Z"
   },
   {
    "duration": 23,
    "start_time": "2022-06-18T18:01:23.702Z"
   },
   {
    "duration": 50,
    "start_time": "2022-06-18T18:01:39.334Z"
   },
   {
    "duration": 41,
    "start_time": "2022-06-18T18:01:56.542Z"
   },
   {
    "duration": 33,
    "start_time": "2022-06-18T18:02:19.076Z"
   },
   {
    "duration": 323,
    "start_time": "2022-06-18T18:05:44.447Z"
   },
   {
    "duration": 10,
    "start_time": "2022-06-18T18:05:58.478Z"
   },
   {
    "duration": 27,
    "start_time": "2022-06-18T18:06:10.571Z"
   },
   {
    "duration": 30,
    "start_time": "2022-06-18T18:06:16.940Z"
   },
   {
    "duration": 10,
    "start_time": "2022-06-18T18:06:46.890Z"
   },
   {
    "duration": 10,
    "start_time": "2022-06-18T18:07:42.397Z"
   },
   {
    "duration": 11,
    "start_time": "2022-06-18T18:07:51.716Z"
   },
   {
    "duration": 17,
    "start_time": "2022-06-18T18:11:01.332Z"
   },
   {
    "duration": 40,
    "start_time": "2022-06-18T18:11:39.489Z"
   },
   {
    "duration": 12,
    "start_time": "2022-06-18T18:12:40.743Z"
   },
   {
    "duration": 15,
    "start_time": "2022-06-18T18:13:10.999Z"
   },
   {
    "duration": 14,
    "start_time": "2022-06-18T18:13:21.124Z"
   },
   {
    "duration": 46,
    "start_time": "2022-06-18T18:31:01.326Z"
   },
   {
    "duration": 17,
    "start_time": "2022-06-18T18:31:06.695Z"
   },
   {
    "duration": 15,
    "start_time": "2022-06-18T18:31:27.173Z"
   },
   {
    "duration": 13,
    "start_time": "2022-06-18T18:32:14.062Z"
   },
   {
    "duration": 12,
    "start_time": "2022-06-18T18:32:50.707Z"
   },
   {
    "duration": 12,
    "start_time": "2022-06-18T18:32:56.076Z"
   },
   {
    "duration": 11,
    "start_time": "2022-06-18T18:32:59.540Z"
   },
   {
    "duration": 14,
    "start_time": "2022-06-18T18:33:00.236Z"
   },
   {
    "duration": 4,
    "start_time": "2022-06-18T18:37:35.749Z"
   },
   {
    "duration": 17,
    "start_time": "2022-06-18T18:39:38.405Z"
   },
   {
    "duration": 9,
    "start_time": "2022-06-18T18:40:35.851Z"
   },
   {
    "duration": 18,
    "start_time": "2022-06-18T18:40:54.292Z"
   },
   {
    "duration": 10,
    "start_time": "2022-06-18T18:42:07.339Z"
   },
   {
    "duration": 21,
    "start_time": "2022-06-18T18:42:11.881Z"
   },
   {
    "duration": 13,
    "start_time": "2022-06-18T18:42:12.412Z"
   },
   {
    "duration": 3,
    "start_time": "2022-06-18T18:44:23.131Z"
   },
   {
    "duration": 3,
    "start_time": "2022-06-18T18:44:43.692Z"
   },
   {
    "duration": 10,
    "start_time": "2022-06-18T18:44:52.770Z"
   },
   {
    "duration": 3,
    "start_time": "2022-06-18T18:48:00.354Z"
   },
   {
    "duration": 14,
    "start_time": "2022-06-18T18:48:02.980Z"
   },
   {
    "duration": 3,
    "start_time": "2022-06-18T18:48:25.946Z"
   },
   {
    "duration": 13,
    "start_time": "2022-06-18T18:48:26.353Z"
   },
   {
    "duration": 3,
    "start_time": "2022-06-18T18:48:36.235Z"
   },
   {
    "duration": 8,
    "start_time": "2022-06-18T18:48:41.185Z"
   },
   {
    "duration": 4,
    "start_time": "2022-06-18T18:49:03.130Z"
   },
   {
    "duration": 3,
    "start_time": "2022-06-18T18:51:00.379Z"
   },
   {
    "duration": 8,
    "start_time": "2022-06-18T18:51:03.411Z"
   },
   {
    "duration": 11,
    "start_time": "2022-06-18T18:51:11.074Z"
   },
   {
    "duration": 3,
    "start_time": "2022-06-18T18:52:33.860Z"
   },
   {
    "duration": 13,
    "start_time": "2022-06-18T18:52:35.101Z"
   },
   {
    "duration": 4,
    "start_time": "2022-06-18T18:52:58.699Z"
   },
   {
    "duration": 301,
    "start_time": "2022-06-18T18:52:59.299Z"
   },
   {
    "duration": 3,
    "start_time": "2022-06-18T18:53:29.955Z"
   },
   {
    "duration": 3,
    "start_time": "2022-06-18T18:53:36.196Z"
   },
   {
    "duration": 321,
    "start_time": "2022-06-18T18:53:36.386Z"
   },
   {
    "duration": 3,
    "start_time": "2022-06-18T18:55:13.790Z"
   },
   {
    "duration": 400,
    "start_time": "2022-06-18T18:55:14.409Z"
   },
   {
    "duration": 14,
    "start_time": "2022-06-18T18:55:24.835Z"
   },
   {
    "duration": 4,
    "start_time": "2022-06-18T18:55:42.961Z"
   },
   {
    "duration": 332,
    "start_time": "2022-06-18T18:55:44.841Z"
   },
   {
    "duration": 5,
    "start_time": "2022-06-18T18:55:54.604Z"
   },
   {
    "duration": 11,
    "start_time": "2022-06-18T18:55:55.065Z"
   },
   {
    "duration": 4,
    "start_time": "2022-06-18T18:58:00.554Z"
   },
   {
    "duration": 17,
    "start_time": "2022-06-18T18:58:05.506Z"
   },
   {
    "duration": 14,
    "start_time": "2022-06-18T18:58:14.434Z"
   },
   {
    "duration": 8,
    "start_time": "2022-06-18T18:58:20.402Z"
   },
   {
    "duration": 9,
    "start_time": "2022-06-18T18:58:27.139Z"
   },
   {
    "duration": 10,
    "start_time": "2022-06-18T19:05:26.090Z"
   },
   {
    "duration": 10,
    "start_time": "2022-06-18T19:05:39.099Z"
   },
   {
    "duration": 15,
    "start_time": "2022-06-18T19:05:41.338Z"
   },
   {
    "duration": 16,
    "start_time": "2022-06-18T19:05:42.962Z"
   },
   {
    "duration": 38,
    "start_time": "2022-06-18T19:05:51.057Z"
   },
   {
    "duration": 17,
    "start_time": "2022-06-18T19:05:52.082Z"
   },
   {
    "duration": 12,
    "start_time": "2022-06-18T19:06:15.704Z"
   },
   {
    "duration": 22,
    "start_time": "2022-06-18T19:06:16.665Z"
   },
   {
    "duration": 18,
    "start_time": "2022-06-18T19:06:18.065Z"
   },
   {
    "duration": 30,
    "start_time": "2022-06-18T20:18:05.895Z"
   },
   {
    "duration": 34,
    "start_time": "2022-06-18T20:19:01.119Z"
   },
   {
    "duration": 12,
    "start_time": "2022-06-18T20:19:09.815Z"
   },
   {
    "duration": 9,
    "start_time": "2022-06-18T20:20:41.047Z"
   },
   {
    "duration": 24,
    "start_time": "2022-06-18T20:21:14.519Z"
   },
   {
    "duration": 24,
    "start_time": "2022-06-18T20:22:31.826Z"
   },
   {
    "duration": 26,
    "start_time": "2022-06-18T20:22:39.800Z"
   },
   {
    "duration": 13,
    "start_time": "2022-06-18T20:25:11.703Z"
   },
   {
    "duration": 25,
    "start_time": "2022-06-18T20:27:33.745Z"
   },
   {
    "duration": 288,
    "start_time": "2022-06-18T20:27:39.559Z"
   },
   {
    "duration": 24,
    "start_time": "2022-06-18T20:27:50.793Z"
   },
   {
    "duration": 13,
    "start_time": "2022-06-18T20:27:51.743Z"
   },
   {
    "duration": 16,
    "start_time": "2022-06-18T20:28:18.977Z"
   },
   {
    "duration": 9,
    "start_time": "2022-06-18T20:36:02.151Z"
   },
   {
    "duration": 335,
    "start_time": "2022-06-18T20:37:39.699Z"
   },
   {
    "duration": 310,
    "start_time": "2022-06-18T20:37:46.823Z"
   },
   {
    "duration": 10,
    "start_time": "2022-06-18T20:38:10.015Z"
   },
   {
    "duration": 7,
    "start_time": "2022-06-18T20:39:17.599Z"
   },
   {
    "duration": 5,
    "start_time": "2022-06-18T20:39:28.326Z"
   },
   {
    "duration": 11,
    "start_time": "2022-06-18T20:39:33.016Z"
   },
   {
    "duration": 5,
    "start_time": "2022-06-18T20:39:33.799Z"
   },
   {
    "duration": 4,
    "start_time": "2022-06-18T20:41:21.272Z"
   },
   {
    "duration": 4,
    "start_time": "2022-06-18T20:41:39.679Z"
   },
   {
    "duration": 10,
    "start_time": "2022-06-18T20:42:03.703Z"
   },
   {
    "duration": 3,
    "start_time": "2022-06-18T20:42:04.474Z"
   },
   {
    "duration": 4,
    "start_time": "2022-06-18T20:42:13.087Z"
   },
   {
    "duration": 5,
    "start_time": "2022-06-18T20:42:29.014Z"
   },
   {
    "duration": 4,
    "start_time": "2022-06-18T20:42:43.360Z"
   },
   {
    "duration": 4,
    "start_time": "2022-06-18T20:43:28.665Z"
   },
   {
    "duration": 5,
    "start_time": "2022-06-18T20:44:17.525Z"
   },
   {
    "duration": 11,
    "start_time": "2022-06-18T20:44:24.351Z"
   },
   {
    "duration": 10,
    "start_time": "2022-06-18T20:44:25.208Z"
   },
   {
    "duration": 4,
    "start_time": "2022-06-18T20:44:26.982Z"
   },
   {
    "duration": 36,
    "start_time": "2022-06-18T20:44:54.871Z"
   },
   {
    "duration": 5,
    "start_time": "2022-06-18T20:45:06.702Z"
   },
   {
    "duration": 12,
    "start_time": "2022-06-18T20:45:15.383Z"
   },
   {
    "duration": 10,
    "start_time": "2022-06-18T20:45:59.024Z"
   },
   {
    "duration": 4,
    "start_time": "2022-06-18T20:46:07.320Z"
   },
   {
    "duration": 7,
    "start_time": "2022-06-18T20:46:15.981Z"
   },
   {
    "duration": 10,
    "start_time": "2022-06-18T20:48:07.823Z"
   },
   {
    "duration": 4,
    "start_time": "2022-06-18T20:51:02.737Z"
   },
   {
    "duration": 7,
    "start_time": "2022-06-18T20:51:07.352Z"
   },
   {
    "duration": 10,
    "start_time": "2022-06-18T20:51:17.704Z"
   },
   {
    "duration": 4,
    "start_time": "2022-06-18T20:51:20.112Z"
   },
   {
    "duration": 9,
    "start_time": "2022-06-18T20:51:40.129Z"
   },
   {
    "duration": 6,
    "start_time": "2022-06-18T20:51:40.888Z"
   },
   {
    "duration": 11,
    "start_time": "2022-06-18T20:52:42.298Z"
   },
   {
    "duration": 4,
    "start_time": "2022-06-18T20:52:42.961Z"
   },
   {
    "duration": 7,
    "start_time": "2022-06-18T20:52:54.811Z"
   },
   {
    "duration": 10,
    "start_time": "2022-06-18T20:53:00.609Z"
   },
   {
    "duration": 5,
    "start_time": "2022-06-18T20:53:01.193Z"
   },
   {
    "duration": 13,
    "start_time": "2022-06-18T20:53:25.897Z"
   },
   {
    "duration": 5,
    "start_time": "2022-06-18T20:53:29.857Z"
   },
   {
    "duration": 11,
    "start_time": "2022-06-18T20:53:54.361Z"
   },
   {
    "duration": 4,
    "start_time": "2022-06-18T20:53:55.482Z"
   },
   {
    "duration": 11,
    "start_time": "2022-06-18T20:54:01.428Z"
   },
   {
    "duration": 9,
    "start_time": "2022-06-18T20:54:02.314Z"
   },
   {
    "duration": 10,
    "start_time": "2022-06-18T20:54:12.690Z"
   },
   {
    "duration": 9,
    "start_time": "2022-06-18T20:54:13.546Z"
   },
   {
    "duration": 18,
    "start_time": "2022-06-18T20:55:04.438Z"
   },
   {
    "duration": 17,
    "start_time": "2022-06-18T20:55:28.083Z"
   },
   {
    "duration": 31,
    "start_time": "2022-06-18T20:55:58.680Z"
   },
   {
    "duration": 12,
    "start_time": "2022-06-18T20:55:59.746Z"
   },
   {
    "duration": 2,
    "start_time": "2022-06-18T20:56:00.681Z"
   },
   {
    "duration": 15,
    "start_time": "2022-06-18T20:56:07.915Z"
   },
   {
    "duration": 14,
    "start_time": "2022-06-18T20:57:28.323Z"
   },
   {
    "duration": 15,
    "start_time": "2022-06-18T20:57:50.339Z"
   },
   {
    "duration": 9,
    "start_time": "2022-06-18T20:57:58.196Z"
   },
   {
    "duration": 8,
    "start_time": "2022-06-18T20:58:05.850Z"
   },
   {
    "duration": 9,
    "start_time": "2022-06-18T20:58:16.770Z"
   },
   {
    "duration": 16,
    "start_time": "2022-06-18T20:59:02.563Z"
   },
   {
    "duration": 14,
    "start_time": "2022-06-18T20:59:22.227Z"
   },
   {
    "duration": 14,
    "start_time": "2022-06-18T21:00:15.002Z"
   },
   {
    "duration": 6,
    "start_time": "2022-06-18T21:00:46.204Z"
   },
   {
    "duration": 16,
    "start_time": "2022-06-18T21:01:14.252Z"
   },
   {
    "duration": 14,
    "start_time": "2022-06-18T21:01:29.962Z"
   },
   {
    "duration": 5,
    "start_time": "2022-06-18T21:01:58.331Z"
   },
   {
    "duration": 8,
    "start_time": "2022-06-18T21:03:21.172Z"
   },
   {
    "duration": 7,
    "start_time": "2022-06-18T21:03:41.460Z"
   },
   {
    "duration": 8,
    "start_time": "2022-06-18T21:04:07.195Z"
   },
   {
    "duration": 19,
    "start_time": "2022-06-18T21:04:08.035Z"
   },
   {
    "duration": 26,
    "start_time": "2022-06-18T21:04:10.187Z"
   },
   {
    "duration": 12,
    "start_time": "2022-06-18T21:04:11.107Z"
   },
   {
    "duration": 11,
    "start_time": "2022-06-18T21:04:19.220Z"
   },
   {
    "duration": 35,
    "start_time": "2022-06-18T21:04:58.963Z"
   },
   {
    "duration": 12,
    "start_time": "2022-06-18T21:05:07.292Z"
   },
   {
    "duration": 30,
    "start_time": "2022-06-18T21:05:20.517Z"
   },
   {
    "duration": 11,
    "start_time": "2022-06-18T21:05:42.101Z"
   },
   {
    "duration": 44,
    "start_time": "2022-06-18T21:06:56.835Z"
   },
   {
    "duration": 17,
    "start_time": "2022-06-18T21:08:02.078Z"
   },
   {
    "duration": 19,
    "start_time": "2022-06-18T21:08:37.396Z"
   },
   {
    "duration": 14,
    "start_time": "2022-06-18T21:08:39.590Z"
   },
   {
    "duration": 6,
    "start_time": "2022-06-18T21:08:42.587Z"
   },
   {
    "duration": 12,
    "start_time": "2022-06-18T21:13:57.685Z"
   },
   {
    "duration": 133,
    "start_time": "2022-06-18T21:14:14.957Z"
   },
   {
    "duration": 28,
    "start_time": "2022-06-18T21:14:20.492Z"
   },
   {
    "duration": 13,
    "start_time": "2022-06-18T21:14:21.972Z"
   },
   {
    "duration": 16,
    "start_time": "2022-06-18T21:14:24.660Z"
   },
   {
    "duration": 10,
    "start_time": "2022-06-18T21:15:01.901Z"
   },
   {
    "duration": 14,
    "start_time": "2022-06-18T21:16:10.372Z"
   },
   {
    "duration": 51,
    "start_time": "2022-06-18T21:16:20.101Z"
   },
   {
    "duration": 8,
    "start_time": "2022-06-18T21:17:41.380Z"
   },
   {
    "duration": 9,
    "start_time": "2022-06-18T21:17:51.244Z"
   },
   {
    "duration": 11,
    "start_time": "2022-06-18T21:18:04.245Z"
   },
   {
    "duration": 51,
    "start_time": "2022-06-18T21:19:42.855Z"
   },
   {
    "duration": 15,
    "start_time": "2022-06-18T21:19:51.000Z"
   },
   {
    "duration": 29,
    "start_time": "2022-06-18T21:21:34.644Z"
   },
   {
    "duration": 15,
    "start_time": "2022-06-18T21:21:36.701Z"
   },
   {
    "duration": 3,
    "start_time": "2022-06-18T21:21:37.846Z"
   },
   {
    "duration": 9,
    "start_time": "2022-06-18T21:21:42.660Z"
   },
   {
    "duration": 19,
    "start_time": "2022-06-18T21:21:43.812Z"
   },
   {
    "duration": 21,
    "start_time": "2022-06-18T21:21:44.886Z"
   },
   {
    "duration": 10,
    "start_time": "2022-06-18T21:21:45.812Z"
   },
   {
    "duration": 8,
    "start_time": "2022-06-18T21:21:49.013Z"
   },
   {
    "duration": 22,
    "start_time": "2022-06-18T21:21:50.078Z"
   },
   {
    "duration": 18,
    "start_time": "2022-06-18T21:21:51.084Z"
   },
   {
    "duration": 13,
    "start_time": "2022-06-18T21:21:52.244Z"
   },
   {
    "duration": 13,
    "start_time": "2022-06-18T21:21:53.596Z"
   },
   {
    "duration": 3,
    "start_time": "2022-06-18T21:21:54.988Z"
   },
   {
    "duration": 9,
    "start_time": "2022-06-18T21:22:00.581Z"
   },
   {
    "duration": 15,
    "start_time": "2022-06-18T21:22:02.821Z"
   },
   {
    "duration": 32,
    "start_time": "2022-06-18T21:23:00.094Z"
   },
   {
    "duration": 17,
    "start_time": "2022-06-18T21:23:23.693Z"
   },
   {
    "duration": 16,
    "start_time": "2022-06-18T21:23:27.690Z"
   },
   {
    "duration": 17,
    "start_time": "2022-06-18T21:24:05.243Z"
   },
   {
    "duration": 4,
    "start_time": "2022-06-18T21:24:08.301Z"
   },
   {
    "duration": 16,
    "start_time": "2022-06-18T21:26:33.160Z"
   },
   {
    "duration": 12,
    "start_time": "2022-06-18T21:26:45.415Z"
   },
   {
    "duration": 9,
    "start_time": "2022-06-18T21:26:55.513Z"
   },
   {
    "duration": 9,
    "start_time": "2022-06-18T21:26:56.241Z"
   },
   {
    "duration": 8,
    "start_time": "2022-06-18T21:26:57.296Z"
   },
   {
    "duration": 34,
    "start_time": "2022-06-18T21:27:02.140Z"
   },
   {
    "duration": 13,
    "start_time": "2022-06-18T21:27:03.424Z"
   },
   {
    "duration": 18,
    "start_time": "2022-06-18T21:27:05.184Z"
   },
   {
    "duration": 17,
    "start_time": "2022-06-18T21:27:11.904Z"
   },
   {
    "duration": 5,
    "start_time": "2022-06-18T21:27:16.640Z"
   },
   {
    "duration": 15,
    "start_time": "2022-06-18T21:27:31.617Z"
   },
   {
    "duration": 66,
    "start_time": "2022-06-18T21:27:51.319Z"
   },
   {
    "duration": 13,
    "start_time": "2022-06-18T21:27:54.778Z"
   },
   {
    "duration": 16,
    "start_time": "2022-06-18T21:27:56.705Z"
   },
   {
    "duration": 15,
    "start_time": "2022-06-18T21:28:04.823Z"
   },
   {
    "duration": 5,
    "start_time": "2022-06-18T21:28:07.959Z"
   },
   {
    "duration": 26,
    "start_time": "2022-06-18T21:31:18.997Z"
   },
   {
    "duration": 30,
    "start_time": "2022-06-18T21:31:22.435Z"
   },
   {
    "duration": 14,
    "start_time": "2022-06-18T21:31:23.718Z"
   },
   {
    "duration": 17,
    "start_time": "2022-06-18T21:32:14.464Z"
   },
   {
    "duration": 16,
    "start_time": "2022-06-18T21:32:59.736Z"
   },
   {
    "duration": 12,
    "start_time": "2022-06-18T21:35:08.220Z"
   },
   {
    "duration": 16,
    "start_time": "2022-06-18T21:35:20.613Z"
   },
   {
    "duration": 33,
    "start_time": "2022-06-18T21:35:23.661Z"
   },
   {
    "duration": 13,
    "start_time": "2022-06-18T21:35:24.717Z"
   },
   {
    "duration": 12,
    "start_time": "2022-06-18T21:35:26.549Z"
   },
   {
    "duration": 12,
    "start_time": "2022-06-18T21:36:01.606Z"
   },
   {
    "duration": 37,
    "start_time": "2022-06-18T21:36:12.253Z"
   },
   {
    "duration": 12,
    "start_time": "2022-06-18T21:36:26.269Z"
   },
   {
    "duration": 21,
    "start_time": "2022-06-18T21:37:14.372Z"
   },
   {
    "duration": 9,
    "start_time": "2022-06-18T21:37:51.932Z"
   },
   {
    "duration": 10,
    "start_time": "2022-06-18T21:37:52.613Z"
   },
   {
    "duration": 30,
    "start_time": "2022-06-18T21:38:05.631Z"
   },
   {
    "duration": 15,
    "start_time": "2022-06-18T21:38:06.797Z"
   },
   {
    "duration": 16,
    "start_time": "2022-06-18T21:38:08.397Z"
   },
   {
    "duration": 5,
    "start_time": "2022-06-18T21:38:30.916Z"
   },
   {
    "duration": 30,
    "start_time": "2022-06-18T21:39:37.533Z"
   },
   {
    "duration": 17,
    "start_time": "2022-06-18T21:39:38.443Z"
   },
   {
    "duration": 17,
    "start_time": "2022-06-18T21:39:40.269Z"
   },
   {
    "duration": 5,
    "start_time": "2022-06-18T21:39:41.667Z"
   },
   {
    "duration": 69,
    "start_time": "2022-06-18T21:39:54.076Z"
   },
   {
    "duration": 14,
    "start_time": "2022-06-18T21:39:55.011Z"
   },
   {
    "duration": 18,
    "start_time": "2022-06-18T21:39:56.037Z"
   },
   {
    "duration": 4,
    "start_time": "2022-06-18T21:39:58.027Z"
   },
   {
    "duration": 17,
    "start_time": "2022-06-18T21:42:55.686Z"
   },
   {
    "duration": 10,
    "start_time": "2022-06-18T21:44:28.108Z"
   },
   {
    "duration": 6,
    "start_time": "2022-06-18T21:46:31.371Z"
   },
   {
    "duration": 10,
    "start_time": "2022-06-18T21:49:55.972Z"
   },
   {
    "duration": 32,
    "start_time": "2022-06-18T21:50:13.250Z"
   },
   {
    "duration": 9,
    "start_time": "2022-06-18T21:51:15.843Z"
   },
   {
    "duration": 13,
    "start_time": "2022-06-18T21:51:38.545Z"
   },
   {
    "duration": 10,
    "start_time": "2022-06-18T21:51:42.739Z"
   },
   {
    "duration": 11,
    "start_time": "2022-06-18T21:51:58.649Z"
   },
   {
    "duration": 16,
    "start_time": "2022-06-18T21:52:48.698Z"
   },
   {
    "duration": 10,
    "start_time": "2022-06-18T21:54:00.897Z"
   },
   {
    "duration": 14,
    "start_time": "2022-06-18T21:54:30.418Z"
   },
   {
    "duration": 8,
    "start_time": "2022-06-18T21:54:33.539Z"
   },
   {
    "duration": 15,
    "start_time": "2022-06-18T21:55:25.883Z"
   },
   {
    "duration": 12,
    "start_time": "2022-06-18T21:55:28.585Z"
   },
   {
    "duration": 14,
    "start_time": "2022-06-18T21:56:22.259Z"
   },
   {
    "duration": 12,
    "start_time": "2022-06-18T21:56:36.602Z"
   },
   {
    "duration": 13,
    "start_time": "2022-06-18T21:58:28.028Z"
   },
   {
    "duration": 8,
    "start_time": "2022-06-18T21:58:31.955Z"
   },
   {
    "duration": 10,
    "start_time": "2022-06-18T21:58:51.735Z"
   },
   {
    "duration": 15,
    "start_time": "2022-06-18T21:58:54.402Z"
   },
   {
    "duration": 12,
    "start_time": "2022-06-18T21:58:56.412Z"
   },
   {
    "duration": 322,
    "start_time": "2022-06-18T21:59:58.892Z"
   },
   {
    "duration": 5,
    "start_time": "2022-06-18T22:00:05.155Z"
   },
   {
    "duration": 16,
    "start_time": "2022-06-18T22:00:41.260Z"
   },
   {
    "duration": 6,
    "start_time": "2022-06-18T22:01:18.644Z"
   },
   {
    "duration": 6,
    "start_time": "2022-06-18T22:02:02.644Z"
   },
   {
    "duration": 15,
    "start_time": "2022-06-18T22:03:15.052Z"
   },
   {
    "duration": 12,
    "start_time": "2022-06-18T22:03:18.292Z"
   },
   {
    "duration": 16,
    "start_time": "2022-06-18T22:04:02.267Z"
   },
   {
    "duration": 12,
    "start_time": "2022-06-18T22:04:03.957Z"
   },
   {
    "duration": 5,
    "start_time": "2022-06-18T22:04:20.652Z"
   },
   {
    "duration": 17,
    "start_time": "2022-06-18T22:04:46.405Z"
   },
   {
    "duration": 10,
    "start_time": "2022-06-18T22:04:48.612Z"
   },
   {
    "duration": 5,
    "start_time": "2022-06-18T22:04:50.604Z"
   },
   {
    "duration": 19,
    "start_time": "2022-06-18T22:04:55.636Z"
   },
   {
    "duration": 5,
    "start_time": "2022-06-18T22:05:05.956Z"
   },
   {
    "duration": 440,
    "start_time": "2022-06-18T22:05:24.981Z"
   },
   {
    "duration": 11,
    "start_time": "2022-06-18T22:06:20.820Z"
   },
   {
    "duration": 19,
    "start_time": "2022-06-18T22:07:29.980Z"
   },
   {
    "duration": 15,
    "start_time": "2022-06-18T22:07:45.908Z"
   },
   {
    "duration": 33,
    "start_time": "2022-06-18T22:08:33.597Z"
   },
   {
    "duration": 12,
    "start_time": "2022-06-18T22:08:35.589Z"
   },
   {
    "duration": 3,
    "start_time": "2022-06-18T22:08:39.693Z"
   },
   {
    "duration": 7,
    "start_time": "2022-06-18T22:09:03.534Z"
   },
   {
    "duration": 19,
    "start_time": "2022-06-18T22:09:04.267Z"
   },
   {
    "duration": 24,
    "start_time": "2022-06-18T22:09:04.934Z"
   },
   {
    "duration": 11,
    "start_time": "2022-06-18T22:09:08.366Z"
   },
   {
    "duration": 2,
    "start_time": "2022-06-18T22:09:10.078Z"
   },
   {
    "duration": 9,
    "start_time": "2022-06-18T22:09:54.478Z"
   },
   {
    "duration": 22,
    "start_time": "2022-06-18T22:09:55.020Z"
   },
   {
    "duration": 22,
    "start_time": "2022-06-18T22:09:56.765Z"
   },
   {
    "duration": 14,
    "start_time": "2022-06-18T22:09:58.772Z"
   },
   {
    "duration": 12,
    "start_time": "2022-06-18T22:10:00.804Z"
   },
   {
    "duration": 3,
    "start_time": "2022-06-18T22:10:02.289Z"
   },
   {
    "duration": 30,
    "start_time": "2022-06-18T22:11:03.030Z"
   },
   {
    "duration": 12,
    "start_time": "2022-06-18T22:11:33.564Z"
   },
   {
    "duration": 6,
    "start_time": "2022-06-18T22:11:45.020Z"
   },
   {
    "duration": 8,
    "start_time": "2022-06-18T22:12:07.783Z"
   },
   {
    "duration": 22,
    "start_time": "2022-06-18T22:12:45.239Z"
   },
   {
    "duration": 14,
    "start_time": "2022-06-18T22:14:33.326Z"
   },
   {
    "duration": 31,
    "start_time": "2022-06-18T22:15:08.617Z"
   },
   {
    "duration": 6,
    "start_time": "2022-06-18T22:15:12.260Z"
   },
   {
    "duration": 6,
    "start_time": "2022-06-18T22:15:32.317Z"
   },
   {
    "duration": 7,
    "start_time": "2022-06-18T22:16:08.951Z"
   },
   {
    "duration": 14,
    "start_time": "2022-06-18T22:18:35.004Z"
   },
   {
    "duration": 6,
    "start_time": "2022-06-18T22:18:36.981Z"
   },
   {
    "duration": 33,
    "start_time": "2022-06-18T22:18:47.820Z"
   },
   {
    "duration": 6,
    "start_time": "2022-06-18T22:18:49.741Z"
   },
   {
    "duration": 14,
    "start_time": "2022-06-18T22:19:02.589Z"
   },
   {
    "duration": 5,
    "start_time": "2022-06-18T22:19:04.654Z"
   },
   {
    "duration": 65,
    "start_time": "2022-06-18T22:19:06.302Z"
   },
   {
    "duration": 5,
    "start_time": "2022-06-18T22:19:07.870Z"
   },
   {
    "duration": 14,
    "start_time": "2022-06-18T22:19:58.132Z"
   },
   {
    "duration": 14,
    "start_time": "2022-06-18T22:20:33.889Z"
   },
   {
    "duration": 5,
    "start_time": "2022-06-18T22:20:48.413Z"
   },
   {
    "duration": 10,
    "start_time": "2022-06-18T22:21:05.275Z"
   },
   {
    "duration": 14,
    "start_time": "2022-06-18T22:21:49.333Z"
   },
   {
    "duration": 10,
    "start_time": "2022-06-18T22:22:08.100Z"
   },
   {
    "duration": 11,
    "start_time": "2022-06-18T22:22:37.365Z"
   },
   {
    "duration": 10,
    "start_time": "2022-06-18T22:22:46.182Z"
   },
   {
    "duration": 10,
    "start_time": "2022-06-18T22:22:59.293Z"
   },
   {
    "duration": 13,
    "start_time": "2022-06-18T22:23:24.022Z"
   },
   {
    "duration": 12,
    "start_time": "2022-06-18T22:24:39.782Z"
   },
   {
    "duration": 4,
    "start_time": "2022-06-18T22:25:22.709Z"
   },
   {
    "duration": 14,
    "start_time": "2022-06-18T22:25:34.045Z"
   },
   {
    "duration": 5,
    "start_time": "2022-06-18T22:26:16.701Z"
   },
   {
    "duration": 14,
    "start_time": "2022-06-18T22:26:50.292Z"
   },
   {
    "duration": 4,
    "start_time": "2022-06-18T22:27:02.573Z"
   },
   {
    "duration": 11,
    "start_time": "2022-06-18T22:28:03.587Z"
   },
   {
    "duration": 8,
    "start_time": "2022-06-18T22:28:15.286Z"
   },
   {
    "duration": 17,
    "start_time": "2022-06-18T22:31:43.976Z"
   },
   {
    "duration": 34,
    "start_time": "2022-06-18T22:32:11.689Z"
   },
   {
    "duration": 6,
    "start_time": "2022-06-18T22:32:41.656Z"
   },
   {
    "duration": 15,
    "start_time": "2022-06-18T22:34:21.282Z"
   },
   {
    "duration": 6,
    "start_time": "2022-06-18T22:35:09.673Z"
   },
   {
    "duration": 5,
    "start_time": "2022-06-18T22:35:56.570Z"
   },
   {
    "duration": 7,
    "start_time": "2022-06-18T22:36:09.818Z"
   },
   {
    "duration": 11,
    "start_time": "2022-06-18T22:37:06.414Z"
   },
   {
    "duration": 12,
    "start_time": "2022-06-18T22:37:59.691Z"
   },
   {
    "duration": 14,
    "start_time": "2022-06-18T22:39:30.421Z"
   },
   {
    "duration": 10,
    "start_time": "2022-06-18T22:39:57.212Z"
   },
   {
    "duration": 17,
    "start_time": "2022-06-18T22:40:10.740Z"
   },
   {
    "duration": 6,
    "start_time": "2022-06-18T22:40:25.557Z"
   },
   {
    "duration": 13,
    "start_time": "2022-06-18T22:40:40.387Z"
   },
   {
    "duration": 13,
    "start_time": "2022-06-18T22:42:16.902Z"
   },
   {
    "duration": 93,
    "start_time": "2022-06-18T22:43:20.701Z"
   },
   {
    "duration": 27,
    "start_time": "2022-06-18T22:44:04.006Z"
   },
   {
    "duration": 13,
    "start_time": "2022-06-18T22:44:44.981Z"
   },
   {
    "duration": 89,
    "start_time": "2022-06-18T22:44:46.181Z"
   },
   {
    "duration": 28,
    "start_time": "2022-06-18T22:44:57.303Z"
   },
   {
    "duration": 12,
    "start_time": "2022-06-18T22:45:37.382Z"
   },
   {
    "duration": 6,
    "start_time": "2022-06-18T22:45:44.111Z"
   },
   {
    "duration": 11,
    "start_time": "2022-06-18T22:45:53.372Z"
   },
   {
    "duration": 16,
    "start_time": "2022-06-18T22:46:06.476Z"
   },
   {
    "duration": 6,
    "start_time": "2022-06-18T22:47:27.343Z"
   },
   {
    "duration": 17,
    "start_time": "2022-06-18T22:48:23.289Z"
   },
   {
    "duration": 8,
    "start_time": "2022-06-18T22:48:28.062Z"
   },
   {
    "duration": 6,
    "start_time": "2022-06-18T22:49:21.543Z"
   },
   {
    "duration": 5,
    "start_time": "2022-06-18T22:49:28.325Z"
   },
   {
    "duration": 9,
    "start_time": "2022-06-18T22:49:30.934Z"
   },
   {
    "duration": 23,
    "start_time": "2022-06-18T22:53:35.238Z"
   },
   {
    "duration": 13,
    "start_time": "2022-06-18T22:53:37.302Z"
   },
   {
    "duration": 7,
    "start_time": "2022-06-18T22:53:47.524Z"
   },
   {
    "duration": 21,
    "start_time": "2022-06-18T22:53:50.959Z"
   },
   {
    "duration": 20,
    "start_time": "2022-06-18T22:53:53.959Z"
   },
   {
    "duration": 10,
    "start_time": "2022-06-18T22:53:56.744Z"
   },
   {
    "duration": 8,
    "start_time": "2022-06-18T22:54:09.216Z"
   },
   {
    "duration": 22,
    "start_time": "2022-06-18T22:54:12.072Z"
   },
   {
    "duration": 20,
    "start_time": "2022-06-18T22:54:14.574Z"
   },
   {
    "duration": 13,
    "start_time": "2022-06-18T22:54:17.695Z"
   },
   {
    "duration": 11,
    "start_time": "2022-06-18T22:54:20.490Z"
   },
   {
    "duration": 9,
    "start_time": "2022-06-18T22:54:25.008Z"
   },
   {
    "duration": 10,
    "start_time": "2022-06-18T22:54:28.104Z"
   },
   {
    "duration": 2,
    "start_time": "2022-06-18T22:54:30.781Z"
   },
   {
    "duration": 2,
    "start_time": "2022-06-18T22:54:36.166Z"
   },
   {
    "duration": 3,
    "start_time": "2022-06-18T22:54:40.294Z"
   },
   {
    "duration": 2,
    "start_time": "2022-06-18T22:54:42.583Z"
   },
   {
    "duration": 2,
    "start_time": "2022-06-18T22:54:46.806Z"
   },
   {
    "duration": 3,
    "start_time": "2022-06-18T22:54:50.046Z"
   },
   {
    "duration": 2,
    "start_time": "2022-06-18T22:54:54.695Z"
   },
   {
    "duration": 31,
    "start_time": "2022-06-18T22:56:32.043Z"
   },
   {
    "duration": 18,
    "start_time": "2022-06-18T22:56:45.015Z"
   },
   {
    "duration": 27,
    "start_time": "2022-06-18T22:57:41.385Z"
   },
   {
    "duration": 5,
    "start_time": "2022-06-18T22:57:43.640Z"
   },
   {
    "duration": 19,
    "start_time": "2022-06-18T22:57:45.816Z"
   },
   {
    "duration": 5,
    "start_time": "2022-06-18T22:58:21.304Z"
   },
   {
    "duration": 11,
    "start_time": "2022-06-18T22:58:23.855Z"
   },
   {
    "duration": 6,
    "start_time": "2022-06-18T22:58:27.935Z"
   },
   {
    "duration": 16,
    "start_time": "2022-06-18T22:58:31.835Z"
   },
   {
    "duration": 5,
    "start_time": "2022-06-18T22:58:58.705Z"
   },
   {
    "duration": 29,
    "start_time": "2022-06-18T22:59:49.232Z"
   },
   {
    "duration": 17,
    "start_time": "2022-06-18T22:59:58.125Z"
   },
   {
    "duration": 8,
    "start_time": "2022-06-18T23:00:45.232Z"
   },
   {
    "duration": 20,
    "start_time": "2022-06-18T23:01:28.497Z"
   },
   {
    "duration": 12,
    "start_time": "2022-06-18T23:02:01.096Z"
   },
   {
    "duration": 9,
    "start_time": "2022-06-18T23:03:46.962Z"
   },
   {
    "duration": 15,
    "start_time": "2022-06-18T23:04:07.168Z"
   },
   {
    "duration": 9,
    "start_time": "2022-06-18T23:04:11.752Z"
   },
   {
    "duration": 9,
    "start_time": "2022-06-18T23:04:29.089Z"
   },
   {
    "duration": 9,
    "start_time": "2022-06-18T23:06:52.961Z"
   },
   {
    "duration": 15,
    "start_time": "2022-06-18T23:07:06.352Z"
   },
   {
    "duration": 17,
    "start_time": "2022-06-18T23:08:46.953Z"
   },
   {
    "duration": 51,
    "start_time": "2022-06-18T23:09:04.618Z"
   },
   {
    "duration": 15,
    "start_time": "2022-06-18T23:09:11.608Z"
   },
   {
    "duration": 20,
    "start_time": "2022-06-18T23:09:13.146Z"
   },
   {
    "duration": 30,
    "start_time": "2022-06-18T23:09:25.609Z"
   },
   {
    "duration": 19,
    "start_time": "2022-06-18T23:10:12.375Z"
   },
   {
    "duration": 12,
    "start_time": "2022-06-18T23:10:30.346Z"
   },
   {
    "duration": 15,
    "start_time": "2022-06-18T23:10:41.649Z"
   },
   {
    "duration": 13,
    "start_time": "2022-06-18T23:11:04.520Z"
   },
   {
    "duration": 13,
    "start_time": "2022-06-18T23:11:28.233Z"
   },
   {
    "duration": 30,
    "start_time": "2022-06-18T23:11:40.937Z"
   },
   {
    "duration": 28,
    "start_time": "2022-06-18T23:15:21.031Z"
   },
   {
    "duration": 3,
    "start_time": "2022-06-18T23:23:39.376Z"
   },
   {
    "duration": 6,
    "start_time": "2022-06-18T23:24:45.241Z"
   },
   {
    "duration": 3,
    "start_time": "2022-06-18T23:24:57.265Z"
   },
   {
    "duration": 3,
    "start_time": "2022-06-18T23:24:57.657Z"
   },
   {
    "duration": 313,
    "start_time": "2022-06-18T23:24:58.009Z"
   },
   {
    "duration": 14,
    "start_time": "2022-06-18T23:25:42.176Z"
   },
   {
    "duration": 5,
    "start_time": "2022-06-18T23:26:09.016Z"
   },
   {
    "duration": 10,
    "start_time": "2022-06-18T23:26:11.136Z"
   },
   {
    "duration": 13,
    "start_time": "2022-06-18T23:26:17.169Z"
   },
   {
    "duration": 3,
    "start_time": "2022-06-18T23:26:36.473Z"
   },
   {
    "duration": 14,
    "start_time": "2022-06-18T23:26:37.473Z"
   },
   {
    "duration": 9,
    "start_time": "2022-06-18T23:26:51.074Z"
   },
   {
    "duration": 21,
    "start_time": "2022-06-18T23:26:56.252Z"
   },
   {
    "duration": 2,
    "start_time": "2022-06-18T23:27:14.480Z"
   },
   {
    "duration": 13,
    "start_time": "2022-06-18T23:27:18.810Z"
   },
   {
    "duration": 77,
    "start_time": "2022-06-18T23:29:08.762Z"
   },
   {
    "duration": 175,
    "start_time": "2022-06-18T23:31:00.434Z"
   },
   {
    "duration": 172,
    "start_time": "2022-06-18T23:31:22.545Z"
   },
   {
    "duration": 7,
    "start_time": "2022-06-18T23:34:16.011Z"
   },
   {
    "duration": 3,
    "start_time": "2022-06-18T23:34:23.739Z"
   },
   {
    "duration": 7,
    "start_time": "2022-06-18T23:34:24.177Z"
   },
   {
    "duration": 3,
    "start_time": "2022-06-18T23:34:38.153Z"
   },
   {
    "duration": 7,
    "start_time": "2022-06-18T23:34:38.484Z"
   },
   {
    "duration": 166,
    "start_time": "2022-06-18T23:34:54.179Z"
   },
   {
    "duration": 158,
    "start_time": "2022-06-18T23:39:05.426Z"
   },
   {
    "duration": 6,
    "start_time": "2022-06-18T23:39:23.850Z"
   },
   {
    "duration": 4,
    "start_time": "2022-06-18T23:39:41.842Z"
   },
   {
    "duration": 6,
    "start_time": "2022-06-18T23:39:42.232Z"
   },
   {
    "duration": 5,
    "start_time": "2022-06-18T23:39:42.552Z"
   },
   {
    "duration": 3,
    "start_time": "2022-06-18T23:39:42.856Z"
   },
   {
    "duration": 162,
    "start_time": "2022-06-18T23:39:43.160Z"
   },
   {
    "duration": 576,
    "start_time": "2022-06-18T23:40:30.953Z"
   },
   {
    "duration": 24,
    "start_time": "2022-06-18T23:42:20.048Z"
   },
   {
    "duration": 25,
    "start_time": "2022-06-18T23:45:32.911Z"
   },
   {
    "duration": 28,
    "start_time": "2022-06-18T23:45:57.392Z"
   },
   {
    "duration": 29,
    "start_time": "2022-06-18T23:47:24.233Z"
   },
   {
    "duration": 23,
    "start_time": "2022-06-18T23:48:40.736Z"
   },
   {
    "duration": 4,
    "start_time": "2022-06-18T23:48:58.151Z"
   },
   {
    "duration": 9,
    "start_time": "2022-06-18T23:48:59.159Z"
   },
   {
    "duration": 10,
    "start_time": "2022-06-18T23:51:06.303Z"
   },
   {
    "duration": 10,
    "start_time": "2022-06-18T23:51:11.119Z"
   },
   {
    "duration": 10,
    "start_time": "2022-06-18T23:52:20.824Z"
   },
   {
    "duration": 5,
    "start_time": "2022-06-18T23:52:26.670Z"
   },
   {
    "duration": 7,
    "start_time": "2022-06-18T23:52:26.974Z"
   },
   {
    "duration": 9,
    "start_time": "2022-06-18T23:52:27.209Z"
   },
   {
    "duration": 3,
    "start_time": "2022-06-18T23:52:27.430Z"
   },
   {
    "duration": 545,
    "start_time": "2022-06-18T23:52:27.678Z"
   },
   {
    "duration": 24,
    "start_time": "2022-06-18T23:52:28.224Z"
   },
   {
    "duration": 28,
    "start_time": "2022-06-18T23:52:29.574Z"
   },
   {
    "duration": 28,
    "start_time": "2022-06-18T23:52:49.169Z"
   },
   {
    "duration": 24,
    "start_time": "2022-06-18T23:53:13.263Z"
   },
   {
    "duration": 18,
    "start_time": "2022-06-18T23:54:11.806Z"
   },
   {
    "duration": 17,
    "start_time": "2022-06-19T00:06:25.630Z"
   },
   {
    "duration": 22,
    "start_time": "2022-06-19T00:06:34.374Z"
   },
   {
    "duration": 23,
    "start_time": "2022-06-19T00:07:03.487Z"
   },
   {
    "duration": 17,
    "start_time": "2022-06-19T00:07:32.854Z"
   },
   {
    "duration": 23,
    "start_time": "2022-06-19T00:08:37.895Z"
   },
   {
    "duration": 13,
    "start_time": "2022-06-19T00:11:46.535Z"
   },
   {
    "duration": 4,
    "start_time": "2022-06-19T00:13:06.798Z"
   },
   {
    "duration": 16,
    "start_time": "2022-06-19T00:13:13.865Z"
   },
   {
    "duration": 3,
    "start_time": "2022-06-19T00:15:57.273Z"
   },
   {
    "duration": 15,
    "start_time": "2022-06-19T00:15:59.703Z"
   },
   {
    "duration": 4,
    "start_time": "2022-06-19T00:18:32.129Z"
   },
   {
    "duration": 16,
    "start_time": "2022-06-19T00:18:33.845Z"
   },
   {
    "duration": 4,
    "start_time": "2022-06-19T00:20:27.410Z"
   },
   {
    "duration": 14,
    "start_time": "2022-06-19T00:20:28.098Z"
   },
   {
    "duration": 4,
    "start_time": "2022-06-19T00:22:00.874Z"
   },
   {
    "duration": 18,
    "start_time": "2022-06-19T00:22:01.810Z"
   },
   {
    "duration": 4,
    "start_time": "2022-06-19T00:22:15.642Z"
   },
   {
    "duration": 15,
    "start_time": "2022-06-19T00:22:16.811Z"
   },
   {
    "duration": 17,
    "start_time": "2022-06-19T00:22:34.299Z"
   },
   {
    "duration": 17,
    "start_time": "2022-06-19T00:22:35.179Z"
   },
   {
    "duration": 14,
    "start_time": "2022-06-19T00:22:35.515Z"
   },
   {
    "duration": 4,
    "start_time": "2022-06-19T00:23:04.777Z"
   },
   {
    "duration": 14,
    "start_time": "2022-06-19T00:23:06.794Z"
   },
   {
    "duration": 23,
    "start_time": "2022-06-19T00:24:01.611Z"
   },
   {
    "duration": 13,
    "start_time": "2022-06-19T00:24:04.475Z"
   },
   {
    "duration": 12,
    "start_time": "2022-06-19T00:24:06.843Z"
   },
   {
    "duration": 6,
    "start_time": "2022-06-19T00:29:14.900Z"
   },
   {
    "duration": 7,
    "start_time": "2022-06-19T00:30:21.341Z"
   },
   {
    "duration": 4,
    "start_time": "2022-06-19T00:31:41.196Z"
   },
   {
    "duration": 10,
    "start_time": "2022-06-19T00:31:52.733Z"
   },
   {
    "duration": 3,
    "start_time": "2022-06-19T00:41:46.446Z"
   },
   {
    "duration": 5,
    "start_time": "2022-06-19T00:44:02.020Z"
   },
   {
    "duration": 34,
    "start_time": "2022-06-19T00:45:07.390Z"
   },
   {
    "duration": 3,
    "start_time": "2022-06-19T00:45:28.108Z"
   },
   {
    "duration": 7,
    "start_time": "2022-06-19T00:45:49.125Z"
   },
   {
    "duration": 3,
    "start_time": "2022-06-19T00:46:05.541Z"
   },
   {
    "duration": 15,
    "start_time": "2022-06-19T00:46:13.901Z"
   },
   {
    "duration": 2,
    "start_time": "2022-06-19T00:46:46.398Z"
   },
   {
    "duration": 14,
    "start_time": "2022-06-19T00:46:58.629Z"
   },
   {
    "duration": 3,
    "start_time": "2022-06-19T00:48:57.901Z"
   },
   {
    "duration": 12,
    "start_time": "2022-06-19T00:49:04.827Z"
   },
   {
    "duration": 32,
    "start_time": "2022-06-19T00:49:04.931Z"
   },
   {
    "duration": 15,
    "start_time": "2022-06-19T00:49:39.852Z"
   },
   {
    "duration": 4,
    "start_time": "2022-06-19T00:50:18.780Z"
   },
   {
    "duration": 6,
    "start_time": "2022-06-19T00:50:50.733Z"
   },
   {
    "duration": 18,
    "start_time": "2022-06-19T00:50:57.461Z"
   },
   {
    "duration": 3,
    "start_time": "2022-06-19T00:51:46.980Z"
   },
   {
    "duration": 5,
    "start_time": "2022-06-19T00:51:50.084Z"
   },
   {
    "duration": 16,
    "start_time": "2022-06-19T00:51:53.764Z"
   },
   {
    "duration": 5,
    "start_time": "2022-06-19T00:52:54.291Z"
   },
   {
    "duration": 15,
    "start_time": "2022-06-19T00:52:55.979Z"
   },
   {
    "duration": 7,
    "start_time": "2022-06-19T00:53:00.187Z"
   },
   {
    "duration": 15,
    "start_time": "2022-06-19T00:53:00.740Z"
   },
   {
    "duration": 3,
    "start_time": "2022-06-19T00:54:12.828Z"
   },
   {
    "duration": 10,
    "start_time": "2022-06-19T00:54:13.202Z"
   },
   {
    "duration": 15,
    "start_time": "2022-06-19T00:54:15.488Z"
   },
   {
    "duration": 27,
    "start_time": "2022-06-19T00:55:01.348Z"
   },
   {
    "duration": 28,
    "start_time": "2022-06-19T00:55:18.539Z"
   },
   {
    "duration": 11,
    "start_time": "2022-06-19T00:55:19.131Z"
   },
   {
    "duration": 15,
    "start_time": "2022-06-19T00:55:20.195Z"
   },
   {
    "duration": 10,
    "start_time": "2022-06-19T00:55:30.940Z"
   },
   {
    "duration": 27,
    "start_time": "2022-06-19T00:55:56.885Z"
   },
   {
    "duration": 25,
    "start_time": "2022-06-19T00:55:58.338Z"
   },
   {
    "duration": 19,
    "start_time": "2022-06-19T00:56:24.541Z"
   },
   {
    "duration": 17,
    "start_time": "2022-06-19T00:56:25.323Z"
   },
   {
    "duration": 26,
    "start_time": "2022-06-19T00:56:44.452Z"
   },
   {
    "duration": 3,
    "start_time": "2022-06-19T00:57:02.619Z"
   },
   {
    "duration": 2,
    "start_time": "2022-06-19T00:57:34.115Z"
   },
   {
    "duration": 3,
    "start_time": "2022-06-19T00:57:35.212Z"
   },
   {
    "duration": 8,
    "start_time": "2022-06-19T00:57:37.962Z"
   },
   {
    "duration": 12,
    "start_time": "2022-06-19T01:00:29.499Z"
   },
   {
    "duration": 2,
    "start_time": "2022-06-19T13:24:15.466Z"
   },
   {
    "duration": 35,
    "start_time": "2022-06-19T13:24:20.002Z"
   },
   {
    "duration": 19,
    "start_time": "2022-06-19T13:24:21.370Z"
   },
   {
    "duration": 4,
    "start_time": "2022-06-19T13:24:28.537Z"
   },
   {
    "duration": 11,
    "start_time": "2022-06-19T13:24:30.176Z"
   },
   {
    "duration": 8,
    "start_time": "2022-06-19T13:24:32.451Z"
   },
   {
    "duration": 7,
    "start_time": "2022-06-19T13:24:33.951Z"
   },
   {
    "duration": 7,
    "start_time": "2022-06-19T13:24:49.755Z"
   },
   {
    "duration": 7,
    "start_time": "2022-06-19T13:24:51.458Z"
   },
   {
    "duration": 5,
    "start_time": "2022-06-19T13:24:53.152Z"
   },
   {
    "duration": 8,
    "start_time": "2022-06-19T13:24:55.985Z"
   },
   {
    "duration": 5,
    "start_time": "2022-06-19T13:24:57.689Z"
   },
   {
    "duration": 4,
    "start_time": "2022-06-19T13:24:59.968Z"
   },
   {
    "duration": 24,
    "start_time": "2022-06-19T13:25:01.761Z"
   },
   {
    "duration": 24,
    "start_time": "2022-06-19T13:25:02.757Z"
   },
   {
    "duration": 177,
    "start_time": "2022-06-19T13:25:05.217Z"
   },
   {
    "duration": 32,
    "start_time": "2022-06-19T13:25:06.627Z"
   },
   {
    "duration": 8,
    "start_time": "2022-06-19T13:25:08.571Z"
   },
   {
    "duration": 102,
    "start_time": "2022-06-19T13:25:10.247Z"
   },
   {
    "duration": 29,
    "start_time": "2022-06-19T13:25:12.654Z"
   },
   {
    "duration": 18,
    "start_time": "2022-06-19T13:25:13.514Z"
   },
   {
    "duration": 138,
    "start_time": "2022-06-19T13:25:15.017Z"
   },
   {
    "duration": 37,
    "start_time": "2022-06-19T13:25:16.752Z"
   },
   {
    "duration": 63,
    "start_time": "2022-06-19T13:25:18.809Z"
   },
   {
    "duration": 6,
    "start_time": "2022-06-19T13:25:20.955Z"
   },
   {
    "duration": 24,
    "start_time": "2022-06-19T13:25:22.350Z"
   },
   {
    "duration": 36,
    "start_time": "2022-06-19T13:25:30.513Z"
   },
   {
    "duration": 16,
    "start_time": "2022-06-19T13:25:31.455Z"
   },
   {
    "duration": 93,
    "start_time": "2022-06-19T13:25:33.147Z"
   },
   {
    "duration": 23,
    "start_time": "2022-06-19T13:25:34.015Z"
   },
   {
    "duration": 49,
    "start_time": "2022-06-19T13:25:36.098Z"
   },
   {
    "duration": 8,
    "start_time": "2022-06-19T13:25:37.881Z"
   },
   {
    "duration": 47,
    "start_time": "2022-06-19T13:25:39.866Z"
   },
   {
    "duration": 12,
    "start_time": "2022-06-19T13:25:41.769Z"
   },
   {
    "duration": 31,
    "start_time": "2022-06-19T13:25:43.738Z"
   },
   {
    "duration": 10,
    "start_time": "2022-06-19T13:25:45.511Z"
   },
   {
    "duration": 3,
    "start_time": "2022-06-19T13:25:47.192Z"
   },
   {
    "duration": 6,
    "start_time": "2022-06-19T13:25:48.991Z"
   },
   {
    "duration": 13,
    "start_time": "2022-06-19T13:25:50.056Z"
   },
   {
    "duration": 3,
    "start_time": "2022-06-19T13:25:52.647Z"
   },
   {
    "duration": 197,
    "start_time": "2022-06-19T13:25:54.783Z"
   },
   {
    "duration": 11,
    "start_time": "2022-06-19T13:26:14.655Z"
   },
   {
    "duration": 251,
    "start_time": "2022-06-19T13:28:04.802Z"
   },
   {
    "duration": 33,
    "start_time": "2022-06-19T13:28:07.664Z"
   },
   {
    "duration": 9,
    "start_time": "2022-06-19T13:28:14.820Z"
   },
   {
    "duration": 25,
    "start_time": "2022-06-19T13:28:17.285Z"
   },
   {
    "duration": 198,
    "start_time": "2022-06-19T13:28:36.697Z"
   },
   {
    "duration": 25,
    "start_time": "2022-06-19T13:28:38.601Z"
   },
   {
    "duration": 9,
    "start_time": "2022-06-19T13:28:41.609Z"
   },
   {
    "duration": 24,
    "start_time": "2022-06-19T13:28:43.667Z"
   },
   {
    "duration": 196,
    "start_time": "2022-06-19T13:28:45.436Z"
   },
   {
    "duration": 25,
    "start_time": "2022-06-19T13:28:47.500Z"
   },
   {
    "duration": 9,
    "start_time": "2022-06-19T13:28:49.913Z"
   },
   {
    "duration": 9,
    "start_time": "2022-06-19T13:28:51.172Z"
   },
   {
    "duration": 26,
    "start_time": "2022-06-19T13:28:55.106Z"
   },
   {
    "duration": 3,
    "start_time": "2022-06-19T13:29:08.480Z"
   },
   {
    "duration": 3,
    "start_time": "2022-06-19T13:29:09.758Z"
   },
   {
    "duration": 9,
    "start_time": "2022-06-19T13:29:11.215Z"
   },
   {
    "duration": 22,
    "start_time": "2022-06-19T13:29:22.683Z"
   },
   {
    "duration": 6,
    "start_time": "2022-06-19T13:29:53.499Z"
   },
   {
    "duration": 11,
    "start_time": "2022-06-19T13:31:44.575Z"
   },
   {
    "duration": 25,
    "start_time": "2022-06-19T13:31:56.159Z"
   },
   {
    "duration": 12,
    "start_time": "2022-06-19T13:32:05.783Z"
   },
   {
    "duration": 7,
    "start_time": "2022-06-19T13:32:10.783Z"
   },
   {
    "duration": 25,
    "start_time": "2022-06-19T13:32:18.155Z"
   },
   {
    "duration": 7,
    "start_time": "2022-06-19T13:32:20.575Z"
   },
   {
    "duration": 35,
    "start_time": "2022-06-19T13:32:32.787Z"
   },
   {
    "duration": 12,
    "start_time": "2022-06-19T13:32:57.076Z"
   },
   {
    "duration": 17,
    "start_time": "2022-06-19T13:33:03.576Z"
   },
   {
    "duration": 4,
    "start_time": "2022-06-19T13:33:06.335Z"
   },
   {
    "duration": 11,
    "start_time": "2022-06-19T13:33:07.759Z"
   },
   {
    "duration": 6,
    "start_time": "2022-06-19T13:33:09.999Z"
   },
   {
    "duration": 7,
    "start_time": "2022-06-19T13:33:11.645Z"
   },
   {
    "duration": 4,
    "start_time": "2022-06-19T13:33:13.919Z"
   },
   {
    "duration": 6,
    "start_time": "2022-06-19T13:33:15.743Z"
   },
   {
    "duration": 7,
    "start_time": "2022-06-19T13:33:18.197Z"
   },
   {
    "duration": 4,
    "start_time": "2022-06-19T13:33:19.923Z"
   },
   {
    "duration": 11,
    "start_time": "2022-06-19T13:33:30.015Z"
   },
   {
    "duration": 10,
    "start_time": "2022-06-19T13:33:31.267Z"
   },
   {
    "duration": 27,
    "start_time": "2022-06-19T13:33:34.884Z"
   },
   {
    "duration": 3,
    "start_time": "2022-06-19T13:33:36.447Z"
   },
   {
    "duration": 3,
    "start_time": "2022-06-19T13:33:37.803Z"
   },
   {
    "duration": 31,
    "start_time": "2022-06-19T13:33:39.351Z"
   },
   {
    "duration": 7,
    "start_time": "2022-06-19T13:33:41.807Z"
   },
   {
    "duration": 29,
    "start_time": "2022-06-19T13:33:44.155Z"
   },
   {
    "duration": 5,
    "start_time": "2022-06-19T13:33:47.271Z"
   },
   {
    "duration": 8,
    "start_time": "2022-06-19T13:35:44.423Z"
   },
   {
    "duration": 35,
    "start_time": "2022-06-19T13:36:49.202Z"
   },
   {
    "duration": 19,
    "start_time": "2022-06-19T13:36:49.884Z"
   },
   {
    "duration": 7,
    "start_time": "2022-06-19T13:36:53.513Z"
   },
   {
    "duration": 6,
    "start_time": "2022-06-19T13:37:15.071Z"
   },
   {
    "duration": 7,
    "start_time": "2022-06-19T13:38:00.355Z"
   },
   {
    "duration": 4,
    "start_time": "2022-06-19T13:38:33.416Z"
   },
   {
    "duration": 4,
    "start_time": "2022-06-19T13:38:52.912Z"
   },
   {
    "duration": 13,
    "start_time": "2022-06-19T13:38:53.681Z"
   },
   {
    "duration": 6,
    "start_time": "2022-06-19T13:38:55.682Z"
   },
   {
    "duration": 8,
    "start_time": "2022-06-19T13:38:57.055Z"
   },
   {
    "duration": 5,
    "start_time": "2022-06-19T13:38:58.604Z"
   },
   {
    "duration": 7,
    "start_time": "2022-06-19T13:39:00.686Z"
   },
   {
    "duration": 5,
    "start_time": "2022-06-19T13:39:02.060Z"
   },
   {
    "duration": 5,
    "start_time": "2022-06-19T13:39:03.319Z"
   },
   {
    "duration": 3,
    "start_time": "2022-06-19T13:39:45.867Z"
   },
   {
    "duration": 4,
    "start_time": "2022-06-19T13:39:46.879Z"
   },
   {
    "duration": 10,
    "start_time": "2022-06-19T13:39:47.845Z"
   },
   {
    "duration": 401,
    "start_time": "2022-06-19T13:40:23.967Z"
   },
   {
    "duration": 36,
    "start_time": "2022-06-19T13:40:24.370Z"
   },
   {
    "duration": 24,
    "start_time": "2022-06-19T13:40:24.408Z"
   },
   {
    "duration": 5,
    "start_time": "2022-06-19T13:40:24.433Z"
   },
   {
    "duration": 11,
    "start_time": "2022-06-19T13:40:24.440Z"
   },
   {
    "duration": 14,
    "start_time": "2022-06-19T13:40:24.452Z"
   },
   {
    "duration": 8,
    "start_time": "2022-06-19T13:40:24.468Z"
   },
   {
    "duration": 9,
    "start_time": "2022-06-19T13:40:24.478Z"
   },
   {
    "duration": 7,
    "start_time": "2022-06-19T13:40:24.488Z"
   },
   {
    "duration": 12,
    "start_time": "2022-06-19T13:40:24.497Z"
   },
   {
    "duration": 17,
    "start_time": "2022-06-19T13:40:24.511Z"
   },
   {
    "duration": 13,
    "start_time": "2022-06-19T13:40:24.530Z"
   },
   {
    "duration": 18,
    "start_time": "2022-06-19T13:40:24.544Z"
   },
   {
    "duration": 15,
    "start_time": "2022-06-19T13:40:24.565Z"
   },
   {
    "duration": 146,
    "start_time": "2022-06-19T13:40:24.582Z"
   },
   {
    "duration": 32,
    "start_time": "2022-06-19T13:40:24.730Z"
   },
   {
    "duration": 9,
    "start_time": "2022-06-19T13:40:24.763Z"
   },
   {
    "duration": 133,
    "start_time": "2022-06-19T13:40:24.774Z"
   },
   {
    "duration": 40,
    "start_time": "2022-06-19T13:40:24.908Z"
   },
   {
    "duration": 19,
    "start_time": "2022-06-19T13:40:24.950Z"
   },
   {
    "duration": 126,
    "start_time": "2022-06-19T13:40:24.970Z"
   },
   {
    "duration": 27,
    "start_time": "2022-06-19T13:40:25.098Z"
   },
   {
    "duration": 77,
    "start_time": "2022-06-19T13:40:25.126Z"
   },
   {
    "duration": 6,
    "start_time": "2022-06-19T13:40:25.205Z"
   },
   {
    "duration": 46,
    "start_time": "2022-06-19T13:40:25.213Z"
   },
   {
    "duration": 26,
    "start_time": "2022-06-19T13:40:25.261Z"
   },
   {
    "duration": 16,
    "start_time": "2022-06-19T13:40:25.289Z"
   },
   {
    "duration": 99,
    "start_time": "2022-06-19T13:40:25.306Z"
   },
   {
    "duration": 22,
    "start_time": "2022-06-19T13:40:25.407Z"
   },
   {
    "duration": 58,
    "start_time": "2022-06-19T13:40:25.431Z"
   },
   {
    "duration": 6,
    "start_time": "2022-06-19T13:40:25.490Z"
   },
   {
    "duration": 51,
    "start_time": "2022-06-19T13:40:25.498Z"
   },
   {
    "duration": 8,
    "start_time": "2022-06-19T13:40:25.551Z"
   },
   {
    "duration": 26,
    "start_time": "2022-06-19T13:40:25.561Z"
   },
   {
    "duration": 10,
    "start_time": "2022-06-19T13:40:25.589Z"
   },
   {
    "duration": 5,
    "start_time": "2022-06-19T13:40:25.600Z"
   },
   {
    "duration": 7,
    "start_time": "2022-06-19T13:40:25.607Z"
   },
   {
    "duration": 35,
    "start_time": "2022-06-19T13:40:25.615Z"
   },
   {
    "duration": 4,
    "start_time": "2022-06-19T13:40:25.651Z"
   },
   {
    "duration": 277,
    "start_time": "2022-06-19T13:40:25.656Z"
   },
   {
    "duration": 33,
    "start_time": "2022-06-19T13:40:25.937Z"
   },
   {
    "duration": 7,
    "start_time": "2022-06-19T13:40:25.971Z"
   },
   {
    "duration": 24,
    "start_time": "2022-06-19T13:40:25.980Z"
   },
   {
    "duration": 174,
    "start_time": "2022-06-19T13:40:26.005Z"
   },
   {
    "duration": 24,
    "start_time": "2022-06-19T13:40:26.181Z"
   },
   {
    "duration": 8,
    "start_time": "2022-06-19T13:40:26.207Z"
   },
   {
    "duration": 37,
    "start_time": "2022-06-19T13:40:26.217Z"
   },
   {
    "duration": 196,
    "start_time": "2022-06-19T13:40:26.255Z"
   },
   {
    "duration": 26,
    "start_time": "2022-06-19T13:40:26.453Z"
   },
   {
    "duration": 10,
    "start_time": "2022-06-19T13:40:26.480Z"
   },
   {
    "duration": 11,
    "start_time": "2022-06-19T13:40:26.492Z"
   },
   {
    "duration": 48,
    "start_time": "2022-06-19T13:40:26.504Z"
   },
   {
    "duration": 3,
    "start_time": "2022-06-19T13:40:26.553Z"
   },
   {
    "duration": 6,
    "start_time": "2022-06-19T13:40:26.557Z"
   },
   {
    "duration": 23,
    "start_time": "2022-06-19T13:40:26.565Z"
   },
   {
    "duration": 4,
    "start_time": "2022-06-19T13:40:26.590Z"
   },
   {
    "duration": 47,
    "start_time": "2022-06-19T13:40:26.596Z"
   },
   {
    "duration": 4,
    "start_time": "2022-06-19T13:40:26.644Z"
   },
   {
    "duration": 29,
    "start_time": "2022-06-19T13:40:26.650Z"
   },
   {
    "duration": 24,
    "start_time": "2022-06-19T13:43:16.115Z"
   },
   {
    "duration": 3,
    "start_time": "2022-06-19T13:43:17.580Z"
   },
   {
    "duration": 3,
    "start_time": "2022-06-19T13:43:18.223Z"
   },
   {
    "duration": 33,
    "start_time": "2022-06-19T13:43:19.218Z"
   },
   {
    "duration": 5,
    "start_time": "2022-06-19T13:43:20.424Z"
   },
   {
    "duration": 33,
    "start_time": "2022-06-19T13:43:21.091Z"
   },
   {
    "duration": 9,
    "start_time": "2022-06-19T13:43:22.256Z"
   },
   {
    "duration": 7,
    "start_time": "2022-06-19T13:43:23.165Z"
   },
   {
    "duration": 9,
    "start_time": "2022-06-19T13:43:40.007Z"
   },
   {
    "duration": 21,
    "start_time": "2022-06-19T13:43:41.787Z"
   },
   {
    "duration": 446,
    "start_time": "2022-06-19T17:37:12.446Z"
   },
   {
    "duration": 35,
    "start_time": "2022-06-19T17:37:12.894Z"
   },
   {
    "duration": 26,
    "start_time": "2022-06-19T17:37:12.931Z"
   },
   {
    "duration": 4,
    "start_time": "2022-06-19T17:37:12.959Z"
   },
   {
    "duration": 7,
    "start_time": "2022-06-19T17:37:12.964Z"
   },
   {
    "duration": 13,
    "start_time": "2022-06-19T17:37:12.972Z"
   },
   {
    "duration": 6,
    "start_time": "2022-06-19T17:37:12.987Z"
   },
   {
    "duration": 8,
    "start_time": "2022-06-19T17:37:12.995Z"
   },
   {
    "duration": 38,
    "start_time": "2022-06-19T17:37:13.004Z"
   },
   {
    "duration": 6,
    "start_time": "2022-06-19T17:37:13.046Z"
   },
   {
    "duration": 6,
    "start_time": "2022-06-19T17:37:13.053Z"
   },
   {
    "duration": 8,
    "start_time": "2022-06-19T17:37:13.060Z"
   },
   {
    "duration": 19,
    "start_time": "2022-06-19T17:37:13.070Z"
   },
   {
    "duration": 19,
    "start_time": "2022-06-19T17:37:13.091Z"
   },
   {
    "duration": 199,
    "start_time": "2022-06-19T17:37:13.112Z"
   },
   {
    "duration": 37,
    "start_time": "2022-06-19T17:37:13.313Z"
   },
   {
    "duration": 6,
    "start_time": "2022-06-19T17:37:13.352Z"
   },
   {
    "duration": 115,
    "start_time": "2022-06-19T17:37:13.359Z"
   },
   {
    "duration": 32,
    "start_time": "2022-06-19T17:37:13.475Z"
   },
   {
    "duration": 38,
    "start_time": "2022-06-19T17:37:13.510Z"
   },
   {
    "duration": 140,
    "start_time": "2022-06-19T17:37:13.550Z"
   },
   {
    "duration": 35,
    "start_time": "2022-06-19T17:37:13.692Z"
   },
   {
    "duration": 117,
    "start_time": "2022-06-19T17:37:13.729Z"
   },
   {
    "duration": 7,
    "start_time": "2022-06-19T17:37:13.848Z"
   },
   {
    "duration": 28,
    "start_time": "2022-06-19T17:37:13.859Z"
   },
   {
    "duration": 22,
    "start_time": "2022-06-19T17:37:13.889Z"
   },
   {
    "duration": 38,
    "start_time": "2022-06-19T17:37:13.913Z"
   },
   {
    "duration": 98,
    "start_time": "2022-06-19T17:37:13.954Z"
   },
   {
    "duration": 28,
    "start_time": "2022-06-19T17:37:14.055Z"
   },
   {
    "duration": 81,
    "start_time": "2022-06-19T17:37:14.085Z"
   },
   {
    "duration": 7,
    "start_time": "2022-06-19T17:37:14.169Z"
   },
   {
    "duration": 37,
    "start_time": "2022-06-19T17:37:14.178Z"
   },
   {
    "duration": 33,
    "start_time": "2022-06-19T17:37:14.217Z"
   },
   {
    "duration": 25,
    "start_time": "2022-06-19T17:37:14.251Z"
   },
   {
    "duration": 9,
    "start_time": "2022-06-19T17:37:14.278Z"
   },
   {
    "duration": 7,
    "start_time": "2022-06-19T17:37:14.290Z"
   },
   {
    "duration": 13,
    "start_time": "2022-06-19T17:37:14.299Z"
   },
   {
    "duration": 35,
    "start_time": "2022-06-19T17:37:14.314Z"
   },
   {
    "duration": 3,
    "start_time": "2022-06-19T17:37:14.350Z"
   },
   {
    "duration": 297,
    "start_time": "2022-06-19T17:37:14.355Z"
   },
   {
    "duration": 36,
    "start_time": "2022-06-19T17:37:14.654Z"
   },
   {
    "duration": 9,
    "start_time": "2022-06-19T17:37:14.691Z"
   },
   {
    "duration": 48,
    "start_time": "2022-06-19T17:37:14.701Z"
   },
   {
    "duration": 162,
    "start_time": "2022-06-19T17:37:14.751Z"
   },
   {
    "duration": 35,
    "start_time": "2022-06-19T17:37:14.915Z"
   },
   {
    "duration": 9,
    "start_time": "2022-06-19T17:37:14.951Z"
   },
   {
    "duration": 28,
    "start_time": "2022-06-19T17:37:14.962Z"
   },
   {
    "duration": 212,
    "start_time": "2022-06-19T17:37:14.991Z"
   },
   {
    "duration": 44,
    "start_time": "2022-06-19T17:37:15.206Z"
   },
   {
    "duration": 15,
    "start_time": "2022-06-19T17:37:15.252Z"
   },
   {
    "duration": 14,
    "start_time": "2022-06-19T17:37:15.269Z"
   },
   {
    "duration": 28,
    "start_time": "2022-06-19T17:37:15.285Z"
   },
   {
    "duration": 30,
    "start_time": "2022-06-19T17:37:15.315Z"
   },
   {
    "duration": 5,
    "start_time": "2022-06-19T17:37:15.347Z"
   },
   {
    "duration": 23,
    "start_time": "2022-06-19T17:37:15.353Z"
   },
   {
    "duration": 7,
    "start_time": "2022-06-19T17:37:15.378Z"
   },
   {
    "duration": 22,
    "start_time": "2022-06-19T17:37:15.387Z"
   },
   {
    "duration": 35,
    "start_time": "2022-06-19T17:37:15.410Z"
   },
   {
    "duration": 8,
    "start_time": "2022-06-19T17:37:15.446Z"
   },
   {
    "duration": 19,
    "start_time": "2022-06-19T17:37:15.456Z"
   },
   {
    "duration": 64,
    "start_time": "2022-06-19T17:48:27.004Z"
   },
   {
    "duration": 8,
    "start_time": "2022-06-19T17:48:43.880Z"
   },
   {
    "duration": 4,
    "start_time": "2022-06-19T17:50:58.869Z"
   },
   {
    "duration": 9,
    "start_time": "2022-06-19T17:51:04.814Z"
   },
   {
    "duration": 4,
    "start_time": "2022-06-19T17:51:33.653Z"
   },
   {
    "duration": 4,
    "start_time": "2022-06-19T17:51:38.887Z"
   },
   {
    "duration": 8,
    "start_time": "2022-06-19T17:51:39.701Z"
   },
   {
    "duration": 21,
    "start_time": "2022-06-19T17:59:22.660Z"
   },
   {
    "duration": 12,
    "start_time": "2022-06-19T17:59:24.980Z"
   },
   {
    "duration": 7,
    "start_time": "2022-06-19T17:59:52.164Z"
   },
   {
    "duration": 22,
    "start_time": "2022-06-19T18:00:01.606Z"
   },
   {
    "duration": 31,
    "start_time": "2022-06-19T18:00:22.373Z"
   },
   {
    "duration": 3,
    "start_time": "2022-06-19T18:17:25.233Z"
   },
   {
    "duration": 13,
    "start_time": "2022-06-19T18:19:24.856Z"
   },
   {
    "duration": 3,
    "start_time": "2022-06-19T18:23:09.413Z"
   },
   {
    "duration": 10,
    "start_time": "2022-06-19T18:23:10.149Z"
   },
   {
    "duration": 3,
    "start_time": "2022-06-19T18:23:44.357Z"
   },
   {
    "duration": 11,
    "start_time": "2022-06-19T18:23:45.469Z"
   },
   {
    "duration": 3,
    "start_time": "2022-06-19T18:24:27.542Z"
   },
   {
    "duration": 13,
    "start_time": "2022-06-19T18:24:28.181Z"
   },
   {
    "duration": 3,
    "start_time": "2022-06-19T18:27:24.918Z"
   },
   {
    "duration": 12,
    "start_time": "2022-06-19T18:27:26.014Z"
   },
   {
    "duration": 3,
    "start_time": "2022-06-19T18:29:05.270Z"
   },
   {
    "duration": 12,
    "start_time": "2022-06-19T18:29:06.094Z"
   },
   {
    "duration": 4,
    "start_time": "2022-06-19T18:30:38.124Z"
   },
   {
    "duration": 66,
    "start_time": "2022-06-19T18:30:38.593Z"
   },
   {
    "duration": 24,
    "start_time": "2022-06-19T18:31:28.157Z"
   },
   {
    "duration": 158,
    "start_time": "2022-06-19T18:33:55.144Z"
   },
   {
    "duration": 30,
    "start_time": "2022-06-19T18:35:57.070Z"
   },
   {
    "duration": 21,
    "start_time": "2022-06-19T18:43:23.558Z"
   },
   {
    "duration": 30,
    "start_time": "2022-06-19T18:45:56.490Z"
   },
   {
    "duration": 23,
    "start_time": "2022-06-19T18:46:28.046Z"
   },
   {
    "duration": 10,
    "start_time": "2022-06-19T18:52:22.102Z"
   },
   {
    "duration": 6,
    "start_time": "2022-06-19T18:52:30.205Z"
   },
   {
    "duration": 447,
    "start_time": "2022-06-19T18:52:30.640Z"
   },
   {
    "duration": 37,
    "start_time": "2022-06-19T18:52:43.152Z"
   },
   {
    "duration": 4,
    "start_time": "2022-06-19T18:52:45.197Z"
   },
   {
    "duration": 4,
    "start_time": "2022-06-19T18:52:45.485Z"
   },
   {
    "duration": 32,
    "start_time": "2022-06-19T18:52:45.760Z"
   },
   {
    "duration": 5,
    "start_time": "2022-06-19T18:52:46.101Z"
   },
   {
    "duration": 26,
    "start_time": "2022-06-19T18:52:46.359Z"
   },
   {
    "duration": 5,
    "start_time": "2022-06-19T18:52:46.623Z"
   },
   {
    "duration": 10,
    "start_time": "2022-06-19T18:52:46.862Z"
   },
   {
    "duration": 23,
    "start_time": "2022-06-19T18:52:47.446Z"
   },
   {
    "duration": 10,
    "start_time": "2022-06-19T18:52:47.763Z"
   },
   {
    "duration": 4,
    "start_time": "2022-06-19T18:52:48.093Z"
   },
   {
    "duration": 10,
    "start_time": "2022-06-19T18:52:48.405Z"
   },
   {
    "duration": 9,
    "start_time": "2022-06-19T18:52:49.221Z"
   },
   {
    "duration": 4,
    "start_time": "2022-06-19T18:52:49.622Z"
   },
   {
    "duration": 161,
    "start_time": "2022-06-19T18:52:50.688Z"
   },
   {
    "duration": 27,
    "start_time": "2022-06-19T18:52:51.502Z"
   },
   {
    "duration": 23,
    "start_time": "2022-06-19T18:52:52.388Z"
   },
   {
    "duration": 20,
    "start_time": "2022-06-19T18:52:52.814Z"
   },
   {
    "duration": 8,
    "start_time": "2022-06-19T18:52:53.283Z"
   },
   {
    "duration": 10,
    "start_time": "2022-06-19T19:00:54.294Z"
   },
   {
    "duration": 32,
    "start_time": "2022-06-19T19:03:04.950Z"
   },
   {
    "duration": 617,
    "start_time": "2022-06-19T19:03:12.550Z"
   },
   {
    "duration": 11,
    "start_time": "2022-06-19T19:05:11.175Z"
   },
   {
    "duration": 137,
    "start_time": "2022-06-19T19:08:21.150Z"
   },
   {
    "duration": 204,
    "start_time": "2022-06-19T19:08:35.470Z"
   },
   {
    "duration": 172,
    "start_time": "2022-06-19T19:09:23.125Z"
   },
   {
    "duration": 14,
    "start_time": "2022-06-19T19:10:06.687Z"
   },
   {
    "duration": 289,
    "start_time": "2022-06-19T19:10:20.988Z"
   },
   {
    "duration": 35,
    "start_time": "2022-06-19T19:14:04.751Z"
   },
   {
    "duration": 150,
    "start_time": "2022-06-19T19:14:13.623Z"
   },
   {
    "duration": 4,
    "start_time": "2022-06-19T19:14:38.263Z"
   },
   {
    "duration": 169,
    "start_time": "2022-06-19T19:14:42.966Z"
   },
   {
    "duration": 36,
    "start_time": "2022-06-19T19:18:34.157Z"
   },
   {
    "duration": 146,
    "start_time": "2022-06-19T19:18:41.598Z"
   },
   {
    "duration": 23,
    "start_time": "2022-06-19T19:22:01.552Z"
   },
   {
    "duration": 25,
    "start_time": "2022-06-19T19:22:12.777Z"
   },
   {
    "duration": 977,
    "start_time": "2022-06-19T19:23:17.855Z"
   },
   {
    "duration": 15,
    "start_time": "2022-06-19T19:23:34.953Z"
   },
   {
    "duration": 331,
    "start_time": "2022-06-19T19:26:11.470Z"
   },
   {
    "duration": 36,
    "start_time": "2022-06-19T19:37:45.741Z"
   },
   {
    "duration": 1871,
    "start_time": "2022-06-19T19:45:27.331Z"
   },
   {
    "duration": 1929,
    "start_time": "2022-06-19T19:45:45.515Z"
   },
   {
    "duration": 310,
    "start_time": "2022-06-19T19:46:02.306Z"
   },
   {
    "duration": 314,
    "start_time": "2022-06-19T19:46:22.702Z"
   },
   {
    "duration": 10,
    "start_time": "2022-06-19T20:01:11.724Z"
   },
   {
    "duration": 14,
    "start_time": "2022-06-19T20:01:59.963Z"
   },
   {
    "duration": 7,
    "start_time": "2022-06-19T20:20:19.692Z"
   },
   {
    "duration": 15,
    "start_time": "2022-06-19T20:22:04.661Z"
   },
   {
    "duration": 13,
    "start_time": "2022-06-19T20:22:18.771Z"
   },
   {
    "duration": 13,
    "start_time": "2022-06-19T20:23:01.996Z"
   },
   {
    "duration": 13,
    "start_time": "2022-06-19T20:23:44.874Z"
   },
   {
    "duration": 6,
    "start_time": "2022-06-19T20:23:59.026Z"
   },
   {
    "duration": 13,
    "start_time": "2022-06-19T20:24:10.386Z"
   },
   {
    "duration": 9,
    "start_time": "2022-06-19T20:24:26.252Z"
   },
   {
    "duration": 13,
    "start_time": "2022-06-19T20:24:30.285Z"
   },
   {
    "duration": 12,
    "start_time": "2022-06-19T20:24:37.171Z"
   },
   {
    "duration": 10,
    "start_time": "2022-06-19T20:27:58.139Z"
   },
   {
    "duration": 11,
    "start_time": "2022-06-19T20:28:16.561Z"
   },
   {
    "duration": 22,
    "start_time": "2022-06-19T20:28:32.105Z"
   },
   {
    "duration": 445,
    "start_time": "2022-06-19T20:28:35.050Z"
   },
   {
    "duration": 9,
    "start_time": "2022-06-19T20:28:37.665Z"
   },
   {
    "duration": 300,
    "start_time": "2022-06-19T20:28:39.893Z"
   },
   {
    "duration": 13,
    "start_time": "2022-06-19T20:28:42.482Z"
   },
   {
    "duration": 12,
    "start_time": "2022-06-19T20:28:57.802Z"
   },
   {
    "duration": 10,
    "start_time": "2022-06-19T20:30:16.100Z"
   },
   {
    "duration": 7,
    "start_time": "2022-06-19T20:30:46.610Z"
   },
   {
    "duration": 6,
    "start_time": "2022-06-19T20:30:55.290Z"
   },
   {
    "duration": 7,
    "start_time": "2022-06-19T20:31:03.522Z"
   },
   {
    "duration": 10,
    "start_time": "2022-06-19T20:31:14.353Z"
   },
   {
    "duration": 7,
    "start_time": "2022-06-19T20:31:24.683Z"
   },
   {
    "duration": 7,
    "start_time": "2022-06-19T20:32:38.922Z"
   },
   {
    "duration": 6,
    "start_time": "2022-06-19T20:33:20.091Z"
   },
   {
    "duration": 276,
    "start_time": "2022-06-19T20:43:07.674Z"
   },
   {
    "duration": 335,
    "start_time": "2022-06-19T20:43:40.035Z"
   },
   {
    "duration": 289,
    "start_time": "2022-06-19T20:45:28.068Z"
   },
   {
    "duration": 11,
    "start_time": "2022-06-19T20:47:27.659Z"
   },
   {
    "duration": 5,
    "start_time": "2022-06-19T20:50:23.634Z"
   },
   {
    "duration": 4,
    "start_time": "2022-06-19T20:50:29.891Z"
   },
   {
    "duration": 6,
    "start_time": "2022-06-19T20:53:21.334Z"
   },
   {
    "duration": 11,
    "start_time": "2022-06-19T20:55:18.291Z"
   },
   {
    "duration": 11,
    "start_time": "2022-06-19T20:56:12.905Z"
   },
   {
    "duration": 6,
    "start_time": "2022-06-19T20:56:35.220Z"
   },
   {
    "duration": 13,
    "start_time": "2022-06-19T21:04:18.853Z"
   },
   {
    "duration": 13,
    "start_time": "2022-06-19T21:04:40.362Z"
   },
   {
    "duration": 14,
    "start_time": "2022-06-19T21:06:30.011Z"
   },
   {
    "duration": 6,
    "start_time": "2022-06-19T21:06:42.427Z"
   },
   {
    "duration": 6,
    "start_time": "2022-06-19T21:07:23.140Z"
   },
   {
    "duration": 46,
    "start_time": "2022-06-20T09:42:36.020Z"
   },
   {
    "duration": 47,
    "start_time": "2022-06-20T09:42:57.179Z"
   },
   {
    "duration": 443,
    "start_time": "2022-06-20T09:43:29.604Z"
   },
   {
    "duration": 84,
    "start_time": "2022-06-20T09:43:30.049Z"
   },
   {
    "duration": 24,
    "start_time": "2022-06-20T09:43:30.134Z"
   },
   {
    "duration": 7,
    "start_time": "2022-06-20T09:43:30.160Z"
   },
   {
    "duration": 32,
    "start_time": "2022-06-20T09:43:30.168Z"
   },
   {
    "duration": 31,
    "start_time": "2022-06-20T09:43:30.202Z"
   },
   {
    "duration": 32,
    "start_time": "2022-06-20T09:43:30.234Z"
   },
   {
    "duration": 21,
    "start_time": "2022-06-20T09:43:30.267Z"
   },
   {
    "duration": 36,
    "start_time": "2022-06-20T09:43:30.290Z"
   },
   {
    "duration": 23,
    "start_time": "2022-06-20T09:43:30.330Z"
   },
   {
    "duration": 26,
    "start_time": "2022-06-20T09:43:30.354Z"
   },
   {
    "duration": 28,
    "start_time": "2022-06-20T09:43:30.381Z"
   },
   {
    "duration": 84,
    "start_time": "2022-06-20T09:43:30.411Z"
   },
   {
    "duration": 14,
    "start_time": "2022-06-20T09:43:30.497Z"
   },
   {
    "duration": 248,
    "start_time": "2022-06-20T09:43:30.513Z"
   },
   {
    "duration": 32,
    "start_time": "2022-06-20T09:43:30.763Z"
   },
   {
    "duration": 7,
    "start_time": "2022-06-20T09:43:30.797Z"
   },
   {
    "duration": 129,
    "start_time": "2022-06-20T09:43:30.806Z"
   },
   {
    "duration": 34,
    "start_time": "2022-06-20T09:43:30.937Z"
   },
   {
    "duration": 19,
    "start_time": "2022-06-20T09:43:30.973Z"
   },
   {
    "duration": 316,
    "start_time": "2022-06-20T09:43:30.994Z"
   },
   {
    "duration": 26,
    "start_time": "2022-06-20T09:43:31.312Z"
   },
   {
    "duration": 59,
    "start_time": "2022-06-20T09:43:31.340Z"
   },
   {
    "duration": 5,
    "start_time": "2022-06-20T09:43:31.401Z"
   },
   {
    "duration": 41,
    "start_time": "2022-06-20T09:43:31.407Z"
   },
   {
    "duration": 22,
    "start_time": "2022-06-20T09:43:31.450Z"
   },
   {
    "duration": 16,
    "start_time": "2022-06-20T09:43:31.474Z"
   },
   {
    "duration": 326,
    "start_time": "2022-06-20T09:43:31.494Z"
   },
   {
    "duration": 22,
    "start_time": "2022-06-20T09:43:31.822Z"
   },
   {
    "duration": 47,
    "start_time": "2022-06-20T09:43:31.846Z"
   },
   {
    "duration": 6,
    "start_time": "2022-06-20T09:43:31.895Z"
   },
   {
    "duration": 53,
    "start_time": "2022-06-20T09:43:31.903Z"
   },
   {
    "duration": 9,
    "start_time": "2022-06-20T09:43:31.958Z"
   },
   {
    "duration": 27,
    "start_time": "2022-06-20T09:43:31.968Z"
   },
   {
    "duration": 9,
    "start_time": "2022-06-20T09:43:31.997Z"
   },
   {
    "duration": 19,
    "start_time": "2022-06-20T09:43:32.008Z"
   },
   {
    "duration": 7,
    "start_time": "2022-06-20T09:43:32.030Z"
   },
   {
    "duration": 13,
    "start_time": "2022-06-20T09:43:32.039Z"
   },
   {
    "duration": 6,
    "start_time": "2022-06-20T09:43:32.053Z"
   },
   {
    "duration": 289,
    "start_time": "2022-06-20T09:43:32.061Z"
   },
   {
    "duration": 31,
    "start_time": "2022-06-20T09:43:32.351Z"
   },
   {
    "duration": 7,
    "start_time": "2022-06-20T09:43:32.384Z"
   },
   {
    "duration": 37,
    "start_time": "2022-06-20T09:43:32.392Z"
   },
   {
    "duration": 174,
    "start_time": "2022-06-20T09:43:32.430Z"
   },
   {
    "duration": 32,
    "start_time": "2022-06-20T09:43:32.606Z"
   },
   {
    "duration": 9,
    "start_time": "2022-06-20T09:43:32.640Z"
   },
   {
    "duration": 24,
    "start_time": "2022-06-20T09:43:32.651Z"
   },
   {
    "duration": 219,
    "start_time": "2022-06-20T09:43:32.677Z"
   },
   {
    "duration": 33,
    "start_time": "2022-06-20T09:43:32.898Z"
   },
   {
    "duration": 10,
    "start_time": "2022-06-20T09:43:32.932Z"
   },
   {
    "duration": 11,
    "start_time": "2022-06-20T09:43:32.944Z"
   },
   {
    "duration": 24,
    "start_time": "2022-06-20T09:43:32.956Z"
   },
   {
    "duration": 3,
    "start_time": "2022-06-20T09:43:32.982Z"
   },
   {
    "duration": 6,
    "start_time": "2022-06-20T09:43:32.986Z"
   },
   {
    "duration": 50,
    "start_time": "2022-06-20T09:43:32.993Z"
   },
   {
    "duration": 10,
    "start_time": "2022-06-20T09:43:33.044Z"
   },
   {
    "duration": 25,
    "start_time": "2022-06-20T09:43:33.055Z"
   },
   {
    "duration": 4,
    "start_time": "2022-06-20T09:43:33.081Z"
   },
   {
    "duration": 9,
    "start_time": "2022-06-20T09:43:33.086Z"
   },
   {
    "duration": 35,
    "start_time": "2022-06-20T09:43:33.097Z"
   },
   {
    "duration": 8,
    "start_time": "2022-06-20T09:43:33.134Z"
   },
   {
    "duration": 6,
    "start_time": "2022-06-20T09:43:33.143Z"
   },
   {
    "duration": 10,
    "start_time": "2022-06-20T09:43:33.151Z"
   },
   {
    "duration": 11,
    "start_time": "2022-06-20T09:43:33.162Z"
   },
   {
    "duration": 4,
    "start_time": "2022-06-20T09:43:33.174Z"
   },
   {
    "duration": 186,
    "start_time": "2022-06-20T09:43:33.180Z"
   },
   {
    "duration": 25,
    "start_time": "2022-06-20T09:43:33.367Z"
   },
   {
    "duration": 35,
    "start_time": "2022-06-20T09:43:33.393Z"
   },
   {
    "duration": 19,
    "start_time": "2022-06-20T09:43:33.430Z"
   },
   {
    "duration": 17,
    "start_time": "2022-06-20T09:43:33.450Z"
   },
   {
    "duration": 684,
    "start_time": "2022-06-20T09:43:33.468Z"
   },
   {
    "duration": 9,
    "start_time": "2022-06-20T09:43:34.154Z"
   },
   {
    "duration": 325,
    "start_time": "2022-06-20T09:43:34.165Z"
   },
   {
    "duration": 11,
    "start_time": "2022-06-20T09:43:34.492Z"
   },
   {
    "duration": 24,
    "start_time": "2022-06-20T09:43:34.504Z"
   },
   {
    "duration": 10,
    "start_time": "2022-06-20T09:43:34.530Z"
   },
   {
    "duration": 267,
    "start_time": "2022-06-20T09:43:55.937Z"
   },
   {
    "duration": 10,
    "start_time": "2022-06-20T09:44:58.654Z"
   },
   {
    "duration": 6,
    "start_time": "2022-06-20T09:47:31.123Z"
   },
   {
    "duration": 6,
    "start_time": "2022-06-20T09:48:19.334Z"
   },
   {
    "duration": 6,
    "start_time": "2022-06-20T09:54:25.196Z"
   },
   {
    "duration": 5,
    "start_time": "2022-06-20T09:58:21.315Z"
   },
   {
    "duration": 5,
    "start_time": "2022-06-20T09:58:37.240Z"
   },
   {
    "duration": 5,
    "start_time": "2022-06-20T09:58:54.146Z"
   },
   {
    "duration": 63,
    "start_time": "2022-06-20T10:00:18.912Z"
   },
   {
    "duration": 275,
    "start_time": "2022-06-20T10:00:35.921Z"
   },
   {
    "duration": 801,
    "start_time": "2022-06-20T10:00:53.346Z"
   },
   {
    "duration": 985,
    "start_time": "2022-06-20T10:01:36.611Z"
   },
   {
    "duration": 280,
    "start_time": "2022-06-20T10:01:47.162Z"
   },
   {
    "duration": 202,
    "start_time": "2022-06-20T10:03:24.900Z"
   },
   {
    "duration": 211,
    "start_time": "2022-06-20T10:03:41.559Z"
   },
   {
    "duration": 5,
    "start_time": "2022-06-20T10:27:19.138Z"
   },
   {
    "duration": 6,
    "start_time": "2022-06-20T10:27:51.127Z"
   },
   {
    "duration": 6,
    "start_time": "2022-06-20T10:29:23.041Z"
   },
   {
    "duration": 6,
    "start_time": "2022-06-20T10:29:44.049Z"
   },
   {
    "duration": 7,
    "start_time": "2022-06-20T10:30:12.755Z"
   },
   {
    "duration": 6,
    "start_time": "2022-06-20T10:30:46.958Z"
   },
   {
    "duration": 6,
    "start_time": "2022-06-20T10:32:17.827Z"
   },
   {
    "duration": 44,
    "start_time": "2022-06-20T10:36:18.640Z"
   },
   {
    "duration": 214,
    "start_time": "2022-06-20T10:38:59.261Z"
   },
   {
    "duration": 9,
    "start_time": "2022-06-20T10:42:11.794Z"
   },
   {
    "duration": 9,
    "start_time": "2022-06-20T10:42:28.224Z"
   },
   {
    "duration": 7,
    "start_time": "2022-06-20T10:47:51.021Z"
   },
   {
    "duration": 6,
    "start_time": "2022-06-20T10:48:15.971Z"
   },
   {
    "duration": 7,
    "start_time": "2022-06-20T10:59:07.476Z"
   },
   {
    "duration": 7,
    "start_time": "2022-06-20T10:59:54.014Z"
   },
   {
    "duration": 9,
    "start_time": "2022-06-20T11:00:35.883Z"
   },
   {
    "duration": 11,
    "start_time": "2022-06-20T11:01:25.999Z"
   },
   {
    "duration": 6,
    "start_time": "2022-06-20T11:02:50.837Z"
   },
   {
    "duration": 243,
    "start_time": "2022-06-20T11:58:56.148Z"
   },
   {
    "duration": 7,
    "start_time": "2022-06-20T11:59:31.063Z"
   },
   {
    "duration": 6,
    "start_time": "2022-06-20T12:00:34.514Z"
   },
   {
    "duration": 7,
    "start_time": "2022-06-20T12:01:38.963Z"
   },
   {
    "duration": 9,
    "start_time": "2022-06-20T12:02:16.773Z"
   },
   {
    "duration": 5,
    "start_time": "2022-06-20T12:03:58.108Z"
   },
   {
    "duration": 326,
    "start_time": "2022-06-20T12:06:06.209Z"
   },
   {
    "duration": 5,
    "start_time": "2022-06-20T12:08:31.686Z"
   },
   {
    "duration": 5,
    "start_time": "2022-06-20T12:09:34.191Z"
   },
   {
    "duration": 48,
    "start_time": "2022-06-20T12:29:37.045Z"
   },
   {
    "duration": 8,
    "start_time": "2022-06-20T12:32:24.862Z"
   },
   {
    "duration": 7,
    "start_time": "2022-06-20T12:34:05.608Z"
   },
   {
    "duration": 7,
    "start_time": "2022-06-20T12:34:18.458Z"
   },
   {
    "duration": 6,
    "start_time": "2022-06-20T12:37:15.287Z"
   },
   {
    "duration": 8,
    "start_time": "2022-06-20T12:37:45.265Z"
   },
   {
    "duration": 8,
    "start_time": "2022-06-20T12:39:08.387Z"
   },
   {
    "duration": 7,
    "start_time": "2022-06-20T12:40:28.491Z"
   },
   {
    "duration": 7,
    "start_time": "2022-06-20T12:41:49.928Z"
   },
   {
    "duration": 49,
    "start_time": "2022-06-20T12:42:58.155Z"
   },
   {
    "duration": 8,
    "start_time": "2022-06-20T12:44:04.784Z"
   },
   {
    "duration": 52,
    "start_time": "2022-06-20T12:44:12.418Z"
   },
   {
    "duration": 6,
    "start_time": "2022-06-20T12:44:16.611Z"
   },
   {
    "duration": 44,
    "start_time": "2022-06-20T12:58:42.708Z"
   },
   {
    "duration": 77,
    "start_time": "2022-06-20T12:58:58.273Z"
   },
   {
    "duration": 9,
    "start_time": "2022-06-20T12:59:08.340Z"
   },
   {
    "duration": 7,
    "start_time": "2022-06-20T13:00:04.333Z"
   },
   {
    "duration": 7,
    "start_time": "2022-06-20T13:00:08.099Z"
   },
   {
    "duration": 6,
    "start_time": "2022-06-20T13:00:15.410Z"
   },
   {
    "duration": 6,
    "start_time": "2022-06-20T13:00:23.732Z"
   },
   {
    "duration": 7,
    "start_time": "2022-06-20T13:00:44.275Z"
   },
   {
    "duration": 6,
    "start_time": "2022-06-20T13:00:46.490Z"
   },
   {
    "duration": 6,
    "start_time": "2022-06-20T13:00:55.393Z"
   },
   {
    "duration": 7,
    "start_time": "2022-06-20T13:01:02.194Z"
   },
   {
    "duration": 7,
    "start_time": "2022-06-20T13:01:08.904Z"
   },
   {
    "duration": 6,
    "start_time": "2022-06-20T13:01:27.459Z"
   },
   {
    "duration": 7,
    "start_time": "2022-06-20T13:01:38.115Z"
   },
   {
    "duration": 7,
    "start_time": "2022-06-20T13:01:55.054Z"
   },
   {
    "duration": 6,
    "start_time": "2022-06-20T13:02:03.779Z"
   },
   {
    "duration": 6,
    "start_time": "2022-06-20T13:02:14.399Z"
   },
   {
    "duration": 8,
    "start_time": "2022-06-20T13:02:21.273Z"
   },
   {
    "duration": 6,
    "start_time": "2022-06-20T13:02:34.471Z"
   },
   {
    "duration": 6,
    "start_time": "2022-06-20T13:02:45.584Z"
   },
   {
    "duration": 6,
    "start_time": "2022-06-20T13:02:50.673Z"
   },
   {
    "duration": 6,
    "start_time": "2022-06-20T13:03:00.301Z"
   },
   {
    "duration": 7,
    "start_time": "2022-06-20T13:03:18.921Z"
   },
   {
    "duration": 8,
    "start_time": "2022-06-20T13:03:47.946Z"
   },
   {
    "duration": 11,
    "start_time": "2022-06-20T13:04:32.093Z"
   },
   {
    "duration": 12,
    "start_time": "2022-06-20T13:05:32.201Z"
   },
   {
    "duration": 7,
    "start_time": "2022-06-20T13:05:39.494Z"
   },
   {
    "duration": 8,
    "start_time": "2022-06-20T13:06:02.795Z"
   },
   {
    "duration": 22,
    "start_time": "2022-06-20T13:07:44.072Z"
   },
   {
    "duration": 19,
    "start_time": "2022-06-20T13:07:59.431Z"
   },
   {
    "duration": 6,
    "start_time": "2022-06-20T13:08:28.193Z"
   },
   {
    "duration": 12,
    "start_time": "2022-06-20T13:08:40.128Z"
   },
   {
    "duration": 14,
    "start_time": "2022-06-20T13:09:15.103Z"
   },
   {
    "duration": 12,
    "start_time": "2022-06-20T13:09:27.110Z"
   },
   {
    "duration": 8,
    "start_time": "2022-06-20T13:14:01.253Z"
   },
   {
    "duration": 12,
    "start_time": "2022-06-20T13:14:15.338Z"
   },
   {
    "duration": 11,
    "start_time": "2022-06-20T13:14:28.547Z"
   },
   {
    "duration": 795,
    "start_time": "2022-06-20T13:16:36.479Z"
   },
   {
    "duration": 8,
    "start_time": "2022-06-20T13:17:00.742Z"
   },
   {
    "duration": 7,
    "start_time": "2022-06-20T13:17:04.605Z"
   },
   {
    "duration": 15,
    "start_time": "2022-06-20T13:17:26.171Z"
   },
   {
    "duration": 11,
    "start_time": "2022-06-20T13:17:30.726Z"
   },
   {
    "duration": 7,
    "start_time": "2022-06-20T13:17:37.801Z"
   },
   {
    "duration": 7,
    "start_time": "2022-06-20T13:17:44.818Z"
   },
   {
    "duration": 6,
    "start_time": "2022-06-20T13:19:16.023Z"
   },
   {
    "duration": 13,
    "start_time": "2022-06-20T13:19:16.432Z"
   },
   {
    "duration": 6,
    "start_time": "2022-06-20T13:19:36.203Z"
   },
   {
    "duration": 59,
    "start_time": "2022-06-20T13:25:07.576Z"
   },
   {
    "duration": 6,
    "start_time": "2022-06-20T13:26:14.717Z"
   },
   {
    "duration": 12,
    "start_time": "2022-06-20T13:41:51.635Z"
   },
   {
    "duration": 10,
    "start_time": "2022-06-20T13:42:14.372Z"
   },
   {
    "duration": 16,
    "start_time": "2022-06-20T13:42:35.255Z"
   },
   {
    "duration": 169,
    "start_time": "2022-06-20T13:46:15.963Z"
   },
   {
    "duration": 109,
    "start_time": "2022-06-20T13:46:34.227Z"
   },
   {
    "duration": 210,
    "start_time": "2022-06-20T13:46:46.057Z"
   },
   {
    "duration": 10,
    "start_time": "2022-06-20T14:00:35.641Z"
   },
   {
    "duration": 6,
    "start_time": "2022-06-20T14:07:40.606Z"
   },
   {
    "duration": 7,
    "start_time": "2022-06-20T14:07:42.362Z"
   },
   {
    "duration": 6,
    "start_time": "2022-06-20T14:08:38.870Z"
   },
   {
    "duration": 6,
    "start_time": "2022-06-20T14:11:20.687Z"
   },
   {
    "duration": 7,
    "start_time": "2022-06-20T14:11:45.616Z"
   },
   {
    "duration": 160,
    "start_time": "2022-06-20T14:12:56.205Z"
   },
   {
    "duration": 4,
    "start_time": "2022-06-20T14:13:45.938Z"
   },
   {
    "duration": 4,
    "start_time": "2022-06-20T14:14:37.098Z"
   },
   {
    "duration": 5,
    "start_time": "2022-06-20T14:14:43.816Z"
   },
   {
    "duration": 6,
    "start_time": "2022-06-20T14:14:56.120Z"
   },
   {
    "duration": 4,
    "start_time": "2022-06-20T14:15:09.661Z"
   },
   {
    "duration": 6,
    "start_time": "2022-06-20T14:15:11.560Z"
   },
   {
    "duration": 6,
    "start_time": "2022-06-20T14:15:12.008Z"
   },
   {
    "duration": 8,
    "start_time": "2022-06-20T14:15:25.114Z"
   },
   {
    "duration": 7,
    "start_time": "2022-06-20T14:15:38.854Z"
   },
   {
    "duration": 9,
    "start_time": "2022-06-20T14:15:54.219Z"
   },
   {
    "duration": 1088,
    "start_time": "2022-06-20T14:37:03.198Z"
   },
   {
    "duration": 11,
    "start_time": "2022-06-20T14:37:27.866Z"
   },
   {
    "duration": 9,
    "start_time": "2022-06-20T14:38:07.146Z"
   },
   {
    "duration": 9,
    "start_time": "2022-06-20T14:38:28.729Z"
   },
   {
    "duration": 15,
    "start_time": "2022-06-20T14:40:03.091Z"
   },
   {
    "duration": 14,
    "start_time": "2022-06-20T14:41:38.113Z"
   },
   {
    "duration": 15,
    "start_time": "2022-06-20T14:42:29.254Z"
   },
   {
    "duration": 14,
    "start_time": "2022-06-20T14:42:57.239Z"
   },
   {
    "duration": 14,
    "start_time": "2022-06-20T14:43:16.604Z"
   },
   {
    "duration": 16,
    "start_time": "2022-06-20T14:49:13.248Z"
   },
   {
    "duration": 26,
    "start_time": "2022-06-20T14:49:24.792Z"
   },
   {
    "duration": 14,
    "start_time": "2022-06-20T14:49:32.337Z"
   },
   {
    "duration": 59,
    "start_time": "2022-06-20T14:54:20.939Z"
   },
   {
    "duration": 51,
    "start_time": "2022-06-20T14:54:40.760Z"
   },
   {
    "duration": 12,
    "start_time": "2022-06-20T14:54:59.711Z"
   },
   {
    "duration": 55,
    "start_time": "2022-06-20T14:55:06.252Z"
   },
   {
    "duration": 11,
    "start_time": "2022-06-20T14:55:13.189Z"
   },
   {
    "duration": 232,
    "start_time": "2022-06-20T14:55:47.756Z"
   },
   {
    "duration": 223,
    "start_time": "2022-06-20T14:56:04.258Z"
   },
   {
    "duration": 228,
    "start_time": "2022-06-20T14:56:22.070Z"
   },
   {
    "duration": 454,
    "start_time": "2022-06-20T18:56:45.949Z"
   },
   {
    "duration": 102,
    "start_time": "2022-06-20T18:56:46.405Z"
   },
   {
    "duration": 30,
    "start_time": "2022-06-20T18:56:46.511Z"
   },
   {
    "duration": 11,
    "start_time": "2022-06-20T18:56:46.542Z"
   },
   {
    "duration": 13,
    "start_time": "2022-06-20T18:56:46.554Z"
   },
   {
    "duration": 13,
    "start_time": "2022-06-20T18:56:46.569Z"
   },
   {
    "duration": 8,
    "start_time": "2022-06-20T18:56:46.584Z"
   },
   {
    "duration": 11,
    "start_time": "2022-06-20T18:56:46.593Z"
   },
   {
    "duration": 19,
    "start_time": "2022-06-20T18:56:46.608Z"
   },
   {
    "duration": 33,
    "start_time": "2022-06-20T18:56:46.629Z"
   },
   {
    "duration": 12,
    "start_time": "2022-06-20T18:56:46.663Z"
   },
   {
    "duration": 10,
    "start_time": "2022-06-20T18:56:46.677Z"
   },
   {
    "duration": 74,
    "start_time": "2022-06-20T18:56:46.688Z"
   },
   {
    "duration": 16,
    "start_time": "2022-06-20T18:56:46.764Z"
   },
   {
    "duration": 253,
    "start_time": "2022-06-20T18:56:46.782Z"
   },
   {
    "duration": 32,
    "start_time": "2022-06-20T18:56:47.037Z"
   },
   {
    "duration": 8,
    "start_time": "2022-06-20T18:56:47.070Z"
   },
   {
    "duration": 145,
    "start_time": "2022-06-20T18:56:47.079Z"
   },
   {
    "duration": 40,
    "start_time": "2022-06-20T18:56:47.229Z"
   },
   {
    "duration": 20,
    "start_time": "2022-06-20T18:56:47.271Z"
   },
   {
    "duration": 495,
    "start_time": "2022-06-20T18:56:47.293Z"
   },
   {
    "duration": 29,
    "start_time": "2022-06-20T18:56:47.790Z"
   },
   {
    "duration": 80,
    "start_time": "2022-06-20T18:56:47.820Z"
   },
   {
    "duration": 6,
    "start_time": "2022-06-20T18:56:47.902Z"
   },
   {
    "duration": 49,
    "start_time": "2022-06-20T18:56:47.909Z"
   },
   {
    "duration": 27,
    "start_time": "2022-06-20T18:56:47.960Z"
   },
   {
    "duration": 35,
    "start_time": "2022-06-20T18:56:47.991Z"
   },
   {
    "duration": 356,
    "start_time": "2022-06-20T18:56:48.027Z"
   },
   {
    "duration": 28,
    "start_time": "2022-06-20T18:56:48.386Z"
   },
   {
    "duration": 68,
    "start_time": "2022-06-20T18:56:48.416Z"
   },
   {
    "duration": 5,
    "start_time": "2022-06-20T18:56:48.487Z"
   },
   {
    "duration": 60,
    "start_time": "2022-06-20T18:56:48.494Z"
   },
   {
    "duration": 11,
    "start_time": "2022-06-20T18:56:48.557Z"
   },
   {
    "duration": 31,
    "start_time": "2022-06-20T18:56:48.570Z"
   },
   {
    "duration": 29,
    "start_time": "2022-06-20T18:56:48.603Z"
   },
   {
    "duration": 28,
    "start_time": "2022-06-20T18:56:48.634Z"
   },
   {
    "duration": 12,
    "start_time": "2022-06-20T18:56:48.664Z"
   },
   {
    "duration": 17,
    "start_time": "2022-06-20T18:56:48.678Z"
   },
   {
    "duration": 12,
    "start_time": "2022-06-20T18:56:48.697Z"
   },
   {
    "duration": 368,
    "start_time": "2022-06-20T18:56:48.711Z"
   },
   {
    "duration": 32,
    "start_time": "2022-06-20T18:56:49.080Z"
   },
   {
    "duration": 13,
    "start_time": "2022-06-20T18:56:49.113Z"
   },
   {
    "duration": 37,
    "start_time": "2022-06-20T18:56:49.128Z"
   },
   {
    "duration": 195,
    "start_time": "2022-06-20T18:56:49.166Z"
   },
   {
    "duration": 28,
    "start_time": "2022-06-20T18:56:49.363Z"
   },
   {
    "duration": 8,
    "start_time": "2022-06-20T18:56:49.393Z"
   },
   {
    "duration": 39,
    "start_time": "2022-06-20T18:56:49.422Z"
   },
   {
    "duration": 202,
    "start_time": "2022-06-20T18:56:49.463Z"
   },
   {
    "duration": 28,
    "start_time": "2022-06-20T18:56:49.667Z"
   },
   {
    "duration": 9,
    "start_time": "2022-06-20T18:56:49.697Z"
   },
   {
    "duration": 17,
    "start_time": "2022-06-20T18:56:49.724Z"
   },
   {
    "duration": 31,
    "start_time": "2022-06-20T18:56:49.743Z"
   },
   {
    "duration": 3,
    "start_time": "2022-06-20T18:56:49.776Z"
   },
   {
    "duration": 16,
    "start_time": "2022-06-20T18:56:49.781Z"
   },
   {
    "duration": 40,
    "start_time": "2022-06-20T18:56:49.798Z"
   },
   {
    "duration": 21,
    "start_time": "2022-06-20T18:56:49.839Z"
   },
   {
    "duration": 29,
    "start_time": "2022-06-20T18:56:49.862Z"
   },
   {
    "duration": 6,
    "start_time": "2022-06-20T18:56:49.893Z"
   },
   {
    "duration": 10,
    "start_time": "2022-06-20T18:56:49.900Z"
   },
   {
    "duration": 45,
    "start_time": "2022-06-20T18:56:49.923Z"
   },
   {
    "duration": 8,
    "start_time": "2022-06-20T18:56:49.970Z"
   },
   {
    "duration": 11,
    "start_time": "2022-06-20T18:56:49.980Z"
   },
   {
    "duration": 13,
    "start_time": "2022-06-20T18:56:49.993Z"
   },
   {
    "duration": 11,
    "start_time": "2022-06-20T18:56:50.008Z"
   },
   {
    "duration": 7,
    "start_time": "2022-06-20T18:56:50.021Z"
   },
   {
    "duration": 219,
    "start_time": "2022-06-20T18:56:50.030Z"
   },
   {
    "duration": 27,
    "start_time": "2022-06-20T18:56:50.251Z"
   },
   {
    "duration": 19,
    "start_time": "2022-06-20T18:56:50.280Z"
   },
   {
    "duration": 44,
    "start_time": "2022-06-20T18:56:50.300Z"
   },
   {
    "duration": 715,
    "start_time": "2022-06-20T18:56:50.346Z"
   },
   {
    "duration": 11,
    "start_time": "2022-06-20T18:56:51.063Z"
   },
   {
    "duration": 10,
    "start_time": "2022-06-20T18:56:51.075Z"
   },
   {
    "duration": 13,
    "start_time": "2022-06-20T18:56:51.087Z"
   },
   {
    "duration": 31,
    "start_time": "2022-06-20T18:56:51.102Z"
   },
   {
    "duration": 301,
    "start_time": "2022-06-20T18:56:51.135Z"
   },
   {
    "duration": 12,
    "start_time": "2022-06-20T18:56:51.440Z"
   },
   {
    "duration": 13,
    "start_time": "2022-06-20T18:56:51.454Z"
   },
   {
    "duration": 16,
    "start_time": "2022-06-20T18:56:51.469Z"
   },
   {
    "duration": 9,
    "start_time": "2022-06-20T18:56:51.486Z"
   },
   {
    "duration": 276,
    "start_time": "2022-06-20T18:56:51.497Z"
   },
   {
    "duration": 8,
    "start_time": "2022-06-20T18:56:51.780Z"
   },
   {
    "duration": 6,
    "start_time": "2022-06-20T18:56:51.790Z"
   },
   {
    "duration": 29,
    "start_time": "2022-06-20T18:56:51.798Z"
   },
   {
    "duration": 27,
    "start_time": "2022-06-20T18:56:51.829Z"
   },
   {
    "duration": 32,
    "start_time": "2022-06-20T18:56:51.858Z"
   },
   {
    "duration": 351,
    "start_time": "2022-06-20T18:56:51.892Z"
   },
   {
    "duration": 9,
    "start_time": "2022-06-20T18:56:52.245Z"
   },
   {
    "duration": 11,
    "start_time": "2022-06-20T18:56:52.256Z"
   },
   {
    "duration": 11,
    "start_time": "2022-06-20T18:56:52.268Z"
   },
   {
    "duration": 9,
    "start_time": "2022-06-20T18:56:52.281Z"
   },
   {
    "duration": 240,
    "start_time": "2022-06-20T18:56:52.292Z"
   },
   {
    "duration": 18,
    "start_time": "2022-06-20T18:56:52.534Z"
   },
   {
    "duration": 13,
    "start_time": "2022-06-20T18:56:52.555Z"
   },
   {
    "duration": 19,
    "start_time": "2022-06-20T18:56:52.571Z"
   },
   {
    "duration": 20,
    "start_time": "2022-06-20T18:56:52.592Z"
   },
   {
    "duration": 312,
    "start_time": "2022-06-20T18:56:52.614Z"
   },
   {
    "duration": 8,
    "start_time": "2022-06-20T18:56:52.928Z"
   },
   {
    "duration": 47,
    "start_time": "2022-06-20T18:56:52.938Z"
   },
   {
    "duration": 0,
    "start_time": "2022-06-20T18:56:52.987Z"
   },
   {
    "duration": 0,
    "start_time": "2022-06-20T18:56:52.988Z"
   },
   {
    "duration": 0,
    "start_time": "2022-06-20T18:56:52.989Z"
   },
   {
    "duration": 0,
    "start_time": "2022-06-20T18:56:52.990Z"
   },
   {
    "duration": 0,
    "start_time": "2022-06-20T18:56:52.992Z"
   },
   {
    "duration": 0,
    "start_time": "2022-06-20T18:56:52.993Z"
   },
   {
    "duration": 0,
    "start_time": "2022-06-20T18:56:52.995Z"
   },
   {
    "duration": 0,
    "start_time": "2022-06-20T18:56:52.996Z"
   },
   {
    "duration": 0,
    "start_time": "2022-06-20T18:56:52.998Z"
   },
   {
    "duration": 0,
    "start_time": "2022-06-20T18:56:52.999Z"
   },
   {
    "duration": 7,
    "start_time": "2022-06-20T18:57:09.340Z"
   },
   {
    "duration": 10,
    "start_time": "2022-06-20T18:57:09.764Z"
   },
   {
    "duration": 7,
    "start_time": "2022-06-20T18:57:11.104Z"
   },
   {
    "duration": 13,
    "start_time": "2022-06-20T18:57:11.508Z"
   },
   {
    "duration": 10,
    "start_time": "2022-06-20T18:57:12.010Z"
   },
   {
    "duration": 14,
    "start_time": "2022-06-20T18:57:12.521Z"
   },
   {
    "duration": 14,
    "start_time": "2022-06-20T18:57:12.556Z"
   },
   {
    "duration": 18,
    "start_time": "2022-06-20T18:57:12.587Z"
   },
   {
    "duration": 303,
    "start_time": "2022-06-20T18:57:12.780Z"
   },
   {
    "duration": 261,
    "start_time": "2022-06-20T18:57:13.085Z"
   },
   {
    "duration": 143,
    "start_time": "2022-06-20T19:07:52.819Z"
   },
   {
    "duration": 8,
    "start_time": "2022-06-20T19:07:54.769Z"
   },
   {
    "duration": 13,
    "start_time": "2022-06-20T19:07:55.202Z"
   },
   {
    "duration": 10,
    "start_time": "2022-06-20T19:10:25.647Z"
   },
   {
    "duration": 13,
    "start_time": "2022-06-20T19:10:25.995Z"
   },
   {
    "duration": 8,
    "start_time": "2022-06-20T19:11:04.453Z"
   },
   {
    "duration": 9,
    "start_time": "2022-06-20T19:11:05.796Z"
   },
   {
    "duration": 8,
    "start_time": "2022-06-20T19:15:18.307Z"
   },
   {
    "duration": 8,
    "start_time": "2022-06-20T19:15:18.555Z"
   },
   {
    "duration": 13,
    "start_time": "2022-06-20T19:15:29.891Z"
   },
   {
    "duration": 10,
    "start_time": "2022-06-20T19:15:31.643Z"
   },
   {
    "duration": 11,
    "start_time": "2022-06-20T19:19:15.947Z"
   },
   {
    "duration": 22,
    "start_time": "2022-06-20T19:19:16.341Z"
   },
   {
    "duration": 536,
    "start_time": "2022-06-20T19:30:38.214Z"
   },
   {
    "duration": 7,
    "start_time": "2022-06-20T19:36:05.200Z"
   },
   {
    "duration": 6,
    "start_time": "2022-06-20T19:41:38.405Z"
   },
   {
    "duration": 57,
    "start_time": "2022-06-20T19:42:18.998Z"
   },
   {
    "duration": 12,
    "start_time": "2022-06-20T19:49:20.140Z"
   },
   {
    "duration": 9,
    "start_time": "2022-06-20T19:49:21.294Z"
   },
   {
    "duration": 8,
    "start_time": "2022-06-20T19:50:00.239Z"
   },
   {
    "duration": 19,
    "start_time": "2022-06-20T19:53:21.205Z"
   },
   {
    "duration": 15,
    "start_time": "2022-06-20T19:54:34.059Z"
   },
   {
    "duration": 12,
    "start_time": "2022-06-20T19:55:59.280Z"
   },
   {
    "duration": 10,
    "start_time": "2022-06-20T19:55:59.738Z"
   },
   {
    "duration": 17,
    "start_time": "2022-06-20T19:57:27.906Z"
   },
   {
    "duration": 66,
    "start_time": "2022-06-20T19:57:53.272Z"
   },
   {
    "duration": 37,
    "start_time": "2022-06-20T20:54:32.065Z"
   },
   {
    "duration": 10,
    "start_time": "2022-06-20T20:54:40.688Z"
   },
   {
    "duration": 5,
    "start_time": "2022-06-20T20:55:27.098Z"
   },
   {
    "duration": 80,
    "start_time": "2022-06-20T21:13:41.111Z"
   },
   {
    "duration": 6,
    "start_time": "2022-06-20T21:14:16.750Z"
   },
   {
    "duration": 7,
    "start_time": "2022-06-20T21:14:53.918Z"
   },
   {
    "duration": 72,
    "start_time": "2022-06-20T21:17:02.623Z"
   },
   {
    "duration": 48,
    "start_time": "2022-06-20T21:17:16.449Z"
   },
   {
    "duration": 50,
    "start_time": "2022-06-20T21:17:40.366Z"
   },
   {
    "duration": 50,
    "start_time": "2022-06-20T21:17:44.560Z"
   },
   {
    "duration": 13,
    "start_time": "2022-06-20T21:17:58.654Z"
   },
   {
    "duration": 6,
    "start_time": "2022-06-20T21:18:05.406Z"
   },
   {
    "duration": 11,
    "start_time": "2022-06-20T21:18:19.757Z"
   },
   {
    "duration": 11,
    "start_time": "2022-06-20T21:18:45.669Z"
   },
   {
    "duration": 4,
    "start_time": "2022-06-20T21:19:00.117Z"
   },
   {
    "duration": 11,
    "start_time": "2022-06-20T21:19:04.573Z"
   },
   {
    "duration": 12,
    "start_time": "2022-06-20T21:19:16.752Z"
   },
   {
    "duration": 70,
    "start_time": "2022-06-20T21:19:47.717Z"
   },
   {
    "duration": 48,
    "start_time": "2022-06-20T21:19:58.060Z"
   },
   {
    "duration": 64,
    "start_time": "2022-06-20T21:20:20.176Z"
   },
   {
    "duration": 51,
    "start_time": "2022-06-20T21:20:29.740Z"
   },
   {
    "duration": 46,
    "start_time": "2022-06-20T21:21:06.772Z"
   },
   {
    "duration": 48,
    "start_time": "2022-06-20T21:21:26.572Z"
   },
   {
    "duration": 5,
    "start_time": "2022-06-20T21:22:05.508Z"
   },
   {
    "duration": 7,
    "start_time": "2022-06-20T21:22:26.135Z"
   },
   {
    "duration": 6,
    "start_time": "2022-06-20T21:23:30.048Z"
   },
   {
    "duration": 9,
    "start_time": "2022-06-20T21:24:04.220Z"
   },
   {
    "duration": 384,
    "start_time": "2022-06-20T22:04:57.415Z"
   },
   {
    "duration": 36,
    "start_time": "2022-06-20T22:04:57.801Z"
   },
   {
    "duration": 22,
    "start_time": "2022-06-20T22:04:57.839Z"
   },
   {
    "duration": 4,
    "start_time": "2022-06-20T22:04:57.862Z"
   },
   {
    "duration": 5,
    "start_time": "2022-06-20T22:04:57.868Z"
   },
   {
    "duration": 15,
    "start_time": "2022-06-20T22:04:57.874Z"
   },
   {
    "duration": 8,
    "start_time": "2022-06-20T22:04:57.890Z"
   },
   {
    "duration": 7,
    "start_time": "2022-06-20T22:04:57.899Z"
   },
   {
    "duration": 6,
    "start_time": "2022-06-20T22:04:57.908Z"
   },
   {
    "duration": 5,
    "start_time": "2022-06-20T22:04:57.918Z"
   },
   {
    "duration": 11,
    "start_time": "2022-06-20T22:04:57.925Z"
   },
   {
    "duration": 6,
    "start_time": "2022-06-20T22:04:57.939Z"
   },
   {
    "duration": 21,
    "start_time": "2022-06-20T22:04:57.946Z"
   },
   {
    "duration": 17,
    "start_time": "2022-06-20T22:04:57.977Z"
   },
   {
    "duration": 143,
    "start_time": "2022-06-20T22:04:57.996Z"
   },
   {
    "duration": 26,
    "start_time": "2022-06-20T22:04:58.141Z"
   },
   {
    "duration": 7,
    "start_time": "2022-06-20T22:04:58.178Z"
   },
   {
    "duration": 110,
    "start_time": "2022-06-20T22:04:58.187Z"
   },
   {
    "duration": 29,
    "start_time": "2022-06-20T22:04:58.298Z"
   },
   {
    "duration": 16,
    "start_time": "2022-06-20T22:04:58.329Z"
   },
   {
    "duration": 121,
    "start_time": "2022-06-20T22:04:58.347Z"
   },
   {
    "duration": 28,
    "start_time": "2022-06-20T22:04:58.470Z"
   },
   {
    "duration": 58,
    "start_time": "2022-06-20T22:04:58.500Z"
   },
   {
    "duration": 20,
    "start_time": "2022-06-20T22:04:58.560Z"
   },
   {
    "duration": 23,
    "start_time": "2022-06-20T22:04:58.581Z"
   },
   {
    "duration": 22,
    "start_time": "2022-06-20T22:04:58.605Z"
   },
   {
    "duration": 13,
    "start_time": "2022-06-20T22:04:58.629Z"
   },
   {
    "duration": 93,
    "start_time": "2022-06-20T22:04:58.646Z"
   },
   {
    "duration": 23,
    "start_time": "2022-06-20T22:04:58.741Z"
   },
   {
    "duration": 48,
    "start_time": "2022-06-20T22:04:58.765Z"
   },
   {
    "duration": 7,
    "start_time": "2022-06-20T22:04:58.814Z"
   },
   {
    "duration": 28,
    "start_time": "2022-06-20T22:04:58.822Z"
   },
   {
    "duration": 31,
    "start_time": "2022-06-20T22:04:58.852Z"
   },
   {
    "duration": 22,
    "start_time": "2022-06-20T22:04:58.884Z"
   },
   {
    "duration": 8,
    "start_time": "2022-06-20T22:04:58.908Z"
   },
   {
    "duration": 5,
    "start_time": "2022-06-20T22:04:58.917Z"
   },
   {
    "duration": 9,
    "start_time": "2022-06-20T22:04:58.924Z"
   },
   {
    "duration": 10,
    "start_time": "2022-06-20T22:04:58.934Z"
   },
   {
    "duration": 6,
    "start_time": "2022-06-20T22:04:58.945Z"
   },
   {
    "duration": 236,
    "start_time": "2022-06-20T22:04:58.952Z"
   },
   {
    "duration": 26,
    "start_time": "2022-06-20T22:04:59.190Z"
   },
   {
    "duration": 6,
    "start_time": "2022-06-20T22:04:59.217Z"
   },
   {
    "duration": 19,
    "start_time": "2022-06-20T22:04:59.224Z"
   },
   {
    "duration": 158,
    "start_time": "2022-06-20T22:04:59.244Z"
   },
   {
    "duration": 21,
    "start_time": "2022-06-20T22:04:59.403Z"
   },
   {
    "duration": 7,
    "start_time": "2022-06-20T22:04:59.425Z"
   },
   {
    "duration": 22,
    "start_time": "2022-06-20T22:04:59.433Z"
   },
   {
    "duration": 180,
    "start_time": "2022-06-20T22:04:59.457Z"
   },
   {
    "duration": 22,
    "start_time": "2022-06-20T22:04:59.639Z"
   },
   {
    "duration": 19,
    "start_time": "2022-06-20T22:04:59.662Z"
   },
   {
    "duration": 14,
    "start_time": "2022-06-20T22:04:59.682Z"
   },
   {
    "duration": 23,
    "start_time": "2022-06-20T22:04:59.697Z"
   },
   {
    "duration": 2,
    "start_time": "2022-06-20T22:04:59.722Z"
   },
   {
    "duration": 5,
    "start_time": "2022-06-20T22:04:59.725Z"
   },
   {
    "duration": 20,
    "start_time": "2022-06-20T22:04:59.731Z"
   },
   {
    "duration": 27,
    "start_time": "2022-06-20T22:04:59.752Z"
   },
   {
    "duration": 20,
    "start_time": "2022-06-20T22:04:59.780Z"
   },
   {
    "duration": 4,
    "start_time": "2022-06-20T22:04:59.802Z"
   },
   {
    "duration": 11,
    "start_time": "2022-06-20T22:04:59.808Z"
   },
   {
    "duration": 17,
    "start_time": "2022-06-20T22:04:59.821Z"
   },
   {
    "duration": 6,
    "start_time": "2022-06-20T22:04:59.839Z"
   },
   {
    "duration": 35,
    "start_time": "2022-06-20T22:04:59.846Z"
   },
   {
    "duration": 10,
    "start_time": "2022-06-20T22:04:59.882Z"
   },
   {
    "duration": 9,
    "start_time": "2022-06-20T22:04:59.893Z"
   },
   {
    "duration": 4,
    "start_time": "2022-06-20T22:04:59.903Z"
   },
   {
    "duration": 156,
    "start_time": "2022-06-20T22:04:59.908Z"
   },
   {
    "duration": 33,
    "start_time": "2022-06-20T22:05:00.066Z"
   },
   {
    "duration": 16,
    "start_time": "2022-06-20T22:05:00.101Z"
   },
   {
    "duration": 17,
    "start_time": "2022-06-20T22:05:00.119Z"
   },
   {
    "duration": 460,
    "start_time": "2022-06-20T22:05:00.138Z"
   },
   {
    "duration": 8,
    "start_time": "2022-06-20T22:05:00.600Z"
   },
   {
    "duration": 14,
    "start_time": "2022-06-20T22:05:00.609Z"
   },
   {
    "duration": 10,
    "start_time": "2022-06-20T22:05:00.625Z"
   },
   {
    "duration": 9,
    "start_time": "2022-06-20T22:05:00.637Z"
   },
   {
    "duration": 210,
    "start_time": "2022-06-20T22:05:00.648Z"
   },
   {
    "duration": 8,
    "start_time": "2022-06-20T22:05:00.860Z"
   },
   {
    "duration": 13,
    "start_time": "2022-06-20T22:05:00.870Z"
   },
   {
    "duration": 8,
    "start_time": "2022-06-20T22:05:00.885Z"
   },
   {
    "duration": 10,
    "start_time": "2022-06-20T22:05:00.895Z"
   },
   {
    "duration": 254,
    "start_time": "2022-06-20T22:05:00.906Z"
   },
   {
    "duration": 7,
    "start_time": "2022-06-20T22:05:01.161Z"
   },
   {
    "duration": 5,
    "start_time": "2022-06-20T22:05:01.182Z"
   },
   {
    "duration": 22,
    "start_time": "2022-06-20T22:05:01.189Z"
   },
   {
    "duration": 6,
    "start_time": "2022-06-20T22:05:01.212Z"
   },
   {
    "duration": 16,
    "start_time": "2022-06-20T22:05:01.220Z"
   },
   {
    "duration": 247,
    "start_time": "2022-06-20T22:05:01.238Z"
   },
   {
    "duration": 8,
    "start_time": "2022-06-20T22:05:01.487Z"
   },
   {
    "duration": 17,
    "start_time": "2022-06-20T22:05:01.496Z"
   },
   {
    "duration": 12,
    "start_time": "2022-06-20T22:05:01.515Z"
   },
   {
    "duration": 12,
    "start_time": "2022-06-20T22:05:01.529Z"
   },
   {
    "duration": 175,
    "start_time": "2022-06-20T22:05:01.543Z"
   },
   {
    "duration": 8,
    "start_time": "2022-06-20T22:05:01.720Z"
   },
   {
    "duration": 14,
    "start_time": "2022-06-20T22:05:01.730Z"
   },
   {
    "duration": 7,
    "start_time": "2022-06-20T22:05:01.745Z"
   },
   {
    "duration": 6,
    "start_time": "2022-06-20T22:05:01.754Z"
   },
   {
    "duration": 191,
    "start_time": "2022-06-20T22:05:01.778Z"
   },
   {
    "duration": 9,
    "start_time": "2022-06-20T22:05:01.971Z"
   },
   {
    "duration": 11,
    "start_time": "2022-06-20T22:05:01.982Z"
   },
   {
    "duration": 10,
    "start_time": "2022-06-20T22:05:01.995Z"
   },
   {
    "duration": 8,
    "start_time": "2022-06-20T22:05:02.007Z"
   },
   {
    "duration": 22,
    "start_time": "2022-06-20T22:05:02.016Z"
   },
   {
    "duration": 10,
    "start_time": "2022-06-20T22:05:02.040Z"
   },
   {
    "duration": 18,
    "start_time": "2022-06-20T22:05:02.052Z"
   },
   {
    "duration": 9,
    "start_time": "2022-06-20T22:05:02.078Z"
   },
   {
    "duration": 12,
    "start_time": "2022-06-20T22:05:02.088Z"
   },
   {
    "duration": 209,
    "start_time": "2022-06-20T22:05:02.102Z"
   },
   {
    "duration": 195,
    "start_time": "2022-06-20T22:05:02.312Z"
   },
   {
    "duration": 8,
    "start_time": "2022-06-20T22:05:02.508Z"
   },
   {
    "duration": 123,
    "start_time": "2022-06-20T22:05:02.518Z"
   },
   {
    "duration": 23,
    "start_time": "2022-06-20T22:05:02.643Z"
   },
   {
    "duration": 436,
    "start_time": "2022-06-20T22:05:02.668Z"
   },
   {
    "duration": 6,
    "start_time": "2022-06-20T22:05:03.105Z"
   },
   {
    "duration": 7,
    "start_time": "2022-06-20T22:05:03.112Z"
   },
   {
    "duration": 17,
    "start_time": "2022-06-20T22:05:03.121Z"
   },
   {
    "duration": 11,
    "start_time": "2022-06-20T22:05:03.139Z"
   },
   {
    "duration": 16,
    "start_time": "2022-06-20T22:07:15.807Z"
   },
   {
    "duration": 5,
    "start_time": "2022-06-20T22:09:16.144Z"
   },
   {
    "duration": 489,
    "start_time": "2022-06-21T19:38:16.716Z"
   },
   {
    "duration": 82,
    "start_time": "2022-06-21T19:38:17.207Z"
   },
   {
    "duration": 33,
    "start_time": "2022-06-21T19:38:17.291Z"
   },
   {
    "duration": 6,
    "start_time": "2022-06-21T19:38:17.326Z"
   },
   {
    "duration": 11,
    "start_time": "2022-06-21T19:38:17.335Z"
   },
   {
    "duration": 19,
    "start_time": "2022-06-21T19:38:17.348Z"
   },
   {
    "duration": 13,
    "start_time": "2022-06-21T19:38:17.369Z"
   },
   {
    "duration": 11,
    "start_time": "2022-06-21T19:38:17.384Z"
   },
   {
    "duration": 8,
    "start_time": "2022-06-21T19:38:17.398Z"
   },
   {
    "duration": 45,
    "start_time": "2022-06-21T19:38:17.408Z"
   },
   {
    "duration": 11,
    "start_time": "2022-06-21T19:38:17.455Z"
   },
   {
    "duration": 11,
    "start_time": "2022-06-21T19:38:17.467Z"
   },
   {
    "duration": 53,
    "start_time": "2022-06-21T19:38:17.480Z"
   },
   {
    "duration": 17,
    "start_time": "2022-06-21T19:38:17.537Z"
   },
   {
    "duration": 484,
    "start_time": "2022-06-21T19:38:17.555Z"
   },
   {
    "duration": 31,
    "start_time": "2022-06-21T19:38:18.041Z"
   },
   {
    "duration": 7,
    "start_time": "2022-06-21T19:38:18.074Z"
   },
   {
    "duration": 141,
    "start_time": "2022-06-21T19:38:18.083Z"
   },
   {
    "duration": 43,
    "start_time": "2022-06-21T19:38:18.226Z"
   },
   {
    "duration": 21,
    "start_time": "2022-06-21T19:38:18.271Z"
   },
   {
    "duration": 427,
    "start_time": "2022-06-21T19:38:18.293Z"
   },
   {
    "duration": 30,
    "start_time": "2022-06-21T19:38:18.722Z"
   },
   {
    "duration": 73,
    "start_time": "2022-06-21T19:38:18.755Z"
   },
   {
    "duration": 7,
    "start_time": "2022-06-21T19:38:18.841Z"
   },
   {
    "duration": 36,
    "start_time": "2022-06-21T19:38:18.849Z"
   },
   {
    "duration": 26,
    "start_time": "2022-06-21T19:38:18.886Z"
   },
   {
    "duration": 37,
    "start_time": "2022-06-21T19:38:18.914Z"
   },
   {
    "duration": 154,
    "start_time": "2022-06-21T19:38:18.953Z"
   },
   {
    "duration": 25,
    "start_time": "2022-06-21T19:38:19.109Z"
   },
   {
    "duration": 53,
    "start_time": "2022-06-21T19:38:19.136Z"
   },
   {
    "duration": 6,
    "start_time": "2022-06-21T19:38:19.191Z"
   },
   {
    "duration": 62,
    "start_time": "2022-06-21T19:38:19.199Z"
   },
   {
    "duration": 8,
    "start_time": "2022-06-21T19:38:19.263Z"
   },
   {
    "duration": 27,
    "start_time": "2022-06-21T19:38:19.273Z"
   },
   {
    "duration": 9,
    "start_time": "2022-06-21T19:38:19.302Z"
   },
   {
    "duration": 33,
    "start_time": "2022-06-21T19:38:19.313Z"
   },
   {
    "duration": 8,
    "start_time": "2022-06-21T19:38:19.348Z"
   },
   {
    "duration": 16,
    "start_time": "2022-06-21T19:38:19.358Z"
   },
   {
    "duration": 7,
    "start_time": "2022-06-21T19:38:19.376Z"
   },
   {
    "duration": 295,
    "start_time": "2022-06-21T19:38:19.385Z"
   },
   {
    "duration": 33,
    "start_time": "2022-06-21T19:38:19.686Z"
   },
   {
    "duration": 23,
    "start_time": "2022-06-21T19:38:19.720Z"
   },
   {
    "duration": 22,
    "start_time": "2022-06-21T19:38:19.744Z"
   },
   {
    "duration": 193,
    "start_time": "2022-06-21T19:38:19.768Z"
   },
   {
    "duration": 26,
    "start_time": "2022-06-21T19:38:19.963Z"
   },
   {
    "duration": 10,
    "start_time": "2022-06-21T19:38:19.991Z"
   },
   {
    "duration": 58,
    "start_time": "2022-06-21T19:38:20.002Z"
   },
   {
    "duration": 226,
    "start_time": "2022-06-21T19:38:20.061Z"
   },
   {
    "duration": 29,
    "start_time": "2022-06-21T19:38:20.289Z"
   },
   {
    "duration": 24,
    "start_time": "2022-06-21T19:38:20.319Z"
   },
   {
    "duration": 12,
    "start_time": "2022-06-21T19:38:20.345Z"
   },
   {
    "duration": 31,
    "start_time": "2022-06-21T19:38:20.359Z"
   },
   {
    "duration": 3,
    "start_time": "2022-06-21T19:38:20.392Z"
   },
   {
    "duration": 10,
    "start_time": "2022-06-21T19:38:20.396Z"
   },
   {
    "duration": 51,
    "start_time": "2022-06-21T19:38:20.408Z"
   },
   {
    "duration": 7,
    "start_time": "2022-06-21T19:38:20.461Z"
   },
   {
    "duration": 27,
    "start_time": "2022-06-21T19:38:20.470Z"
   },
   {
    "duration": 5,
    "start_time": "2022-06-21T19:38:20.499Z"
   },
   {
    "duration": 42,
    "start_time": "2022-06-21T19:38:20.505Z"
   },
   {
    "duration": 33,
    "start_time": "2022-06-21T19:38:20.549Z"
   },
   {
    "duration": 9,
    "start_time": "2022-06-21T19:38:20.584Z"
   },
   {
    "duration": 8,
    "start_time": "2022-06-21T19:38:20.595Z"
   },
   {
    "duration": 38,
    "start_time": "2022-06-21T19:38:20.605Z"
   },
   {
    "duration": 11,
    "start_time": "2022-06-21T19:38:20.645Z"
   },
   {
    "duration": 7,
    "start_time": "2022-06-21T19:38:20.658Z"
   },
   {
    "duration": 192,
    "start_time": "2022-06-21T19:38:20.666Z"
   },
   {
    "duration": 29,
    "start_time": "2022-06-21T19:38:20.860Z"
   },
   {
    "duration": 20,
    "start_time": "2022-06-21T19:38:20.891Z"
   },
   {
    "duration": 47,
    "start_time": "2022-06-21T19:38:20.912Z"
   },
   {
    "duration": 704,
    "start_time": "2022-06-21T19:38:20.961Z"
   },
   {
    "duration": 10,
    "start_time": "2022-06-21T19:38:21.668Z"
   },
   {
    "duration": 8,
    "start_time": "2022-06-21T19:38:21.680Z"
   },
   {
    "duration": 10,
    "start_time": "2022-06-21T19:38:21.690Z"
   },
   {
    "duration": 41,
    "start_time": "2022-06-21T19:38:21.702Z"
   },
   {
    "duration": 330,
    "start_time": "2022-06-21T19:38:21.745Z"
   },
   {
    "duration": 10,
    "start_time": "2022-06-21T19:38:22.077Z"
   },
   {
    "duration": 12,
    "start_time": "2022-06-21T19:38:22.089Z"
   },
   {
    "duration": 16,
    "start_time": "2022-06-21T19:38:22.102Z"
   },
   {
    "duration": 24,
    "start_time": "2022-06-21T19:38:22.119Z"
   },
   {
    "duration": 257,
    "start_time": "2022-06-21T19:38:22.145Z"
   },
   {
    "duration": 9,
    "start_time": "2022-06-21T19:38:22.404Z"
   },
   {
    "duration": 9,
    "start_time": "2022-06-21T19:38:22.414Z"
   },
   {
    "duration": 27,
    "start_time": "2022-06-21T19:38:22.425Z"
   },
   {
    "duration": 22,
    "start_time": "2022-06-21T19:38:22.454Z"
   },
   {
    "duration": 25,
    "start_time": "2022-06-21T19:38:22.477Z"
   },
   {
    "duration": 343,
    "start_time": "2022-06-21T19:38:22.504Z"
   },
   {
    "duration": 9,
    "start_time": "2022-06-21T19:38:22.849Z"
   },
   {
    "duration": 6,
    "start_time": "2022-06-21T19:38:22.860Z"
   },
   {
    "duration": 10,
    "start_time": "2022-06-21T19:38:22.868Z"
   },
   {
    "duration": 7,
    "start_time": "2022-06-21T19:38:22.880Z"
   },
   {
    "duration": 262,
    "start_time": "2022-06-21T19:38:22.889Z"
   },
   {
    "duration": 11,
    "start_time": "2022-06-21T19:38:23.154Z"
   },
   {
    "duration": 7,
    "start_time": "2022-06-21T19:38:23.167Z"
   },
   {
    "duration": 9,
    "start_time": "2022-06-21T19:38:23.176Z"
   },
   {
    "duration": 55,
    "start_time": "2022-06-21T19:38:23.187Z"
   },
   {
    "duration": 238,
    "start_time": "2022-06-21T19:38:23.244Z"
   },
   {
    "duration": 8,
    "start_time": "2022-06-21T19:38:23.484Z"
   },
   {
    "duration": 10,
    "start_time": "2022-06-21T19:38:23.495Z"
   },
   {
    "duration": 35,
    "start_time": "2022-06-21T19:38:23.507Z"
   },
   {
    "duration": 7,
    "start_time": "2022-06-21T19:38:23.544Z"
   },
   {
    "duration": 18,
    "start_time": "2022-06-21T19:38:23.553Z"
   },
   {
    "duration": 12,
    "start_time": "2022-06-21T19:38:23.573Z"
   },
   {
    "duration": 15,
    "start_time": "2022-06-21T19:38:23.587Z"
   },
   {
    "duration": 48,
    "start_time": "2022-06-21T19:38:23.604Z"
   },
   {
    "duration": 15,
    "start_time": "2022-06-21T19:38:23.654Z"
   },
   {
    "duration": 278,
    "start_time": "2022-06-21T19:38:23.671Z"
   },
   {
    "duration": 247,
    "start_time": "2022-06-21T19:38:23.951Z"
   },
   {
    "duration": 10,
    "start_time": "2022-06-21T19:38:24.200Z"
   },
   {
    "duration": 11,
    "start_time": "2022-06-21T19:38:24.211Z"
   },
   {
    "duration": 14,
    "start_time": "2022-06-21T19:38:24.241Z"
   },
   {
    "duration": 490,
    "start_time": "2022-06-21T19:38:24.257Z"
   },
   {
    "duration": 7,
    "start_time": "2022-06-21T19:38:24.749Z"
   },
   {
    "duration": 9,
    "start_time": "2022-06-21T19:38:24.758Z"
   },
   {
    "duration": 24,
    "start_time": "2022-06-21T19:38:24.770Z"
   },
   {
    "duration": 18,
    "start_time": "2022-06-21T19:38:24.796Z"
   },
   {
    "duration": 256,
    "start_time": "2022-06-21T19:45:59.346Z"
   },
   {
    "duration": 246,
    "start_time": "2022-06-21T19:46:10.546Z"
   },
   {
    "duration": 238,
    "start_time": "2022-06-21T19:46:16.332Z"
   },
   {
    "duration": 395,
    "start_time": "2022-06-21T19:46:31.880Z"
   },
   {
    "duration": 214,
    "start_time": "2022-06-21T19:46:43.892Z"
   },
   {
    "duration": 218,
    "start_time": "2022-06-21T19:46:49.878Z"
   },
   {
    "duration": 103,
    "start_time": "2022-06-21T19:48:22.277Z"
   },
   {
    "duration": 13,
    "start_time": "2022-06-21T19:48:56.897Z"
   },
   {
    "duration": 13,
    "start_time": "2022-06-21T19:49:20.305Z"
   },
   {
    "duration": 10,
    "start_time": "2022-06-21T19:50:07.851Z"
   },
   {
    "duration": 9,
    "start_time": "2022-06-21T19:51:07.661Z"
   },
   {
    "duration": 207,
    "start_time": "2022-06-21T19:52:52.135Z"
   },
   {
    "duration": 15,
    "start_time": "2022-06-21T19:56:03.597Z"
   },
   {
    "duration": 25,
    "start_time": "2022-06-21T19:56:10.506Z"
   },
   {
    "duration": 210,
    "start_time": "2022-06-21T20:00:26.506Z"
   },
   {
    "duration": 246,
    "start_time": "2022-06-21T20:02:02.442Z"
   },
   {
    "duration": 224,
    "start_time": "2022-06-21T20:02:18.011Z"
   },
   {
    "duration": 440,
    "start_time": "2022-06-21T20:04:33.038Z"
   },
   {
    "duration": 357,
    "start_time": "2022-06-21T20:04:46.332Z"
   },
   {
    "duration": 349,
    "start_time": "2022-06-21T20:06:03.945Z"
   },
   {
    "duration": 410,
    "start_time": "2022-06-21T20:06:21.995Z"
   },
   {
    "duration": 283,
    "start_time": "2022-06-21T20:07:50.643Z"
   },
   {
    "duration": 343,
    "start_time": "2022-06-21T20:08:46.337Z"
   },
   {
    "duration": 455,
    "start_time": "2022-06-21T20:10:55.009Z"
   },
   {
    "duration": 413,
    "start_time": "2022-06-21T20:11:47.889Z"
   },
   {
    "duration": 231,
    "start_time": "2022-06-21T20:12:09.499Z"
   },
   {
    "duration": 327,
    "start_time": "2022-06-21T20:16:36.001Z"
   },
   {
    "duration": 326,
    "start_time": "2022-06-21T20:16:55.498Z"
   },
   {
    "duration": 315,
    "start_time": "2022-06-21T20:20:01.504Z"
   },
   {
    "duration": 441,
    "start_time": "2022-06-21T20:20:07.713Z"
   },
   {
    "duration": 487,
    "start_time": "2022-06-21T20:20:13.341Z"
   },
   {
    "duration": 235,
    "start_time": "2022-06-21T20:20:32.553Z"
   },
   {
    "duration": 331,
    "start_time": "2022-06-21T20:20:38.084Z"
   },
   {
    "duration": 108,
    "start_time": "2022-06-21T20:20:43.971Z"
   },
   {
    "duration": 355,
    "start_time": "2022-06-21T20:20:50.402Z"
   },
   {
    "duration": 230,
    "start_time": "2022-06-21T20:21:22.552Z"
   },
   {
    "duration": 6,
    "start_time": "2022-06-21T20:22:21.650Z"
   },
   {
    "duration": 204,
    "start_time": "2022-06-21T20:22:28.069Z"
   },
   {
    "duration": 340,
    "start_time": "2022-06-21T20:22:54.745Z"
   },
   {
    "duration": 375,
    "start_time": "2022-06-21T20:23:07.306Z"
   },
   {
    "duration": 73,
    "start_time": "2022-06-21T20:23:32.564Z"
   },
   {
    "duration": 375,
    "start_time": "2022-06-21T20:23:36.888Z"
   },
   {
    "duration": 477,
    "start_time": "2022-06-21T20:23:53.706Z"
   },
   {
    "duration": 498,
    "start_time": "2022-06-21T20:24:20.871Z"
   },
   {
    "duration": 306,
    "start_time": "2022-06-21T20:24:50.291Z"
   },
   {
    "duration": 348,
    "start_time": "2022-06-21T20:26:31.803Z"
   },
   {
    "duration": 353,
    "start_time": "2022-06-21T20:26:58.779Z"
   },
   {
    "duration": 326,
    "start_time": "2022-06-21T20:27:24.810Z"
   },
   {
    "duration": 226,
    "start_time": "2022-06-21T20:27:34.987Z"
   },
   {
    "duration": 326,
    "start_time": "2022-06-21T20:29:29.245Z"
   },
   {
    "duration": 561,
    "start_time": "2022-06-21T20:29:42.888Z"
   },
   {
    "duration": 262,
    "start_time": "2022-06-21T20:29:51.312Z"
   },
   {
    "duration": 33,
    "start_time": "2022-06-21T20:36:25.997Z"
   }
  ],
  "kernelspec": {
   "display_name": "Python 3 (ipykernel)",
   "language": "python",
   "name": "python3"
  },
  "language_info": {
   "codemirror_mode": {
    "name": "ipython",
    "version": 3
   },
   "file_extension": ".py",
   "mimetype": "text/x-python",
   "name": "python",
   "nbconvert_exporter": "python",
   "pygments_lexer": "ipython3",
   "version": "3.9.12"
  },
  "toc": {
   "base_numbering": 1,
   "nav_menu": {
    "height": "33px",
    "width": "184px"
   },
   "number_sections": true,
   "sideBar": true,
   "skip_h1_title": true,
   "title_cell": "Содержание",
   "title_sidebar": "Contents",
   "toc_cell": true,
   "toc_position": {
    "height": "calc(100% - 180px)",
    "left": "10px",
    "top": "150px",
    "width": "366.391px"
   },
   "toc_section_display": true,
   "toc_window_display": true
  }
 },
 "nbformat": 4,
 "nbformat_minor": 2
}
